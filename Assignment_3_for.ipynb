{
 "cells": [
  {
   "cell_type": "markdown",
   "metadata": {},
   "source": [
    "# **Basic Level.**"
   ]
  },
  {
   "cell_type": "markdown",
   "metadata": {},
   "source": [
    "### 1. Write a Python program to print the numbers from 1 to 10 using a `for` loop."
   ]
  },
  {
   "cell_type": "code",
   "execution_count": 2,
   "metadata": {},
   "outputs": [
    {
     "name": "stdout",
     "output_type": "stream",
     "text": [
      "1 2 3 4 5 6 7 8 9 "
     ]
    }
   ],
   "source": [
    "for i in range(1,10):\n",
    "    print(i,end=\" \")"
   ]
  },
  {
   "cell_type": "markdown",
   "metadata": {},
   "source": [
    "### 2. Create a program that calculates the sum of all numbers in a list using a `for` loop."
   ]
  },
  {
   "cell_type": "code",
   "execution_count": 3,
   "metadata": {},
   "outputs": [
    {
     "name": "stdout",
     "output_type": "stream",
     "text": [
      "15\n"
     ]
    }
   ],
   "source": [
    "def sum_list(input_list:list)->int:\n",
    "    sum = 0\n",
    "    for i in input_list:\n",
    "        sum = sum + i\n",
    "    return sum\n",
    "input_list=[1,2,3,4,5]\n",
    "sum_of_list=sum_list(input_list)\n",
    "print(sum_of_list)"
   ]
  },
  {
   "cell_type": "markdown",
   "metadata": {},
   "source": [
    "### 3. Write a program to print the characters of a string in reverse order using a `for` loop."
   ]
  },
  {
   "cell_type": "code",
   "execution_count": 6,
   "metadata": {},
   "outputs": [
    {
     "name": "stdout",
     "output_type": "stream",
     "text": [
      "noitulosslikswp\n"
     ]
    }
   ],
   "source": [
    "def reverse_string(input_str:str)->str:\n",
    "    output_str=\"\"\n",
    "    l=len(input_str)\n",
    "    for i in range(0,l):\n",
    "        output_str=output_str+input_str[l-1-i]\n",
    "    return output_str\n",
    "input_str=\"pwskilssolution\"\n",
    "output_str=reverse_string(input_str)\n",
    "print(output_str)"
   ]
  },
  {
   "cell_type": "markdown",
   "metadata": {},
   "source": [
    "### 4. Develop a program that finds the factorial of a given number using a `for` loop."
   ]
  },
  {
   "cell_type": "code",
   "execution_count": 4,
   "metadata": {},
   "outputs": [
    {
     "name": "stdout",
     "output_type": "stream",
     "text": [
      "The Factorial of 5 is  120\n"
     ]
    }
   ],
   "source": [
    "def factorial_num(n:int)->int:\n",
    "    output_num=1\n",
    "    for i in range(1,n+1):\n",
    "        output_num=output_num*i\n",
    "    return output_num\n",
    "n=int(input(\"Enter the number\"))\n",
    "factorial=factorial_num(n)\n",
    "print(f\"The Factorial of {n} is\",factorial)"
   ]
  },
  {
   "cell_type": "markdown",
   "metadata": {},
   "source": [
    "### 5. Create a program to print the multiplication table of a given number using a `for` loop."
   ]
  },
  {
   "cell_type": "code",
   "execution_count": 6,
   "metadata": {},
   "outputs": [
    {
     "name": "stdout",
     "output_type": "stream",
     "text": [
      "10 x 1 = 10\n",
      "10 x 2 = 20\n",
      "10 x 3 = 30\n",
      "10 x 4 = 40\n",
      "10 x 5 = 50\n",
      "10 x 6 = 60\n",
      "10 x 7 = 70\n",
      "10 x 8 = 80\n",
      "10 x 9 = 90\n",
      "10 x 10 = 100\n"
     ]
    }
   ],
   "source": [
    "def table(n:int)->None:\n",
    "    for i in range(1,11):\n",
    "        print(f\"{n} x {i} =\",i*n)\n",
    "n=int(input(\"Enter the Number\"))\n",
    "table(n)"
   ]
  },
  {
   "cell_type": "markdown",
   "metadata": {},
   "source": [
    "### 6. Write a program that counts the number of even and odd numbers in a list using a `for` loop."
   ]
  },
  {
   "cell_type": "code",
   "execution_count": 8,
   "metadata": {},
   "outputs": [
    {
     "name": "stdout",
     "output_type": "stream",
     "text": [
      "Number of Even Numbers in [1, 2, 3, 2, 4, 6, 10, 11] are 5\n",
      "Number of Odd Numbers in [1, 2, 3, 2, 4, 6, 10, 11] are 3\n"
     ]
    }
   ],
   "source": [
    "def even_odds_count(input_lst:list)->tuple:\n",
    "    even_count=0\n",
    "    odd_count=0\n",
    "    for i in input_lst:\n",
    "        if i%2==0:\n",
    "            even_count += 1\n",
    "        else:\n",
    "            odd_count += 1\n",
    "    return even_count,odd_count\n",
    "input_list=[1,2,3,2,4,6,10,11]\n",
    "even_count,odd_count=even_odds_count(input_list)\n",
    "print(f\"Number of Even Numbers in {input_list} are {even_count}\")\n",
    "print(f\"Number of Odd Numbers in {input_list} are {odd_count}\")"
   ]
  },
  {
   "cell_type": "markdown",
   "metadata": {},
   "source": [
    "### 7. Develop a program that prints the squares of numbers from 1 to 5 using a `for` loop."
   ]
  },
  {
   "cell_type": "code",
   "execution_count": 8,
   "metadata": {},
   "outputs": [
    {
     "name": "stdout",
     "output_type": "stream",
     "text": [
      "Square of 1 is 1\n",
      "Square of 2 is 4\n",
      "Square of 3 is 9\n",
      "Square of 4 is 16\n",
      "Square of 5 is 25\n"
     ]
    }
   ],
   "source": [
    "for i in range(1,6):\n",
    "    print(f\"Square of {i} is {i**2}\")"
   ]
  },
  {
   "cell_type": "markdown",
   "metadata": {},
   "source": [
    "### 8. Create a program to find the length of a string without using the `len()` function."
   ]
  },
  {
   "cell_type": "code",
   "execution_count": 9,
   "metadata": {},
   "outputs": [
    {
     "name": "stdout",
     "output_type": "stream",
     "text": [
      "The Length of 'Hello world' is 11\n"
     ]
    }
   ],
   "source": [
    "def len_of_string(input_str:str)->int:\n",
    "    str_len=0\n",
    "    for i in input_str:\n",
    "        str_len += 1\n",
    "    return str_len\n",
    "input_str=input(\"Enter Anything\")\n",
    "str_len=len_of_string(input_str)\n",
    "print(f\"The Length of '{input_str}' is {str_len}\")\n",
    "    "
   ]
  },
  {
   "cell_type": "markdown",
   "metadata": {},
   "source": [
    "### 9. Write a program that calculates the average of a list of numbers using a `for` loop."
   ]
  },
  {
   "cell_type": "code",
   "execution_count": 10,
   "metadata": {},
   "outputs": [
    {
     "name": "stdout",
     "output_type": "stream",
     "text": [
      "The Average of numbers in [1, 2, 3, 4, 5, 6, 7, 8, 9, 10] is 5.5\n"
     ]
    }
   ],
   "source": [
    "def average_of_list(input_list:list)->float:\n",
    "    len_list=0\n",
    "    sum_list=0\n",
    "    for i in input_list:\n",
    "        len_list +=1\n",
    "        sum_list +=i\n",
    "    average=sum_list/len_list\n",
    "    return average\n",
    "input_list =[i for i in range(1,11)]\n",
    "average=average_of_list(input_list)\n",
    "print(f\"The Average of numbers in {input_list} is {average}\")"
   ]
  },
  {
   "cell_type": "markdown",
   "metadata": {},
   "source": [
    "### 10. Develop a program that prints the first `n` Fibonacci numbers using a `for` loop."
   ]
  },
  {
   "cell_type": "code",
   "execution_count": 12,
   "metadata": {},
   "outputs": [
    {
     "name": "stdout",
     "output_type": "stream",
     "text": [
      "The Fibonacci Series of 5 is below :\n",
      "0 1 1 2 3 "
     ]
    }
   ],
   "source": [
    "def fiboncci_series(n:int)->list:\n",
    "    output_series=[]\n",
    "    init=0\n",
    "    first=1\n",
    "    for _ in range(n):\n",
    "        output_series.append(init)\n",
    "        init,first=first,init+first\n",
    "    return output_series\n",
    "n=int(input(\"Enter Any Number\"))\n",
    "output_series=fiboncci_series(n)\n",
    "print(f\"The Fibonacci Series of {n} is below :\")\n",
    "for i in output_series:\n",
    "    print(i,end=\" \")"
   ]
  },
  {
   "cell_type": "markdown",
   "metadata": {},
   "source": [
    "### **Intermediate Level:**"
   ]
  },
  {
   "cell_type": "markdown",
   "metadata": {},
   "source": [
    "### 11. Write a program to check if a given list contains any duplicates using a `for` loop."
   ]
  },
  {
   "cell_type": "code",
   "execution_count": 15,
   "metadata": {},
   "outputs": [
    {
     "name": "stdout",
     "output_type": "stream",
     "text": [
      "The duplicates Not present in list\n"
     ]
    }
   ],
   "source": [
    "def check_duplicate(input_list:list)->bool:\n",
    "    dummy_list=[]\n",
    "    for i in input_list:\n",
    "        if i not in dummy_list:\n",
    "            dummy_list.append(i)\n",
    "        else:\n",
    "            return True\n",
    "    return False\n",
    "input_list=[1,2,4,5,6]\n",
    "if check_duplicate(input_list):\n",
    "    print(\"The duplicates present in list\")\n",
    "else:\n",
    "    print(\"The duplicates Not present in list\")\n",
    "        "
   ]
  },
  {
   "cell_type": "markdown",
   "metadata": {},
   "source": [
    "### 12. Create a program that prints the prime numbers in a given range using a `for` loop."
   ]
  },
  {
   "cell_type": "code",
   "execution_count": 17,
   "metadata": {},
   "outputs": [
    {
     "name": "stdout",
     "output_type": "stream",
     "text": [
      "Prime numbers in the range 1 to 50:\n",
      "2 3 5 7 11 13 17 19 23 29 31 37 41 43 47 "
     ]
    }
   ],
   "source": [
    "# Function to check if a number is prime\n",
    "def is_prime(number:int)->bool:\n",
    "    if number <= 1:\n",
    "        return False\n",
    "    if number <= 3:\n",
    "        return True\n",
    "    if number % 2 == 0 or number % 3 == 0:\n",
    "        return False\n",
    "    for i in range(5, int(number**0.5) + 1, 6):\n",
    "        if number % i == 0 or number % (i + 2) == 0:\n",
    "            return False\n",
    "    return True\n",
    "\n",
    "# Define the range for prime number calculation\n",
    "start_range = 1\n",
    "end_range = 50\n",
    "\n",
    "# Calculate and print prime numbers within the given range\n",
    "print(f\"Prime numbers in the range {start_range} to {end_range}:\")\n",
    "for num in range(start_range, end_range + 1):\n",
    "    if is_prime(num):\n",
    "        print(num, end=\" \")\n"
   ]
  },
  {
   "cell_type": "markdown",
   "metadata": {},
   "source": [
    "### 13. Develop a program that counts the number of vowels in a string using a `for` loop."
   ]
  },
  {
   "cell_type": "code",
   "execution_count": 21,
   "metadata": {},
   "outputs": [
    {
     "name": "stdout",
     "output_type": "stream",
     "text": [
      "3\n"
     ]
    }
   ],
   "source": [
    "def vowels_count(input_str:str)->int:\n",
    "    vowel_count=0\n",
    "    for i in input_str.lower():\n",
    "        if i in \"aeiou\":\n",
    "            vowel_count += 1\n",
    "    return vowel_count\n",
    "input_str=\"welcome\"\n",
    "vowel_count=vowels_count(input_str)\n",
    "print(vowel_count)\n",
    "\n",
    "    "
   ]
  },
  {
   "cell_type": "markdown",
   "metadata": {},
   "source": [
    "### 14. Write a program to find the maximum element in a 2D list using a nested `for` loop."
   ]
  },
  {
   "cell_type": "code",
   "execution_count": 7,
   "metadata": {},
   "outputs": [
    {
     "name": "stdout",
     "output_type": "stream",
     "text": [
      "The Maximum Element is 6\n"
     ]
    }
   ],
   "source": [
    "def max_2D_list(nested_list:list)->int:\n",
    "    max=nested_list[0][0]\n",
    "    for list in nested_list:\n",
    "        for num in list:\n",
    "            \n",
    "            if num>max:\n",
    "                max=num\n",
    "\n",
    "    return max\n",
    "nested_list=[[2,6],[3,5]]\n",
    "max_num=max_2D_list(nested_list)\n",
    "print(f\"The Maximum Element is {max}\")"
   ]
  },
  {
   "cell_type": "markdown",
   "metadata": {},
   "source": [
    "### 15. Create a program that removes all occurrences of a specific element from a list using a `for` loop."
   ]
  },
  {
   "cell_type": "code",
   "execution_count": 6,
   "metadata": {},
   "outputs": [
    {
     "name": "stdout",
     "output_type": "stream",
     "text": [
      "Original List: [1, 2, 3, 4, 2, 5, 2]\n",
      "List after removing 2 : [1, 3, 4, 5]\n"
     ]
    }
   ],
   "source": [
    "def remove_element(original_list:list,element_to_remove:str)->list:\n",
    "    new_lst=[]\n",
    "    for element in original_list:\n",
    "        if element !=element_to_remove:\n",
    "            new_lst.append(element)\n",
    "    return new_lst\n",
    "original_list = [1, 2, 3, 4, 2, 5, 2]\n",
    "element_to_remove = 2\n",
    "\n",
    "result_list = remove_element(original_list, element_to_remove)\n",
    "print(\"Original List:\", original_list)\n",
    "print(\"List after removing\", element_to_remove, \":\", result_list)"
   ]
  },
  {
   "cell_type": "markdown",
   "metadata": {},
   "source": [
    "### 16. Develop a program that generates a multiplication table for numbers from 1 to 5 using a nested `for` loop."
   ]
  },
  {
   "cell_type": "code",
   "execution_count": 4,
   "metadata": {},
   "outputs": [
    {
     "name": "stdout",
     "output_type": "stream",
     "text": [
      "** 1 Table Start **\n",
      "1 x 1 = 1\n",
      "1 x 2 = 2\n",
      "1 x 3 = 3\n",
      "1 x 4 = 4\n",
      "1 x 5 = 5\n",
      "1 x 6 = 6\n",
      "1 x 7 = 7\n",
      "1 x 8 = 8\n",
      "1 x 9 = 9\n",
      "1 x 10 = 10\n",
      "** 1 Table End **\n",
      "** 2 Table Start **\n",
      "2 x 1 = 2\n",
      "2 x 2 = 4\n",
      "2 x 3 = 6\n",
      "2 x 4 = 8\n",
      "2 x 5 = 10\n",
      "2 x 6 = 12\n",
      "2 x 7 = 14\n",
      "2 x 8 = 16\n",
      "2 x 9 = 18\n",
      "2 x 10 = 20\n",
      "** 2 Table End **\n",
      "** 3 Table Start **\n",
      "3 x 1 = 3\n",
      "3 x 2 = 6\n",
      "3 x 3 = 9\n",
      "3 x 4 = 12\n",
      "3 x 5 = 15\n",
      "3 x 6 = 18\n",
      "3 x 7 = 21\n",
      "3 x 8 = 24\n",
      "3 x 9 = 27\n",
      "3 x 10 = 30\n",
      "** 3 Table End **\n",
      "** 4 Table Start **\n",
      "4 x 1 = 4\n",
      "4 x 2 = 8\n",
      "4 x 3 = 12\n",
      "4 x 4 = 16\n",
      "4 x 5 = 20\n",
      "4 x 6 = 24\n",
      "4 x 7 = 28\n",
      "4 x 8 = 32\n",
      "4 x 9 = 36\n",
      "4 x 10 = 40\n",
      "** 4 Table End **\n",
      "** 5 Table Start **\n",
      "5 x 1 = 5\n",
      "5 x 2 = 10\n",
      "5 x 3 = 15\n",
      "5 x 4 = 20\n",
      "5 x 5 = 25\n",
      "5 x 6 = 30\n",
      "5 x 7 = 35\n",
      "5 x 8 = 40\n",
      "5 x 9 = 45\n",
      "5 x 10 = 50\n",
      "** 5 Table End **\n"
     ]
    }
   ],
   "source": [
    "def multiply_table(n:int)->None:\n",
    "    for num in range(1,n+1):\n",
    "        print(f\"** {num} Table Start **\")\n",
    "        for i in range(1,11):\n",
    "            \n",
    "            print(f\"{num} x {i} = {i*num}\")\n",
    "        print(f\"** {num} Table End **\")\n",
    "        \n",
    "n=5\n",
    "multiply_table(n)\n",
    "            "
   ]
  },
  {
   "cell_type": "markdown",
   "metadata": {},
   "source": [
    "### 17. Write a program that converts a list of Fahrenheit temperatures to Celsius using a `for` loop."
   ]
  },
  {
   "cell_type": "code",
   "execution_count": 14,
   "metadata": {},
   "outputs": [
    {
     "name": "stdout",
     "output_type": "stream",
     "text": [
      "The Converted list of fahrenheit temperatures[32, 45, 59, 72, 85, 98, 104, 122] is ['0.0 °C', '7.22 °C', '15.0 °C', '22.22 °C', '29.44 °C', '36.67 °C', '40.0 °C', '50.0 °C']\n"
     ]
    }
   ],
   "source": [
    "def Fahrenheit_to_Celsius(temperatures_fahrenheit:list)->list:\n",
    "    celsius_list=[]\n",
    "    for temp in temperatures_fahrenheit:\n",
    "        celsius=str(round((temp-32)*5/9,2))+\" \\u00b0C\"\n",
    "        celsius_list.append(celsius)\n",
    "    return celsius_list\n",
    "temperatures_fahrenheit = [32, 45, 59, 72, 85, 98, 104, 122]\n",
    "celsius_list=Fahrenheit_to_Celsius(temperatures_fahrenheit)\n",
    "print(f\"The Converted list of fahrenheit temperatures{temperatures_fahrenheit} is {celsius_list}\")\n",
    "\n"
   ]
  },
  {
   "cell_type": "markdown",
   "metadata": {},
   "source": [
    "### 18. Create a program to print the common elements from two lists using a `for` loop."
   ]
  },
  {
   "cell_type": "code",
   "execution_count": 15,
   "metadata": {},
   "outputs": [
    {
     "name": "stdout",
     "output_type": "stream",
     "text": [
      "The Common Elements in ([1, 2, 2, 3, 4], [3, 4, 4, 5, 6]) are [3, 4]\n"
     ]
    }
   ],
   "source": [
    "def print_common_elements(list_1:list,list_2:list)->list:\n",
    "    common_list=[]\n",
    "    for element in list_1:\n",
    "        if element in list_2:\n",
    "            common_list.append(element)\n",
    "    return common_list\n",
    "\n",
    "list_1 = [1, 2, 2, 3, 4]\n",
    "list_2 = [3, 4, 4, 5, 6]\n",
    "result = print_common_elements(list_1, list_2)\n",
    "print(f\"The Common Elements in {list_1,list_2} are {result}\")"
   ]
  },
  {
   "cell_type": "markdown",
   "metadata": {},
   "source": [
    "### 19. Develop a program that prints the pattern of right-angled triangles using a `for` loop. Use ‘*’ to draw the pattern"
   ]
  },
  {
   "cell_type": "code",
   "execution_count": 18,
   "metadata": {},
   "outputs": [
    {
     "name": "stdout",
     "output_type": "stream",
     "text": [
      "\n",
      "\n",
      "* \n",
      "\n",
      "* * \n",
      "\n",
      "* * * \n",
      "\n",
      "* * * * \n",
      "\n",
      "* * * * * \n",
      "\n",
      "* * * * * * \n",
      "\n"
     ]
    }
   ],
   "source": [
    "def print_pattern(n:int)->None:\n",
    "    for i in range(n+1):\n",
    "        for j in range(i):\n",
    "            print(\"*\",end=\" \")\n",
    "        print(\"\\n\")\n",
    "n=int(input(\"Enter Any Number\"))\n",
    "print_pattern(n)\n"
   ]
  },
  {
   "cell_type": "markdown",
   "metadata": {},
   "source": [
    "### 20. Write a program to find the greatest common divisor (GCD) of two numbers using a `for` loop."
   ]
  },
  {
   "cell_type": "code",
   "execution_count": 1,
   "metadata": {},
   "outputs": [
    {
     "name": "stdout",
     "output_type": "stream",
     "text": [
      "GCD of 48 and 18 is 6\n"
     ]
    }
   ],
   "source": [
    "def gcd_of_numbers(num1:int,num2:int)->int:\n",
    "    common_factors=[]\n",
    "    for i in range(1,min(num1,num2)+1):\n",
    "        if num1%i==0 and num2%i==0:\n",
    "            common_factors.append(i)\n",
    "    return max(common_factors)\n",
    "num1 = 48\n",
    "num2 = 18\n",
    "result = gcd_of_numbers(num1, num2)\n",
    "print(f\"GCD of {num1} and {num2} is {result}\")"
   ]
  },
  {
   "cell_type": "markdown",
   "metadata": {},
   "source": [
    "### **Advanced Level:**"
   ]
  },
  {
   "cell_type": "markdown",
   "metadata": {},
   "source": [
    "### 21. Create a program that calculates the sum of the digits of numbers in a list using a list comprehension."
   ]
  },
  {
   "cell_type": "code",
   "execution_count": 5,
   "metadata": {},
   "outputs": [
    {
     "name": "stdout",
     "output_type": "stream",
     "text": [
      "Number: 123 ,Sum of Digits: 6\n",
      "Number: 456 ,Sum of Digits: 15\n",
      "Number: 789 ,Sum of Digits: 24\n",
      "Number: 42 ,Sum of Digits: 6\n",
      "Number: 101 ,Sum of Digits: 2\n"
     ]
    }
   ],
   "source": [
    "def sum_of_digits(number:int):\n",
    "    return sum(int(digit) for digit in str(number) if digit.isdigit())\n",
    "def main(numbers:list):\n",
    "    digits_sums=[sum_of_digits(number) for number in numbers]\n",
    "    for i ,number in enumerate(numbers):\n",
    "        print(f\"Number: {number} ,Sum of Digits: {digits_sums[i]}\")\n",
    "numbers = [123, 456, 789, 42, 101]\n",
    "\n",
    "if __name__==\"__main__\":\n",
    "    main(numbers)"
   ]
  },
  {
   "cell_type": "markdown",
   "metadata": {},
   "source": [
    "### 22. Write a program to find the prime factors of a given number using a `for` loop and list comprehension."
   ]
  },
  {
   "cell_type": "code",
   "execution_count": 2,
   "metadata": {},
   "outputs": [
    {
     "name": "stdout",
     "output_type": "stream",
     "text": [
      "Prime factors of 10 are: [2, 5]\n"
     ]
    }
   ],
   "source": [
    "def is_prime(num):\n",
    "    if num < 2:\n",
    "        return False\n",
    "    for i in range(2, int(num**0.5) + 1):\n",
    "        if num % i == 0:\n",
    "            return False\n",
    "    return True\n",
    "\n",
    "def prime_factors(n):\n",
    "    factors = [x for x in range(2, n + 1) if n % x == 0 and is_prime(x)]\n",
    "    return factors\n",
    "\n",
    "# Input number from the user\n",
    "num = int(input(\"Enter a number: \"))\n",
    "\n",
    "if num < 2:\n",
    "    print(\"Prime factors are not applicable for numbers less than 2.\")\n",
    "else:\n",
    "    factors = prime_factors(num)\n",
    "    print(f\"Prime factors of {num} are: {factors}\")\n"
   ]
  },
  {
   "cell_type": "markdown",
   "metadata": {},
   "source": [
    "### 23. Develop a program that extracts unique elements from a list and stores them in a new list using a list comprehension.\n",
    "\n"
   ]
  },
  {
   "cell_type": "code",
   "execution_count": 4,
   "metadata": {},
   "outputs": [
    {
     "name": "stdout",
     "output_type": "stream",
     "text": [
      "[1, 2, 3, 4, 5, 6]\n"
     ]
    }
   ],
   "source": [
    "def extract_unique_elements(original_list):\n",
    "    return [item for index, item in enumerate(original_list) if item not in original_list[:index]]\n",
    "\n",
    "original_list = [1, 2, 2, 3, 4, 4, 5, 6, 6]\n",
    "unique_list = extract_unique_elements(original_list)\n",
    "print(unique_list)"
   ]
  },
  {
   "cell_type": "markdown",
   "metadata": {},
   "source": [
    "### 24. Create a program that generates a list of all palindromic numbers up to a specified limit using a list comprehension."
   ]
  },
  {
   "cell_type": "code",
   "execution_count": 6,
   "metadata": {},
   "outputs": [
    {
     "name": "stdout",
     "output_type": "stream",
     "text": [
      "[1, 2, 3, 4, 5, 6, 7, 8, 9, 11, 22, 33, 44, 55, 66, 77, 88, 99]\n"
     ]
    }
   ],
   "source": [
    "def is_palindrome(num:int)->bool:   \n",
    "    return str(num) == str(num)[::-1]\n",
    "\n",
    "def generate_palindromic_numbers(limit:int)->list:\n",
    "    return [num for num in range(1, limit + 1) if is_palindrome(num)]\n",
    "\n",
    "limit = 100\n",
    "palindromic_numbers = generate_palindromic_numbers(limit)\n",
    "print(palindromic_numbers)\n"
   ]
  },
  {
   "cell_type": "markdown",
   "metadata": {},
   "source": [
    "### 25. Write a program to flatten a nested list using list comprehension."
   ]
  },
  {
   "cell_type": "code",
   "execution_count": 7,
   "metadata": {},
   "outputs": [
    {
     "name": "stdout",
     "output_type": "stream",
     "text": [
      "[1, 2, 3, 4, 5, 6, 7, 8]\n"
     ]
    }
   ],
   "source": [
    "def flatten_nested_list(nested_list:list)->list:\n",
    "    return [item for sublist in nested_list for item in sublist]\n",
    "\n",
    "nested_list = [[1, 2, 3], [4, 5], [6, 7, 8]]\n",
    "flattened_list = flatten_nested_list(nested_list)\n",
    "print(flattened_list)"
   ]
  },
  {
   "cell_type": "markdown",
   "metadata": {},
   "source": [
    "### 26. Develop a program that computes the sum of even and odd numbers in a list separately using list comprehension"
   ]
  },
  {
   "cell_type": "code",
   "execution_count": 9,
   "metadata": {},
   "outputs": [
    {
     "name": "stdout",
     "output_type": "stream",
     "text": [
      "Sum of Even Numbers: 20\n",
      "Sum of Odd Numbers: 25\n"
     ]
    }
   ],
   "source": [
    "def sum_even_and_odd(numbers:list)->tuple:\n",
    "    sum_even = sum([num for num in numbers if num % 2 == 0])\n",
    "    sum_odd = sum([num for num in numbers if num % 2 != 0])\n",
    "    return sum_even, sum_odd\n",
    "\n",
    "numbers = [1, 2, 3, 4, 5, 6, 7, 8, 9]\n",
    "sum_even, sum_odd = sum_even_and_odd(numbers)\n",
    "print(f\"Sum of Even Numbers: {sum_even}\")\n",
    "print(f\"Sum of Odd Numbers: {sum_odd}\")\n"
   ]
  },
  {
   "cell_type": "markdown",
   "metadata": {},
   "source": [
    "### 27. Create a program that generates a list of squares of odd numbers between 1 and 10 using list comprehension."
   ]
  },
  {
   "cell_type": "code",
   "execution_count": 10,
   "metadata": {},
   "outputs": [
    {
     "name": "stdout",
     "output_type": "stream",
     "text": [
      "[1, 9, 25, 49, 81]\n"
     ]
    }
   ],
   "source": [
    "def generate_squares_of_odd_numbers()->list:\n",
    "    return [num**2 for num in range(1, 11) if num % 2 != 0]\n",
    "\n",
    "squares_of_odd = generate_squares_of_odd_numbers()\n",
    "print(squares_of_odd)"
   ]
  },
  {
   "cell_type": "markdown",
   "metadata": {},
   "source": [
    "### 28. Write a program that combines two lists into a dictionary using list comprehension."
   ]
  },
  {
   "cell_type": "code",
   "execution_count": 11,
   "metadata": {},
   "outputs": [
    {
     "name": "stdout",
     "output_type": "stream",
     "text": [
      "{'a': 1, 'b': 2, 'c': 3}\n"
     ]
    }
   ],
   "source": [
    "def combine_lists_into_dict(keys:list, values:list)->dict:\n",
    "    return {key: value for key, value in zip(keys, values)}\n",
    "\n",
    "keys = ['a', 'b', 'c']\n",
    "values = [1, 2, 3]\n",
    "combined_dict = combine_lists_into_dict(keys, values)\n",
    "print(combined_dict)\n"
   ]
  },
  {
   "cell_type": "markdown",
   "metadata": {},
   "source": [
    "### 29. Develop a program that extracts the vowels from a string and stores them in a list using list comprehension.\n"
   ]
  },
  {
   "cell_type": "code",
   "execution_count": 12,
   "metadata": {},
   "outputs": [
    {
     "name": "stdout",
     "output_type": "stream",
     "text": [
      "['e', 'o', 'o']\n"
     ]
    }
   ],
   "source": [
    "def extract_vowels_from_string(input_string:str)->list:\n",
    "    vowels = [char for char in input_string if char.lower() in 'aeiouAEIOU']\n",
    "    return vowels\n",
    "\n",
    "input_string = \"Hello, World!\"\n",
    "vowels_list = extract_vowels_from_string(input_string)\n",
    "print(vowels_list)"
   ]
  },
  {
   "cell_type": "markdown",
   "metadata": {},
   "source": [
    "### 30. Create a program that removes all non-numeric characters from a list of strings using list comprehension."
   ]
  },
  {
   "cell_type": "code",
   "execution_count": 13,
   "metadata": {},
   "outputs": [
    {
     "name": "stdout",
     "output_type": "stream",
     "text": [
      "['123', '456', '789']\n"
     ]
    }
   ],
   "source": [
    "def remove_non_numeric_characters(string_list:list):\n",
    "    numeric_strings = [''.join(char for char in s if char.isdigit()) for s in string_list]\n",
    "    return numeric_strings\n",
    "\n",
    "string_list = [\"abc123\", \"456def\", \"789xyz\"]\n",
    "numeric_strings = remove_non_numeric_characters(string_list)\n",
    "print(numeric_strings)"
   ]
  },
  {
   "cell_type": "markdown",
   "metadata": {},
   "source": [
    "# **Challege Level**"
   ]
  },
  {
   "cell_type": "markdown",
   "metadata": {},
   "source": [
    "### 31. Write a program to generate a list of prime numbers using the Sieve of Eratosthenes algorithm and list comprehension."
   ]
  },
  {
   "cell_type": "code",
   "execution_count": 15,
   "metadata": {},
   "outputs": [
    {
     "name": "stdout",
     "output_type": "stream",
     "text": [
      "Prime numbers up to 50 are: [2, 3, 5, 7, 11, 13, 17, 19, 23, 29, 31, 37, 41, 43, 47]\n"
     ]
    }
   ],
   "source": [
    "def sieve_eratosthenes(limit:int):\n",
    "    sieve = [True] * (limit + 1)\n",
    "    sieve[0] = sieve[1] = False\n",
    "    \n",
    "    [sieve.__setitem__(multiple, False) for current in range(2, int(limit**0.5) + 1)\n",
    "      if sieve[current] for multiple in range(current * current, limit + 1, current)]\n",
    "    \n",
    "    primes = [num for num in range(2, limit + 1) if sieve[num]]\n",
    "    return primes\n",
    "\n",
    "limit = int(input(\"Enter the limit to generate prime numbers: \"))\n",
    "prime_numbers = sieve_eratosthenes(limit)\n",
    "print(\"Prime numbers up to\", limit, \"are:\", prime_numbers)\n"
   ]
  },
  {
   "cell_type": "markdown",
   "metadata": {},
   "source": [
    "### 32. Create a program that generates a list of all Pythagorean triplets up to a specified limit using list comprehension."
   ]
  },
  {
   "cell_type": "code",
   "execution_count": 16,
   "metadata": {},
   "outputs": [],
   "source": [
    "def generate_pythagorean_triplets(limit:int):\n",
    "    tripletes=[ (a,b,c) for a in range(1,limit+1)\n",
    "                        for b in range(a,limit+1)\n",
    "                        for c in range(c,limit+1)\n",
    "                        if a**2 + b**2 == c**2\n",
    "    ]\n",
    "    return tripletes\n",
    "limit=int(input(\"Enter the limit to generate pythagorean triplets: \"))\n",
    "pythogorean_triplets=generate_pythagorean_triplets(limit)"
   ]
  },
  {
   "cell_type": "markdown",
   "metadata": {},
   "source": [
    "### 33. Develop a program that generates a list of all possible combinations of two lists using list comprehension"
   ]
  },
  {
   "cell_type": "code",
   "execution_count": 19,
   "metadata": {},
   "outputs": [
    {
     "name": "stdout",
     "output_type": "stream",
     "text": [
      "[1, 'a', 'x']\n",
      "[1, 'a', 'y']\n",
      "[1, 'b', 'x']\n",
      "[1, 'b', 'y']\n",
      "[1, 'c', 'x']\n",
      "[1, 'c', 'y']\n",
      "[2, 'a', 'x']\n",
      "[2, 'a', 'y']\n",
      "[2, 'b', 'x']\n",
      "[2, 'b', 'y']\n",
      "[2, 'c', 'x']\n",
      "[2, 'c', 'y']\n"
     ]
    }
   ],
   "source": [
    "def generate_combinations(*lists):\n",
    "    if not lists:\n",
    "        return [[]]\n",
    "\n",
    "    # Initialize the result with the first list's elements as single-item lists\n",
    "    result = [[item] for item in lists[0]]\n",
    "\n",
    "    # Loop through the remaining lists\n",
    "    for lst in lists[1:]:\n",
    "        result = [prev_combo + [item] for prev_combo in result for item in lst]\n",
    "\n",
    "    return result\n",
    "\n",
    "# Example usage\n",
    "list1 = [1, 2]\n",
    "list2 = ['a', 'b', 'c']\n",
    "list3 = ['x', 'y']\n",
    "\n",
    "combinations = generate_combinations(list1, list2, list3)\n",
    "\n",
    "for combo in combinations:\n",
    "    print(combo)\n"
   ]
  },
  {
   "cell_type": "markdown",
   "metadata": {},
   "source": [
    "### 34. Write a program that calculates the mean, median, and mode of a list of numbers using list comprehension."
   ]
  },
  {
   "cell_type": "code",
   "execution_count": 21,
   "metadata": {},
   "outputs": [
    {
     "name": "stdout",
     "output_type": "stream",
     "text": [
      "Mean: 3.67\n",
      "Median: 4.0\n",
      "Mode: [2, 4, 6]\n"
     ]
    }
   ],
   "source": [
    "# Function to calculate the mean of a list of numbers using list comprehension\n",
    "def calculate_mean(numbers):\n",
    "    return sum(numbers) / len(numbers)\n",
    "\n",
    "# Function to calculate the median of a list of numbers using list comprehension\n",
    "def calculate_median(numbers):\n",
    "    sorted_numbers = sorted(numbers)\n",
    "    n = len(sorted_numbers)\n",
    "    middle = n // 2\n",
    "\n",
    "    return (sorted_numbers[middle] + sorted_numbers[-middle - 1]) / 2\n",
    "\n",
    "# Function to calculate the mode of a list of numbers using list comprehension\n",
    "def calculate_mode(numbers):\n",
    "    counts = [(num, numbers.count(num)) for num in numbers]\n",
    "    max_count = max([count for num, count in counts])\n",
    "    modes = [num for num, count in counts if count == max_count]\n",
    "\n",
    "    return list(set(modes))  # Remove duplicates if there are multiple modes\n",
    "\n",
    "# Example usage\n",
    "numbers = [1, 2, 2, 3, 4, 4, 5, 6, 6]\n",
    "\n",
    "mean = round(calculate_mean(numbers),2)\n",
    "median = calculate_median(numbers)\n",
    "mode = calculate_mode(numbers)\n",
    "\n",
    "print(\"Mean:\", mean)\n",
    "print(\"Median:\", median)\n",
    "print(\"Mode:\", mode)\n"
   ]
  },
  {
   "cell_type": "markdown",
   "metadata": {},
   "source": [
    "### 35. Create a program that generates Pascal's triangle up to a specified number of rows using list comprehension."
   ]
  },
  {
   "cell_type": "code",
   "execution_count": 22,
   "metadata": {},
   "outputs": [
    {
     "name": "stdout",
     "output_type": "stream",
     "text": [
      "    1    \n",
      "   1 1   \n",
      "  1 2 1  \n",
      " 1 3 3 1 \n",
      "1 4 6 4 1\n"
     ]
    }
   ],
   "source": [
    "def generate_pascals_triangle(num_rows):\n",
    "    if num_rows <= 0:\n",
    "        return []\n",
    "\n",
    "    triangle = [[1]]\n",
    "    \n",
    "    while len(triangle) < num_rows:\n",
    "        previous_row = triangle[-1]\n",
    "        new_row = [1] + [previous_row[i] + previous_row[i+1] for i in range(len(previous_row) - 1)] + [1]\n",
    "        triangle.append(new_row)\n",
    "    \n",
    "    return triangle\n",
    "\n",
    "def display_pascals_triangle(triangle):\n",
    "    max_width = len(' '.join(map(str, triangle[-1])))\n",
    "    for row in triangle:\n",
    "        row_str = ' '.join(map(str, row))\n",
    "        print(row_str.center(max_width))\n",
    "\n",
    "# Example usage\n",
    "num_rows = int(input(\"Enter the number of rows for Pascal's triangle: \"))\n",
    "pascals_triangle = generate_pascals_triangle(num_rows)\n",
    "display_pascals_triangle(pascals_triangle)\n"
   ]
  },
  {
   "cell_type": "markdown",
   "metadata": {},
   "source": [
    "### 36. Develop a program that calculates the sum of the digits of a factorial of numbers from 1 to 5 using list comprehension."
   ]
  },
  {
   "cell_type": "code",
   "execution_count": 23,
   "metadata": {},
   "outputs": [
    {
     "name": "stdout",
     "output_type": "stream",
     "text": [
      "The sum of the digits of 1! is 1\n",
      "The sum of the digits of 2! is 2\n",
      "The sum of the digits of 3! is 6\n",
      "The sum of the digits of 4! is 6\n",
      "The sum of the digits of 5! is 3\n"
     ]
    }
   ],
   "source": [
    "# Function to calculate the factorial of a number\n",
    "def factorial(n):\n",
    "    if n == 0:\n",
    "        return 1\n",
    "    return n * factorial(n - 1)\n",
    "\n",
    "# Function to calculate the sum of the digits of a number\n",
    "def sum_of_digits(number):\n",
    "    return sum(int(digit) for digit in str(number))\n",
    "\n",
    "# Calculate the sum of the digits of factorials from 1 to 5 using list comprehension\n",
    "factorial_sums = [sum_of_digits(factorial(n)) for n in range(1, 6)]\n",
    "\n",
    "# Display the results\n",
    "for n, factorial_sum in enumerate(factorial_sums, start=1):\n",
    "    print(f\"The sum of the digits of {n}! is {factorial_sum}\")\n"
   ]
  },
  {
   "cell_type": "markdown",
   "metadata": {},
   "source": [
    "### 37. Write a program that finds the longest word in a sentence using list comprehension."
   ]
  },
  {
   "cell_type": "code",
   "execution_count": 24,
   "metadata": {},
   "outputs": [
    {
     "name": "stdout",
     "output_type": "stream",
     "text": [
      "The longest word in the sentence is: Welcome\n"
     ]
    }
   ],
   "source": [
    "# Function to find the longest word in a sentence using list comprehension\n",
    "def find_longest_word(sentence):\n",
    "    words = sentence.split()\n",
    "    longest_word = max((word for word in words), key=len)\n",
    "    return longest_word\n",
    "\n",
    "# Input sentence\n",
    "sentence = input(\"Enter a sentence: \")\n",
    "\n",
    "# Find and display the longest word\n",
    "longest_word = find_longest_word(sentence)\n",
    "print(\"The longest word in the sentence is:\", longest_word)\n"
   ]
  },
  {
   "cell_type": "markdown",
   "metadata": {},
   "source": [
    "### 38. Create a program that filters a list of strings to include only those with more than three vowels using list comprehension."
   ]
  },
  {
   "cell_type": "code",
   "execution_count": 26,
   "metadata": {},
   "outputs": [
    {
     "name": "stdout",
     "output_type": "stream",
     "text": [
      "Strings with more than three vowels: ['education']\n"
     ]
    }
   ],
   "source": [
    "# Function to count the number of vowels in a string\n",
    "def count_vowels(string):\n",
    "    vowels = \"AEIOUaeiou\"\n",
    "    return sum(1 for char in string if char in vowels)\n",
    "\n",
    "# Input list of strings\n",
    "string_list = [\"hello\", \"world\", \"apple\", \"banana\", \"education\", \"algorithm\"]\n",
    "\n",
    "# Use list comprehension to filter strings with more than three vowels\n",
    "filtered_strings = [string for string in string_list if count_vowels(string) > 3]\n",
    "\n",
    "# Display the filtered strings\n",
    "print(\"Strings with more than three vowels:\", filtered_strings)\n"
   ]
  },
  {
   "cell_type": "markdown",
   "metadata": {},
   "source": [
    "### 39. Develop a program that calculates the sum of the digits of numbers from 1 to 1000 using list comprehension.\n"
   ]
  },
  {
   "cell_type": "code",
   "execution_count": 28,
   "metadata": {},
   "outputs": [
    {
     "name": "stdout",
     "output_type": "stream",
     "text": [
      "The sum of the digits of numbers from 1 to 1000 is: [1, 2, 3, 4, 5, 6, 7, 8, 9, 1, 2, 3, 4, 5, 6, 7, 8, 9, 10, 2, 3, 4, 5, 6, 7, 8, 9, 10, 11, 3, 4, 5, 6, 7, 8, 9, 10, 11, 12, 4, 5, 6, 7, 8, 9, 10, 11, 12, 13, 5, 6, 7, 8, 9, 10, 11, 12, 13, 14, 6, 7, 8, 9, 10, 11, 12, 13, 14, 15, 7, 8, 9, 10, 11, 12, 13, 14, 15, 16, 8, 9, 10, 11, 12, 13, 14, 15, 16, 17, 9, 10, 11, 12, 13, 14, 15, 16, 17, 18, 1, 2, 3, 4, 5, 6, 7, 8, 9, 10, 2, 3, 4, 5, 6, 7, 8, 9, 10, 11, 3, 4, 5, 6, 7, 8, 9, 10, 11, 12, 4, 5, 6, 7, 8, 9, 10, 11, 12, 13, 5, 6, 7, 8, 9, 10, 11, 12, 13, 14, 6, 7, 8, 9, 10, 11, 12, 13, 14, 15, 7, 8, 9, 10, 11, 12, 13, 14, 15, 16, 8, 9, 10, 11, 12, 13, 14, 15, 16, 17, 9, 10, 11, 12, 13, 14, 15, 16, 17, 18, 10, 11, 12, 13, 14, 15, 16, 17, 18, 19, 2, 3, 4, 5, 6, 7, 8, 9, 10, 11, 3, 4, 5, 6, 7, 8, 9, 10, 11, 12, 4, 5, 6, 7, 8, 9, 10, 11, 12, 13, 5, 6, 7, 8, 9, 10, 11, 12, 13, 14, 6, 7, 8, 9, 10, 11, 12, 13, 14, 15, 7, 8, 9, 10, 11, 12, 13, 14, 15, 16, 8, 9, 10, 11, 12, 13, 14, 15, 16, 17, 9, 10, 11, 12, 13, 14, 15, 16, 17, 18, 10, 11, 12, 13, 14, 15, 16, 17, 18, 19, 11, 12, 13, 14, 15, 16, 17, 18, 19, 20, 3, 4, 5, 6, 7, 8, 9, 10, 11, 12, 4, 5, 6, 7, 8, 9, 10, 11, 12, 13, 5, 6, 7, 8, 9, 10, 11, 12, 13, 14, 6, 7, 8, 9, 10, 11, 12, 13, 14, 15, 7, 8, 9, 10, 11, 12, 13, 14, 15, 16, 8, 9, 10, 11, 12, 13, 14, 15, 16, 17, 9, 10, 11, 12, 13, 14, 15, 16, 17, 18, 10, 11, 12, 13, 14, 15, 16, 17, 18, 19, 11, 12, 13, 14, 15, 16, 17, 18, 19, 20, 12, 13, 14, 15, 16, 17, 18, 19, 20, 21, 4, 5, 6, 7, 8, 9, 10, 11, 12, 13, 5, 6, 7, 8, 9, 10, 11, 12, 13, 14, 6, 7, 8, 9, 10, 11, 12, 13, 14, 15, 7, 8, 9, 10, 11, 12, 13, 14, 15, 16, 8, 9, 10, 11, 12, 13, 14, 15, 16, 17, 9, 10, 11, 12, 13, 14, 15, 16, 17, 18, 10, 11, 12, 13, 14, 15, 16, 17, 18, 19, 11, 12, 13, 14, 15, 16, 17, 18, 19, 20, 12, 13, 14, 15, 16, 17, 18, 19, 20, 21, 13, 14, 15, 16, 17, 18, 19, 20, 21, 22, 5, 6, 7, 8, 9, 10, 11, 12, 13, 14, 6, 7, 8, 9, 10, 11, 12, 13, 14, 15, 7, 8, 9, 10, 11, 12, 13, 14, 15, 16, 8, 9, 10, 11, 12, 13, 14, 15, 16, 17, 9, 10, 11, 12, 13, 14, 15, 16, 17, 18, 10, 11, 12, 13, 14, 15, 16, 17, 18, 19, 11, 12, 13, 14, 15, 16, 17, 18, 19, 20, 12, 13, 14, 15, 16, 17, 18, 19, 20, 21, 13, 14, 15, 16, 17, 18, 19, 20, 21, 22, 14, 15, 16, 17, 18, 19, 20, 21, 22, 23, 6, 7, 8, 9, 10, 11, 12, 13, 14, 15, 7, 8, 9, 10, 11, 12, 13, 14, 15, 16, 8, 9, 10, 11, 12, 13, 14, 15, 16, 17, 9, 10, 11, 12, 13, 14, 15, 16, 17, 18, 10, 11, 12, 13, 14, 15, 16, 17, 18, 19, 11, 12, 13, 14, 15, 16, 17, 18, 19, 20, 12, 13, 14, 15, 16, 17, 18, 19, 20, 21, 13, 14, 15, 16, 17, 18, 19, 20, 21, 22, 14, 15, 16, 17, 18, 19, 20, 21, 22, 23, 15, 16, 17, 18, 19, 20, 21, 22, 23, 24, 7, 8, 9, 10, 11, 12, 13, 14, 15, 16, 8, 9, 10, 11, 12, 13, 14, 15, 16, 17, 9, 10, 11, 12, 13, 14, 15, 16, 17, 18, 10, 11, 12, 13, 14, 15, 16, 17, 18, 19, 11, 12, 13, 14, 15, 16, 17, 18, 19, 20, 12, 13, 14, 15, 16, 17, 18, 19, 20, 21, 13, 14, 15, 16, 17, 18, 19, 20, 21, 22, 14, 15, 16, 17, 18, 19, 20, 21, 22, 23, 15, 16, 17, 18, 19, 20, 21, 22, 23, 24, 16, 17, 18, 19, 20, 21, 22, 23, 24, 25, 8, 9, 10, 11, 12, 13, 14, 15, 16, 17, 9, 10, 11, 12, 13, 14, 15, 16, 17, 18, 10, 11, 12, 13, 14, 15, 16, 17, 18, 19, 11, 12, 13, 14, 15, 16, 17, 18, 19, 20, 12, 13, 14, 15, 16, 17, 18, 19, 20, 21, 13, 14, 15, 16, 17, 18, 19, 20, 21, 22, 14, 15, 16, 17, 18, 19, 20, 21, 22, 23, 15, 16, 17, 18, 19, 20, 21, 22, 23, 24, 16, 17, 18, 19, 20, 21, 22, 23, 24, 25, 17, 18, 19, 20, 21, 22, 23, 24, 25, 26, 9, 10, 11, 12, 13, 14, 15, 16, 17, 18, 10, 11, 12, 13, 14, 15, 16, 17, 18, 19, 11, 12, 13, 14, 15, 16, 17, 18, 19, 20, 12, 13, 14, 15, 16, 17, 18, 19, 20, 21, 13, 14, 15, 16, 17, 18, 19, 20, 21, 22, 14, 15, 16, 17, 18, 19, 20, 21, 22, 23, 15, 16, 17, 18, 19, 20, 21, 22, 23, 24, 16, 17, 18, 19, 20, 21, 22, 23, 24, 25, 17, 18, 19, 20, 21, 22, 23, 24, 25, 26, 18, 19, 20, 21, 22, 23, 24, 25, 26, 27, 1]\n"
     ]
    }
   ],
   "source": [
    "# Function to calculate the sum of digits of a number\n",
    "def sum_of_digits(number):\n",
    "    return sum(int(digit) for digit in str(number))\n",
    "\n",
    "# Use list comprehension to calculate the sum of digits of numbers from 1 to 1000\n",
    "sums_of_digits = [sum_of_digits(number) for number in range(1, 1001)]\n",
    "\n",
    "\n",
    "print(\"The sum of the digits of numbers from 1 to 1000 is:\",sums_of_digits )\n"
   ]
  },
  {
   "cell_type": "markdown",
   "metadata": {},
   "source": [
    "### 40. Write a program that generates a list of prime palindromic numbers using list comprehension.\n"
   ]
  },
  {
   "cell_type": "code",
   "execution_count": 29,
   "metadata": {},
   "outputs": [
    {
     "name": "stdout",
     "output_type": "stream",
     "text": [
      "Prime palindromic numbers from 2 to 999: [2, 3, 5, 7, 11, 101, 131, 151, 181, 191, 313, 353, 373, 383, 727, 757, 787, 797, 919, 929]\n"
     ]
    }
   ],
   "source": [
    "# Function to check if a number is prime\n",
    "def is_prime(number):\n",
    "    if number < 2:\n",
    "        return False\n",
    "    for i in range(2, int(number**0.5) + 1):\n",
    "        if number % i == 0:\n",
    "            return False\n",
    "    return True\n",
    "\n",
    "# Function to check if a number is a palindrome\n",
    "def is_palindrome(number):\n",
    "    return str(number) == str(number)[::-1]\n",
    "\n",
    "# Use list comprehension to generate a list of prime palindromic numbers\n",
    "prime_palindromes = [num for num in range(2, 1000) if is_prime(num) and is_palindrome(num)]\n",
    "\n",
    "# Display the list of prime palindromic numbers\n",
    "print(\"Prime palindromic numbers from 2 to 999:\", prime_palindromes)\n"
   ]
  }
 ],
 "metadata": {
  "kernelspec": {
   "display_name": "Python 3",
   "language": "python",
   "name": "python3"
  },
  "language_info": {
   "codemirror_mode": {
    "name": "ipython",
    "version": 3
   },
   "file_extension": ".py",
   "mimetype": "text/x-python",
   "name": "python",
   "nbconvert_exporter": "python",
   "pygments_lexer": "ipython3",
   "version": "3.11.4"
  },
  "orig_nbformat": 4
 },
 "nbformat": 4,
 "nbformat_minor": 2
}
