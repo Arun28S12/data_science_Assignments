{
 "cells": [
  {
   "cell_type": "markdown",
   "metadata": {},
   "source": [
    "# **Basic Level.**"
   ]
  },
  {
   "cell_type": "markdown",
   "metadata": {},
   "source": [
    "### 1. Write a Python program to print the numbers from 1 to 10 using a `for` loop."
   ]
  },
  {
   "cell_type": "code",
   "execution_count": 2,
   "metadata": {},
   "outputs": [
    {
     "name": "stdout",
     "output_type": "stream",
     "text": [
      "1 2 3 4 5 6 7 8 9 "
     ]
    }
   ],
   "source": [
    "for i in range(1,10):\n",
    "    print(i,end=\" \")"
   ]
  },
  {
   "cell_type": "markdown",
   "metadata": {},
   "source": [
    "### 2. Create a program that calculates the sum of all numbers in a list using a `for` loop."
   ]
  },
  {
   "cell_type": "code",
   "execution_count": 3,
   "metadata": {},
   "outputs": [
    {
     "name": "stdout",
     "output_type": "stream",
     "text": [
      "15\n"
     ]
    }
   ],
   "source": [
    "def sum_list(input_list):\n",
    "    sum = 0\n",
    "    for i in input_list:\n",
    "        sum = sum + i\n",
    "    return sum\n",
    "input_list=[1,2,3,4,5]\n",
    "sum_of_list=sum_list(input_list)\n",
    "print(sum_of_list)"
   ]
  },
  {
   "cell_type": "markdown",
   "metadata": {},
   "source": [
    "### 3. Write a program to print the characters of a string in reverse order using a `for` loop."
   ]
  },
  {
   "cell_type": "code",
   "execution_count": 6,
   "metadata": {},
   "outputs": [
    {
     "name": "stdout",
     "output_type": "stream",
     "text": [
      "noitulosslikswp\n"
     ]
    }
   ],
   "source": [
    "def reverse_string(input_str):\n",
    "    output_str=\"\"\n",
    "    l=len(input_str)\n",
    "    for i in range(0,l):\n",
    "        output_str=output_str+input_str[l-1-i]\n",
    "    return output_str\n",
    "input_str=\"pwskilssolution\"\n",
    "output_str=reverse_string(input_str)\n",
    "print(output_str)"
   ]
  },
  {
   "cell_type": "markdown",
   "metadata": {},
   "source": [
    "### 4. Develop a program that finds the factorial of a given number using a `for` loop."
   ]
  },
  {
   "cell_type": "code",
   "execution_count": 4,
   "metadata": {},
   "outputs": [
    {
     "name": "stdout",
     "output_type": "stream",
     "text": [
      "The Factorial of 5 is  120\n"
     ]
    }
   ],
   "source": [
    "def factorial_num(n):\n",
    "    output_num=1\n",
    "    for i in range(1,n+1):\n",
    "        output_num=output_num*i\n",
    "    return output_num\n",
    "n=int(input(\"Enter the number\"))\n",
    "factorial=factorial_num(n)\n",
    "print(f\"The Factorial of {n} is\",factorial)"
   ]
  },
  {
   "cell_type": "markdown",
   "metadata": {},
   "source": [
    "### 5. Create a program to print the multiplication table of a given number using a `for` loop."
   ]
  },
  {
   "cell_type": "code",
   "execution_count": 6,
   "metadata": {},
   "outputs": [
    {
     "name": "stdout",
     "output_type": "stream",
     "text": [
      "10 x 1 = 10\n",
      "10 x 2 = 20\n",
      "10 x 3 = 30\n",
      "10 x 4 = 40\n",
      "10 x 5 = 50\n",
      "10 x 6 = 60\n",
      "10 x 7 = 70\n",
      "10 x 8 = 80\n",
      "10 x 9 = 90\n",
      "10 x 10 = 100\n"
     ]
    }
   ],
   "source": [
    "def table(n):\n",
    "    for i in range(1,11):\n",
    "        print(f\"{n} x {i} =\",i*n)\n",
    "n=int(input(\"Enter the Number\"))\n",
    "table(n)"
   ]
  },
  {
   "cell_type": "markdown",
   "metadata": {},
   "source": [
    "### 6. Write a program that counts the number of even and odd numbers in a list using a `for` loop."
   ]
  },
  {
   "cell_type": "code",
   "execution_count": 7,
   "metadata": {},
   "outputs": [
    {
     "name": "stdout",
     "output_type": "stream",
     "text": [
      "Number of Even Numbers in [1, 2, 3, 2, 4, 6, 10, 11] are 5\n",
      "Number of Odd Numbers in [1, 2, 3, 2, 4, 6, 10, 11] are 3\n"
     ]
    }
   ],
   "source": [
    "def even_odds_count(input_lst):\n",
    "    even_count=0\n",
    "    odd_count=0\n",
    "    for i in input_lst:\n",
    "        if i%2==0:\n",
    "            even_count += 1\n",
    "        else:\n",
    "            odd_count += 1\n",
    "    return even_count,odd_count\n",
    "input_list=[1,2,3,2,4,6,10,11]\n",
    "even_count,odd_count=even_odds_count(input_list)\n",
    "print(f\"Number of Even Numbers in {input_list} are {even_count}\")\n",
    "print(f\"Number of Odd Numbers in {input_list} are {odd_count}\")"
   ]
  }
 ],
 "metadata": {
  "kernelspec": {
   "display_name": "Python 3",
   "language": "python",
   "name": "python3"
  },
  "language_info": {
   "codemirror_mode": {
    "name": "ipython",
    "version": 3
   },
   "file_extension": ".py",
   "mimetype": "text/x-python",
   "name": "python",
   "nbconvert_exporter": "python",
   "pygments_lexer": "ipython3",
   "version": "3.11.4"
  },
  "orig_nbformat": 4
 },
 "nbformat": 4,
 "nbformat_minor": 2
}
