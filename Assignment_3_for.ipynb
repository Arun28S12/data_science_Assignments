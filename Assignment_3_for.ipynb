{
 "cells": [
  {
   "cell_type": "markdown",
   "metadata": {},
   "source": [
    "# **Basic Level.**"
   ]
  },
  {
   "cell_type": "markdown",
   "metadata": {},
   "source": [
    "### 1. Write a Python program to print the numbers from 1 to 10 using a `for` loop."
   ]
  },
  {
   "cell_type": "code",
   "execution_count": 2,
   "metadata": {},
   "outputs": [
    {
     "name": "stdout",
     "output_type": "stream",
     "text": [
      "1 2 3 4 5 6 7 8 9 "
     ]
    }
   ],
   "source": [
    "for i in range(1,10):\n",
    "    print(i,end=\" \")"
   ]
  },
  {
   "cell_type": "markdown",
   "metadata": {},
   "source": [
    "### 2. Create a program that calculates the sum of all numbers in a list using a `for` loop."
   ]
  },
  {
   "cell_type": "code",
   "execution_count": 3,
   "metadata": {},
   "outputs": [
    {
     "name": "stdout",
     "output_type": "stream",
     "text": [
      "15\n"
     ]
    }
   ],
   "source": [
    "def sum_list(input_list):\n",
    "    sum = 0\n",
    "    for i in input_list:\n",
    "        sum = sum + i\n",
    "    return sum\n",
    "input_list=[1,2,3,4,5]\n",
    "sum_of_list=sum_list(input_list)\n",
    "print(sum_of_list)"
   ]
  },
  {
   "cell_type": "markdown",
   "metadata": {},
   "source": [
    "### 3. Write a program to print the characters of a string in reverse order using a `for` loop."
   ]
  },
  {
   "cell_type": "code",
   "execution_count": 6,
   "metadata": {},
   "outputs": [
    {
     "name": "stdout",
     "output_type": "stream",
     "text": [
      "noitulosslikswp\n"
     ]
    }
   ],
   "source": [
    "def reverse_string(input_str):\n",
    "    output_str=\"\"\n",
    "    l=len(input_str)\n",
    "    for i in range(0,l):\n",
    "        output_str=output_str+input_str[l-1-i]\n",
    "    return output_str\n",
    "input_str=\"pwskilssolution\"\n",
    "output_str=reverse_string(input_str)\n",
    "print(output_str)"
   ]
  },
  {
   "cell_type": "markdown",
   "metadata": {},
   "source": [
    "### 4. Develop a program that finds the factorial of a given number using a `for` loop."
   ]
  },
  {
   "cell_type": "code",
   "execution_count": 4,
   "metadata": {},
   "outputs": [
    {
     "name": "stdout",
     "output_type": "stream",
     "text": [
      "The Factorial of 5 is  120\n"
     ]
    }
   ],
   "source": [
    "def factorial_num(n):\n",
    "    output_num=1\n",
    "    for i in range(1,n+1):\n",
    "        output_num=output_num*i\n",
    "    return output_num\n",
    "n=int(input(\"Enter the number\"))\n",
    "factorial=factorial_num(n)\n",
    "print(f\"The Factorial of {n} is\",factorial)"
   ]
  },
  {
   "cell_type": "markdown",
   "metadata": {},
   "source": [
    "### 5. Create a program to print the multiplication table of a given number using a `for` loop."
   ]
  },
  {
   "cell_type": "code",
   "execution_count": 6,
   "metadata": {},
   "outputs": [
    {
     "name": "stdout",
     "output_type": "stream",
     "text": [
      "10 x 1 = 10\n",
      "10 x 2 = 20\n",
      "10 x 3 = 30\n",
      "10 x 4 = 40\n",
      "10 x 5 = 50\n",
      "10 x 6 = 60\n",
      "10 x 7 = 70\n",
      "10 x 8 = 80\n",
      "10 x 9 = 90\n",
      "10 x 10 = 100\n"
     ]
    }
   ],
   "source": [
    "def table(n):\n",
    "    for i in range(1,11):\n",
    "        print(f\"{n} x {i} =\",i*n)\n",
    "n=int(input(\"Enter the Number\"))\n",
    "table(n)"
   ]
  },
  {
   "cell_type": "markdown",
   "metadata": {},
   "source": [
    "### 6. Write a program that counts the number of even and odd numbers in a list using a `for` loop."
   ]
  },
  {
   "cell_type": "code",
   "execution_count": 7,
   "metadata": {},
   "outputs": [
    {
     "name": "stdout",
     "output_type": "stream",
     "text": [
      "Number of Even Numbers in [1, 2, 3, 2, 4, 6, 10, 11] are 5\n",
      "Number of Odd Numbers in [1, 2, 3, 2, 4, 6, 10, 11] are 3\n"
     ]
    }
   ],
   "source": [
    "def even_odds_count(input_lst):\n",
    "    even_count=0\n",
    "    odd_count=0\n",
    "    for i in input_lst:\n",
    "        if i%2==0:\n",
    "            even_count += 1\n",
    "        else:\n",
    "            odd_count += 1\n",
    "    return even_count,odd_count\n",
    "input_list=[1,2,3,2,4,6,10,11]\n",
    "even_count,odd_count=even_odds_count(input_list)\n",
    "print(f\"Number of Even Numbers in {input_list} are {even_count}\")\n",
    "print(f\"Number of Odd Numbers in {input_list} are {odd_count}\")"
   ]
  },
  {
   "cell_type": "markdown",
   "metadata": {},
   "source": [
    "### 7. Develop a program that prints the squares of numbers from 1 to 5 using a `for` loop."
   ]
  },
  {
   "cell_type": "code",
   "execution_count": 8,
   "metadata": {},
   "outputs": [
    {
     "name": "stdout",
     "output_type": "stream",
     "text": [
      "Square of 1 is 1\n",
      "Square of 2 is 4\n",
      "Square of 3 is 9\n",
      "Square of 4 is 16\n",
      "Square of 5 is 25\n"
     ]
    }
   ],
   "source": [
    "for i in range(1,6):\n",
    "    print(f\"Square of {i} is {i**2}\")"
   ]
  },
  {
   "cell_type": "markdown",
   "metadata": {},
   "source": [
    "### 8. Create a program to find the length of a string without using the `len()` function."
   ]
  },
  {
   "cell_type": "code",
   "execution_count": 9,
   "metadata": {},
   "outputs": [
    {
     "name": "stdout",
     "output_type": "stream",
     "text": [
      "The Length of 'Hello world' is 11\n"
     ]
    }
   ],
   "source": [
    "def len_of_string(input_str):\n",
    "    str_len=0\n",
    "    for i in input_str:\n",
    "        str_len += 1\n",
    "    return str_len\n",
    "input_str=input(\"Enter Anything\")\n",
    "str_len=len_of_string(input_str)\n",
    "print(f\"The Length of '{input_str}' is {str_len}\")\n",
    "    "
   ]
  },
  {
   "cell_type": "markdown",
   "metadata": {},
   "source": [
    "### 9. Write a program that calculates the average of a list of numbers using a `for` loop."
   ]
  },
  {
   "cell_type": "code",
   "execution_count": 10,
   "metadata": {},
   "outputs": [
    {
     "name": "stdout",
     "output_type": "stream",
     "text": [
      "The Average of numbers in [1, 2, 3, 4, 5, 6, 7, 8, 9, 10] is 5.5\n"
     ]
    }
   ],
   "source": [
    "def average_of_list(input_list):\n",
    "    len_list=0\n",
    "    sum_list=0\n",
    "    for i in input_list:\n",
    "        len_list +=1\n",
    "        sum_list +=i\n",
    "    average=sum_list/len_list\n",
    "    return average\n",
    "input_list =[i for i in range(1,11)]\n",
    "average=average_of_list(input_list)\n",
    "print(f\"The Average of numbers in {input_list} is {average}\")"
   ]
  },
  {
   "cell_type": "markdown",
   "metadata": {},
   "source": [
    "### 10. Develop a program that prints the first `n` Fibonacci numbers using a `for` loop."
   ]
  },
  {
   "cell_type": "code",
   "execution_count": 12,
   "metadata": {},
   "outputs": [
    {
     "name": "stdout",
     "output_type": "stream",
     "text": [
      "The Fibonacci Series of 5 is below :\n",
      "0 1 1 2 3 "
     ]
    }
   ],
   "source": [
    "def fiboncci_series(n):\n",
    "    output_series=[]\n",
    "    init=0\n",
    "    first=1\n",
    "    for _ in range(n):\n",
    "        output_series.append(init)\n",
    "        init,first=first,init+first\n",
    "    return output_series\n",
    "n=int(input(\"Enter Any Number\"))\n",
    "output_series=fiboncci_series(n)\n",
    "print(f\"The Fibonacci Series of {n} is below :\")\n",
    "for i in output_series:\n",
    "    print(i,end=\" \")"
   ]
  },
  {
   "cell_type": "markdown",
   "metadata": {},
   "source": [
    "### **Intermediate Level:**"
   ]
  },
  {
   "cell_type": "markdown",
   "metadata": {},
   "source": [
    "### 11. Write a program to check if a given list contains any duplicates using a `for` loop."
   ]
  },
  {
   "cell_type": "code",
   "execution_count": 15,
   "metadata": {},
   "outputs": [
    {
     "name": "stdout",
     "output_type": "stream",
     "text": [
      "The duplicates Not present in list\n"
     ]
    }
   ],
   "source": [
    "def check_duplicate(input_list):\n",
    "    dummy_list=[]\n",
    "    for i in input_list:\n",
    "        if i not in dummy_list:\n",
    "            dummy_list.append(i)\n",
    "        else:\n",
    "            return True\n",
    "    return False\n",
    "input_list=[1,2,4,5,6]\n",
    "if check_duplicate(input_list):\n",
    "    print(\"The duplicates present in list\")\n",
    "else:\n",
    "    print(\"The duplicates Not present in list\")\n",
    "        "
   ]
  },
  {
   "cell_type": "markdown",
   "metadata": {},
   "source": [
    "### 12. Create a program that prints the prime numbers in a given range using a `for` loop."
   ]
  },
  {
   "cell_type": "code",
   "execution_count": 17,
   "metadata": {},
   "outputs": [
    {
     "name": "stdout",
     "output_type": "stream",
     "text": [
      "Prime numbers in the range 1 to 50:\n",
      "2 3 5 7 11 13 17 19 23 29 31 37 41 43 47 "
     ]
    }
   ],
   "source": [
    "# Function to check if a number is prime\n",
    "def is_prime(number):\n",
    "    if number <= 1:\n",
    "        return False\n",
    "    if number <= 3:\n",
    "        return True\n",
    "    if number % 2 == 0 or number % 3 == 0:\n",
    "        return False\n",
    "    for i in range(5, int(number**0.5) + 1, 6):\n",
    "        if number % i == 0 or number % (i + 2) == 0:\n",
    "            return False\n",
    "    return True\n",
    "\n",
    "# Define the range for prime number calculation\n",
    "start_range = 1\n",
    "end_range = 50\n",
    "\n",
    "# Calculate and print prime numbers within the given range\n",
    "print(f\"Prime numbers in the range {start_range} to {end_range}:\")\n",
    "for num in range(start_range, end_range + 1):\n",
    "    if is_prime(num):\n",
    "        print(num, end=\" \")\n"
   ]
  },
  {
   "cell_type": "markdown",
   "metadata": {},
   "source": [
    "### 13. Develop a program that counts the number of vowels in a string using a `for` loop."
   ]
  },
  {
   "cell_type": "code",
   "execution_count": 21,
   "metadata": {},
   "outputs": [
    {
     "name": "stdout",
     "output_type": "stream",
     "text": [
      "3\n"
     ]
    }
   ],
   "source": [
    "def vowels_count(input_str):\n",
    "    vowel_count=0\n",
    "    for i in input_str.lower():\n",
    "        if i in \"aeiou\":\n",
    "            vowel_count += 1\n",
    "    return vowel_count\n",
    "input_str=\"welcome\"\n",
    "vowel_count=vowels_count(input_str)\n",
    "print(vowel_count)\n",
    "\n",
    "    "
   ]
  },
  {
   "cell_type": "markdown",
   "metadata": {},
   "source": [
    "### 14. Write a program to find the maximum element in a 2D list using a nested `for` loop."
   ]
  },
  {
   "cell_type": "code",
   "execution_count": 30,
   "metadata": {},
   "outputs": [
    {
     "name": "stdout",
     "output_type": "stream",
     "text": [
      "The Maximum Element is 6\n"
     ]
    }
   ],
   "source": [
    "def max_2D_list(nested_list):\n",
    "    max=nested_list[0][0]\n",
    "    for list in nested_list:\n",
    "        for num in list:\n",
    "            \n",
    "            if num>max:\n",
    "                max=num\n",
    "\n",
    "    return max\n",
    "nested_list=[[2,6],[3,5]]\n",
    "max=max_2D_list(nested_list)\n",
    "print(f\"The Maximum Element is {max}\")"
   ]
  },
  {
   "cell_type": "markdown",
   "metadata": {},
   "source": [
    "### 15. Create a program that removes all occurrences of a specific element from a list using a `for` loop."
   ]
  },
  {
   "cell_type": "code",
   "execution_count": 32,
   "metadata": {},
   "outputs": [
    {
     "name": "stdout",
     "output_type": "stream",
     "text": [
      "Original List: [1, 2, 3, 4, 2, 5, 2]\n",
      "List after removing 2 : [1, 3, 4, 5]\n"
     ]
    }
   ],
   "source": [
    "def remove_element(original_list,element_to_remove):\n",
    "    new_lst=[]\n",
    "    for element in original_list:\n",
    "        if element !=element_to_remove:\n",
    "            new_lst.append(element)\n",
    "    return new_lst\n",
    "original_list = [1, 2, 3, 4, 2, 5, 2]\n",
    "element_to_remove = 2\n",
    "\n",
    "result_list = remove_element(original_list, element_to_remove)\n",
    "print(\"Original List:\", original_list)\n",
    "print(\"List after removing\", element_to_remove, \":\", result_list)"
   ]
  }
 ],
 "metadata": {
  "kernelspec": {
   "display_name": "Python 3",
   "language": "python",
   "name": "python3"
  },
  "language_info": {
   "codemirror_mode": {
    "name": "ipython",
    "version": 3
   },
   "file_extension": ".py",
   "mimetype": "text/x-python",
   "name": "python",
   "nbconvert_exporter": "python",
   "pygments_lexer": "ipython3",
   "version": "3.11.4"
  },
  "orig_nbformat": 4
 },
 "nbformat": 4,
 "nbformat_minor": 2
}
