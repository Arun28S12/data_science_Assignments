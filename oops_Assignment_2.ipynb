{
 "cells": [
  {
   "cell_type": "markdown",
   "metadata": {},
   "source": [
    " # **Constructor:**"
   ]
  },
  {
   "cell_type": "markdown",
   "metadata": {},
   "source": [
    "### 1. What is a constructor in Python? Explain its purpose and usage."
   ]
  },
  {
   "cell_type": "markdown",
   "metadata": {},
   "source": [
    "A constructor in Python is a special method that gets called when an object of a class is instantiated. It is used to initialize the attributes or properties of the object. The primary purpose of a constructor is to set up the initial state of the object. In Python, the constructor method is named '__init__'."
   ]
  },
  {
   "cell_type": "markdown",
   "metadata": {},
   "source": [
    "### 2. Differentiate between a parameterless constructor and a parameterized constructor in Python."
   ]
  },
  {
   "cell_type": "markdown",
   "metadata": {},
   "source": [
    "* A parameterless constructor is a constructor that takes no parameters. It is often used to initialize attributes with default values.\n",
    "* A parameterized constructor is a constructor that accepts parameters to initialize the attributes with specific values provided during object creation."
   ]
  },
  {
   "cell_type": "markdown",
   "metadata": {},
   "source": [
    "### 3. How do you define a constructor in a Python class? Provide an example."
   ]
  },
  {
   "cell_type": "markdown",
   "metadata": {},
   "source": [
    "To define a constructor in a Python class, you create a method named __init__ within the class. Here's an example:"
   ]
  },
  {
   "cell_type": "code",
   "execution_count": null,
   "metadata": {},
   "outputs": [],
   "source": [
    "class MyClass:\n",
    "    def __init__(self, param1, param2):\n",
    "        self.attr1 = param1\n",
    "        self.attr2 = param2\n"
   ]
  },
  {
   "cell_type": "markdown",
   "metadata": {},
   "source": [
    "### 4. Explain the `__init__` method in Python and its role in constructors."
   ]
  },
  {
   "cell_type": "markdown",
   "metadata": {},
   "source": [
    "The __init__ method is a constructor in Python classes. It initializes object attributes and gets automatically called when you create an instance of the class. It always takes at least one parameter, self, which refers to the instance being created."
   ]
  },
  {
   "cell_type": "markdown",
   "metadata": {},
   "source": [
    "### 5. In a class named `Person`, create a constructor that initializes the `name` and `age` attributes. Provide an example of creating an object of this class."
   ]
  },
  {
   "cell_type": "code",
   "execution_count": 2,
   "metadata": {},
   "outputs": [],
   "source": [
    "class Person:\n",
    "    def __init__(self,name,age) -> None:\n",
    "        self.name=name\n",
    "        self.age=age\n",
    "\n",
    "        \n",
    "# Creating an object of the Person class\n",
    "person1 = Person(\"Arun\", 22)"
   ]
  },
  {
   "cell_type": "markdown",
   "metadata": {},
   "source": [
    "### 6. How can you call a constructor explicitly in Python? Give an example."
   ]
  },
  {
   "cell_type": "code",
   "execution_count": 3,
   "metadata": {},
   "outputs": [
    {
     "name": "stdout",
     "output_type": "stream",
     "text": [
      "Constructor called\n",
      "Constructor called\n"
     ]
    }
   ],
   "source": [
    "class MyClass:\n",
    "    def __init__(self):\n",
    "        print(\"Constructor called\")\n",
    "\n",
    "obj = MyClass()\n",
    "obj.__init__()  # Calling the constructor explicitly\n"
   ]
  },
  {
   "cell_type": "markdown",
   "metadata": {},
   "source": [
    "### 7. What is the significance of the `self` parameter in Python constructors? Explain with an example."
   ]
  },
  {
   "cell_type": "markdown",
   "metadata": {},
   "source": [
    "In Python, the self parameter refers to the instance of the class and allows you to access and modify the instance's attributes. It is a convention but not a keyword. Here's an example:"
   ]
  },
  {
   "cell_type": "code",
   "execution_count": 4,
   "metadata": {},
   "outputs": [
    {
     "name": "stdout",
     "output_type": "stream",
     "text": [
      "42\n"
     ]
    }
   ],
   "source": [
    "class MyClass:\n",
    "    def __init__(self, value):\n",
    "        self.value = value\n",
    "\n",
    "obj = MyClass(42)\n",
    "print(obj.value)  # Accessing the instance attribute\n"
   ]
  },
  {
   "cell_type": "markdown",
   "metadata": {},
   "source": [
    "### 8. Discuss the concept of default constructors in Python. When are they used?"
   ]
  },
  {
   "cell_type": "markdown",
   "metadata": {},
   "source": [
    "Python does not have traditional default constructors (constructors without parameters) because you can define a constructor with default parameter values. They are used to initialize attributes when no arguments are passed during object creation."
   ]
  },
  {
   "cell_type": "markdown",
   "metadata": {},
   "source": [
    "### 9. Create a Python class called `Rectangle` with a constructor that initializes the `width` and `height` attributes. Provide a method to calculate the area of the rectangle."
   ]
  },
  {
   "cell_type": "code",
   "execution_count": 6,
   "metadata": {},
   "outputs": [
    {
     "name": "stdout",
     "output_type": "stream",
     "text": [
      "Area of the rectangle: 20\n"
     ]
    }
   ],
   "source": [
    "class Rectangle:\n",
    "    def __init__(self,width,height) -> None:\n",
    "        self.width=width\n",
    "        self.height=height\n",
    "    def calculate_area(self):\n",
    "        return self.width*self.height\n",
    "\n",
    "rect = Rectangle(4, 5)\n",
    "area = rect.calculate_area()\n",
    "print(f\"Area of the rectangle: {area}\")\n",
    "        \n",
    "    "
   ]
  },
  {
   "cell_type": "markdown",
   "metadata": {},
   "source": [
    "### 10. How can you have multiple constructors in a Python class? Explain with an example"
   ]
  },
  {
   "cell_type": "markdown",
   "metadata": {},
   "source": [
    " Python, you can't have multiple constructors with different parameter lists. However, you can achieve similar behavior by providing default parameter values and using conditional logic within the constructor."
   ]
  },
  {
   "cell_type": "markdown",
   "metadata": {},
   "source": [
    "### 11. What is method overloading, and how is it related to constructors in Python?"
   ]
  },
  {
   "cell_type": "markdown",
   "metadata": {},
   "source": [
    "Python does not support traditional method overloading like some other languages. However, you can achieve method overloading by defining a single method with default parameter values or by using variable-length argument lists."
   ]
  },
  {
   "cell_type": "markdown",
   "metadata": {},
   "source": [
    "### 12. Explain the use of the `super()` function in Python constructors. Provide an example."
   ]
  },
  {
   "cell_type": "markdown",
   "metadata": {},
   "source": [
    "The `super()` function is used in constructors to call the constructor of the parent class. It is useful when you want to extend the behavior of a subclass while still invoking the parent class's constructor."
   ]
  },
  {
   "cell_type": "code",
   "execution_count": 9,
   "metadata": {},
   "outputs": [
    {
     "name": "stdout",
     "output_type": "stream",
     "text": [
      "Parent Constructor\n",
      "Child Constructor\n"
     ]
    }
   ],
   "source": [
    "class Parent:\n",
    "    def __init__(self, parent_param):\n",
    "        self.parent_param = parent_param\n",
    "        print(\"Parent Constructor\")\n",
    "\n",
    "class Child(Parent):\n",
    "    def __init__(self, child_param, parent_param):\n",
    "        super().__init__(parent_param)\n",
    "        self.child_param = child_param\n",
    "        print(\"Child Constructor\")\n",
    "\n",
    "child_obj = Child(\"Child Value\", \"Parent Value\")\n"
   ]
  },
  {
   "cell_type": "markdown",
   "metadata": {},
   "source": [
    "### 13. Create a class called `Book` with a constructor that initializes the `title`, `author`, and `published_year` attributes. Provide a method to display book details."
   ]
  },
  {
   "cell_type": "code",
   "execution_count": 7,
   "metadata": {},
   "outputs": [
    {
     "name": "stdout",
     "output_type": "stream",
     "text": [
      "Title: The Great Gatsby\n",
      "Author: F. Scott Fitzgerald\n",
      "Published Year: 1925\n"
     ]
    }
   ],
   "source": [
    "class Book:\n",
    "    def __init__(self, title, author, published_year):\n",
    "        self.title = title\n",
    "        self.author = author\n",
    "        self.published_year = published_year\n",
    "\n",
    "    def display_details(self):\n",
    "        print(f\"Title: {self.title}\")\n",
    "        print(f\"Author: {self.author}\")\n",
    "        print(f\"Published Year: {self.published_year}\")\n",
    "\n",
    "book1 = Book(\"The Great Gatsby\", \"F. Scott Fitzgerald\", 1925)\n",
    "book1.display_details()\n"
   ]
  },
  {
   "cell_type": "markdown",
   "metadata": {},
   "source": [
    "### 14. Discuss the differences between constructors and regular methods in Python classes."
   ]
  },
  {
   "cell_type": "markdown",
   "metadata": {},
   "source": [
    "* Constructors are special methods for initializing objects, while regular methods perform actions on objects.\n",
    "* Constructors are called automatically when an object is created, while regular methods must be called explicitly.\n",
    "* Constructors have the name __init__, whereas regular methods can have any valid method name."
   ]
  },
  {
   "cell_type": "markdown",
   "metadata": {},
   "source": [
    "### 15. Explain the role of the `self` parameter in instance variable initialization within a constructor."
   ]
  },
  {
   "cell_type": "markdown",
   "metadata": {},
   "source": [
    "The self parameter is used to refer to the instance itself and allows you to access and set instance variables. It is necessary for initializing instance variables within the constructor."
   ]
  },
  {
   "cell_type": "markdown",
   "metadata": {},
   "source": [
    "### 16. How do you prevent a class from having multiple instances by using constructors in Python? Provide an example."
   ]
  },
  {
   "cell_type": "markdown",
   "metadata": {},
   "source": [
    "To prevent a class from having multiple instances, you can use a Singleton design pattern or control instance creation by encapsulating it within the class. However, it's not a standard practice in Python.\n",
    "\n"
   ]
  },
  {
   "cell_type": "markdown",
   "metadata": {},
   "source": [
    "### 17. Create a Python class called `Student` with a constructor that takes a list of subjects as a parameter and initializes the `subjects` attribute."
   ]
  },
  {
   "cell_type": "code",
   "execution_count": 8,
   "metadata": {},
   "outputs": [],
   "source": [
    "class Student:\n",
    "    def __init__(self, subjects):\n",
    "        self.subjects = subjects\n",
    "\n",
    "student1 = Student([\"Math\", \"Science\", \"History\"])\n"
   ]
  },
  {
   "cell_type": "markdown",
   "metadata": {},
   "source": [
    "### 18. What is the purpose of the `__del__` method in Python classes, and how does it relate to constructors?"
   ]
  },
  {
   "cell_type": "markdown",
   "metadata": {},
   "source": [
    "The __del__ method is called when an object is about to be destroyed. It is often used for cleanup activities. It is related to constructors because it's the counterpart to object creation, and it can be used for resource deallocation."
   ]
  },
  {
   "cell_type": "markdown",
   "metadata": {},
   "source": [
    "### 19. Explain the use of constructor chaining in Python. Provide a practical example."
   ]
  },
  {
   "cell_type": "markdown",
   "metadata": {},
   "source": [
    "### Constructor chaining refers to calling constructors of parent and child classes in a hierarchical class structure. This is typically done using the super() function."
   ]
  },
  {
   "cell_type": "code",
   "execution_count": 10,
   "metadata": {},
   "outputs": [
    {
     "name": "stdout",
     "output_type": "stream",
     "text": [
      "Parent Constructor\n",
      "Child Constructor\n"
     ]
    }
   ],
   "source": [
    "class Parent:\n",
    "    def __init__(self, parent_param):\n",
    "        self.parent_param = parent_param\n",
    "        print(\"Parent Constructor\")\n",
    "\n",
    "class Child(Parent):\n",
    "    def __init__(self, child_param, parent_param):\n",
    "        super().__init__(parent_param)\n",
    "        self.child_param = child_param\n",
    "        print(\"Child Constructor\")\n",
    "\n",
    "child_obj = Child(\"Child Value\", \"Parent Value\")\n"
   ]
  },
  {
   "cell_type": "markdown",
   "metadata": {},
   "source": [
    "### 20. Create a Python class called `Car` with a default constructor that initializes the `make` and `model` attributes. Provide a method to display car information."
   ]
  },
  {
   "cell_type": "code",
   "execution_count": 11,
   "metadata": {},
   "outputs": [
    {
     "name": "stdout",
     "output_type": "stream",
     "text": [
      "Make: Unknown\n",
      "Model: Unknown\n"
     ]
    }
   ],
   "source": [
    "class Car:\n",
    "    def __init__(self, make=\"Unknown\", model=\"Unknown\"):\n",
    "        self.make = make\n",
    "        self.model = model\n",
    "\n",
    "    def display_info(self):\n",
    "        print(f\"Make: {self.make}\")\n",
    "        print(f\"Model: {self.model}\")\n",
    "\n",
    "car1 = Car()\n",
    "car1.display_info()\n"
   ]
  },
  {
   "cell_type": "markdown",
   "metadata": {},
   "source": [
    "# Inheritance :"
   ]
  },
  {
   "cell_type": "markdown",
   "metadata": {},
   "source": [
    "### 1.  What is inheritance in Python? Explain its significance in object-oriented programming."
   ]
  },
  {
   "cell_type": "markdown",
   "metadata": {},
   "source": [
    "Inheritance is a fundamental concept in object-oriented programming (OOP), and it plays a crucial role in Python as well as in many other OOP languages. Inheritance allows you to create a new class (called a subclass or derived class) that is based on an existing class (called a superclass or base class). The new subclass inherits attributes and behaviors (i.e., methods and properties) from the superclass, allowing you to reuse and extend code.\n",
    "\n",
    "Here's how inheritance works in Python and its significance in OOP:\n",
    "\n",
    "1. Defining a Subclass:\n",
    "   To create a subclass in Python, you use the `class` keyword followed by the name of the subclass, and in parentheses, you specify the superclass from which you want to inherit. \n",
    "   Example :\n",
    "   class ChildClass(ParentClass):\n",
    "   \n",
    "2. Inheriting Attributes and Methods:\n",
    "   The subclass inherits all the attributes (i.e., instance variables) and methods (i.e., functions) of the superclass. This means that you can access and use the attributes and methods of the superclass in the subclass without having to redefine them.\n",
    "\n",
    "3. Extending and Overriding:\n",
    "   You can extend the functionality of the subclass by adding new attributes and methods or by modifying the behavior of inherited methods. If a method in the subclass has the same name as a method in the superclass, the subclass's method will override the superclass's method.\n",
    "\n",
    "4. Code Reusability:\n",
    "   Inheritance promotes code reusability by allowing you to create new classes based on existing ones. This reduces code duplication and simplifies maintenance. You can build complex software systems by composing and specializing classes through inheritance.\n",
    "\n",
    "5. Hierarchical Inheritance:\n",
    "   In Python and many other OOP languages, you can create a hierarchy of classes. A subclass can further serve as the superclass for other subclasses, forming a chain of inheritance. This hierarchy allows you to create more specialized and specific classes as you go down the chain.\n",
    "\n",
    "6. Polymorphism:\n",
    "   Inheritance is closely related to the concept of polymorphism, which is another essential aspect of OOP. Polymorphism allows you to treat objects of different classes in a uniform way. In Python, you can use methods from a common base class to operate on objects of derived classes, making your code more flexible and extensible."
   ]
  },
  {
   "cell_type": "markdown",
   "metadata": {},
   "source": [
    "### 2.  Differentiate between single inheritance and multiple inheritance in Python. Provide examples for each."
   ]
  },
  {
   "cell_type": "markdown",
   "metadata": {},
   "source": [
    "In Python, inheritance is a fundamental concept in object-oriented programming, and it supports both single inheritance and multiple inheritance.\n",
    "\n",
    "Single Inheritance:\n",
    "Single inheritance refers to a situation where a class inherits from only one superclass (base class). In Python, a class can have a single parent class from which it inherits attributes and methods.\n",
    "\n",
    "Example of single inheritance:"
   ]
  },
  {
   "cell_type": "code",
   "execution_count": null,
   "metadata": {},
   "outputs": [],
   "source": [
    "class Animal:\n",
    "    def speak(self):\n",
    "        pass\n",
    "\n",
    "class Dog(Animal):\n",
    "    def speak(self):\n",
    "        return \"Woof!\"\n"
   ]
  },
  {
   "cell_type": "markdown",
   "metadata": {},
   "source": [
    "Multiple Inheritance:\n",
    "Multiple inheritance occurs when a class inherits from more than one superclass. In Python, you can create a class that inherits attributes and methods from multiple base classes.\n",
    "\n",
    "Example of multiple inheritance:"
   ]
  },
  {
   "cell_type": "code",
   "execution_count": null,
   "metadata": {},
   "outputs": [],
   "source": [
    "class Flyable:\n",
    "    def fly(self):\n",
    "        return \"I can fly!\"\n",
    "\n",
    "class Swimable:\n",
    "    def swim(self):\n",
    "        return \"I can swim!\"\n",
    "\n",
    "class Duck(Flyable, Swimable):\n",
    "    pass\n"
   ]
  },
  {
   "cell_type": "markdown",
   "metadata": {},
   "source": [
    "### 3. Create a Python class called `Vehicle` with attributes `color` and `speed`. Then, create a child class called  `Car` that inherits from `Vehicle` and adds a `brand` attribute. Provide an example of creating a `Car` object."
   ]
  },
  {
   "cell_type": "code",
   "execution_count": 1,
   "metadata": {},
   "outputs": [
    {
     "name": "stdout",
     "output_type": "stream",
     "text": [
      "Color: Red\n",
      "Speed: 120\n",
      "Brand: Toyota\n"
     ]
    }
   ],
   "source": [
    "class Vehicle:\n",
    "    def __init__(self, color, speed):\n",
    "        self.color = color\n",
    "        self.speed = speed\n",
    "\n",
    "class Car(Vehicle):\n",
    "    def __init__(self, color, speed, brand):\n",
    "        super().__init__(color, speed)\n",
    "        self.brand = brand\n",
    "\n",
    "my_car = Car(\"Red\", 120, \"Toyota\")\n",
    "\n",
    "print(f\"Color: {my_car.color}\")\n",
    "print(f\"Speed: {my_car.speed}\")\n",
    "print(f\"Brand: {my_car.brand}\")\n"
   ]
  },
  {
   "cell_type": "markdown",
   "metadata": {},
   "source": [
    "### 4.  Explain the concept of method overriding in inheritance. Provide a practical example."
   ]
  },
  {
   "cell_type": "markdown",
   "metadata": {},
   "source": [
    "Method overriding is a fundamental concept in inheritance within object-oriented programming. It allows a subclass to provide its own implementation of a method that is already defined in its parent class (superclass). When a method in the subclass has the same name and the same parameter list as a method in the superclass, it effectively replaces or overrides the behavior of the parent class's method. Method overriding allows for customization of behavior in the subclass while maintaining a consistent interface."
   ]
  },
  {
   "cell_type": "code",
   "execution_count": 2,
   "metadata": {},
   "outputs": [
    {
     "name": "stdout",
     "output_type": "stream",
     "text": [
      "Woof!\n",
      "Meow!\n"
     ]
    }
   ],
   "source": [
    "class Animal:\n",
    "    def speak(self):\n",
    "        return \"Animal makes a sound\"\n",
    "\n",
    "class Dog(Animal):\n",
    "    def speak(self):\n",
    "        return \"Woof!\"\n",
    "\n",
    "class Cat(Animal):\n",
    "    def speak(self):\n",
    "        return \"Meow!\"\n",
    "\n",
    "my_dog = Dog()\n",
    "my_cat = Cat()\n",
    "\n",
    "print(my_dog.speak())  \n",
    "print(my_cat.speak())  \n"
   ]
  },
  {
   "cell_type": "markdown",
   "metadata": {},
   "source": [
    "### 5. How can you access the methods and attributes of a parent class from a child class in Python? Give an example."
   ]
  },
  {
   "cell_type": "markdown",
   "metadata": {},
   "source": [
    "You can access the methods and attributes of a parent class (superclass) from a child class (subclass) in Python using the super() function. The super() function provides a way to call methods and access attributes from the parent class within the child class. It allows you to reuse and extend the behavior of the parent class in the child class."
   ]
  },
  {
   "cell_type": "code",
   "execution_count": 3,
   "metadata": {},
   "outputs": [
    {
     "name": "stdout",
     "output_type": "stream",
     "text": [
      "Hello, my name is Arun\n",
      "Hello, my name is Arun and I am 15 years old.\n"
     ]
    }
   ],
   "source": [
    "class Parent:\n",
    "    def __init__(self, name):\n",
    "        self.name = name\n",
    "\n",
    "    def say_hello(self):\n",
    "        return f\"Hello, my name is {self.name}\"\n",
    "\n",
    "class Child(Parent):\n",
    "    def __init__(self, name, age):\n",
    "        super().__init__(name) \n",
    "        self.age = age\n",
    "\n",
    "    def greet(self):\n",
    "        parent_greeting = super().say_hello()  \n",
    "        return f\"{parent_greeting} and I am {self.age} years old.\"\n",
    "\n",
    "child = Child(\"Arun\", 15)\n",
    "print(child.say_hello())  \n",
    "print(child.greet())      \n"
   ]
  },
  {
   "cell_type": "markdown",
   "metadata": {},
   "source": [
    "### 6.  Discuss the use of the `super()` function in Python inheritance. When and why is it used? Provide an  example."
   ]
  },
  {
   "cell_type": "markdown",
   "metadata": {},
   "source": [
    "The super() function in Python is used in the context of inheritance to call methods and access attributes from the parent (superclass) within the child (subclass). It is particularly useful when you want to extend or customize the behavior of the parent class's methods and constructors in the child class. super() is used to maintain and reuse the functionality provided by the parent class while adding specific behavior in the child class.\n",
    "\n",
    "The primary purposes of super() in Python inheritance are as follows:\n",
    "\n",
    "Calling Parent Class Constructors: It allows you to call the constructor of the parent class to initialize attributes that are defined in the parent class. This is crucial when the parent class has specific attribute initialization or setup that the child class should inherit.\n",
    "\n",
    "Accessing Parent Class Methods: It enables the child class to access and call methods from the parent class. This is important when you want to reuse and extend the functionality provided by the parent class.\n",
    "\n",
    "Supporting Method Overriding: super() is often used when a child class overrides a method from the parent class but still wants to execute the parent class's method before or after its own implementation.\n"
   ]
  },
  {
   "cell_type": "code",
   "execution_count": 4,
   "metadata": {},
   "outputs": [
    {
     "name": "stdout",
     "output_type": "stream",
     "text": [
      "Hello, my name is Alice\n",
      "Hello, my name is Alice and I am 5 years old.\n"
     ]
    }
   ],
   "source": [
    "class Parent:\n",
    "    def __init__(self, name):\n",
    "        self.name = name\n",
    "\n",
    "    def say_hello(self):\n",
    "        return f\"Hello, my name is {self.name}\"\n",
    "\n",
    "class Child(Parent):\n",
    "    def __init__(self, name, age):\n",
    "        super().__init__(name)  # Call the parent class constructor\n",
    "        self.age = age\n",
    "\n",
    "    def greet(self):\n",
    "        parent_greeting = super().say_hello()  # Call the parent class method\n",
    "        return f\"{parent_greeting} and I am {self.age} years old.\"\n",
    "\n",
    "child = Child(\"Alice\", 5)\n",
    "\n",
    "print(child.say_hello())  \n",
    "print(child.greet())     \n"
   ]
  },
  {
   "cell_type": "markdown",
   "metadata": {},
   "source": [
    "### 7. Create a Python class called `Animal` with a method `speak()`. Then, create child classes `Dog` and `Cat` that inherit from `Animal` and override the `speak()` method. Provide an example of using these classes."
   ]
  },
  {
   "cell_type": "code",
   "execution_count": 5,
   "metadata": {},
   "outputs": [
    {
     "name": "stdout",
     "output_type": "stream",
     "text": [
      "Woof!\n",
      "Meow!\n"
     ]
    }
   ],
   "source": [
    "class Animal:\n",
    "    def speak(self):\n",
    "        return \"Animal makes a sound\"\n",
    "\n",
    "class Dog(Animal):\n",
    "    def speak(self):\n",
    "        return \"Woof!\"\n",
    "\n",
    "class Cat(Animal):\n",
    "    def speak(self):\n",
    "        return \"Meow!\"\n",
    "\n",
    "dog = Dog()\n",
    "cat = Cat()\n",
    "print(dog.speak())  \n",
    "print(cat.speak()) \n"
   ]
  },
  {
   "cell_type": "markdown",
   "metadata": {},
   "source": [
    "### 8.  Explain the role of the `isinstance()` function in Python and how it relates to inheritance."
   ]
  },
  {
   "cell_type": "markdown",
   "metadata": {},
   "source": [
    "The isinstance() function in Python is used to determine whether an object is an instance of a particular class or a tuple of classes. It plays a crucial role in checking the type or class of an object, and it's particularly useful in the context of inheritance. Here's how isinstance() relates to inheritance and its role:\n",
    "\n",
    "Checking Object Types:\n",
    "isinstance(object, class) checks if the given object is an instance of the specified class. This is important in object-oriented programming because it allows you to identify the class or type of an object, which is useful when dealing with polymorphism and inheritance.\n",
    "\n",
    "Handling Inherited Classes:\n",
    "When you use isinstance(), it not only checks for exact class matches but also considers inherited classes. In other words, if a class B inherits from class A, and an object is an instance of class B, isinstance(object, A) will still return True, even though the object is technically an instance of the derived class B. This behavior is essential for handling hierarchies of classes in inheritance.\n",
    "\n",
    "Polymorphism:\n",
    "isinstance() is often used to enable polymorphism, which is the ability to treat objects of different classes uniformly when they share a common superclass or interface. This is a fundamental concept in object-oriented programming and allows for more flexible and extensible code.\n",
    "\n",
    "Example:"
   ]
  },
  {
   "cell_type": "code",
   "execution_count": 6,
   "metadata": {},
   "outputs": [
    {
     "name": "stdout",
     "output_type": "stream",
     "text": [
      "True\n",
      "True\n",
      "True\n"
     ]
    }
   ],
   "source": [
    "class Animal:\n",
    "    pass\n",
    "\n",
    "class Dog(Animal):\n",
    "    pass\n",
    "\n",
    "class Cat(Animal):\n",
    "    pass\n",
    "\n",
    "animal = Animal()\n",
    "dog = Dog()\n",
    "cat = Cat()\n",
    "\n",
    "print(isinstance(animal, Animal))  \n",
    "print(isinstance(dog, Animal))     \n",
    "print(isinstance(cat, Animal))     \n"
   ]
  },
  {
   "cell_type": "markdown",
   "metadata": {},
   "source": [
    "### 9. What is the purpose of the `issubclass()` function in Python? Provide an example."
   ]
  },
  {
   "cell_type": "markdown",
   "metadata": {},
   "source": [
    "The issubclass() function in Python is used to check if a class is a subclass of another class. It helps you determine the inheritance relationship between classes. The primary purpose of issubclass() is to verify whether a class is derived from another class, directly or indirectly, within an inheritance hierarchy.\n",
    "\n",
    "The issubclass() function takes two arguments: the first argument is the class you want to check, and the second argument is the class you want to check for being the superclass.\n",
    "\n",
    "Example :"
   ]
  },
  {
   "cell_type": "code",
   "execution_count": 7,
   "metadata": {},
   "outputs": [
    {
     "name": "stdout",
     "output_type": "stream",
     "text": [
      "True\n",
      "True\n",
      "True\n"
     ]
    }
   ],
   "source": [
    "class Animal:\n",
    "    pass\n",
    "\n",
    "class Mammal(Animal):\n",
    "    pass\n",
    "\n",
    "class Dog(Mammal):\n",
    "    pass\n",
    "\n",
    "print(issubclass(Dog, Animal))   \n",
    "print(issubclass(Mammal, Animal)) \n",
    "print(issubclass(Dog, Mammal))     \n"
   ]
  },
  {
   "cell_type": "markdown",
   "metadata": {},
   "source": [
    "### 10. . Discuss the concept of constructor inheritance in Python. How are constructors inherited in child classes?"
   ]
  },
  {
   "cell_type": "markdown",
   "metadata": {},
   "source": [
    "In Python, constructors are special methods used for initializing objects when instances of a class are created. When it comes to constructor inheritance, child classes (subclasses) can inherit and override the constructor of their parent class (superclass). This is an important aspect of object-oriented programming and inheritance.\n",
    "\n",
    "Here's how constructor inheritance works in Python:\n",
    "\n",
    "1. Inheriting the Constructor:\n",
    "   When a child class is created, it inherits the constructor of its parent class. This means that if the parent class has an `__init__()` method (constructor), the child class will also have it. The child class can choose to override the parent class's constructor by defining its own `__init__()` method.\n",
    "\n",
    "2. Calling the Parent Constructor:\n",
    "   If a child class defines its own constructor, it can still call the constructor of the parent class using the `super()` function. This is important when you want to initialize attributes inherited from the parent class or extend the behavior of the parent class's constructor.\n",
    "\n",
    "3. Constructor Overriding:\n",
    "   When a child class defines its own constructor and calls the parent class's constructor using `super()`, it can add additional attributes or behavior specific to the child class. This allows customization while reusing the initialization logic of the parent class.\n",
    "   \n",
    "Example :"
   ]
  },
  {
   "cell_type": "code",
   "execution_count": 8,
   "metadata": {},
   "outputs": [
    {
     "name": "stdout",
     "output_type": "stream",
     "text": [
      "Aarthi\n",
      "5\n"
     ]
    }
   ],
   "source": [
    "class Parent:\n",
    "    def __init__(self, name):\n",
    "        self.name = name\n",
    "\n",
    "class Child(Parent):\n",
    "    def __init__(self, name, age):\n",
    "        super().__init__(name)  \n",
    "        self.age = age\n",
    "\n",
    "child = Child(\"Aarthi\", 5)\n",
    "\n",
    "print(child.name)  \n",
    "print(child.age)  \n"
   ]
  },
  {
   "cell_type": "markdown",
   "metadata": {},
   "source": [
    "### 11.  Create a Python class called `Shape` with a method `area()` that calculates the area of a shape. Then, create child classes `Circle` and `Rectangle` that inherit from `Shape` and implement the `area()` method  accordingly. Provide an example."
   ]
  },
  {
   "cell_type": "code",
   "execution_count": 9,
   "metadata": {},
   "outputs": [
    {
     "name": "stdout",
     "output_type": "stream",
     "text": [
      "Area of the circle: 78.50\n",
      "Area of the rectangle: 24\n"
     ]
    }
   ],
   "source": [
    "class Shape:\n",
    "    def area(self):\n",
    "        pass\n",
    "\n",
    "class Circle(Shape):\n",
    "    def __init__(self, radius):\n",
    "        self.radius = radius\n",
    "\n",
    "    def area(self):\n",
    "        return 3.14 * self.radius * self.radius\n",
    "\n",
    "class Rectangle(Shape):\n",
    "    def __init__(self, width, height):\n",
    "        self.width = width\n",
    "        self.height = height\n",
    "\n",
    "    def area(self):\n",
    "        return self.width * self.height\n",
    "\n",
    "circle = Circle(5)\n",
    "rectangle = Rectangle(4, 6)\n",
    "\n",
    "print(f\"Area of the circle: {circle.area():.2f}\")\n",
    "print(f\"Area of the rectangle: {rectangle.area()}\")\n"
   ]
  },
  {
   "cell_type": "markdown",
   "metadata": {},
   "source": [
    "### 12.  Explain the use of abstract base classes (ABCs) in Python and how they relate to inheritance. Provide an  example using the `abc` module."
   ]
  },
  {
   "cell_type": "markdown",
   "metadata": {},
   "source": [
    "Abstract Base Classes (ABCs) in Python are a mechanism used to define abstract classes with abstract methods. An abstract class is a class that cannot be instantiated, and it serves as a blueprint for other classes. ABCs are typically used to create a common interface or set of methods that must be implemented by concrete subclasses. They help ensure that derived classes provide specific behavior or methods.\n",
    "\n",
    "The abc module in Python is used to work with abstract base classes. It provides the ABC metaclass and decorators like @abstractmethod to define abstract methods. ABCs are related to inheritance in that they set a contract for derived classes to implement specific methods. If a derived class does not provide an implementation for an abstract method defined in an ABC, Python will raise a TypeError when an attempt is made to instantiate the class.\n",
    "\n",
    "Example :"
   ]
  },
  {
   "cell_type": "code",
   "execution_count": 10,
   "metadata": {},
   "outputs": [
    {
     "name": "stdout",
     "output_type": "stream",
     "text": [
      "Area of the circle: 78.50\n",
      "Area of the rectangle: 24\n"
     ]
    }
   ],
   "source": [
    "from abc import ABC, abstractmethod\n",
    "\n",
    "class Shape(ABC):\n",
    "    @abstractmethod\n",
    "    def area(self):\n",
    "        pass\n",
    "\n",
    "class Circle(Shape):\n",
    "    def __init__(self, radius):\n",
    "        self.radius = radius\n",
    "\n",
    "    def area(self):\n",
    "        return 3.14 * self.radius * self.radius\n",
    "\n",
    "class Rectangle(Shape):\n",
    "    def __init__(self, width, height):\n",
    "        self.width = width\n",
    "        self.height = height\n",
    "\n",
    "    def area(self):\n",
    "        return self.width * self.height\n",
    "circle = Circle(5)\n",
    "rectangle = Rectangle(4, 6)\n",
    "print(f\"Area of the circle: {circle.area():.2f}\")\n",
    "print(f\"Area of the rectangle: {rectangle.area()}\")\n"
   ]
  },
  {
   "cell_type": "markdown",
   "metadata": {},
   "source": [
    "### 13. How can you prevent a child class from modifying certain attributes or methods inherited from a parent class in Python?"
   ]
  },
  {
   "cell_type": "markdown",
   "metadata": {},
   "source": [
    "In Python, you can prevent a child class from modifying certain attributes or methods inherited from a parent class by using encapsulation and access control.\n",
    "\n",
    "1. Private Attributes and Methods:\n",
    "Prefixing attributes and methods with a double underscore (e.g., __attribute or __method()) makes them \"private\" in Python. They can still be accessed in a child class, but they are considered \"name-mangled,\" which means their names are modified to include the class name, making it less likely that a child class will inadvertently override them. This is a form of encapsulation.\n",
    "\n",
    "2. Use of Protected Attributes and Methods:\n",
    "Prefixing attributes and methods with a single underscore (e.g., _attribute or _method()) indicates that they are intended to be protected, implying that they should not be modified or accessed directly in a child class. However, this is also a convention and not enforced by Python.\n",
    "\n",
    "3. Documentation and Conventions:\n",
    "Clearly document the intent of attributes and methods, indicating which should not be modified in child classes. Additionally, enforce coding conventions within your development team to ensure that certain attributes and methods are not overridden."
   ]
  },
  {
   "cell_type": "markdown",
   "metadata": {},
   "source": [
    "### 14. Create a Python class called `Employee` with attributes `name` and `salary`. Then, create a child class  `Manager` that inherits from `Employee` and adds an attribute `department`. Provide an example."
   ]
  },
  {
   "cell_type": "code",
   "execution_count": 11,
   "metadata": {},
   "outputs": [
    {
     "name": "stdout",
     "output_type": "stream",
     "text": [
      "Employee: Nikhil, Salary: $50000\n",
      "Manager: Varun, Salary: $70000, Department: HR\n"
     ]
    }
   ],
   "source": [
    "class Employee:\n",
    "    def __init__(self, name, salary):\n",
    "        self.name = name\n",
    "        self.salary = salary\n",
    "\n",
    "class Manager(Employee):\n",
    "    def __init__(self, name, salary, department):\n",
    "        super().__init__(name, salary)\n",
    "        self.department = department\n",
    "\n",
    "employee = Employee(\"Nikhil\", 50000)\n",
    "manager = Manager(\"Varun\", 70000, \"HR\")\n",
    "\n",
    "print(f\"Employee: {employee.name}, Salary: ${employee.salary}\")\n",
    "print(f\"Manager: {manager.name}, Salary: ${manager.salary}, Department: {manager.department}\")\n"
   ]
  },
  {
   "cell_type": "markdown",
   "metadata": {},
   "source": [
    "### 15.  Discuss the concept of method overloading in Python inheritance. How does it differ from method overriding?"
   ]
  },
  {
   "cell_type": "markdown",
   "metadata": {},
   "source": [
    "Method overloading and method overriding are two different concepts in object-oriented programming, and they serve distinct purposes in Python inheritance.\n",
    "\n",
    "1. Method Overloading:\n",
    "\n",
    "Method overloading in Python refers to the ability to define multiple methods with the same name in a class, but with different parameter lists. The method to be called is determined at runtime based on the arguments provided during the function call. Python does not support true method overloading as seen in some other languages, such as Java or C++. Instead, Python allows you to define multiple methods with the same name, but the most recently defined one will be used, effectively overwriting the previous one.\n",
    "\n",
    "Example of method overloading in Python:"
   ]
  },
  {
   "cell_type": "code",
   "execution_count": null,
   "metadata": {},
   "outputs": [],
   "source": [
    "class MathOperations:\n",
    "    def add(self, a, b):\n",
    "        return a + b\n",
    "\n",
    "    def add(self, a, b, c):\n",
    "        return a + b + c\n",
    "\n",
    "math_ops = MathOperations()\n",
    "result1 = math_ops.add(1, 2)         \n",
    "result2 = math_ops.add(1, 2, 3)       \n",
    "\n",
    "print(result1)  \n",
    "print(result2)  \n"
   ]
  },
  {
   "cell_type": "markdown",
   "metadata": {},
   "source": [
    "2. Method Overriding:\n",
    "\n",
    "Method overriding in Python, as discussed earlier, refers to the ability of a child class to provide its own implementation of a method that is already defined in its parent class. The method in the child class has the same name and parameter list as the method in the parent class. The child class's method effectively replaces or overrides the behavior of the parent class's method.\n",
    "\n",
    "Example of method overriding in Python:"
   ]
  },
  {
   "cell_type": "code",
   "execution_count": 12,
   "metadata": {},
   "outputs": [
    {
     "name": "stdout",
     "output_type": "stream",
     "text": [
      "Woof!\n",
      "Meow!\n"
     ]
    }
   ],
   "source": [
    "class Animal:\n",
    "    def speak(self):\n",
    "        return \"Animal makes a sound\"\n",
    "\n",
    "class Dog(Animal):\n",
    "    def speak(self):\n",
    "        return \"Woof!\"\n",
    "\n",
    "class Cat(Animal):\n",
    "    def speak(self):\n",
    "        return \"Meow!\"\n",
    "\n",
    "my_dog = Dog()\n",
    "my_cat = Cat()\n",
    "\n",
    "print(my_dog.speak())  \n",
    "print(my_cat.speak()) \n"
   ]
  },
  {
   "cell_type": "markdown",
   "metadata": {},
   "source": [
    "### 16. Explain the purpose of the `__init__()` method in Python inheritance and how it is utilized in child classes."
   ]
  },
  {
   "cell_type": "markdown",
   "metadata": {},
   "source": [
    "The __init__() method in Python is a special method, often referred to as a constructor, that is automatically called when an instance of a class is created. This method is used to initialize the attributes and properties of an object. In the context of inheritance, the __init__() method plays a crucial role in both the parent class (superclass) and child class (subclass).\n",
    "\n",
    "Here's the purpose and utilization of the __init__() method in Python inheritance:\n",
    "\n",
    "1. Initialization of Attributes:\n",
    "In the parent class (superclass), the __init__() method is used to initialize the attributes specific to that class. These attributes represent the state or properties of the object. Child classes (subclasses) inherit these attributes, and the __init__() method of the child class can call the parent class's __init__() method using super() to ensure that attributes from the parent class are initialized correctly. The child class can also introduce its own attributes.\n",
    "\n",
    "2. Chaining Constructors:\n",
    "When a child class defines its own __init__() method, it can call the parent class's __init__() method using super() to perform attribute initialization that is common to both the parent and child classes. This allows for code reusability and ensures that the object is properly initialized.\n",
    "\n",
    "3. Customization:\n",
    "In the child class, the __init__() method can be used to customize the object's initialization by adding or modifying attributes that are specific to the child class."
   ]
  },
  {
   "cell_type": "markdown",
   "metadata": {},
   "source": [
    "### 17.  Create a Python class called `Bird` with a method `fly()`. Then, create child classes `Eagle` and `Sparrow` that inherit from `Bird` and implement the `fly()` method differently. Provide an example of using these classes."
   ]
  },
  {
   "cell_type": "code",
   "execution_count": 13,
   "metadata": {},
   "outputs": [
    {
     "name": "stdout",
     "output_type": "stream",
     "text": [
      "Eagle: Eagles can fly at high altitudes with incredible speed.\n",
      "Sparrow: Sparrows fly closer to the ground and with agility, flitting from place to place.\n"
     ]
    }
   ],
   "source": [
    "class Bird:\n",
    "    def fly(self):\n",
    "        return \"Birds can fly, but they fly in various ways.\"\n",
    "\n",
    "class Eagle(Bird):\n",
    "    def fly(self):\n",
    "        return \"Eagles can fly at high altitudes with incredible speed.\"\n",
    "\n",
    "class Sparrow(Bird):\n",
    "    def fly(self):\n",
    "        return \"Sparrows fly closer to the ground and with agility, flitting from place to place.\"\n",
    "\n",
    "eagle = Eagle()\n",
    "sparrow = Sparrow()\n",
    "\n",
    "print(\"Eagle: \" + eagle.fly())\n",
    "print(\"Sparrow: \" + sparrow.fly())\n"
   ]
  },
  {
   "cell_type": "markdown",
   "metadata": {},
   "source": [
    "### 18. What is the \"diamond problem\" in multiple inheritance, and how does Python address it?\n"
   ]
  },
  {
   "cell_type": "markdown",
   "metadata": {},
   "source": [
    "The \"diamond problem\" is a challenge that arises in multiple inheritance when a class inherits from two or more classes that have a common ancestor. This problem is named because the inheritance structure resembles a diamond shape in the class hierarchy. The primary issue with the diamond problem is ambiguity in method or attribute resolution. When a class inherits from multiple classes, and those parent classes share common methods or attributes, it can be unclear which method or attribute should be used when called from the child class.\n",
    "\n",
    "Python addresses the diamond problem through the method resolution order (MRO) and the C3 Linearization algorithm, which is used to determine the order in which the base classes' methods are called. Python's MRO ensures that the method or attribute from the most specific class is chosen first. This helps prevent ambiguity and allows for a predictable behavior when multiple inheritance is used.\n",
    "\n",
    "Example :"
   ]
  },
  {
   "cell_type": "code",
   "execution_count": 14,
   "metadata": {},
   "outputs": [
    {
     "name": "stdout",
     "output_type": "stream",
     "text": [
      "B\n"
     ]
    }
   ],
   "source": [
    "class A:\n",
    "    def show(self):\n",
    "        print(\"A\")\n",
    "\n",
    "class B(A):\n",
    "    def show(self):\n",
    "        print(\"B\")\n",
    "\n",
    "class C(A):\n",
    "    def show(self):\n",
    "        print(\"C\")\n",
    "\n",
    "class D(B, C):\n",
    "    pass\n",
    "\n",
    "d = D()\n",
    "d.show()\n"
   ]
  },
  {
   "cell_type": "markdown",
   "metadata": {},
   "source": [
    "### 19. Discuss the concept of \"is-a\" and \"has-a\" relationships in inheritance, and provide examples of each.\n",
    "\n"
   ]
  },
  {
   "cell_type": "markdown",
   "metadata": {},
   "source": [
    "The concepts of \"is-a\" and \"has-a\" relationships are fundamental in object-oriented programming, and they help define the relationships between classes in an inheritance hierarchy.\n",
    "\n",
    "1. \"Is-a\" Relationship:\n",
    "\n",
    "The \"is-a\" relationship represents inheritance and is typically modeled as a subclass (child class) inheriting from a superclass (parent class). It signifies that an object of the child class is a specialized version of an object of the parent class, sharing common characteristics.\n",
    "Inheritance is used to establish \"is-a\" relationships, where a child class is a type of the parent class.\n",
    "\"Is-a\" relationships are also known as specialization or generalization relationships.\n",
    "\n",
    "Example:"
   ]
  },
  {
   "cell_type": "code",
   "execution_count": 17,
   "metadata": {},
   "outputs": [],
   "source": [
    "class Animal:\n",
    "    pass\n",
    "\n",
    "class Mammal(Animal):\n",
    "    pass\n",
    "\n",
    "class Dog(Mammal):\n",
    "    pass\n"
   ]
  },
  {
   "cell_type": "markdown",
   "metadata": {},
   "source": [
    "2. \"Has-a\" Relationship:\n",
    "\n",
    "The \"has-a\" relationship represents composition or aggregation and is used to model the idea that one class contains or is composed of another class. It signifies that an object of the containing class has an association with an object of the contained class.\n",
    "Composition is used to establish \"has-a\" relationships, where one class has another class as part of its structure.\n",
    "\"Has-a\" relationships are also known as association relationships.\n",
    "\n",
    "Example: "
   ]
  },
  {
   "cell_type": "code",
   "execution_count": 19,
   "metadata": {},
   "outputs": [],
   "source": [
    "class Department:\n",
    "    def __init__(self, name):\n",
    "        self.name = name\n",
    "\n",
    "class Employee:\n",
    "    def __init__(self, name, department):\n",
    "        self.name = name\n",
    "        self.department = department\n",
    "\n",
    "engineering = Department(\"Engineering\")\n",
    "employee1 = Employee(\"Akshay\", engineering)\n"
   ]
  },
  {
   "cell_type": "markdown",
   "metadata": {},
   "source": [
    "### 20. Create a Python class hierarchy for a university system. Start with a base class `Person` and create child  classes `Student` and `Professor`, each with their own attributes and methods. Provide an example of using  these classes in a university context."
   ]
  },
  {
   "cell_type": "code",
   "execution_count": 16,
   "metadata": {},
   "outputs": [
    {
     "name": "stdout",
     "output_type": "stream",
     "text": [
      "University Name: JNTU University\n",
      "Students: 1\n",
      "Professors: 1\n"
     ]
    }
   ],
   "source": [
    "class Person:\n",
    "    def __init__(self, name, age):\n",
    "        self.name = name\n",
    "        self.age = age\n",
    "\n",
    "class Student(Person):\n",
    "    def __init__(self, name, age, student_id):\n",
    "        super().__init__(name, age)\n",
    "        self.student_id = student_id\n",
    "\n",
    "    def study(self):\n",
    "        print(f\"{self.name} is studying.\")\n",
    "\n",
    "class Professor(Person):\n",
    "    def __init__(self, name, age, employee_id):\n",
    "        super().__init__(name, age)\n",
    "        self.employee_id = employee_id\n",
    "\n",
    "    def teach(self, subject):\n",
    "        print(f\"{self.name} is teaching {subject}.\")\n",
    "\n",
    "class University:\n",
    "    def __init__(self, name):\n",
    "        self.name = name\n",
    "        self.students = []\n",
    "        self.professors = []\n",
    "\n",
    "    def enroll_student(self, student):\n",
    "        self.students.append(student)\n",
    "\n",
    "    def hire_professor(self, professor):\n",
    "        self.professors.append(professor)\n",
    "\n",
    "student1 = Student(\"Alice\", 20, \"S12345\")\n",
    "professor1 = Professor(\"Dr. Smith\", 45, \"P9876\")\n",
    "\n",
    "university = University(\"JNTU University\")\n",
    "university.enroll_student(student1)\n",
    "university.hire_professor(professor1)\n",
    "\n",
    "print(f\"University Name: {university.name}\")\n",
    "print(f\"Students: {len(university.students)}\")\n",
    "print(f\"Professors: {len(university.professors)}\")\n"
   ]
  },
  {
   "cell_type": "markdown",
   "metadata": {},
   "source": [
    "# Encapsulation :"
   ]
  },
  {
   "cell_type": "markdown",
   "metadata": {},
   "source": [
    "### 1. Explain the concept of encapsulation in Python. What is its role in object-oriented programming?"
   ]
  },
  {
   "cell_type": "markdown",
   "metadata": {},
   "source": [
    "Encapsulation is one of the fundamental principles of object-oriented programming (OOP) and is used to bundle data (attributes) and the methods (functions) that operate on that data into a single unit called a class. Encapsulation is a way to restrict direct access to some of an object's components, effectively hiding the internal details and exposing a controlled interface for interaction with the object.\n",
    "\n",
    "In Python, encapsulation is achieved through the use of private and protected attributes and methods. Private attributes and methods are indicated by a double underscore prefix, and protected attributes and methods are indicated by a single underscore prefix. These naming conventions act as a form of access control, allowing developers to control how data is accessed and modified.\n",
    "\n",
    "The primary role of encapsulation in object-oriented programming is to provide data protection, improve code maintainability, and promote a clear interface for the class. It helps in hiding the internal complexities and allows you to change the internal implementation without affecting the code that uses the class. Encapsulation is a critical element in achieving data abstraction, reducing the likelihood of unintended errors, and facilitating code organization and modularization."
   ]
  },
  {
   "cell_type": "markdown",
   "metadata": {},
   "source": [
    "### 2. Describe the key principles of encapsulation, including access control and data hiding."
   ]
  },
  {
   "cell_type": "markdown",
   "metadata": {},
   "source": [
    "\n",
    "   1. **Access Control**:\n",
    "      - Public: Attributes and methods accessible from outside the class.\n",
    "      - Protected: Attributes and methods with a single underscore prefix, considered non-public but accessible.\n",
    "      - Private: Attributes and methods with a double underscore prefix, considered strongly non-public and subject to name mangling.\n",
    "\n",
    "   2. **Data Hiding**:\n",
    "      - Encapsulation allows you to hide the internal details of the class, restricting direct access to certain attributes and methods. This means that clients of the class can interact with it through a controlled interface, reducing the risk of unintended changes and errors.\n",
    "\n",
    "   3. **Controlled Access**:\n",
    "      - With encapsulation, you can define methods that provide controlled access to the class's attributes. This means that you can enforce rules, constraints, and validation when interacting with the data, ensuring that it remains consistent and valid.\n",
    "\n",
    "   4. **Modularity and Abstraction**:\n",
    "      - Encapsulation promotes the organization of code into modular and self-contained units (classes), which enhances code maintainability and supports the principle of data abstraction. Data abstraction allows you to focus on what an object does rather than how it does it.\n",
    "\n",
    "   5. **Flexibility and Extensibility**:\n",
    "      - Encapsulation provides a mechanism to encapsulate the implementation details, allowing you to change or extend the class's behavior without affecting external code that uses the class. This enhances code flexibility and extensibility."
   ]
  },
  {
   "cell_type": "markdown",
   "metadata": {},
   "source": [
    "### 3. How can you achieve encapsulation in Python classes? Provide an example."
   ]
  },
  {
   "cell_type": "markdown",
   "metadata": {},
   "source": [
    "Achieving Encapsulation in Python Classes:\n",
    "\n",
    "Encapsulation in Python is primarily achieved through naming conventions and access control, rather than strict access modifiers like some other programming languages. Here's how you can achieve encapsulation in Python classes:\n",
    "\n",
    "1. Naming Conventions:\n",
    "\n",
    "Public Attributes and Methods: No prefix (e.g., attribute, method()).\n",
    "Protected Attributes and Methods: Single underscore prefix (e.g., _attribute, _method()).\n",
    "Private Attributes and Methods: Double underscore prefix (e.g., __attribute, __method()).\n",
    "\n",
    "2. Access Control:\n",
    "\n",
    "Public attributes and methods can be accessed from anywhere, both inside and outside the class.\n",
    "Protected attributes and methods should be considered non-public, but they can still be accessed from outside the class.\n",
    "Private attributes and methods are strongly non-public, and their names are subject to name mangling (e.g., _ClassName__attribute) to make them less accessible from outside the class.\n",
    "\n",
    "Example :"
   ]
  },
  {
   "cell_type": "code",
   "execution_count": 20,
   "metadata": {},
   "outputs": [
    {
     "name": "stdout",
     "output_type": "stream",
     "text": [
      "I'm public\n",
      "I'm a public method\n",
      "I'm protected\n",
      "I'm a protected method\n",
      "I'm private\n",
      "I'm a private method\n"
     ]
    }
   ],
   "source": [
    "class MyClass:\n",
    "    def __init__(self):\n",
    "        \n",
    "        self.public_attribute = \"I'm public\"\n",
    "        self._protected_attribute = \"I'm protected\"\n",
    "\n",
    "        self.__private_attribute = \"I'm private\"\n",
    "\n",
    "    def public_method(self):\n",
    "        return \"I'm a public method\"\n",
    "\n",
    "    def _protected_method(self):\n",
    "        return \"I'm a protected method\"\n",
    "\n",
    "    def __private_method(self):\n",
    "        return \"I'm a private method\"\n",
    "\n",
    "obj = MyClass()\n",
    "\n",
    "print(obj.public_attribute)\n",
    "print(obj.public_method())\n",
    "\n",
    "print(obj._protected_attribute)\n",
    "print(obj._protected_method())\n",
    "\n",
    "print(obj._MyClass__private_attribute)\n",
    "print(obj._MyClass__private_method())\n"
   ]
  },
  {
   "cell_type": "markdown",
   "metadata": {},
   "source": [
    "### 4.   Discuss the difference between public, private, and protected access modifiers in Python."
   ]
  },
  {
   "cell_type": "markdown",
   "metadata": {},
   "source": [
    "\n",
    "\n",
    "In Python, access control is primarily achieved through naming conventions, but there are no strict access modifiers like in some other languages. Here's the difference between public, private, and protected access modifiers in Python:\n",
    "\n",
    "1. Public Attributes and Methods:\n",
    "\n",
    "No prefix.\n",
    "Accessible from anywhere, both inside and outside the class.\n",
    "Commonly used for attributes and methods meant to be part of the class's public interface.\n",
    "Protected Attributes and Methods:\n",
    " \n",
    "2. Private Attributes and Methods:\n",
    "\n",
    "Single underscore prefix (e.g., _attribute or _method()).\n",
    "Not enforced by the language, but considered non-public.\n",
    "Accessible from outside the class but should be treated as non-public and used with caution.\n",
    "Conventionally used to indicate that an attribute or method is intended for internal or limited use.\n",
    "Private Attributes and Methods:\n",
    "\n",
    "3. Protected Attributes and Methods:\n",
    "\n",
    "Double underscore prefix (e.g., __attribute or __method()).\n",
    "Names are subject to name mangling (e.g., _ClassName__attribute).\n",
    "Intended to be strongly non-public.\n",
    "Used to minimize the chance of accidental name clashes and to hide implementation details.\n",
    "\n"
   ]
  },
  {
   "cell_type": "markdown",
   "metadata": {},
   "source": [
    "### 5. Create a Python class called `Person` with a private attribute `__name`. Provide methods to get and set the name attribute."
   ]
  },
  {
   "cell_type": "code",
   "execution_count": 21,
   "metadata": {},
   "outputs": [
    {
     "name": "stdout",
     "output_type": "stream",
     "text": [
      "Current Name: Arjun\n",
      "Updated Name: Rishi\n",
      "Name should be a string.\n"
     ]
    }
   ],
   "source": [
    "class Person:\n",
    "    def __init__(self, name):\n",
    "        self.__name = name\n",
    "\n",
    "    def get_name(self):\n",
    "        return self.__name\n",
    "\n",
    "    def set_name(self, new_name):\n",
    "        if isinstance(new_name, str):\n",
    "            self.__name = new_name\n",
    "        else:\n",
    "            print(\"Name should be a string.\")\n",
    "\n",
    "person = Person(\"Arjun\")\n",
    "\n",
    "current_name = person.get_name()\n",
    "print(\"Current Name:\", current_name)\n",
    "\n",
    "person.set_name(\"Rishi\")\n",
    "\n",
    "new_name = person.get_name()\n",
    "print(\"Updated Name:\", new_name)\n",
    "\n",
    "person.set_name(123) \n"
   ]
  },
  {
   "cell_type": "markdown",
   "metadata": {},
   "source": [
    "### 6.  Explain the purpose of getter and setter methods in encapsulation. Provide examples."
   ]
  },
  {
   "cell_type": "markdown",
   "metadata": {},
   "source": [
    "Getter and setter methods are an important part of encapsulation in object-oriented programming. They are used to control and manage access to class attributes (fields or properties). Here's the purpose of getter and setter methods and examples in Python:\n",
    "\n",
    "Purpose of Getter Methods (Accessors):\n",
    "\n",
    "Getter methods are used to retrieve the values of private or protected attributes. They provide controlled access to the attributes, allowing you to encapsulate the implementation details of the class. This encapsulation is valuable because it ensures that attributes are accessed in a consistent way and allows you to add additional logic, validation, or transformation when getting the attribute.\n",
    "\n",
    "Example of a Getter Method:"
   ]
  },
  {
   "cell_type": "code",
   "execution_count": 22,
   "metadata": {},
   "outputs": [
    {
     "name": "stdout",
     "output_type": "stream",
     "text": [
      "Name: Arohi\n"
     ]
    }
   ],
   "source": [
    "class Person:\n",
    "    def __init__(self, name):\n",
    "        self.__name = name\n",
    "\n",
    "    def get_name(self):\n",
    "        return self.__name\n",
    "\n",
    "person = Person(\"Arohi\")\n",
    "\n",
    "name = person.get_name()\n",
    "print(\"Name:\", name)\n"
   ]
  },
  {
   "cell_type": "markdown",
   "metadata": {},
   "source": [
    "Purpose of Setter Methods (Mutators):\n",
    "\n",
    "Setter methods are used to modify the values of private or protected attributes. They also provide controlled access to attributes, which is useful for encapsulation. Setter methods can include validation checks to ensure that only valid data is assigned to the attributes.\n",
    "\n",
    "Example of a Setter Method:"
   ]
  },
  {
   "cell_type": "code",
   "execution_count": 23,
   "metadata": {},
   "outputs": [
    {
     "name": "stdout",
     "output_type": "stream",
     "text": [
      "Updated Name: Deeksh\n",
      "Name should be a string.\n"
     ]
    }
   ],
   "source": [
    "class Person:\n",
    "    def __init__(self, name):\n",
    "        self.__name = name\n",
    "\n",
    "    def get_name(self):\n",
    "        return self.__name\n",
    "\n",
    "    def set_name(self, new_name):\n",
    "        if isinstance(new_name, str):\n",
    "            self.__name = new_name\n",
    "        else:\n",
    "            print(\"Name should be a string.\")\n",
    "\n",
    "person = Person(\"Ayan\")\n",
    "\n",
    "person.set_name(\"Deeksh\")\n",
    "\n",
    "name = person.get_name()\n",
    "print(\"Updated Name:\", name)\n",
    "\n",
    "person.set_name(123)  "
   ]
  },
  {
   "cell_type": "markdown",
   "metadata": {},
   "source": [
    "### 7. What is name mangling in Python, and how does it affect encapsulation?"
   ]
  },
  {
   "cell_type": "markdown",
   "metadata": {},
   "source": [
    "\n",
    "Name mangling is a mechanism in Python to make the names of attributes in a class more unique by adding a prefix to them. This prefix consists of a double underscore followed by the class name. The purpose of name mangling is to avoid accidental attribute name clashes when a subclass has attributes with the same name as those in its superclass. It is used to make attributes \"private\" in a class, but it does not provide true privacy.\n",
    "\n",
    "Name mangling affects encapsulation in the sense that it makes it more challenging to access and modify private attributes outside the class. However, it is still possible to access name-mangled attributes from outside the class by using the mangled name. Name mangling is more of a convention and a way to reduce the likelihood of unintended attribute name conflicts.\n",
    "\n"
   ]
  },
  {
   "cell_type": "markdown",
   "metadata": {},
   "source": [
    "### 8.  Create a Python class called `BankAccount` with private attributes for the account balance (`__balance`) and account number (`__account_number`). Provide methods for depositing and withdrawing money."
   ]
  },
  {
   "cell_type": "code",
   "execution_count": 24,
   "metadata": {},
   "outputs": [
    {
     "name": "stdout",
     "output_type": "stream",
     "text": [
      "Account Number: 123456\n",
      "Account Balance: 1000.0\n",
      "Deposited $500.0. New balance: $1500.0\n",
      "Withdrew $200.0. New balance: $1300.0\n",
      "Insufficient funds. Cannot withdraw.\n",
      "Invalid deposit amount. Please enter a positive value.\n"
     ]
    }
   ],
   "source": [
    "class BankAccount:\n",
    "    def __init__(self, account_number, initial_balance=0.0):\n",
    "        self.__account_number = account_number\n",
    "        self.__balance = initial_balance\n",
    "\n",
    "    def get_account_number(self):\n",
    "        return self.__account_number\n",
    "\n",
    "    def get_balance(self):\n",
    "        return self.__balance\n",
    "\n",
    "    def deposit(self, amount):\n",
    "        if amount > 0:\n",
    "            self.__balance += amount\n",
    "            print(f\"Deposited ${amount}. New balance: ${self.__balance}\")\n",
    "        else:\n",
    "            print(\"Invalid deposit amount. Please enter a positive value.\")\n",
    "\n",
    "    def withdraw(self, amount):\n",
    "        if amount > 0 and amount <= self.__balance:\n",
    "            self.__balance -= amount\n",
    "            print(f\"Withdrew ${amount}. New balance: ${self.__balance}\")\n",
    "        elif amount > self.__balance:\n",
    "            print(\"Insufficient funds. Cannot withdraw.\")\n",
    "        else:\n",
    "            print(\"Invalid withdrawal amount. Please enter a positive value.\")\n",
    "\n",
    "account = BankAccount(\"123456\", 1000.0)\n",
    "\n",
    "print(\"Account Number:\", account.get_account_number())\n",
    "print(\"Account Balance:\", account.get_balance())\n",
    "\n",
    "account.deposit(500.0)\n",
    "account.withdraw(200.0)\n",
    "account.withdraw(1500.0)  \n",
    "account.deposit(-100.0)  \n"
   ]
  },
  {
   "cell_type": "markdown",
   "metadata": {},
   "source": [
    "### 9. Discuss the advantages of encapsulation in terms of code maintainability and security."
   ]
  },
  {
   "cell_type": "markdown",
   "metadata": {},
   "source": [
    "Encapsulation provides several advantages in terms of code maintainability and security:\n",
    "\n",
    "   1. **Code Maintainability**:\n",
    "      - **Abstraction**: Encapsulation hides the internal details and complexity of a class, allowing you to focus on what an object does rather than how it does it. This abstraction makes code easier to understand and maintain.\n",
    "      - **Modularity**: Classes with encapsulated data and methods are self-contained units. This modular structure simplifies code organization, making it easier to maintain, extend, and debug.\n",
    "      - **Changing Implementation**: Encapsulation allows you to change the internal implementation of a class without affecting the code that uses the class. This supports code maintenance and evolution.\n",
    "\n",
    "   2. **Security**:\n",
    "      - **Data Hiding**: Encapsulation prevents direct access to an object's internal data by making attributes private or protected. This data hiding helps protect the integrity of the data and avoids unintended changes.\n",
    "      - **Access Control**: You can control access to attributes and methods, allowing you to define who can read, write, or modify class members. This control enhances security and minimizes unauthorized access or misuse.\n",
    "\n",
    "   3. **Error Prevention**:\n",
    "      - **Validation**: Encapsulation enables you to include validation checks in setter methods, ensuring that data adheres to specific rules and constraints. This helps prevent invalid or inconsistent data from entering the object's state.\n",
    "      - **Consistency**: Encapsulation enforces a consistent and controlled interface for interacting with objects. This reduces the risk of introducing errors or inconsistencies in the code.\n",
    "\n",
    "   4. **Flexibility and Extensibility**:\n",
    "      - **Adding New Functionality**: You can add new methods or attributes to a class without affecting existing code that uses the class. This promotes code flexibility and extensibility.\n",
    "      - **Inheritance and Polymorphism**: Encapsulation supports inheritance and polymorphism, allowing you to create and use subclasses with ease. Changes to the superclass do not break the derived classes.\n",
    "\n",
    "   5. **Collaboration and Reusability**:\n",
    "      - **Collaboration**: Encapsulation facilitates collaboration in large development teams. Teams can work on individual classes and interfaces without needing to understand the entire codebase.\n",
    "      - **Reusability**: Well-encapsulated classes can be reused in different parts of an application or in entirely different projects, promoting code reusability.\n",
    "\n"
   ]
  },
  {
   "cell_type": "markdown",
   "metadata": {},
   "source": [
    "### 10. How can you access private attributes in Python? Provide an example demonstrating the use of name mangling."
   ]
  },
  {
   "cell_type": "markdown",
   "metadata": {},
   "source": [
    "In Python, private attributes (those with a double underscore prefix, e.g., __attribute) are subject to name mangling to make them less accessible. However, it is still possible to access them directly, although it is generally discouraged and should be avoided whenever possible to maintain encapsulation.\n",
    "\n",
    "Name mangling involves modifying the attribute name by adding a prefix based on the class name, specifically, _<classname>, to make it unique. To access a private attribute, you can use the modified name."
   ]
  },
  {
   "cell_type": "code",
   "execution_count": 25,
   "metadata": {},
   "outputs": [
    {
     "name": "stdout",
     "output_type": "stream",
     "text": [
      "Private Attribute Value: I'm private\n"
     ]
    }
   ],
   "source": [
    "class MyClass:\n",
    "    def __init__(self):\n",
    "        self.__private_attribute = \"I'm private\"\n",
    "\n",
    "obj = MyClass()\n",
    "\n",
    "private_attribute_value = obj._MyClass__private_attribute\n",
    "\n",
    "print(\"Private Attribute Value:\", private_attribute_value)\n"
   ]
  },
  {
   "cell_type": "markdown",
   "metadata": {},
   "source": [
    "### 11.  Create a Python class hierarchy for a school system, including classes for students, teachers, and courses, and implement encapsulation principles to protect sensitive information."
   ]
  },
  {
   "cell_type": "code",
   "execution_count": 26,
   "metadata": {},
   "outputs": [
    {
     "name": "stdout",
     "output_type": "stream",
     "text": [
      "Student Name: Alice\n",
      "Teacher Subject: Science\n",
      "Course Name: Science 202\n",
      "Teacher Name: Ms. Johnson\n",
      "Students in Course: ['Bob']\n"
     ]
    }
   ],
   "source": [
    "class Person:\n",
    "    def __init__(self, name, age, id_number):\n",
    "        self.__name = name\n",
    "        self.__age = age\n",
    "        self.__id_number = id_number\n",
    "\n",
    "    def get_name(self):\n",
    "        return self.__name\n",
    "\n",
    "    def get_age(self):\n",
    "        return self.__age\n",
    "\n",
    "    def get_id_number(self):\n",
    "        return self.__id_number\n",
    "\n",
    "class Student(Person):\n",
    "    def __init__(self, name, age, id_number, student_id, grade):\n",
    "        super().__init__(name, age, id_number)\n",
    "        self.__student_id = student_id\n",
    "        self.__grade = grade\n",
    "\n",
    "    def get_student_id(self):\n",
    "        return self.__student_id\n",
    "\n",
    "    def get_grade(self):\n",
    "        return self.__grade\n",
    "\n",
    "class Teacher(Person):\n",
    "    def __init__(self, name, age, id_number, employee_id, subject):\n",
    "        super().__init__(name, age, id_number)\n",
    "        self.__employee_id = employee_id\n",
    "        self.__subject = subject\n",
    "\n",
    "    def get_employee_id(self):\n",
    "        return self.__employee_id\n",
    "\n",
    "    def get_subject(self):\n",
    "        return self.__subject\n",
    "\n",
    "class Course:\n",
    "    def __init__(self, course_code, course_name, teacher, students=None):\n",
    "        self.__course_code = course_code\n",
    "        self.__course_name = course_name\n",
    "        self.__teacher = teacher\n",
    "        self.__students = students or []\n",
    "\n",
    "    def get_course_code(self):\n",
    "        return self.__course_code\n",
    "\n",
    "    def get_course_name(self):\n",
    "        return self.__course_name\n",
    "\n",
    "    def get_teacher(self):\n",
    "        return self.__teacher\n",
    "\n",
    "    def get_students(self):\n",
    "        return self.__students\n",
    "\n",
    "    def add_student(self, student):\n",
    "        self.__students.append(student)\n",
    "\n",
    "    def remove_student(self, student):\n",
    "        if student in self.__students:\n",
    "            self.__students.remove(student)\n",
    "\n",
    "student1 = Student(\"Alice\", 17, \"S12345\", \"STU001\", 11)\n",
    "student2 = Student(\"Bob\", 18, \"S23456\", \"STU002\", 12)\n",
    "teacher1 = Teacher(\"Dr. Smith\", 35, \"T98765\", \"EMP001\", \"Mathematics\")\n",
    "teacher2 = Teacher(\"Ms. Johnson\", 28, \"T87654\", \"EMP002\", \"Science\")\n",
    "math_course = Course(\"MATH101\", \"Mathematics 101\", teacher1, [student1, student2])\n",
    "science_course = Course(\"SCI202\", \"Science 202\", teacher2, [student2])\n",
    "\n",
    "print(\"Student Name:\", student1.get_name())\n",
    "print(\"Teacher Subject:\", teacher2.get_subject())\n",
    "\n",
    "math_course.add_student(student2)\n",
    "math_course.remove_student(student1)\n",
    "\n",
    "print(\"Course Name:\", science_course.get_course_name())\n",
    "print(\"Teacher Name:\", science_course.get_teacher().get_name())\n",
    "print(\"Students in Course:\", [student.get_name() for student in science_course.get_students()])\n"
   ]
  },
  {
   "cell_type": "markdown",
   "metadata": {},
   "source": [
    "### 12. Explain the concept of property decorators in Python and how they relate to encapsulation."
   ]
  },
  {
   "cell_type": "markdown",
   "metadata": {},
   "source": [
    "Property decorators in Python are a feature that allows you to define special methods (getters, setters, and deleters) for class attributes, making it possible to customize attribute access while still providing a familiar interface for attribute usage. Property decorators relate to encapsulation in the sense that they enable you to control access to attributes in a more Pythonic way by encapsulating the implementation details while providing a clear and consistent interface.\n",
    "\n",
    "There are three main property decorators used in Python:\n",
    "\n",
    "1. @property: This decorator is used to define a method as a getter for a class attribute. When you access the attribute, the method annotated with @property is automatically called. It allows you to customize the behavior of attribute retrieval.\n",
    "\n",
    "2. @<attribute>.setter: This decorator is used to define a method as a setter for a class attribute. It is called when you try to assign a value to the attribute. It allows you to control what happens when the attribute is modified.\n",
    "\n",
    "3. @<attribute>.deleter: This decorator is used to define a method as a deleter for a class attribute. It is called when you try to delete the attribute. It allows you to define custom logic for attribute deletion.\n",
    "\n",
    "Example how property decorators relate to encapsulation:"
   ]
  },
  {
   "cell_type": "code",
   "execution_count": 27,
   "metadata": {},
   "outputs": [
    {
     "name": "stdout",
     "output_type": "stream",
     "text": [
      "Name: Alice\n",
      "Age: 30\n",
      "Name should be a string.\n",
      "Age should be a non-negative integer.\n",
      "Age attribute has been deleted.\n"
     ]
    }
   ],
   "source": [
    "class Person:\n",
    "    def __init__(self, name, age):\n",
    "        self._name = name  \n",
    "        self._age = age    \n",
    "\n",
    "    @property\n",
    "    def name(self):\n",
    "        return self._name\n",
    "\n",
    "    @name.setter\n",
    "    def name(self, new_name):\n",
    "        if isinstance(new_name, str):\n",
    "            self._name = new_name\n",
    "        else:\n",
    "            print(\"Name should be a string.\")\n",
    "\n",
    "    @property\n",
    "    def age(self):\n",
    "        return self._age\n",
    "\n",
    "    @age.setter\n",
    "    def age(self, new_age):\n",
    "        if isinstance(new_age, int) and new_age >= 0:\n",
    "            self._age = new_age\n",
    "        else:\n",
    "            print(\"Age should be a non-negative integer.\")\n",
    "\n",
    "    @age.deleter\n",
    "    def age(self):\n",
    "        print(\"Age attribute has been deleted.\")\n",
    "        self._age = None\n",
    "\n",
    "person = Person(\"Alice\", 30)\n",
    "\n",
    "print(\"Name:\", person.name)\n",
    "print(\"Age:\", person.age)\n",
    "\n",
    "person.name = \"Bob\"\n",
    "person.age = 35\n",
    "\n",
    "person.name = 123  \n",
    "person.age = -5  \n",
    "del person.age  \n"
   ]
  },
  {
   "cell_type": "markdown",
   "metadata": {},
   "source": [
    "### 13. What is data hiding, and why is it important in encapsulation? Provide examples."
   ]
  },
  {
   "cell_type": "markdown",
   "metadata": {},
   "source": [
    "**Data hiding** is an important concept in encapsulation that refers to the practice of restricting direct access to the internal data or attributes of a class. It involves making the attributes of a class private or protected, which means that these attributes are not directly accessible from outside the class. Instead, access is controlled through methods, such as getter and setter methods. Data hiding is a fundamental aspect of encapsulation in object-oriented programming and serves several important purposes:\n",
    "\n",
    "1. **Protection and Security**: Data hiding helps protect the internal data of a class from unauthorized access or modification. This is crucial for maintaining the integrity of the object's state and ensuring that only valid and controlled operations are performed on the data.\n",
    "\n",
    "2. **Abstraction**: Data hiding abstracts the internal details of a class from external code. Abstraction allows you to focus on what an object does (its behavior) rather than how it achieves its behavior (its implementation details). This simplifies the understanding of a class and its usage.\n",
    "\n",
    "3. **Code Maintenance**: By hiding the implementation details of a class, you can modify or refactor the internal structure of the class without affecting the code that uses the class. This promotes code maintainability and allows for updates and improvements without breaking existing code.\n",
    "\n",
    "4. **Validation and Control**: With data hiding, you can provide controlled access to the attributes by using getter and setter methods. These methods can include validation checks to ensure that data adheres to specific rules and constraints before it is accessed or modified.\n"
   ]
  },
  {
   "cell_type": "code",
   "execution_count": 29,
   "metadata": {},
   "outputs": [
    {
     "name": "stdout",
     "output_type": "stream",
     "text": [
      "Invalid withdrawal amount or insufficient funds.\n"
     ]
    }
   ],
   "source": [
    "class BankAccount:\n",
    "    def __init__(self, account_number, initial_balance=0.0):\n",
    "        self.__account_number = account_number \n",
    "        self.__balance = initial_balance  \n",
    "\n",
    "    def get_account_number(self):\n",
    "        return self.__account_number\n",
    "\n",
    "    def get_balance(self):\n",
    "        return self.__balance\n",
    "\n",
    "    def deposit(self, amount):\n",
    "        if amount > 0:\n",
    "            self.__balance += amount\n",
    "        else:\n",
    "            print(\"Invalid deposit amount. Please enter a positive value.\")\n",
    "\n",
    "    def withdraw(self, amount):\n",
    "        if amount > 0 and amount <= self.__balance:\n",
    "            self.__balance -= amount\n",
    "        else:\n",
    "            print(\"Invalid withdrawal amount or insufficient funds.\")\n",
    "\n",
    "account = BankAccount(\"123456\", 1000.0)\n",
    "\n",
    "account_number = account.get_account_number()\n",
    "balance = account.get_balance()\n",
    "account.deposit(500.0)\n",
    "account.withdraw(2000.0)  \n"
   ]
  },
  {
   "cell_type": "markdown",
   "metadata": {},
   "source": [
    "### 14.  Create a Python class called `Employee` with private attributes for salary (`__salary`) and employee ID (`__employee_id`). Provide a method to calculate yearly bonuses."
   ]
  },
  {
   "cell_type": "code",
   "execution_count": 30,
   "metadata": {},
   "outputs": [
    {
     "name": "stdout",
     "output_type": "stream",
     "text": [
      "Yearly Bonus for Employee ID EMP123: $5000.0\n"
     ]
    }
   ],
   "source": [
    "class Employee:\n",
    "    def __init__(self, employee_id, salary):\n",
    "        self.__employee_id = employee_id\n",
    "        self.__salary = salary\n",
    "\n",
    "    def get_employee_id(self):\n",
    "        return self.__employee_id\n",
    "\n",
    "    def get_salary(self):\n",
    "        return self.__salary\n",
    "\n",
    "    def calculate_yearly_bonus(self, bonus_percentage):\n",
    "        if 0 <= bonus_percentage <= 100:\n",
    "            bonus = (bonus_percentage / 100) * self.__salary\n",
    "            return bonus\n",
    "        else:\n",
    "            print(\"Invalid bonus percentage. Please enter a value between 0 and 100.\")\n",
    "\n",
    "employee = Employee(\"EMP123\", 50000)\n",
    "\n",
    "employee_id = employee.get_employee_id()\n",
    "salary = employee.get_salary()\n",
    "bonus_percentage = 10  \n",
    "yearly_bonus = employee.calculate_yearly_bonus(bonus_percentage)\n",
    "if yearly_bonus is not None:\n",
    "    print(f\"Yearly Bonus for Employee ID {employee_id}: ${yearly_bonus}\")\n"
   ]
  },
  {
   "cell_type": "markdown",
   "metadata": {},
   "source": [
    "### 15. Discuss the use of accessors and mutators in encapsulation. How do they help maintain control over attribute access?"
   ]
  },
  {
   "cell_type": "markdown",
   "metadata": {},
   "source": [
    "Accessors and mutators are methods used in encapsulation to control attribute access, retrieve (get) attribute values, and modify (set) attribute values in a controlled way. They help maintain control over attribute access by encapsulating the implementation details of a class while providing a clear and consistent interface. Here's how they work:\n",
    "\n",
    "1. Accessors (Getters): Accessors are methods that provide controlled read-only access to attributes. They allow you to retrieve the values of private attributes. By using accessors, you can perform validation, transformation, or calculations before returning the attribute value. This helps ensure that attribute access is controlled and consistent.\n",
    "\n",
    "2. Mutators (Setters): Mutators are methods that provide controlled write access to attributes. They allow you to modify the values of private attributes. Mutators often include validation checks to ensure that only valid data is assigned to attributes, helping to maintain data integrity."
   ]
  },
  {
   "cell_type": "markdown",
   "metadata": {},
   "source": [
    "### 16. What are the potential drawbacks or disadvantages of using encapsulation in Python?"
   ]
  },
  {
   "cell_type": "markdown",
   "metadata": {},
   "source": [
    "Drawbacks/Disadvantages of Using Encapsulation in Python:\n",
    "While encapsulation provides numerous benefits, it's essential to be aware of potential drawbacks and disadvantages:\n",
    "\n",
    "1. Complexity: Encapsulation can introduce additional complexity to the code, as you need to define getter and setter methods for each attribute. This can make the codebase larger and potentially more challenging to maintain.\n",
    "\n",
    "2. Overhead: Accessing attributes through getter and setter methods can incur a small performance overhead compared to direct attribute access. In most cases, the overhead is negligible, but it's worth considering in performance-critical applications.\n",
    "\n",
    "3. Boilerplate Code: Writing getter and setter methods for every attribute can lead to boilerplate code, especially in classes with many attributes. This can be time-consuming and increase the size of the codebase.\n",
    "\n",
    "4. Limited Flexibility: Overly strict encapsulation can limit the flexibility of your code. For example, it may be challenging to change the implementation of a class or access private attributes in specialized cases.\n",
    "\n",
    "5. Complex Validation Logic: Overly complex validation logic in mutator methods can make code harder to maintain. It's important to strike a balance between validation and simplicity.\n",
    "\n",
    "\n",
    "\n",
    "\n"
   ]
  },
  {
   "cell_type": "markdown",
   "metadata": {},
   "source": [
    "### 17.  Create a Python class for a library system that encapsulates book information, including titles, authors,  and availability status."
   ]
  },
  {
   "cell_type": "code",
   "execution_count": 1,
   "metadata": {},
   "outputs": [
    {
     "name": "stdout",
     "output_type": "stream",
     "text": [
      "List of Books in the Library:\n",
      "The Great Gatsby by F. Scott Fitzgerald - Available\n",
      "To Kill a Mockingbird by Harper Lee - Available\n",
      "1984 by George Orwell - Available\n",
      "\n",
      "Checking out a book:\n",
      "The Great Gatsby by F. Scott Fitzgerald has been checked out.\n",
      "\n",
      "Checking in the book:\n",
      "The Great Gatsby by F. Scott Fitzgerald has been checked in.\n",
      "\n",
      "List of Books in the Library after checking out and checking in:\n",
      "The Great Gatsby by F. Scott Fitzgerald - Available\n",
      "To Kill a Mockingbird by Harper Lee - Available\n",
      "1984 by George Orwell - Available\n"
     ]
    }
   ],
   "source": [
    "class Book:\n",
    "    def __init__(self, title, author):\n",
    "        self.title = title\n",
    "        self.author = author\n",
    "        self.is_available = True\n",
    "\n",
    "    def check_out(self):\n",
    "        if self.is_available:\n",
    "            self.is_available = False\n",
    "            return f\"{self.title} by {self.author} has been checked out.\"\n",
    "        else:\n",
    "            return f\"{self.title} by {self.author} is already checked out.\"\n",
    "\n",
    "    def check_in(self):\n",
    "        if not self.is_available:\n",
    "            self.is_available = True\n",
    "            return f\"{self.title} by {self.author} has been checked in.\"\n",
    "        else:\n",
    "            return f\"{self.title} by {self.author} is already checked in.\"\n",
    "\n",
    "    def __str__(self):\n",
    "        availability = \"Available\" if self.is_available else \"Checked Out\"\n",
    "        return f\"{self.title} by {self.author} - {availability}\"\n",
    "\n",
    "class Library:\n",
    "    def __init__(self):\n",
    "        self.books = []\n",
    "\n",
    "    def add_book(self, title, author):\n",
    "        book = Book(title, author)\n",
    "        self.books.append(book)\n",
    "\n",
    "    def list_books(self):\n",
    "        for book in self.books:\n",
    "            print(book)\n",
    "\n",
    "    def find_book(self, title, author):\n",
    "        for book in self.books:\n",
    "            if book.title == title and book.author == author:\n",
    "                return book\n",
    "        return None\n",
    "\n",
    "if __name__ == \"__main__\":\n",
    "    library = Library()\n",
    "\n",
    "    library.add_book(\"The Great Gatsby\", \"F. Scott Fitzgerald\")\n",
    "    library.add_book(\"To Kill a Mockingbird\", \"Harper Lee\")\n",
    "    library.add_book(\"1984\", \"George Orwell\")\n",
    "\n",
    "    print(\"List of Books in the Library:\")\n",
    "    library.list_books()\n",
    "\n",
    "    print(\"\\nChecking out a book:\")\n",
    "    book = library.find_book(\"The Great Gatsby\", \"F. Scott Fitzgerald\")\n",
    "    if book:\n",
    "        print(book.check_out())\n",
    "    else:\n",
    "        print(\"Book not found in the library.\")\n",
    "\n",
    "    print(\"\\nChecking in the book:\")\n",
    "    if book:\n",
    "        print(book.check_in())\n",
    "\n",
    "    print(\"\\nList of Books in the Library after checking out and checking in:\")\n",
    "    library.list_books()\n"
   ]
  },
  {
   "cell_type": "markdown",
   "metadata": {},
   "source": [
    "### 18.  Explain how encapsulation enhances code reusability and modularity in Python programs."
   ]
  },
  {
   "cell_type": "markdown",
   "metadata": {},
   "source": [
    "Encapsulation enhances code reusability and modularity in Python programs by promoting the creation of self-contained and modular units of code, which can be reused in different parts of the program or even in different projects. Here's how encapsulation contributes to these aspects:\n",
    "\n",
    "   - **Reusability**: Encapsulation allows you to package data and behavior together into classes. These classes can be used as building blocks in different parts of your program or even in other programs. When you encapsulate data and provide well-defined interfaces (e.g., getter and setter methods), other parts of the program can interact with these objects without needing to understand their internal details. This promotes the reuse of code, reducing the need to rewrite similar functionality and saving development time.\n",
    "\n",
    "   - **Modularity**: Encapsulation leads to modular code because each class represents a self-contained module. Modules encapsulate related functionality and data, making the code more organized and easier to manage. These modules can be developed, tested, and maintained independently, simplifying the development process. Modular code is also easier to understand, debug, and extend.\n",
    "\n",
    "   - **Abstraction and Loose Coupling**: Encapsulation encourages the use of abstractions. Abstractions hide implementation details and expose only what's necessary for external code to interact with an object. This abstraction helps create loosely coupled code, where modules are independent and do not rely on intricate knowledge of each other's internal workings. Loose coupling makes it easier to modify or replace one module without affecting others.\n",
    "\n",
    "   - **Encapsulation and Inheritance**: Encapsulation often goes hand in hand with inheritance. Inheritance allows you to build upon existing classes and reuse their functionality in new classes. When encapsulation is used effectively in the parent class, the child classes inherit not only the behavior but also the encapsulation, providing a robust and reusable foundation.\n",
    "\n",
    "   Overall, encapsulation facilitates the creation of reusable, modular, and maintainable code, leading to more efficient software development and easier management of complex projects.\n",
    "\n"
   ]
  },
  {
   "cell_type": "markdown",
   "metadata": {},
   "source": [
    "### 19.  Describe the concept of information hiding in encapsulation. Why is it essential in software development?"
   ]
  },
  {
   "cell_type": "markdown",
   "metadata": {},
   "source": [
    "\n",
    "\n",
    "   Information hiding is a key aspect of encapsulation that involves concealing the internal details and implementation of a class or module while providing a well-defined interface for interaction. It is essential in software development for several reasons:\n",
    "\n",
    "   - **Reduced Complexity**: By hiding implementation details, information hiding reduces the complexity of code. External code does not need to understand or rely on intricate internal workings, making it easier to read and maintain.\n",
    "\n",
    "   - **Abstraction**: Information hiding promotes the use of abstractions, which emphasize what an object does (its behavior) rather than how it achieves it (its implementation). Abstractions simplify the understanding of code and make it more accessible to developers.\n",
    "\n",
    "   - **Modularity**: Information hiding contributes to code modularity. Each module or class encapsulates a specific set of functionality and data, making it self-contained. Modules can be developed and maintained independently, contributing to a modular and organized codebase.\n",
    "\n",
    "   - **Security**: Information hiding enhances security by restricting direct access to internal data. Only the well-defined interface (methods) is accessible, reducing the risk of data corruption, unauthorized changes, or security vulnerabilities.\n",
    "\n",
    "   - **Encapsulation and Inheritance**: Inheritance allows for building new classes based on existing ones. Information hiding ensures that child classes inherit not only the behavior but also the encapsulation. This protects the integrity of the parent class and maintains a clear interface for derived classes.\n",
    "\n",
    "   Information hiding is crucial in software development because it promotes code maintainability, security, and collaboration within development teams. It allows developers to work on individual components without needing to understand the entire codebase, and it simplifies the process of extending or modifying code while minimizing the risk of unintended consequences."
   ]
  },
  {
   "cell_type": "markdown",
   "metadata": {},
   "source": [
    "### 20. Create a Python class called `Customer` with private attributes for customer details like name, address, and contact information. Implement encapsulation to ensure data integrity and security."
   ]
  },
  {
   "cell_type": "code",
   "execution_count": 34,
   "metadata": {},
   "outputs": [
    {
     "name": "stdout",
     "output_type": "stream",
     "text": [
      "Customer Name: John Doe\n",
      "Customer Address: 123 Main St, City\n",
      "Customer Contact Info: johndoe@example.com\n",
      "Updated Contact Info: newemail@example.com\n"
     ]
    }
   ],
   "source": [
    "class Customer:\n",
    "    def __init__(self, name, address, contact_info):\n",
    "        self.__name = name  \n",
    "        self.__address = address \n",
    "        self.__contact_info = contact_info  \n",
    "\n",
    "    def get_name(self):\n",
    "        return self.__name\n",
    "\n",
    "    def get_address(self):\n",
    "        return self.__address\n",
    "\n",
    "    def get_contact_info(self):\n",
    "        return self.__contact_info\n",
    "\n",
    "    def update_contact_info(self, new_contact_info):\n",
    "        if isinstance(new_contact_info, str):\n",
    "            self.__contact_info = new_contact_info\n",
    "        else:\n",
    "            print(\"Invalid contact information. Please provide a valid string.\")\n",
    "\n",
    "customer = Customer(\"John Doe\", \"123 Main St, City\", \"johndoe@example.com\")\n",
    "\n",
    "print(\"Customer Name:\", customer.get_name())\n",
    "print(\"Customer Address:\", customer.get_address())\n",
    "print(\"Customer Contact Info:\", customer.get_contact_info())\n",
    "\n",
    "new_contact_info = \"newemail@example.com\"\n",
    "customer.update_contact_info(new_contact_info)\n",
    "print(\"Updated Contact Info:\", customer.get_contact_info())\n"
   ]
  },
  {
   "cell_type": "markdown",
   "metadata": {},
   "source": [
    "# Polymorphism :"
   ]
  },
  {
   "cell_type": "markdown",
   "metadata": {},
   "source": [
    "### 1. What is polymorphism in Python? Explain how it is related to object-oriented programming."
   ]
  },
  {
   "cell_type": "markdown",
   "metadata": {},
   "source": [
    "Polymorphism is a fundamental concept in object-oriented programming (OOP) that allows objects of different classes to be treated as objects of a common base class. In Python, polymorphism is closely related to the idea of \"one interface, multiple implementations.\"\n",
    "\n",
    "Polymorphism allows you to write code that can work with objects of different classes in a consistent way, as long as those classes share a common interface (such as having the same method names). It promotes code reusability, flexibility, and maintainability. Polymorphism is one of the four fundamental principles of OOP, commonly known as the \"Four Pillars of OOP,\" which also include encapsulation, inheritance, and abstraction.\n",
    "\n",
    "The most common form of polymorphism in Python is method overriding, where a subclass provides a specific implementation of a method defined in its superclass, while adhering to the same method signature. Polymorphism is achieved through inheritance and method overriding, making it an essential component of OOP."
   ]
  },
  {
   "cell_type": "markdown",
   "metadata": {},
   "source": [
    "### 2. Describe the difference between compile-time polymorphism and runtime polymorphism in Python."
   ]
  },
  {
   "cell_type": "markdown",
   "metadata": {},
   "source": [
    "1. Compile-Time Polymorphism (Static Binding):\n",
    "\n",
    "Compile-time polymorphism, also known as static binding or early binding, occurs during the compile phase of a program. It is associated with function or method overloading, where multiple functions or methods have the same name but differ in the number or types of their parameters.\n",
    "\n",
    "2. Runtime Polymorphism (Dynamic Binding):\n",
    "\n",
    "Runtime polymorphism, also known as dynamic binding or late binding, occurs at runtime. It is associated with method overriding, where a subclass provides its specific implementation of a method defined in its superclass. The decision of which method to call is determined at runtime based on the actual type of the object."
   ]
  },
  {
   "cell_type": "markdown",
   "metadata": {},
   "source": [
    "### 3.  Create a Python class hierarchy for shapes (e.g., circle, square, triangle) and demonstrate polymorphism through a common method, such as `calculate_area()`."
   ]
  },
  {
   "cell_type": "code",
   "execution_count": 2,
   "metadata": {},
   "outputs": [
    {
     "name": "stdout",
     "output_type": "stream",
     "text": [
      "Area of Circle: 78.53981633974483\n",
      "Area of Square: 16\n",
      "Area of Triangle: 24.0\n"
     ]
    }
   ],
   "source": [
    "import math\n",
    "\n",
    "class Shape:\n",
    "    def calculate_area(self):\n",
    "        pass\n",
    "\n",
    "class Circle(Shape):\n",
    "    def __init__(self, radius):\n",
    "        self.radius = radius\n",
    "\n",
    "    def calculate_area(self):\n",
    "        return math.pi * self.radius ** 2\n",
    "\n",
    "class Square(Shape):\n",
    "    def __init__(self, side_length):\n",
    "        self.side_length = side_length\n",
    "\n",
    "    def calculate_area(self):\n",
    "        return self.side_length ** 2\n",
    "\n",
    "class Triangle(Shape):\n",
    "    def __init__(self, base, height):\n",
    "        self.base = base\n",
    "        self.height = height\n",
    "\n",
    "    def calculate_area(self):\n",
    "        return 0.5 * self.base * self.height\n",
    "\n",
    "# Create instances of different shapes\n",
    "circle = Circle(5)\n",
    "square = Square(4)\n",
    "triangle = Triangle(6, 8)\n",
    "\n",
    "# Calculate and print the areas of the shapes\n",
    "shapes = [circle, square, triangle]\n",
    "for shape in shapes:\n",
    "    print(f\"Area of {shape.__class__.__name__}: {shape.calculate_area()}\")\n"
   ]
  },
  {
   "cell_type": "markdown",
   "metadata": {},
   "source": [
    "### 4. Explain the concept of method overriding in polymorphism. Provide an example."
   ]
  },
  {
   "cell_type": "markdown",
   "metadata": {},
   "source": [
    "Method overriding is a fundamental concept in polymorphism that allows a subclass to provide a specific implementation of a method that is already defined in its superclass. The overridden method in the subclass has the same name, return type, and parameters as the method in the superclass. Method overriding is a way to provide a more specialized or customized behavior for a particular subclass while adhering to the same method signature.\n",
    "\n",
    "Example:"
   ]
  },
  {
   "cell_type": "code",
   "execution_count": 37,
   "metadata": {},
   "outputs": [
    {
     "name": "stdout",
     "output_type": "stream",
     "text": [
      "Woof!\n",
      "Meow!\n"
     ]
    }
   ],
   "source": [
    "class Animal:\n",
    "    def speak(self):\n",
    "        return \"Animal makes a sound\"\n",
    "\n",
    "class Dog(Animal):\n",
    "    def speak(self):\n",
    "        return \"Woof!\"\n",
    "\n",
    "class Cat(Animal):\n",
    "    def speak(self):\n",
    "        return \"Meow!\"\n",
    "\n",
    "dog = Dog()\n",
    "cat = Cat()\n",
    "\n",
    "print(dog.speak()) \n",
    "print(cat.speak())  \n"
   ]
  },
  {
   "cell_type": "markdown",
   "metadata": {},
   "source": [
    "### 5. How is polymorphism different from method overloading in Python? Provide examples for both."
   ]
  },
  {
   "cell_type": "markdown",
   "metadata": {},
   "source": [
    "\n",
    "Polymorphism:\n",
    "1. Purpose :Polymorphism is a fundamental concept in object-oriented programming that allows objects of different classes to be treated as objects of a common base class. It enables you to call a method on objects of different classes with a common method signature and have each object execute its specific implementation of the method.\n",
    "2. Characteristic: Polymorphism is associated with method overriding, where a subclass provides a specific implementation of a method that is already defined in its superclass. The method name, return type, and parameters must be the same in both the superclass and the subclass.\n",
    "\n",
    "Example:"
   ]
  },
  {
   "cell_type": "code",
   "execution_count": 38,
   "metadata": {},
   "outputs": [],
   "source": [
    "class Shape:\n",
    "    def calculate_area(self):\n",
    "        pass\n",
    "class Circle(Shape):\n",
    "    def calculate_area(self):\n",
    "        return math.pi * self.radius**2\n",
    "class Square(Shape):\n",
    "    def calculate_area(self):\n",
    "        return self.side_length**2\n"
   ]
  },
  {
   "cell_type": "markdown",
   "metadata": {},
   "source": [
    "Method Overloading:\n",
    "\n",
    "1. Purpose: Method overloading allows a class to have multiple methods with the same name but different parameter lists. It enables you to define methods with different behaviors depending on the number or types of arguments passed to them.\n",
    "2. Characteristic: Method overloading is achieved by defining multiple methods with the same name in a class, but differing in terms of the number or types of parameters. The method's behavior depends on the arguments provided when calling the method."
   ]
  },
  {
   "cell_type": "code",
   "execution_count": 39,
   "metadata": {},
   "outputs": [],
   "source": [
    "class MathUtils:\n",
    "    def add(self, a, b):\n",
    "        return a + b\n",
    "    def add(self, a, b, c):\n",
    "        return a + b + c\n"
   ]
  },
  {
   "cell_type": "markdown",
   "metadata": {},
   "source": [
    "### 6.  Create a Python class called `Animal` with a method `speak()`. Then, create child classes like `Dog`, `Cat`, and `Bird`, each with their own `speak()` method. Demonstrate polymorphism by calling the `speak()` method on objects of different subclasses."
   ]
  },
  {
   "cell_type": "code",
   "execution_count": 40,
   "metadata": {},
   "outputs": [
    {
     "name": "stdout",
     "output_type": "stream",
     "text": [
      "Dog says: Woof!\n",
      "Cat says: Meow!\n",
      "Bird says: Chirp!\n"
     ]
    }
   ],
   "source": [
    "class Animal:\n",
    "    def speak(self):\n",
    "        return \"Animal makes a sound\"\n",
    "\n",
    "class Dog(Animal):\n",
    "    def speak(self):\n",
    "        return \"Woof!\"\n",
    "\n",
    "class Cat(Animal):\n",
    "    def speak(self):\n",
    "        return \"Meow!\"\n",
    "\n",
    "class Bird(Animal):\n",
    "    def speak(self):\n",
    "        return \"Chirp!\"\n",
    "\n",
    "dog = Dog()\n",
    "cat = Cat()\n",
    "bird = Bird()\n",
    "\n",
    "print(\"Dog says:\", dog.speak()) \n",
    "print(\"Cat says:\", cat.speak())  \n",
    "print(\"Bird says:\", bird.speak())  \n"
   ]
  },
  {
   "cell_type": "markdown",
   "metadata": {},
   "source": [
    "### 7.  Discuss the use of abstract methods and classes in achieving polymorphism in Python. Provide an example using the `abc` module."
   ]
  },
  {
   "cell_type": "markdown",
   "metadata": {},
   "source": [
    "Abstract methods and classes play a significant role in achieving polymorphism in Python. Abstract methods are methods declared in an abstract base class but have no implementation in the base class itself. Subclasses are required to provide concrete implementations for these abstract methods, ensuring that specific behaviors are defined in each subclass. The abc (Abstract Base Classes) module in Python provides the tools to define abstract classes and methods.\n",
    "\n",
    "Example: "
   ]
  },
  {
   "cell_type": "code",
   "execution_count": 41,
   "metadata": {},
   "outputs": [
    {
     "name": "stdout",
     "output_type": "stream",
     "text": [
      "Dog says: Woof!\n",
      "Cat says: Meow!\n",
      "Bird says: Chirp!\n"
     ]
    }
   ],
   "source": [
    "from abc import ABC, abstractmethod\n",
    "\n",
    "class Animal(ABC):\n",
    "    @abstractmethod\n",
    "    def speak(self):\n",
    "        pass\n",
    "\n",
    "class Dog(Animal):\n",
    "    def speak(self):\n",
    "        return \"Woof!\"\n",
    "\n",
    "class Cat(Animal):\n",
    "    def speak(self):\n",
    "        return \"Meow!\"\n",
    "\n",
    "class Bird(Animal):\n",
    "    def speak(self):\n",
    "        return \"Chirp!\"\n",
    "\n",
    "dog = Dog()\n",
    "cat = Cat()\n",
    "bird = Bird()\n",
    "print(\"Dog says:\", dog.speak()) \n",
    "print(\"Cat says:\", cat.speak())  \n",
    "print(\"Bird says:\", bird.speak())  \n"
   ]
  },
  {
   "cell_type": "markdown",
   "metadata": {},
   "source": [
    "### 8. Create a Python class hierarchy for a vehicle system (e.g., car, bicycle, boat) and implement a polymorphic `start()` method that prints a message specific to each vehicle type."
   ]
  },
  {
   "cell_type": "code",
   "execution_count": 42,
   "metadata": {},
   "outputs": [
    {
     "name": "stdout",
     "output_type": "stream",
     "text": [
      "Car starts the engine and drives.\n",
      "Bicycle starts pedaling.\n",
      "Boat starts the engine and sets sail.\n"
     ]
    }
   ],
   "source": [
    "class Vehicle:\n",
    "    def __init__(self, name):\n",
    "        self.name = name\n",
    "\n",
    "    def start(self):\n",
    "        return f\"{self.name} starts moving.\"\n",
    "\n",
    "class Car(Vehicle):\n",
    "    def start(self):\n",
    "        return f\"{self.name} starts the engine and drives.\"\n",
    "\n",
    "class Bicycle(Vehicle):\n",
    "    def start(self):\n",
    "        return f\"{self.name} starts pedaling.\"\n",
    "\n",
    "class Boat(Vehicle):\n",
    "    def start(self):\n",
    "        return f\"{self.name} starts the engine and sets sail.\"\n",
    "\n",
    "\n",
    "car = Car(\"Car\")\n",
    "bicycle = Bicycle(\"Bicycle\")\n",
    "boat = Boat(\"Boat\")\n",
    "\n",
    "print(car.start())  \n",
    "print(bicycle.start()) \n",
    "print(boat.start())  \n"
   ]
  },
  {
   "cell_type": "markdown",
   "metadata": {},
   "source": [
    "### 9. Explain the significance of the `isinstance()` and `issubclass()` functions in Python polymorphism.\n"
   ]
  },
  {
   "cell_type": "markdown",
   "metadata": {},
   "source": [
    "1. isinstance() Function: The isinstance() function is used to check if an object belongs to a particular class or its subclass. It is significant in polymorphism because it allows you to verify the type of an object before performing operations on it. This is especially useful when you want to handle objects of different classes in a polymorphic way. By using isinstance(), you can determine the appropriate behavior to apply to an object based on its actual type.\n",
    "\n",
    "2. issubclass() Function: The issubclass() function is used to check if a class is a subclass of another class. It is important in polymorphism because it helps you verify class hierarchies and relationships. This can be useful when you want to ensure that a class adheres to a particular interface (e.g., an abstract base class) or when you need to organize and categorize classes in a polymorphic context."
   ]
  },
  {
   "cell_type": "markdown",
   "metadata": {},
   "source": [
    "### 10. What is the role of the `@abstractmethod` decorator in achieving polymorphism in Python? Provide an example."
   ]
  },
  {
   "cell_type": "markdown",
   "metadata": {},
   "source": [
    "The @abstractmethod decorator, provided by the abc (Abstract Base Classes) module in Python, is used to declare abstract methods in abstract base classes. Abstract methods are methods that have no implementation in the base class but must be implemented in concrete subclasses. The @abstractmethod decorator enforces this requirement.\n",
    "\n",
    "The role of @abstractmethod in achieving polymorphism is significant because it allows you to define a common interface for a group of related classes. Subclasses are required to provide specific implementations for the abstract methods, ensuring that they adhere to the same method signatures. This enforces a shared behavior across different classes, facilitating polymorphism.\n",
    "\n",
    "Example:"
   ]
  },
  {
   "cell_type": "code",
   "execution_count": 43,
   "metadata": {},
   "outputs": [],
   "source": [
    "from abc import ABC, abstractmethod\n",
    "\n",
    "class Shape(ABC):\n",
    "    @abstractmethod\n",
    "    def calculate_area(self):\n",
    "        pass\n",
    "\n",
    "class Circle(Shape):\n",
    "    def __init__(self, radius):\n",
    "        self.radius = radius\n",
    "\n",
    "    def calculate_area(self):\n",
    "        return 3.14 * self.radius**2\n",
    "\n",
    "class Square(Shape):\n",
    "    def __init(self, side_length):\n",
    "        self.side_length = side_length\n",
    "\n",
    "    def calculate_area(self):\n",
    "        return self.side_length**2\n"
   ]
  },
  {
   "cell_type": "markdown",
   "metadata": {},
   "source": [
    "###  11. Create a Python class called `Shape` with a polymorphic method `area()` that calculates the area of different shapes (e.g., circle, rectangle, triangle)."
   ]
  },
  {
   "cell_type": "code",
   "execution_count": 44,
   "metadata": {},
   "outputs": [
    {
     "name": "stdout",
     "output_type": "stream",
     "text": [
      "Area of Circle: 78.53981633974483\n",
      "Area of Rectangle: 24\n",
      "Area of Triangle: 20.0\n"
     ]
    }
   ],
   "source": [
    "import math\n",
    "\n",
    "class Shape:\n",
    "    def area(self):\n",
    "        pass\n",
    "\n",
    "class Circle(Shape):\n",
    "    def __init__(self, radius):\n",
    "        self.radius = radius\n",
    "\n",
    "    def area(self):\n",
    "        return math.pi * self.radius**2\n",
    "\n",
    "class Rectangle(Shape):\n",
    "    def __init__(self, width, height):\n",
    "        self.width = width\n",
    "        self.height = height\n",
    "\n",
    "    def area(self):\n",
    "        return self.width * self.height\n",
    "\n",
    "class Triangle(Shape):\n",
    "    def __init__(self, base, height):\n",
    "        self.base = base\n",
    "        self.height = height\n",
    "\n",
    "    def area(self):\n",
    "        return 0.5 * self.base * self.height\n",
    "\n",
    "circle = Circle(5)\n",
    "rectangle = Rectangle(4, 6)\n",
    "triangle = Triangle(5, 8)\n",
    "\n",
    "print(\"Area of Circle:\", circle.area())\n",
    "print(\"Area of Rectangle:\", rectangle.area())\n",
    "print(\"Area of Triangle:\", triangle.area())\n"
   ]
  },
  {
   "cell_type": "markdown",
   "metadata": {},
   "source": [
    "### 12. Discuss the benefits of polymorphism in terms of code reusability and flexibility in Python programs.\n",
    "\n"
   ]
  },
  {
   "cell_type": "markdown",
   "metadata": {},
   "source": [
    "1. Code Reusability: Polymorphism promotes code reusability by allowing you to create a common interface or behavior in a base class and then provide specific implementations in its subclasses. This means you can write code that works with objects of different classes, as long as they adhere to the common interface. As a result, you can reuse the same code to process objects of various types, reducing the need for duplicate code.\n",
    "\n",
    "2. Flexibility: Polymorphism makes your code more flexible and adaptable to changes. It allows you to add new classes and behaviors without modifying existing code. You can extend the functionality of your program by creating new subclasses that conform to the established interface, and your existing code will continue to work with these new classes.\n",
    "\n",
    "3. Enhanced Maintainability: Polymorphism helps in maintaining and extending your codebase. When you need to make changes or updates, you typically only need to focus on the specific implementations in the subclasses. This localized approach to code modification simplifies maintenance, reduces the risk of introducing errors, and enhances code quality.\n",
    "\n",
    "4. Dynamic Behavior: Polymorphism enables dynamic behavior, allowing the appropriate method to be determined at runtime based on the actual type of the object. This dynamic dispatch of methods at runtime is a powerful feature that leads to versatile and customizable code execution."
   ]
  },
  {
   "cell_type": "markdown",
   "metadata": {},
   "source": [
    "### 13. Explain the use of the `super()` function in Python polymorphism. How does it help call methods of parent classes?"
   ]
  },
  {
   "cell_type": "markdown",
   "metadata": {},
   "source": [
    "The super() function is used to call methods of a parent class from a subclass. It is especially useful when you want to extend the behavior of a method in the parent class while still using the functionality provided by the parent class.\n",
    "\n",
    "Calling Parent Class Methods: By using super(), you can call a method in the parent class from the subclass. This is particularly valuable when you want to reuse or extend the behavior of the parent class method in the context of the subclass.\n",
    "\n",
    "1. Method Overriding: It's common to use super() when you override a method in a subclass to ensure that the parent class's implementation is still executed in addition to any extra behavior defined in the subclass.\n",
    "\n",
    "2. Multiple Inheritance: In scenarios with multiple inheritance, super() helps in controlling the order in which parent class methods are called, allowing you to avoid method name conflicts."
   ]
  },
  {
   "cell_type": "markdown",
   "metadata": {},
   "source": [
    "### 14. Create a Python class hierarchy for a banking system with various account types (e.g., savings, checking, credit card) and demonstrate polymorphism by implementing a common `withdraw()` method."
   ]
  },
  {
   "cell_type": "code",
   "execution_count": 45,
   "metadata": {},
   "outputs": [
    {
     "name": "stdout",
     "output_type": "stream",
     "text": [
      "Savings Account: Withdrawn $500. New balance: $500\n",
      "Checking Account: Withdrawn $2500. New balance: $-500\n",
      "Credit Card Account: Exceeds credit limit.\n"
     ]
    }
   ],
   "source": [
    "class BankAccount:\n",
    "    def __init__(self, account_number, balance):\n",
    "        self.account_number = account_number\n",
    "        self.balance = balance\n",
    "\n",
    "    def withdraw(self, amount):\n",
    "        if amount <= self.balance:\n",
    "            self.balance -= amount\n",
    "            return f\"Withdrawn ${amount}. New balance: ${self.balance}\"\n",
    "        else:\n",
    "            return \"Insufficient funds.\"\n",
    "\n",
    "class SavingsAccount(BankAccount):\n",
    "    def __init__(self, account_number, balance, interest_rate):\n",
    "        super().__init__(account_number, balance)\n",
    "        self.interest_rate = interest_rate\n",
    "\n",
    "    def withdraw(self, amount):\n",
    "        return super().withdraw(amount)\n",
    "\n",
    "class CheckingAccount(BankAccount):\n",
    "    def __init__(self, account_number, balance, overdraft_limit):\n",
    "        super().__init__(account_number, balance)\n",
    "        self.overdraft_limit = overdraft_limit\n",
    "\n",
    "    def withdraw(self, amount):\n",
    "        if amount <= self.balance + self.overdraft_limit:\n",
    "            self.balance -= amount\n",
    "            return f\"Withdrawn ${amount}. New balance: ${self.balance}\"\n",
    "        else:\n",
    "            return \"Exceeds overdraft limit.\"\n",
    "\n",
    "class CreditCardAccount(BankAccount):\n",
    "    def __init__(self, account_number, balance, credit_limit):\n",
    "        super().__init__(account_number, balance)\n",
    "        self.credit_limit = credit_limit\n",
    "\n",
    "    def withdraw(self, amount):\n",
    "        if amount <= self.balance + self.credit_limit:\n",
    "            self.balance -= amount\n",
    "            return f\"Withdrawn ${amount}. New balance: ${self.balance}\"\n",
    "        else:\n",
    "            return \"Exceeds credit limit.\"\n",
    "\n",
    "savings_account = SavingsAccount(\"SA001\", 1000, 0.03)\n",
    "checking_account = CheckingAccount(\"CA001\", 2000, 500)\n",
    "credit_card_account = CreditCardAccount(\"CC001\", -1000, 2000)\n",
    "\n",
    "print(\"Savings Account:\", savings_account.withdraw(500))\n",
    "print(\"Checking Account:\", checking_account.withdraw(2500))\n",
    "print(\"Credit Card Account:\", credit_card_account.withdraw(1500))\n"
   ]
  },
  {
   "cell_type": "markdown",
   "metadata": {},
   "source": [
    "### 15.Describe the concept of operator overloading in Python and how it relates to polymorphism. Provide examples using operators like `+` and `*`.\n"
   ]
  },
  {
   "cell_type": "markdown",
   "metadata": {},
   "source": [
    "Operator Overloading: Operator overloading is a feature in Python that allows you to define how operators (e.g., +, -, *, /, etc.) behave for objects of user-defined classes. By overloading operators, you can specify custom behaviors for these operators when applied to instances of your classes.\n",
    "\n",
    "Relation to Polymorphism: Operator overloading is closely related to polymorphism. When you overload operators for different classes, you can achieve polymorphic behavior by using these operators with instances of different classes. This means that the same operator can perform different operations depending on the actual types of the objects it operates on, leading to polymorphic behavior.\n",
    "\n",
    "Example using the + and * operator:"
   ]
  },
  {
   "cell_type": "code",
   "execution_count": 47,
   "metadata": {},
   "outputs": [
    {
     "name": "stdout",
     "output_type": "stream",
     "text": [
      "Result of addition: 4 + 6i\n",
      "Result of multiplication: -5 + 10i\n"
     ]
    }
   ],
   "source": [
    "class ComplexNumber:\n",
    "    def __init__(self, real, imag):\n",
    "        self.real = real\n",
    "        self.imag = imag\n",
    "\n",
    "    def __add__(self, other):\n",
    "        real_sum = self.real + other.real\n",
    "        imag_sum = self.imag + other.imag\n",
    "        return ComplexNumber(real_sum, imag_sum)\n",
    "\n",
    "    def __mul__(self, other):\n",
    "        real_product = self.real * other.real - self.imag * other.imag\n",
    "        imag_product = self.real * other.imag + self.imag * other.real\n",
    "        return ComplexNumber(real_product, imag_product)\n",
    "\n",
    "    def __str__(self):\n",
    "        return f\"{self.real} + {self.imag}i\"\n",
    "\n",
    "num1 = ComplexNumber(3, 4)\n",
    "num2 = ComplexNumber(1, 2)\n",
    "\n",
    "result_add = num1 + num2  \n",
    "result_mul = num1 * num2  \n",
    "\n",
    "print(\"Result of addition:\", result_add)  \n",
    "print(\"Result of multiplication:\", result_mul)  \n",
    "\n"
   ]
  },
  {
   "cell_type": "markdown",
   "metadata": {},
   "source": [
    "### 16. What is dynamic polymorphism, and how is it achieved in Python?"
   ]
  },
  {
   "cell_type": "markdown",
   "metadata": {},
   "source": [
    "1. Dynamic Polymorphism: Dynamic polymorphism, also known as runtime polymorphism, is a form of polymorphism where the method that is executed is determined at runtime, based on the actual type of the object. In Python, dynamic polymorphism is achieved through method overriding and the use of inheritance.\n",
    "\n",
    "2. Method Overriding: In dynamic polymorphism, a subclass provides a specific implementation for a method that is already defined in its superclass. The method in the subclass has the same name and parameters as the method in the superclass, but it provides a different implementation. When you call the method on an object, the implementation executed is based on the actual type of the object.\n",
    "\n"
   ]
  },
  {
   "cell_type": "markdown",
   "metadata": {},
   "source": [
    "### 17.  Create a Python class hierarchy for employees in a company (e.g., manager, developer, designer) and implement polymorphism through a common `calculate_salary()` method."
   ]
  },
  {
   "cell_type": "code",
   "execution_count": 48,
   "metadata": {},
   "outputs": [
    {
     "name": "stdout",
     "output_type": "stream",
     "text": [
      "John Smith's Salary: $70000\n",
      "Alice Johnson's Salary: $8000\n",
      "Bob Davis's Salary: $5500\n"
     ]
    }
   ],
   "source": [
    "class Employee:\n",
    "    def __init__(self, name, employee_id):\n",
    "        self.name = name\n",
    "        self.employee_id = employee_id\n",
    "\n",
    "    def calculate_salary(self):\n",
    "        pass\n",
    "\n",
    "class Manager(Employee):\n",
    "    def __init__(self, name, employee_id, base_salary, bonus):\n",
    "        super().__init__(name, employee_id)\n",
    "        self.base_salary = base_salary\n",
    "        self.bonus = bonus\n",
    "\n",
    "    def calculate_salary(self):\n",
    "        return self.base_salary + self.bonus\n",
    "\n",
    "class Developer(Employee):\n",
    "    def __init__(self, name, employee_id, hourly_rate, hours_worked):\n",
    "        super().__init__(name, employee_id)\n",
    "        self.hourly_rate = hourly_rate\n",
    "        self.hours_worked = hours_worked\n",
    "\n",
    "    def calculate_salary(self):\n",
    "        return self.hourly_rate * self.hours_worked\n",
    "\n",
    "class Designer(Employee):\n",
    "    def __init__(self, name, employee_id, monthly_salary):\n",
    "        super().__init__(name, employee_id)\n",
    "        self.monthly_salary = monthly_salary\n",
    "\n",
    "    def calculate_salary(self):\n",
    "        return self.monthly_salary\n",
    "\n",
    "manager = Manager(\"John Smith\", 101, 60000, 10000)\n",
    "developer = Developer(\"Alice Johnson\", 102, 50, 160)\n",
    "designer = Designer(\"Bob Davis\", 103, 5500)\n",
    "\n",
    "print(f\"{manager.name}'s Salary: ${manager.calculate_salary()}\")\n",
    "print(f\"{developer.name}'s Salary: ${developer.calculate_salary()}\")\n",
    "print(f\"{designer.name}'s Salary: ${designer.calculate_salary()}\")\n"
   ]
  },
  {
   "cell_type": "markdown",
   "metadata": {},
   "source": [
    "### 18. Discuss the concept of function pointers and how they can be used to achieve polymorphism in Python.\n",
    "\n"
   ]
  },
  {
   "cell_type": "markdown",
   "metadata": {},
   "source": [
    "In Python, the concept of function pointers is not as explicit as in some other languages like C or C++. However, you can achieve polymorphism by using higher-order functions and passing functions as arguments to other functions. This is often referred to as \"polymorphism through functions\" or \"function-based polymorphism.\""
   ]
  },
  {
   "cell_type": "markdown",
   "metadata": {},
   "source": [
    "### 19. Explain the role of interfaces and abstract classes in polymorphism, drawing comparisons between them."
   ]
  },
  {
   "cell_type": "markdown",
   "metadata": {},
   "source": [
    "Both interfaces and abstract classes play important roles in achieving polymorphism by defining a common interface that multiple classes must adhere to. However, they have some key differences:\n",
    "\n",
    "1. Abstract Classes:\n",
    "\n",
    "Abstract classes in Python are classes that cannot be instantiated on their own. They are meant to be subclassed.\n",
    "Abstract classes can include both concrete methods with implementations and abstract methods that have no implementation in the base class.\n",
    "Subclasses of an abstract class are required to provide implementations for all abstract methods, ensuring that they conform to a specific interface.\n",
    "Abstract classes in Python are created using the abc module, and the @abstractmethod decorator is used to declare abstract methods.\n",
    "\n",
    "\n",
    "2. Interfaces:\n",
    "\n",
    "In Python, interfaces are not explicitly defined as a language construct. Instead, they are often implemented using abstract base classes (ABCs) with only abstract methods.\n",
    "Interfaces are contracts that specify a set of methods that must be implemented by classes that claim to adhere to the interface.\n",
    "Python does not enforce interfaces as strictly as some other languages do; adherence to an interface is more of a convention and documentation than a language feature.\n",
    "In both cases, interfaces and abstract classes serve as a way to define a shared interface that multiple classes can implement. When you use interfaces or abstract classes, you promote code consistency, make it easier to understand and extend the code, and enable polymorphism by allowing different objects to adhere to the same interface.\n",
    "\n"
   ]
  },
  {
   "cell_type": "markdown",
   "metadata": {},
   "source": [
    "### 20. Create a Python class for a zoo simulation, demonstrating polymorphism with different animal types (e.g., mammals, birds, reptiles) and their behavior (e.g., eating, sleeping, making sounds)."
   ]
  },
  {
   "cell_type": "code",
   "execution_count": 49,
   "metadata": {},
   "outputs": [
    {
     "name": "stdout",
     "output_type": "stream",
     "text": [
      "Simba the mammal is eating.\n",
      "Simba the mammal is sleeping.\n",
      "Simba the mammal makes a sound.\n",
      "Polly the bird is eating.\n",
      "Polly the bird is sleeping.\n",
      "Polly the bird makes a chirping sound.\n",
      "Nagini the reptile is eating.\n",
      "Nagini the reptile is basking in the sun.\n",
      "Nagini the reptile makes a hissing sound.\n"
     ]
    }
   ],
   "source": [
    "class Animal:\n",
    "    def __init__(self, name):\n",
    "        self.name = name\n",
    "\n",
    "    def eat(self):\n",
    "        pass\n",
    "\n",
    "    def sleep(self):\n",
    "        pass\n",
    "\n",
    "    def make_sound(self):\n",
    "        pass\n",
    "\n",
    "class Mammal(Animal):\n",
    "    def eat(self):\n",
    "        return f\"{self.name} the mammal is eating.\"\n",
    "\n",
    "    def sleep(self):\n",
    "        return f\"{self.name} the mammal is sleeping.\"\n",
    "\n",
    "    def make_sound(self):\n",
    "        return f\"{self.name} the mammal makes a sound.\"\n",
    "\n",
    "class Bird(Animal):\n",
    "    def eat(self):\n",
    "        return f\"{self.name} the bird is eating.\"\n",
    "\n",
    "    def sleep(self):\n",
    "        return f\"{self.name} the bird is sleeping.\"\n",
    "\n",
    "    def make_sound(self):\n",
    "        return f\"{self.name} the bird makes a chirping sound.\"\n",
    "\n",
    "class Reptile(Animal):\n",
    "    def eat(self):\n",
    "        return f\"{self.name} the reptile is eating.\"\n",
    "\n",
    "    def sleep(self):\n",
    "        return f\"{self.name} the reptile is basking in the sun.\"\n",
    "\n",
    "    def make_sound(self):\n",
    "        return f\"{self.name} the reptile makes a hissing sound.\"\n",
    "\n",
    "lion = Mammal(\"Simba\")\n",
    "parrot = Bird(\"Polly\")\n",
    "snake = Reptile(\"Nagini\")\n",
    "\n",
    "\n",
    "print(lion.eat())\n",
    "print(lion.sleep())\n",
    "print(lion.make_sound())\n",
    "\n",
    "print(parrot.eat())\n",
    "print(parrot.sleep())\n",
    "print(parrot.make_sound())\n",
    "\n",
    "print(snake.eat())\n",
    "print(snake.sleep())\n",
    "print(snake.make_sound())\n"
   ]
  },
  {
   "cell_type": "markdown",
   "metadata": {},
   "source": [
    "# Abstraction :"
   ]
  },
  {
   "cell_type": "markdown",
   "metadata": {},
   "source": [
    "### 1. What is abstraction in Python, and how does it relate to object-oriented programming?\n",
    "\n"
   ]
  },
  {
   "cell_type": "markdown",
   "metadata": {},
   "source": [
    "\n",
    "\n",
    "   Abstraction is a fundamental concept in object-oriented programming (OOP) that allows you to simplify complex systems by modeling them at a higher level of abstraction. In Python, abstraction involves hiding the complex implementation details of an object or system and exposing only the essential features and functionalities. It is a way to focus on what an object does rather than how it does it.\n",
    "\n",
    "   Key points related to abstraction in Python and OOP:\n",
    "\n",
    "   - **Classes and Objects**: In Python, classes serve as a blueprint for creating objects. They define the structure and behavior of objects. Abstraction allows you to create classes that encapsulate the essential properties and methods, hiding the internal details.\n",
    "\n",
    "   - **Encapsulation**: Abstraction often goes hand in hand with encapsulation. Encapsulation is the concept of bundling the data (attributes) and methods that operate on that data within a class. This protects the data from external access and modification.\n",
    "\n",
    "   - **Interfaces**: Abstraction can be achieved through interfaces and abstract classes, where you define a set of methods that subclasses must implement. These methods serve as a contract that defines what an object should do without specifying how it does it.\n",
    "\n",
    "   - **Reducing Complexity**: Abstraction helps in managing complexity by breaking down a system into smaller, manageable parts. It provides a way to think about a system's components in isolation, making it easier to design, implement, and maintain software.\n",
    "\n",
    "   - **Focus on Behavior**: Abstraction allows you to focus on the behavior of objects or systems without getting bogged down in implementation details. This promotes a clear separation of concerns in your code.\n",
    "\n"
   ]
  },
  {
   "cell_type": "markdown",
   "metadata": {},
   "source": [
    "### 2. Describe the benefits of abstraction in terms of code organization and complexity reduction."
   ]
  },
  {
   "cell_type": "markdown",
   "metadata": {},
   "source": [
    "\n",
    "\n",
    "   Abstraction offers several advantages in terms of code organization and complexity reduction:\n",
    "\n",
    "   - **Simplifies Understanding**: Abstraction simplifies the understanding of complex systems by allowing you to view them at a higher level. Users of an object or system can interact with it based on its public interface, without needing to understand its internal complexities.\n",
    "\n",
    "   - **Modular Design**: Abstraction facilitates a modular design, where each component or object can be developed, tested, and maintained independently. This modularity improves code organization and allows for easier code reuse.\n",
    "\n",
    "   - **Ease of Maintenance**: With abstraction, changes to the internal implementation of an object or system can be made without affecting the external code that uses it. This separation of concerns simplifies maintenance and reduces the risk of introducing bugs.\n",
    "\n",
    "   - **Scalability**: Abstraction allows you to add new features or components to a system without disrupting existing functionality. It promotes scalability by isolating changes to specific areas of the codebase.\n",
    "\n",
    "   - **Code Reusability**: Abstraction encourages the creation of reusable components, such as classes and libraries, which can be used in different parts of a program or in different projects.\n",
    "\n",
    "   - **Improves Collaboration**: In team development, abstraction provides a clear way to communicate and collaborate. Developers can work on different components with well-defined interfaces, and these components can be integrated without a deep understanding of each other's implementations.\n"
   ]
  },
  {
   "cell_type": "markdown",
   "metadata": {},
   "source": [
    "### 3. Create a Python class called `Shape` with an abstract method `calculate_area()`. Then, create child classes (e.g., `Circle`, `Rectangle`) that implement the `calculate_area()` method. Provide an example of using these classes."
   ]
  },
  {
   "cell_type": "code",
   "execution_count": 50,
   "metadata": {},
   "outputs": [
    {
     "name": "stdout",
     "output_type": "stream",
     "text": [
      "Area of the circle: 78.5 square units\n",
      "Area of the rectangle: 24 square units\n"
     ]
    }
   ],
   "source": [
    "from abc import ABC, abstractmethod\n",
    "\n",
    "class Shape(ABC):\n",
    "    @abstractmethod\n",
    "    def calculate_area(self):\n",
    "        pass\n",
    "\n",
    "class Circle(Shape):\n",
    "    def __init__(self, radius):\n",
    "        self.radius = radius\n",
    "\n",
    "    def calculate_area(self):\n",
    "        return 3.14 * self.radius ** 2\n",
    "\n",
    "class Rectangle(Shape):\n",
    "    def __init__(self, width, height):\n",
    "        self.width = width\n",
    "        self.height = height\n",
    "\n",
    "    def calculate_area(self):\n",
    "        return self.width * self.height\n",
    "\n",
    "circle = Circle(5)\n",
    "rectangle = Rectangle(4, 6)\n",
    "\n",
    "print(f\"Area of the circle: {circle.calculate_area()} square units\")\n",
    "print(f\"Area of the rectangle: {rectangle.calculate_area()} square units\")\n"
   ]
  },
  {
   "cell_type": "markdown",
   "metadata": {},
   "source": [
    "### 4. Explain the concept of abstract classes in Python and how they are defined using the `abc` module. Provide an example."
   ]
  },
  {
   "cell_type": "markdown",
   "metadata": {},
   "source": [
    "Abstract classes in Python are classes that cannot be instantiated on their own and are meant to be subclassed. They can contain abstract methods, which are methods declared but have no implementation in the base class. Abstract classes are typically used to define a common interface that derived classes must adhere to.\n",
    "\n",
    "To create abstract classes and abstract methods in Python, you can use the abc (Abstract Base Classes) module, which provides the ABC class and the @abstractmethod decorator. Here's an example:"
   ]
  },
  {
   "cell_type": "code",
   "execution_count": 51,
   "metadata": {},
   "outputs": [
    {
     "name": "stdout",
     "output_type": "stream",
     "text": [
      "This is the implementation of the abstract method.\n"
     ]
    }
   ],
   "source": [
    "from abc import ABC, abstractmethod\n",
    "\n",
    "class MyAbstractClass(ABC):\n",
    "    @abstractmethod\n",
    "    def abstract_method(self):\n",
    "        pass\n",
    "\n",
    "class ConcreteClass(MyAbstractClass):\n",
    "    def abstract_method(self):\n",
    "        return \"This is the implementation of the abstract method.\"\n",
    "\n",
    "my_instance = ConcreteClass()\n",
    "result = my_instance.abstract_method()\n",
    "print(result)\n"
   ]
  },
  {
   "cell_type": "markdown",
   "metadata": {},
   "source": [
    "### 5. How do abstract classes differ from regular classes in Python? Discuss their use cases."
   ]
  },
  {
   "cell_type": "markdown",
   "metadata": {},
   "source": [
    "Differences Between Abstract Classes and Regular Classes:\n",
    "\n",
    "Abstract classes in Python differ from regular classes in the following ways:\n",
    "\n",
    "Instantiation: Abstract classes cannot be instantiated directly. You cannot create objects of an abstract class, while you can create objects of regular (concrete) classes.\n",
    "\n",
    "Abstract Methods: Abstract classes can define abstract methods using the @abstractmethod decorator, which means these methods have no implementation in the abstract class and must be implemented in concrete subclasses. Regular classes do not have this requirement.\n",
    "\n",
    "Common Interface: Abstract classes are often used to define a common interface or contract that concrete subclasses must adhere to. Regular classes are used to create objects with complete implementations.\n",
    "\n",
    "Use Cases:\n",
    "\n",
    "Abstract Classes: Abstract classes are used when you want to define a common interface for a group of related classes. They are useful when you want to ensure that specific methods are implemented in all subclasses. For example, when designing a framework or library, you may use abstract classes to specify the required behavior for plugins or extensions.\n",
    "\n",
    "Regular Classes: Regular classes are used to create concrete objects with complete implementations. These classes are instantiated directly and can be used to model real-world entities or components in your application.\n",
    "\n",
    "Abstract classes are a valuable tool for enforcing a consistent interface across a family of related classes and ensuring that essential methods are implemented in each subclass.\n",
    "\n",
    "\n",
    "\n",
    "\n",
    "\n"
   ]
  },
  {
   "cell_type": "markdown",
   "metadata": {},
   "source": [
    "### 6.  Create a Python class for a bank account and demonstrate abstraction by hiding the account balance and providing methods to deposit and withdraw funds."
   ]
  },
  {
   "cell_type": "code",
   "execution_count": 52,
   "metadata": {},
   "outputs": [
    {
     "name": "stdout",
     "output_type": "stream",
     "text": [
      "Savings Account Balance: $500\n",
      "Current Account Balance: $1000\n"
     ]
    }
   ],
   "source": [
    "from abc import ABC, abstractmethod\n",
    "\n",
    "class BankAccount(ABC):\n",
    "    def __init__(self, account_number, account_holder):\n",
    "        self.account_number = account_number\n",
    "        self.account_holder = account_holder\n",
    "        self._balance = 0  \n",
    "\n",
    "    @abstractmethod\n",
    "    def deposit(self, amount):\n",
    "        pass\n",
    "\n",
    "    @abstractmethod\n",
    "    def withdraw(self, amount):\n",
    "        pass\n",
    "\n",
    "    def get_balance(self):\n",
    "        return self._balance\n",
    "\n",
    "class SavingsAccount(BankAccount):\n",
    "    def deposit(self, amount):\n",
    "        if amount > 0:\n",
    "            self._balance += amount\n",
    "\n",
    "    def withdraw(self, amount):\n",
    "        if amount > 0 and self._balance >= amount:\n",
    "            self._balance -= amount\n",
    "\n",
    "class CurrentAccount(BankAccount):\n",
    "    def deposit(self, amount):\n",
    "        if amount > 0:\n",
    "            self._balance += amount\n",
    "\n",
    "    def withdraw(self, amount):\n",
    "        if amount > 0 and self._balance >= amount:\n",
    "            self._balance -= amount\n",
    "\n",
    "savings_account = SavingsAccount(\"SA12345\", \"Alice\")\n",
    "\n",
    "savings_account.deposit(1000)\n",
    "savings_account.withdraw(500)\n",
    "\n",
    "savings_balance = savings_account.get_balance()\n",
    "print(f\"Savings Account Balance: ${savings_balance}\")\n",
    "\n",
    "current_account = CurrentAccount(\"CA67890\", \"Bob\")\n",
    "\n",
    "\n",
    "current_account.deposit(2000)\n",
    "current_account.withdraw(1000)\n",
    "\n",
    "current_balance = current_account.get_balance()\n",
    "print(f\"Current Account Balance: ${current_balance}\")\n"
   ]
  },
  {
   "cell_type": "markdown",
   "metadata": {},
   "source": [
    "### 7.  Discuss the concept of interface classes in Python and their role in achieving abstraction."
   ]
  },
  {
   "cell_type": "markdown",
   "metadata": {},
   "source": [
    "In Python, \"interface classes\" are not a built-in language feature like in some other programming languages (e.g., Java, C#) where you can define interfaces explicitly. Instead, Python typically uses abstract classes and abstract methods, often achieved using the `abc` (Abstract Base Classes) module, to serve a similar purpose. However, the concept of interface classes in Python can be simulated by using abstract classes with abstract methods.\n",
    "\n",
    "Here's how abstract classes with abstract methods serve a role similar to interface classes in achieving abstraction in Python:\n",
    "\n",
    "1. **Abstract Classes**:\n",
    "   - Abstract classes are classes that cannot be instantiated on their own and are meant to be subclassed.\n",
    "   - They may contain a mix of abstract methods (methods without implementation) and concrete methods (methods with implementation).\n",
    "   - Abstract methods declared in an abstract class serve as a contract that derived classes must adhere to by providing implementations.\n",
    "\n",
    "2. **Abstract Methods**:\n",
    "   - Abstract methods are methods declared in an abstract class without any implementation.\n",
    "   - They are defined using the `@abstractmethod` decorator from the `abc` module, indicating that the method should be overridden in derived classes.\n",
    "\n",
    "3. **Role in Achieving Abstraction**:\n",
    "   - Abstract classes in Python act as a way to define a common interface or a set of methods that derived classes must implement. These methods collectively define the contract or interface of the abstract class.\n",
    "   - Derived classes are required to provide implementations for all the abstract methods, ensuring that they adhere to the defined interface.\n",
    "   - This allows for a level of abstraction where you can work with objects based on their interface without needing to know the specifics of each implementation.\n",
    "\n"
   ]
  },
  {
   "cell_type": "markdown",
   "metadata": {},
   "source": [
    "### 8.  Create a Python class hierarchy for animals and implement abstraction by defining common methods (e.g., `eat()`, `sleep()`) in an abstract base class."
   ]
  },
  {
   "cell_type": "code",
   "execution_count": 53,
   "metadata": {},
   "outputs": [
    {
     "name": "stdout",
     "output_type": "stream",
     "text": [
      "Simba the mammal is eating.\n",
      "Simba the mammal is sleeping.\n",
      "Polly the bird is eating.\n",
      "Polly the bird is sleeping.\n",
      "Nagini the reptile is eating.\n",
      "Nagini the reptile is basking in the sun.\n"
     ]
    }
   ],
   "source": [
    "from abc import ABC, abstractmethod\n",
    "\n",
    "class Animal(ABC):\n",
    "    def __init__(self, name):\n",
    "        self.name = name\n",
    "\n",
    "    @abstractmethod\n",
    "    def eat(self):\n",
    "        pass\n",
    "\n",
    "    @abstractmethod\n",
    "    def sleep(self):\n",
    "        pass\n",
    "\n",
    "class Mammal(Animal):\n",
    "    def eat(self):\n",
    "        return f\"{self.name} the mammal is eating.\"\n",
    "\n",
    "    def sleep(self):\n",
    "        return f\"{self.name} the mammal is sleeping.\"\n",
    "\n",
    "class Bird(Animal):\n",
    "    def eat(self):\n",
    "        return f\"{self.name} the bird is eating.\"\n",
    "\n",
    "    def sleep(self):\n",
    "        return f\"{self.name} the bird is sleeping.\"\n",
    "\n",
    "class Reptile(Animal):\n",
    "    def eat(self):\n",
    "        return f\"{self.name} the reptile is eating.\"\n",
    "\n",
    "    def sleep(self):\n",
    "        return f\"{self.name} the reptile is basking in the sun.\"\n",
    "\n",
    "lion = Mammal(\"Simba\")\n",
    "parrot = Bird(\"Polly\")\n",
    "snake = Reptile(\"Nagini\")\n",
    "\n",
    "print(lion.eat())\n",
    "print(lion.sleep())\n",
    "\n",
    "print(parrot.eat())\n",
    "print(parrot.sleep())\n",
    "\n",
    "print(snake.eat())\n",
    "print(snake.sleep())\n"
   ]
  },
  {
   "cell_type": "markdown",
   "metadata": {},
   "source": [
    "### 9. Explain the significance of encapsulation in achieving abstraction. Provide examples."
   ]
  },
  {
   "cell_type": "markdown",
   "metadata": {},
   "source": [
    "\n",
    "\n",
    "   Encapsulation and abstraction are closely related concepts in object-oriented programming. Encapsulation involves bundling data (attributes) and methods (functions) that operate on that data into a single unit, a class. The data is typically hidden from external access, and access to it is controlled through methods. This is significant in achieving abstraction for the following reasons:\n",
    "\n",
    "   - **Hiding Implementation Details**: Encapsulation allows you to hide the internal implementation details of a class from external code. This means that the specifics of how data is stored and manipulated are hidden from users of the class. This is crucial in achieving abstraction because it enables users to interact with the class based on its public interface without being concerned with the underlying details.\n",
    "\n",
    "   - **Exposing a Controlled Interface**: Encapsulation provides a controlled and well-defined interface to interact with an object. Users of the class can access and manipulate the object's data only through the methods provided by the class. This interface defines the abstraction, as it specifies what can be done with the object and how it can be done.\n",
    "\n",
    "   - **Maintaining Data Integrity**: Encapsulation allows the class to maintain data integrity by controlling how data is modified. Data can be validated, manipulated, and protected from external misuse. Abstraction ensures that data is accessed and modified in a controlled and consistent manner.\n",
    "\n",
    "   - **Ease of Maintenance**: Encapsulation promotes modular design and code organization. If changes are needed to the internal implementation of a class, these changes can be made without affecting external code that relies on the class's interface. This separation of concerns simplifies maintenance and promotes code modularity.\n",
    "\n",
    "   Here's a simple example demonstrating encapsulation and abstraction:\n"
   ]
  },
  {
   "cell_type": "code",
   "execution_count": 54,
   "metadata": {},
   "outputs": [
    {
     "name": "stdout",
     "output_type": "stream",
     "text": [
      "Current balance: $1200\n"
     ]
    }
   ],
   "source": [
    "\n",
    "   class BankAccount:\n",
    "       def __init__(self, account_number, balance):\n",
    "           self.account_number = account_number\n",
    "           self._balance = balance  # Protected attribute\n",
    "\n",
    "       def deposit(self, amount):\n",
    "           if amount > 0:\n",
    "               self._balance += amount\n",
    "\n",
    "       def withdraw(self, amount):\n",
    "           if 0 < amount <= self._balance:\n",
    "               self._balance -= amount\n",
    "\n",
    "       def get_balance(self):\n",
    "           return self._balance\n",
    "   my_account = BankAccount(\"12345\", 1000)\n",
    "   my_account.deposit(500)\n",
    "   my_account.withdraw(300)\n",
    "   print(f\"Current balance: ${my_account.get_balance()}\")"
   ]
  },
  {
   "cell_type": "markdown",
   "metadata": {},
   "source": [
    "### 10. What is the purpose of abstract methods, and how do they enforce abstraction in Python classes?"
   ]
  },
  {
   "cell_type": "markdown",
   "metadata": {},
   "source": [
    "Abstract methods are used to enforce abstraction by defining a common interface or contract that derived classes must adhere to. They serve several purposes:\n",
    "\n",
    "1. Defining an Interface: Abstract methods define a set of methods that must be implemented in any class that inherits from an abstract base class. These methods define an interface or contract for derived classes.\n",
    "\n",
    "2. Forcing Implementation: Abstract methods enforce that concrete (i.e., non-abstract) subclasses provide an implementation for the abstract methods. If a subclass fails to do so, it will result in a runtime error.\n",
    "\n",
    "3. Promoting Consistency: Abstract methods ensure consistency in the behavior and usage of related classes. Subclasses can have their own specific implementations, but they must adhere to the common interface defined by the abstract methods.\n",
    "\n",
    "4. Achieving Polymorphism: Abstract methods facilitate polymorphism by allowing different derived classes to be used interchangeably based on the shared interface. This is essential for achieving abstraction and writing more generic and reusable code."
   ]
  },
  {
   "cell_type": "markdown",
   "metadata": {},
   "source": [
    "### 11.Create a Python class for a vehicle system and demonstrate abstraction by defining common methods (e.g., `start()`, `stop()`) in an abstract base class."
   ]
  },
  {
   "cell_type": "code",
   "execution_count": 55,
   "metadata": {},
   "outputs": [
    {
     "name": "stdout",
     "output_type": "stream",
     "text": [
      "The Toyota Camry car has started.\n",
      "The Toyota Camry car has stopped.\n",
      "The Trek Mountain Bike bicycle has started pedaling.\n",
      "The Trek Mountain Bike bicycle has come to a stop.\n"
     ]
    }
   ],
   "source": [
    "from abc import ABC, abstractmethod\n",
    "\n",
    "class Vehicle(ABC):\n",
    "    def __init__(self, brand, model):\n",
    "        self.brand = brand\n",
    "        self.model = model\n",
    "        self.is_started = False\n",
    "\n",
    "    @abstractmethod\n",
    "    def start(self):\n",
    "        pass\n",
    "\n",
    "    @abstractmethod\n",
    "    def stop(self):\n",
    "        pass\n",
    "\n",
    "class Car(Vehicle):\n",
    "    def start(self):\n",
    "        self.is_started = True\n",
    "        return f\"The {self.brand} {self.model} car has started.\"\n",
    "\n",
    "    def stop(self):\n",
    "        self.is_started = False\n",
    "        return f\"The {self.brand} {self.model} car has stopped.\"\n",
    "\n",
    "class Bicycle(Vehicle):\n",
    "    def start(self):\n",
    "        self.is_started = True\n",
    "        return f\"The {self.brand} {self.model} bicycle has started pedaling.\"\n",
    "\n",
    "    def stop(self):\n",
    "        self.is_started = False\n",
    "        return f\"The {self.brand} {self.model} bicycle has come to a stop.\"\n",
    "\n",
    "car = Car(\"Toyota\", \"Camry\")\n",
    "bicycle = Bicycle(\"Trek\", \"Mountain Bike\")\n",
    "\n",
    "print(car.start())\n",
    "print(car.stop())\n",
    "\n",
    "print(bicycle.start())\n",
    "print(bicycle.stop())\n"
   ]
  },
  {
   "cell_type": "markdown",
   "metadata": {},
   "source": [
    "### 12.  Describe the use of abstract properties in Python and how they can be employed in abstract classes."
   ]
  },
  {
   "cell_type": "markdown",
   "metadata": {},
   "source": [
    "In Python, abstract properties can be employed in abstract classes to define a common interface for attributes that derived classes must implement. Abstract properties are a way to enforce that a specific attribute is provided in concrete (non-abstract) subclasses. This is similar to how abstract methods enforce the presence of specific methods in derived classes.\n",
    "\n",
    "Here's how abstract properties can be used in abstract classes:\n",
    "\n",
    "Defining Abstract Properties:\n",
    "\n",
    "To define an abstract property in Python, you use the @property decorator along with the @abstractmethod decorator from the abc (Abstract Base Classes) module.\n",
    "The @property decorator marks a method as a getter for the property, and @abstractmethod marks it as an abstract method.\n",
    "The getter method doesn't have an implementation and only raises NotImplementedError. This means that concrete subclasses must provide their own implementation for the property.\n",
    "Enforcing Implementation:\n",
    "\n",
    "Abstract properties enforce that concrete subclasses provide an implementation for the property. If a subclass fails to implement the getter method, an error is raised at runtime.\n",
    "This ensures that all derived classes have a specific attribute with a consistent name and interface, promoting code consistency and abstraction.\n",
    "\n",
    "\n",
    "\n",
    "\n"
   ]
  },
  {
   "cell_type": "markdown",
   "metadata": {},
   "source": [
    "### 13. Create a Python class hierarchy for employees in a company (e.g., manager, developer, designer) and implement abstraction by defining a common `get_salary()` method."
   ]
  },
  {
   "cell_type": "code",
   "execution_count": 56,
   "metadata": {},
   "outputs": [
    {
     "name": "stdout",
     "output_type": "stream",
     "text": [
      "Alice's salary: $60000\n",
      "Bob's salary: $6400\n",
      "Carol's salary: $5000\n"
     ]
    }
   ],
   "source": [
    "from abc import ABC, abstractmethod\n",
    "\n",
    "class Employee(ABC):\n",
    "    def __init__(self, name, employee_id):\n",
    "        self.name = name\n",
    "        self.employee_id = employee_id\n",
    "\n",
    "    @abstractmethod\n",
    "    def get_salary(self):\n",
    "        pass\n",
    "\n",
    "class Manager(Employee):\n",
    "    def __init__(self, name, employee_id, salary):\n",
    "        super().__init__(name, employee_id)\n",
    "        self.salary = salary\n",
    "\n",
    "    def get_salary(self):\n",
    "        return self.salary\n",
    "\n",
    "class Developer(Employee):\n",
    "    def __init__(self, name, employee_id, hourly_rate, hours_worked):\n",
    "        super().__init__(name, employee_id)\n",
    "        self.hourly_rate = hourly_rate\n",
    "        self.hours_worked = hours_worked\n",
    "\n",
    "    def get_salary(self):\n",
    "        return self.hourly_rate * self.hours_worked\n",
    "\n",
    "class Designer(Employee):\n",
    "    def __init__(self, name, employee_id, monthly_salary):\n",
    "        super().__init__(name, employee_id)\n",
    "        self.monthly_salary = monthly_salary\n",
    "\n",
    "    def get_salary(self):\n",
    "        return self.monthly_salary\n",
    "\n",
    "manager = Manager(\"Alice\", \"M123\", 60000)\n",
    "developer = Developer(\"Bob\", \"D456\", 40, 160)\n",
    "designer = Designer(\"Carol\", \"DS789\", 5000)\n",
    "\n",
    "print(f\"{manager.name}'s salary: ${manager.get_salary()}\")\n",
    "print(f\"{developer.name}'s salary: ${developer.get_salary()}\")\n",
    "print(f\"{designer.name}'s salary: ${designer.get_salary()}\")\n"
   ]
  },
  {
   "cell_type": "markdown",
   "metadata": {},
   "source": [
    "### 14. Discuss the differences between abstract classes and concrete classes in Python, including their instantiation.\n"
   ]
  },
  {
   "cell_type": "markdown",
   "metadata": {},
   "source": [
    "Abstract classes and concrete classes are fundamental concepts in Python's object-oriented programming. Here are the key differences between them:\n",
    "\n",
    "Abstract Classes:\n",
    "\n",
    "Abstract classes cannot be instantiated on their own; they serve as a blueprint for other classes.\n",
    "They may contain abstract methods, concrete methods, or a combination of both.\n",
    "Abstract methods are declared with the @abstractmethod decorator, and they do not have implementations in the abstract class.\n",
    "Abstract classes are typically used to define a common interface and enforce that derived classes provide specific methods.\n",
    "Derived classes must provide implementations for all abstract methods in the abstract class.\n",
    "Abstract classes are created using the abc module in Python.\n",
    "\n",
    "\n",
    "Concrete Classes:\n",
    "\n",
    "Concrete classes can be instantiated directly to create objects.\n",
    "They may contain attributes, methods, and constructors with implementations.\n",
    "Concrete classes do not contain abstract methods.\n",
    "They are intended to be instantiated and used as objects, and they provide specific functionality.\n",
    "Derived classes can inherit from concrete classes and may or may not override their methods or add new methods and attributes."
   ]
  },
  {
   "cell_type": "markdown",
   "metadata": {},
   "source": [
    "### 15. Explain the concept of abstract data types (ADTs) and their role in achieving abstraction in Python."
   ]
  },
  {
   "cell_type": "markdown",
   "metadata": {},
   "source": [
    "Abstract data types (ADTs) refer to data structures or objects that are defined by their behavior and operations rather than their implementation details. They provide an abstraction of data, allowing users to interact with the data using a specific set of operations. ADTs are used to achieve abstraction in Python and other programming languages.\n",
    "\n",
    "The concept of ADTs is closely related to the idea of encapsulation, where data and behavior are bundled together in a class. ADTs define a set of operations or methods that can be performed on data while hiding the internal representation and implementation details. This promotes a clear separation of concerns between the interface (the methods) and the underlying data.\n",
    "\n",
    "Examples of ADTs in Python include:\n",
    "\n",
    "Lists: The built-in Python list is an ADT. Users interact with lists using methods like append, pop, and index without needing to know how the list is implemented internally.\n",
    "\n",
    "Stacks and Queues: These abstract data types are typically implemented using lists or other data structures, but users interact with them through methods like push, pop, enqueue, and dequeue.\n",
    "\n",
    "Dictionaries: Python dictionaries provide a mapping of keys to values and allow users to perform operations like adding, updating, and retrieving items by their keys.\n",
    "\n",
    "ADTs play a significant role in achieving abstraction because they allow you to work with data structures and objects based on their intended usage and operations rather than the low-level details of how they are implemented. This abstraction promotes code modularity, reusability, and easier maintenance as changes to the underlying implementation do not affect code that relies on the abstract interface provided by the ADT.\n",
    "\n",
    "\n"
   ]
  },
  {
   "cell_type": "markdown",
   "metadata": {},
   "source": [
    "### 16.  Create a Python class for a computer system, demonstrating abstraction by defining common methods (e.g., `power_on()`, `shutdown()`) in an abstract base class."
   ]
  },
  {
   "cell_type": "code",
   "execution_count": 57,
   "metadata": {},
   "outputs": [
    {
     "name": "stdout",
     "output_type": "stream",
     "text": [
      "The Dell XPS 13 laptop is now powered on.\n",
      "The Dell XPS 13 laptop is shutting down.\n",
      "The HP Pavilion desktop computer is now powered on.\n",
      "The HP Pavilion desktop computer is shutting down.\n"
     ]
    }
   ],
   "source": [
    "from abc import ABC, abstractmethod\n",
    "\n",
    "class ComputerSystem(ABC):\n",
    "    def __init__(self, brand, model):\n",
    "        self.brand = brand\n",
    "        self.model = model\n",
    "        self.is_powered_on = False\n",
    "\n",
    "    @abstractmethod\n",
    "    def power_on(self):\n",
    "        pass\n",
    "\n",
    "    @abstractmethod\n",
    "    def shutdown(self):\n",
    "        pass\n",
    "\n",
    "class Laptop(ComputerSystem):\n",
    "    def power_on(self):\n",
    "        self.is_powered_on = True\n",
    "        return f\"The {self.brand} {self.model} laptop is now powered on.\"\n",
    "\n",
    "    def shutdown(self):\n",
    "        self.is_powered_on = False\n",
    "        return f\"The {self.brand} {self.model} laptop is shutting down.\"\n",
    "\n",
    "class Desktop(ComputerSystem):\n",
    "    def power_on(self):\n",
    "        self.is_powered_on = True\n",
    "        return f\"The {self.brand} {self.model} desktop computer is now powered on.\"\n",
    "\n",
    "    def shutdown(self):\n",
    "        self.is_powered_on = False\n",
    "        return f\"The {self.brand} {self.model} desktop computer is shutting down.\"\n",
    "\n",
    "laptop = Laptop(\"Dell\", \"XPS 13\")\n",
    "desktop = Desktop(\"HP\", \"Pavilion\")\n",
    "\n",
    "print(laptop.power_on())\n",
    "print(laptop.shutdown())\n",
    "\n",
    "print(desktop.power_on())\n",
    "print(desktop.shutdown())\n"
   ]
  },
  {
   "cell_type": "markdown",
   "metadata": {},
   "source": [
    "### 17.  Discuss the benefits of using abstraction in large-scale software development projects.\n"
   ]
  },
  {
   "cell_type": "markdown",
   "metadata": {},
   "source": [
    "\n",
    "\n",
    "   Abstraction offers several significant benefits in large-scale software development projects:\n",
    "\n",
    "   - **Reduced Complexity**: Abstraction allows you to focus on high-level concepts and hide the low-level implementation details. This simplifies the understanding of the system's structure and behavior, making it more manageable.\n",
    "\n",
    "   - **Modularity**: Abstraction encourages modular design by breaking down a complex system into smaller, independently functioning components. Each module can be developed, tested, and maintained in isolation, making it easier to manage the project as a whole.\n",
    "\n",
    "   - **Code Reusability**: Abstract components can be reused across different parts of the project or even in different projects altogether. This reduces duplication of effort and promotes consistency throughout the software.\n",
    "\n",
    "   - **Maintenance and Debugging**: Abstraction makes it easier to identify and fix issues in the code. When a problem arises, you can often isolate it to a specific module, making debugging and maintenance more efficient.\n",
    "\n",
    "   - **Collaboration**: In large projects with multiple developers, abstraction allows team members to work on different parts of the system independently. Each developer can focus on their assigned abstractions, and as long as the interfaces are consistent, their work can be integrated seamlessly.\n",
    "\n",
    "   - **Scalability**: Abstraction provides a foundation for scalability. When the system needs to be extended or modified, new components can be added or existing ones can be replaced without affecting the entire system.\n",
    "\n",
    "   - **Future-Proofing**: Abstraction helps future-proof the code. By hiding implementation details and exposing only the necessary interfaces, you can adapt to changes, enhancements, or technology upgrades with minimal disruption.\n"
   ]
  },
  {
   "cell_type": "markdown",
   "metadata": {},
   "source": [
    "### 18. Explain how abstraction enhances code reusability and modularity in Python programs."
   ]
  },
  {
   "cell_type": "markdown",
   "metadata": {},
   "source": [
    "\n",
    "\n",
    "   Abstraction enhances code reusability and modularity in Python programs through the following mechanisms:\n",
    "\n",
    "   - **Encapsulation**: Abstraction allows you to encapsulate data and behavior within classes. Data is hidden from direct access and can only be modified through well-defined interfaces. This promotes modularity by isolating data and operations within a class.\n",
    "\n",
    "   - **Inheritance**: Inheritance, a key concept in abstraction, facilitates code reuse. You can create a base class with common attributes and methods and then derive multiple subclasses to build on this base. This reduces redundant code and ensures consistency in behavior.\n",
    "\n",
    "   - **Abstract Classes and Interfaces**: Abstract classes define a common interface that derived classes must adhere to. This ensures that classes that share the same abstract base class have a consistent set of methods. Interfaces in Python provide a contract for classes to follow, promoting code reusability and consistency.\n",
    "\n",
    "   - **Polymorphism**: Abstraction enables polymorphism, where different objects can respond to the same method calls in a way appropriate to their type. This allows you to build modular systems where components can interact without knowing the specific implementation details of the others.\n",
    "\n",
    "   - **Separation of Concerns**: Abstraction encourages you to separate different concerns and functionality into distinct classes or modules. Each module has a specific responsibility, making it easier to understand, modify, and reuse.\n",
    "\n",
    "   - **Standard Libraries**: Python's standard library is a powerful example of abstraction and modularity. It provides a vast collection of pre-defined modules that encapsulate common tasks, making it easy to reuse and extend functionality across different projects.\n",
    "\n",
    "   In summary, abstraction is a fundamental concept that greatly enhances code reusability and modularity. It allows developers to build modular, maintainable, and extensible systems, which is essential in large-scale software development projects."
   ]
  },
  {
   "cell_type": "markdown",
   "metadata": {},
   "source": [
    "### 19.  Create a Python class for a library system, implementing abstraction by defining common methods (e.g., `add_book()`, `borrow_book()`) in an abstract base class."
   ]
  },
  {
   "cell_type": "code",
   "execution_count": 58,
   "metadata": {},
   "outputs": [
    {
     "name": "stdout",
     "output_type": "stream",
     "text": [
      "You have successfully borrowed 'Book A' from Public Library.\n",
      "You have successfully borrowed 'Book B' from the school library.\n",
      "Sorry, 'Book A' is not available at the school library.\n",
      "Thank you for returning 'Book A' to Public Library.\n",
      "Thank you for returning 'Book B' to the school library.\n"
     ]
    }
   ],
   "source": [
    "from abc import ABC, abstractmethod\n",
    "\n",
    "class LibrarySystem(ABC):\n",
    "    def __init__(self, name):\n",
    "        self.name = name\n",
    "        self.books = {}  \n",
    "\n",
    "    @abstractmethod\n",
    "    def add_book(self, title):\n",
    "        pass\n",
    "\n",
    "    @abstractmethod\n",
    "    def borrow_book(self, title):\n",
    "        pass\n",
    "\n",
    "    @abstractmethod\n",
    "    def return_book(self, title):\n",
    "        pass\n",
    "\n",
    "class PublicLibrary(LibrarySystem):\n",
    "    def add_book(self, title):\n",
    "        if title in self.books:\n",
    "            self.books[title] += 1\n",
    "        else:\n",
    "            self.books[title] = 1\n",
    "\n",
    "    def borrow_book(self, title):\n",
    "        if title in self.books and self.books[title] > 0:\n",
    "            self.books[title] -= 1\n",
    "            return f\"You have successfully borrowed '{title}' from {self.name}.\"\n",
    "        else:\n",
    "            return f\"Sorry, '{title}' is not available at {self.name}.\"\n",
    "\n",
    "    def return_book(self, title):\n",
    "        if title in self.books:\n",
    "            self.books[title] += 1\n",
    "            return f\"Thank you for returning '{title}' to {self.name}.\"\n",
    "        else:\n",
    "            return f\"Sorry, '{title}' cannot be returned to {self.name}.\"\n",
    "\n",
    "class SchoolLibrary(LibrarySystem):\n",
    "    def add_book(self, title):\n",
    "        if title in self.books:\n",
    "            self.books[title] += 1\n",
    "        else:\n",
    "            self.books[title] = 1\n",
    "\n",
    "    def borrow_book(self, title):\n",
    "        if title in self.books and self.books[title] > 0:\n",
    "            self.books[title] -= 1\n",
    "            return f\"You have successfully borrowed '{title}' from the school library.\"\n",
    "        else:\n",
    "            return f\"Sorry, '{title}' is not available at the school library.\"\n",
    "\n",
    "    def return_book(self, title):\n",
    "        if title in self.books:\n",
    "            self.books[title] += 1\n",
    "            return f\"Thank you for returning '{title}' to the school library.\"\n",
    "        else:\n",
    "            return f\"Sorry, '{title}' cannot be returned to the school library.\"\n",
    "\n",
    "public_library = PublicLibrary(\"Public Library\")\n",
    "school_library = SchoolLibrary(\"School Library\")\n",
    "\n",
    "public_library.add_book(\"Book A\")\n",
    "school_library.add_book(\"Book B\")\n",
    "\n",
    "print(public_library.borrow_book(\"Book A\"))\n",
    "print(school_library.borrow_book(\"Book B\"))\n",
    "print(school_library.borrow_book(\"Book A\"))\n",
    "\n",
    "print(public_library.return_book(\"Book A\"))\n",
    "print(school_library.return_book(\"Book B\"))\n"
   ]
  },
  {
   "cell_type": "markdown",
   "metadata": {},
   "source": [
    "### 20. Describe the concept of method abstraction in Python and how it relates to polymorphism."
   ]
  },
  {
   "cell_type": "markdown",
   "metadata": {},
   "source": [
    "Method abstraction in Python is a concept that focuses on providing a common interface or method signature while allowing different classes or objects to implement these methods in a way that is specific to their respective types. This concept is closely related to polymorphism, which is one of the key principles of object-oriented programming.\n",
    "\n",
    "Here's how method abstraction in Python relates to polymorphism:\n",
    "\n",
    "1. **Common Method Signatures**: Method abstraction involves defining common method signatures or interfaces in a base class or abstract class. These methods are often declared without implementation, using the `@abstractmethod` decorator in the case of abstract classes.\n",
    "\n",
    "2. **Polymorphism**: Polymorphism is the ability of different objects to respond to the same method call in a way that is appropriate for their types. It allows you to work with objects of different classes through a common interface, such as a shared method name, even if the implementation of that method varies between the classes.\n",
    "\n",
    "3. **Abstract Base Classes (ABCs)**: In Python, method abstraction is often achieved using abstract base classes from the `abc` module. These abstract classes define a set of abstract methods that must be implemented by concrete subclasses. This enforces a common method interface.\n",
    "\n",
    "4. **Inheritance and Overriding**: Concrete subclasses inherit the abstract methods from the base class and must provide their own implementations for these methods. This process of providing a specific implementation for an abstract method is called method overriding. The overridden methods in the derived classes adhere to the same method signature as defined in the base class, ensuring a consistent interface.\n",
    "\n",
    "5. **Polymorphic Behavior**: When you have objects of different classes that share a common abstract base class, you can call the same method on these objects without knowing their specific types. The method will behave polymorphically, executing the implementation associated with the actual type of the object.\n",
    "\n",
    "6. **Code Flexibility**: Method abstraction and polymorphism provide code flexibility. You can add new subclasses that adhere to the common method interface without needing to modify existing code. This makes it easier to extend and maintain your codebase.\n"
   ]
  },
  {
   "cell_type": "markdown",
   "metadata": {},
   "source": [
    "# Composition :"
   ]
  },
  {
   "cell_type": "markdown",
   "metadata": {},
   "source": [
    "### 1. Explain the concept of composition in Python and how it is used to build complex objects from simpler ones.\n"
   ]
  },
  {
   "cell_type": "markdown",
   "metadata": {},
   "source": [
    "\n",
    "\n",
    "   Composition is a fundamental concept in object-oriented programming that involves building complex objects by combining or \"composing\" simpler objects. It allows you to create more modular, flexible, and reusable code by assembling objects with specific functionalities to achieve a higher-level, more complex behavior.\n",
    "\n",
    "   In Python, composition is achieved by creating classes that contain references to other objects as attributes. These objects can be instances of other classes, and they are used to provide specific functionalities that the composed class needs. This approach promotes the \"has-a\" relationship, where an object \"has\" other objects as part of its structure.\n",
    "\n",
    "   The key benefits of composition in Python include:\n",
    "\n",
    "   - **Modularity**: You can break down complex systems into smaller, more manageable components, with each component handling a specific responsibility.\n",
    "   - **Reusability**: The composed objects can be reused in different contexts, reducing redundancy and promoting code reuse.\n",
    "   - **Flexibility**: You can easily replace or upgrade components without affecting the overall structure of the composed object.\n",
    "   - **Encapsulation**: Composition allows you to encapsulate the behavior of the composed objects, making the code more organized and readable.\n"
   ]
  },
  {
   "cell_type": "markdown",
   "metadata": {},
   "source": [
    "### 2. Describe the difference between composition and inheritance in object-oriented programming."
   ]
  },
  {
   "cell_type": "markdown",
   "metadata": {},
   "source": [
    "\n",
    "\n",
    "   Composition and inheritance are two different approaches for building complex objects and sharing behavior in object-oriented programming:\n",
    "\n",
    "   - **Composition**:\n",
    "     - Composition focuses on assembling objects to create complex structures.\n",
    "     - It promotes the \"has-a\" relationship, where an object contains or is composed of other objects.\n",
    "     - Components are typically created independently and then combined to form a larger, more complex object.\n",
    "     - Composition is flexible, allowing you to change the behavior by modifying the composition of objects.\n",
    "     - It encourages code reusability through the use of individual components.\n",
    "     - Composition is often used to achieve greater code modularity.\n",
    "\n",
    "   - **Inheritance**:\n",
    "     - Inheritance focuses on creating a new class that inherits attributes and methods from an existing class.\n",
    "     - It promotes the \"is-a\" relationship, where a subclass is a specialized version of the superclass.\n",
    "     - Inheritance establishes an \"is-a\" hierarchy, where derived classes inherit the behavior of the base class.\n",
    "     - It can lead to rigid structures, as changes to the base class can affect all subclasses.\n",
    "     - Inheritance is often used to model specialization and create hierarchies of related classes.\n",
    "     - It is suitable when the relationship between classes is \"is-a.\"\n",
    "\n",
    "   While both composition and inheritance have their uses, composition is often preferred when you want to create more flexible, modular, and maintainable code, as it avoids some of the limitations and complexities associated with deep class hierarchies that can arise from extensive inheritance."
   ]
  },
  {
   "cell_type": "markdown",
   "metadata": {},
   "source": [
    "### 3.  Create a Python class called `Author` with attributes for name and birthdate. Then, create a `Book` class that contains an instance of `Author` as a composition. Provide an example of creating a `Book` object."
   ]
  },
  {
   "cell_type": "code",
   "execution_count": 59,
   "metadata": {},
   "outputs": [
    {
     "name": "stdout",
     "output_type": "stream",
     "text": [
      "Title: Harry Potter and the Sorcerer's Stone, Published in 1997\n",
      "Author: J.K. Rowling, Birthdate: July 31, 1965\n"
     ]
    }
   ],
   "source": [
    "class Author:\n",
    "    def __init__(self, name, birthdate):\n",
    "        self.name = name\n",
    "        self.birthdate = birthdate\n",
    "\n",
    "class Book:\n",
    "    def __init__(self, title, author, publication_year):\n",
    "        self.title = title\n",
    "        self.author = author  \n",
    "        self.publication_year = publication_year\n",
    "\n",
    "    def display_info(self):\n",
    "        author_info = f\"Author: {self.author.name}, Birthdate: {self.author.birthdate}\"\n",
    "        return f\"Title: {self.title}, Published in {self.publication_year}\\n{author_info}\"\n",
    "\n",
    "author1 = Author(\"J.K. Rowling\", \"July 31, 1965\")\n",
    "\n",
    "book1 = Book(\"Harry Potter and the Sorcerer's Stone\", author1, 1997)\n",
    "\n",
    "print(book1.display_info())\n"
   ]
  },
  {
   "cell_type": "markdown",
   "metadata": {},
   "source": [
    "### 4.Discuss the benefits of using composition over inheritance in Python, especially in terms of code flexibility and reusability.\n"
   ]
  },
  {
   "cell_type": "markdown",
   "metadata": {},
   "source": [
    "\n",
    "\n",
    "   Composition offers several advantages over inheritance in Python, especially in terms of code flexibility and reusability:\n",
    "\n",
    "   - **Flexibility**: Composition allows you to build complex objects by assembling or composing simpler ones, providing greater flexibility in how objects are structured. You can change the composition of an object dynamically by adding, removing, or replacing components, which can be difficult with inheritance.\n",
    "\n",
    "   - **Code Reusability**: Composition promotes code reusability by allowing you to use existing classes and components in different contexts. You can reuse components in various compositions to create objects with different functionalities.\n",
    "\n",
    "   - **Modularity**: Composition encourages a modular design approach where each component handles a specific responsibility. This makes it easier to understand, maintain, and test individual components, promoting a cleaner code structure.\n",
    "\n",
    "   - **Avoiding Deep Inheritance Hierarchies**: Inheritance hierarchies can become complex and hard to manage when deeply nested. Composition allows you to avoid deep class hierarchies, reducing the chances of issues such as the \"diamond problem.\"\n",
    "\n",
    "   - **Enhanced Encapsulation**: With composition, each component can have its own encapsulated behavior, and the composed object can provide a well-defined interface for interacting with these components. This leads to a more organized code structure.\n"
   ]
  },
  {
   "cell_type": "markdown",
   "metadata": {},
   "source": [
    "\n",
    "### 5. How can you implement composition in Python classes? Provide examples of using composition to create complex objects."
   ]
  },
  {
   "cell_type": "markdown",
   "metadata": {},
   "source": [
    "Implementing Composition in Python:\n",
    "\n",
    "Composition in Python is implemented by creating classes that contain references to other objects as attributes. Here are examples of using composition to create complex objects:\n",
    "\n",
    "\n",
    "Example 1:"
   ]
  },
  {
   "cell_type": "code",
   "execution_count": 60,
   "metadata": {},
   "outputs": [
    {
     "name": "stdout",
     "output_type": "stream",
     "text": [
      "Engine started\n",
      "Wheels are rotating\n",
      "Car is moving\n"
     ]
    }
   ],
   "source": [
    "class Engine:\n",
    "    def start(self):\n",
    "        print(\"Engine started\")\n",
    "\n",
    "class Wheels:\n",
    "    def rotate(self):\n",
    "        print(\"Wheels are rotating\")\n",
    "\n",
    "class Car:\n",
    "    def __init__(self):\n",
    "        self.engine = Engine()  \n",
    "        self.wheels = Wheels()  \n",
    "\n",
    "    def drive(self):\n",
    "        self.engine.start()\n",
    "        self.wheels.rotate()\n",
    "        print(\"Car is moving\")\n",
    "\n",
    "my_car = Car()\n",
    "my_car.drive()\n"
   ]
  },
  {
   "cell_type": "markdown",
   "metadata": {},
   "source": [
    "Example 2:"
   ]
  },
  {
   "cell_type": "code",
   "execution_count": 61,
   "metadata": {},
   "outputs": [
    {
     "name": "stdout",
     "output_type": "stream",
     "text": [
      "CPU is processing data\n",
      "RAM is storing data\n",
      "Computer is running\n"
     ]
    }
   ],
   "source": [
    "class CPU:\n",
    "    def process(self):\n",
    "        print(\"CPU is processing data\")\n",
    "\n",
    "class RAM:\n",
    "    def store(self):\n",
    "        print(\"RAM is storing data\")\n",
    "\n",
    "class Computer:\n",
    "    def __init__(self):\n",
    "        self.cpu = CPU()  \n",
    "        self.ram = RAM()  \n",
    "\n",
    "    def run(self):\n",
    "        self.cpu.process()\n",
    "        self.ram.store()\n",
    "        print(\"Computer is running\")\n",
    "\n",
    "my_computer = Computer()\n",
    "my_computer.run()\n"
   ]
  },
  {
   "cell_type": "markdown",
   "metadata": {},
   "source": [
    "### 6. Create a Python class hierarchy for a music player system, using composition to represent playlists and songs."
   ]
  },
  {
   "cell_type": "code",
   "execution_count": 62,
   "metadata": {},
   "outputs": [
    {
     "name": "stdout",
     "output_type": "stream",
     "text": [
      "Playing: Song 1 by Artist A (180 seconds)\n",
      "\n",
      "Playing playlist: My Favorites\n",
      "Playing: Song 1 by Artist A (180 seconds)\n",
      "Playing: Song 2 by Artist B (220 seconds)\n",
      "\n",
      "Playing playlist: Chill Mix\n",
      "Playing: Song 2 by Artist B (220 seconds)\n",
      "Playing: Song 3 by Artist C (150 seconds)\n"
     ]
    }
   ],
   "source": [
    "class Song:\n",
    "    def __init__(self, title, artist, duration):\n",
    "        self.title = title\n",
    "        self.artist = artist\n",
    "        self.duration = duration\n",
    "\n",
    "    def play(self):\n",
    "        print(f\"Playing: {self.title} by {self.artist} ({self.duration} seconds)\")\n",
    "\n",
    "class Playlist:\n",
    "    def __init__(self, name):\n",
    "        self.name = name\n",
    "        self.songs = []  \n",
    "\n",
    "    def add_song(self, song):\n",
    "        self.songs.append(song)\n",
    "\n",
    "    def play(self):\n",
    "        print(f\"Playing playlist: {self.name}\")\n",
    "        for song in self.songs:\n",
    "            song.play()\n",
    "\n",
    "song1 = Song(\"Song 1\", \"Artist A\", 180)\n",
    "song2 = Song(\"Song 2\", \"Artist B\", 220)\n",
    "song3 = Song(\"Song 3\", \"Artist C\", 150)\n",
    "\n",
    "playlist1 = Playlist(\"My Favorites\")\n",
    "playlist1.add_song(song1)\n",
    "playlist1.add_song(song2)\n",
    "\n",
    "playlist2 = Playlist(\"Chill Mix\")\n",
    "playlist2.add_song(song2)\n",
    "playlist2.add_song(song3)\n",
    "\n",
    "\n",
    "song1.play()\n",
    "print()\n",
    "playlist1.play()\n",
    "print()\n",
    "playlist2.play()\n"
   ]
  },
  {
   "cell_type": "markdown",
   "metadata": {},
   "source": [
    "### 7.  Explain the concept of \"has-a\" relationships in composition and how it helps design software systems."
   ]
  },
  {
   "cell_type": "markdown",
   "metadata": {},
   "source": [
    "The concept of \"has-a\" relationships in composition is a fundamental aspect of object-oriented programming that describes how objects or classes can be composed or combined to form more complex objects. It represents a relationship where one class (or object) contains or \"has\" another class (or object) as part of its structure or functionality. This relationship helps design software systems by promoting modularity, reusability, and code organization. Here's a more detailed explanation:\n",
    "\n",
    " **Composition**:\n",
    "   - **\"Has-a\" Relationship**: In composition, a class or object is said to have a \"has-a\" relationship with another class or object when it contains an instance of that class or object as one of its attributes. This means that the containing class is composed of or contains the contained class.\n",
    "   - **Component-Based Design**: Composition allows you to break down complex systems into smaller, more manageable components. Each component is responsible for a specific aspect of the system's functionality.\n",
    "   - **Modularity**: By composing objects, you create a modular design where each component can be developed, tested, and maintained independently. This modularity simplifies the development process and makes it easier to manage codebases.\n",
    "   - **Code Reusability**: Components can be reused in different contexts. You can use existing classes as building blocks to create new, more complex objects with different functionalities. This reduces redundancy and promotes code reusability.\n",
    "   - **Flexibility**: Composition provides flexibility to change or customize the behavior of complex objects by modifying or substituting their components. This adaptability is crucial for handling diverse requirements.\n"
   ]
  },
  {
   "cell_type": "markdown",
   "metadata": {},
   "source": [
    "### 8.  Create a Python class for a computer system, using composition to represent components like CPU, RAM, and storage devices."
   ]
  },
  {
   "cell_type": "code",
   "execution_count": 63,
   "metadata": {},
   "outputs": [
    {
     "name": "stdout",
     "output_type": "stream",
     "text": [
      "Intel CPU is processing data at 3.2 GHz\n",
      "RAM with 8 GB is storing data\n",
      "SSD storage with 512 TB is reading data\n",
      "Computer is running\n"
     ]
    }
   ],
   "source": [
    "class CPU:\n",
    "    def __init__(self, brand, speed):\n",
    "        self.brand = brand\n",
    "        self.speed = speed\n",
    "\n",
    "    def process(self):\n",
    "        print(f\"{self.brand} CPU is processing data at {self.speed} GHz\")\n",
    "\n",
    "class RAM:\n",
    "    def __init__(self, capacity):\n",
    "        self.capacity = capacity\n",
    "\n",
    "    def store(self):\n",
    "        print(f\"RAM with {self.capacity} GB is storing data\")\n",
    "\n",
    "class Storage:\n",
    "    def __init__(self, type, capacity):\n",
    "        self.type = type\n",
    "        self.capacity = capacity\n",
    "\n",
    "    def read_data(self):\n",
    "        print(f\"{self.type} storage with {self.capacity} TB is reading data\")\n",
    "\n",
    "class Computer:\n",
    "    def __init__(self, cpu, ram, storage):\n",
    "        self.cpu = cpu  \n",
    "        self.ram = ram  \n",
    "        self.storage = storage  \n",
    "\n",
    "    def run(self):\n",
    "        self.cpu.process()\n",
    "        self.ram.store()\n",
    "        self.storage.read_data()\n",
    "        print(\"Computer is running\")\n",
    "\n",
    "cpu = CPU(\"Intel\", 3.2)\n",
    "ram = RAM(8)\n",
    "storage = Storage(\"SSD\", 512)\n",
    "\n",
    "my_computer = Computer(cpu, ram, storage)\n",
    "\n",
    "my_computer.run()\n"
   ]
  },
  {
   "cell_type": "markdown",
   "metadata": {},
   "source": [
    "### 9. Describe the concept of \"delegation\" in composition and how it simplifies the design of complex systems."
   ]
  },
  {
   "cell_type": "markdown",
   "metadata": {},
   "source": [
    "Delegation is a fundamental concept in composition, particularly in software engineering and object-oriented programming, that simplifies the design of complex systems by enabling the distribution of responsibilities and functionalities among different components or objects. It promotes modularity, reusability, and maintainability in software design. Here's a more detailed explanation of the concept of delegation and how it simplifies complex system design:\n",
    "\n",
    "1. **Distribution of Responsibilities**: Delegation involves breaking down a complex system into smaller, more manageable parts. Each part (usually represented by an object or a component) is responsible for a specific set of tasks or functions. By doing this, the overall system becomes more organized, as different parts handle distinct aspects of the system's functionality.\n",
    "\n",
    "2. **Modularity**: Delegation encourages the creation of modular components that encapsulate their behavior and data. This modularity makes it easier to reason about and test individual components in isolation. It also facilitates the development of more maintainable and extensible systems, as changes in one component don't necessarily affect others as long as the interface remains consistent.\n",
    "\n",
    "3. **Abstraction**: Delegation allows you to abstract away the internal details of a component, exposing only the necessary interfaces or methods to interact with it. This abstraction simplifies the interaction between different components, as clients of a component don't need to understand its inner workings. They only need to know how to delegate tasks to the component and receive results.\n",
    "\n",
    "4. **Code Reusability**: Delegation encourages code reusability because well-defined components can be used in multiple parts of a system or even in different projects. Reusing components that have already been tested and proven can significantly reduce the development time and minimize the risk of introducing bugs.\n",
    "\n",
    "5. **Separation of Concerns**: Delegation supports the separation of concerns, a key principle in software design. Each component is responsible for a specific concern, such as data storage, user interface, or business logic. This separation simplifies maintenance and troubleshooting because changes or issues in one concern do not affect others, and it's easier to pinpoint the source of a problem.\n",
    "\n",
    "6. **Hierarchical Structure**: Complex systems can be organized hierarchically through delegation. Higher-level components can delegate tasks to lower-level ones, which can, in turn, delegate further, creating a structured and well-organized system. This hierarchical structure simplifies the system's architecture and helps maintain a clear overview of how different components interact.\n",
    "\n",
    "7. **Testing and Debugging**: Delegation simplifies testing and debugging by isolating individual components. When a problem arises, it's easier to identify and fix it within a specific component without affecting the rest of the system. This reduces the overall complexity of tracking down issues in a complex system.\n",
    "\n",
    "8. **Adaptability and Scalability**: Delegation makes systems more adaptable and scalable. When new requirements or changes emerge, you can add or modify components without overhauling the entire system. This flexibility is essential for evolving complex systems over time.\n",
    "Delegation is a fundamental concept in composition, particularly in software engineering and object-oriented programming, that simplifies the design of complex systems by enabling the distribution of responsibilities and functionalities among different components or objects. It promotes modularity, reusability, and maintainability in software design. Here's a more detailed explanation of the concept of delegation and how it simplifies complex system design:\n",
    " "
   ]
  },
  {
   "cell_type": "markdown",
   "metadata": {},
   "source": [
    "### 10. Create a Python class for a car, using composition to represent components like the engine, wheels, and transmission."
   ]
  },
  {
   "cell_type": "code",
   "execution_count": 64,
   "metadata": {},
   "outputs": [
    {
     "name": "stdout",
     "output_type": "stream",
     "text": [
      "Engine started\n",
      "Toyota Camry (2023) is now running.\n",
      "Shifted to gear Drive\n",
      "Engine started\n",
      "Wheel is rotating\n",
      "Wheel is rotating\n",
      "Wheel is rotating\n",
      "Wheel is rotating\n",
      "Toyota Camry (2023) is in motion.\n",
      "Shifted to gear Park\n",
      "Engine stopped\n",
      "Toyota Camry (2023) is parked.\n"
     ]
    }
   ],
   "source": [
    "class Engine:\n",
    "    def __init__(self, fuel_type, horsepower):\n",
    "        self.fuel_type = fuel_type\n",
    "        self.horsepower = horsepower\n",
    "\n",
    "    def start(self):\n",
    "        print(\"Engine started\")\n",
    "\n",
    "    def stop(self):\n",
    "        print(\"Engine stopped\")\n",
    "\n",
    "class Transmission:\n",
    "    def __init__(self, transmission_type):\n",
    "        self.transmission_type = transmission_type\n",
    "\n",
    "    def shift_gear(self, gear):\n",
    "        print(f\"Shifted to gear {gear}\")\n",
    "\n",
    "class Wheel:\n",
    "    def __init__(self, brand, size):\n",
    "        self.brand = brand\n",
    "        self.size = size\n",
    "\n",
    "    def rotate(self):\n",
    "        print(\"Wheel is rotating\")\n",
    "\n",
    "class Car:\n",
    "    def __init__(self, make, model, year):\n",
    "        self.make = make\n",
    "        self.model = model\n",
    "        self.year = year\n",
    "        self.engine = Engine(\"Gasoline\", 200)  \n",
    "        self.transmission = Transmission(\"Automatic\")  \n",
    "        self.wheels = [Wheel(\"Michelin\", 17) for _ in range(4)]  \n",
    "    def start(self):\n",
    "        self.engine.start()\n",
    "        print(f\"{self.make} {self.model} ({self.year}) is now running.\")\n",
    "\n",
    "    def stop(self):\n",
    "        self.engine.stop()\n",
    "        print(f\"{self.make} {self.model} ({self.year}) has been turned off.\")\n",
    "\n",
    "    def drive(self, gear):\n",
    "        self.transmission.shift_gear(gear)\n",
    "        self.engine.start()\n",
    "        for wheel in self.wheels:\n",
    "            wheel.rotate()\n",
    "        print(f\"{self.make} {self.model} ({self.year}) is in motion.\")\n",
    "\n",
    "    def park(self):\n",
    "        self.transmission.shift_gear(\"Park\")\n",
    "        self.engine.stop()\n",
    "        print(f\"{self.make} {self.model} ({self.year}) is parked.\")\n",
    "\n",
    "my_car = Car(\"Toyota\", \"Camry\", 2023)\n",
    "my_car.start()\n",
    "my_car.drive(\"Drive\")\n",
    "my_car.park()\n"
   ]
  },
  {
   "cell_type": "markdown",
   "metadata": {},
   "source": [
    "### 11.  How can you encapsulate and hide the details of composed objects in Python classes to maintain abstraction?"
   ]
  },
  {
   "cell_type": "markdown",
   "metadata": {},
   "source": [
    "To encapsulate and hide the details of composed objects in Python classes and maintain abstraction, you can follow these principles and techniques:\n",
    "\n",
    "1. Private Variables: Use private instance variables (variables with names starting with an underscore, like _variable_name) to hide the details of composed objects. This convention signals to other developers that the variable is intended for internal use only.\n",
    "\n",
    "2. Getter and Setter Methods: Provide getter and setter methods to access and manipulate the state of composed objects. These methods can be used to enforce validation and encapsulation.\n",
    "\n",
    "3. Abstraction: Define a clear and abstract interface for the composed objects, including a well-defined set of methods that are part of the public API. This allows you to hide the underlying implementation details while exposing only what's necessary.\n",
    "\n",
    "4. Composition and Delegation: Use composition to include objects as attributes within your class. Delegation is the process of forwarding method calls to composed objects, allowing the class to act as a proxy, providing controlled access to the composed objects."
   ]
  },
  {
   "cell_type": "markdown",
   "metadata": {},
   "source": [
    "### 12.  Create a Python class for a university course, using composition to represent students, instructors, and course materials."
   ]
  },
  {
   "cell_type": "code",
   "execution_count": 66,
   "metadata": {},
   "outputs": [
    {
     "name": "stdout",
     "output_type": "stream",
     "text": [
      "Dr. Smith is assigned as the instructor for Math 101\n",
      "Alice has enrolled in Math 101\n",
      "Bob has enrolled in Math 101\n",
      "Course: Math 101 (MATH101)\n",
      "Instructor: Instructor 101: Dr. Smith\n",
      "Students:\n",
      "  - Student 1: Alice\n",
      "  - Student 2: Bob\n",
      "Course Material: Course Material: Math 101 Syllabus\n"
     ]
    }
   ],
   "source": [
    "class Student:\n",
    "    def __init__(self, student_id, name):\n",
    "        self.student_id = student_id\n",
    "        self.name = name\n",
    "\n",
    "    def enroll(self, course):\n",
    "        course.add_student(self)\n",
    "        print(f\"{self.name} has enrolled in {course.title}\")\n",
    "\n",
    "    def __str__(self):\n",
    "        return f\"Student {self.student_id}: {self.name}\"\n",
    "\n",
    "class Instructor:\n",
    "    def __init__(self, instructor_id, name):\n",
    "        self.instructor_id = instructor_id\n",
    "        self.name = name\n",
    "\n",
    "    def assign_course(self, course):\n",
    "        course.set_instructor(self)\n",
    "        print(f\"{self.name} is assigned as the instructor for {course.title}\")\n",
    "\n",
    "    def __str__(self):\n",
    "        return f\"Instructor {self.instructor_id}: {self.name}\"\n",
    "\n",
    "class CourseMaterial:\n",
    "    def __init__(self, title, content):\n",
    "        self.title = title\n",
    "        self.content = content\n",
    "\n",
    "    def __str__(self):\n",
    "        return f\"Course Material: {self.title}\"\n",
    "\n",
    "class UniversityCourse:\n",
    "    def __init__(self, title, code):\n",
    "        self.title = title\n",
    "        self.code = code\n",
    "        self.students = []\n",
    "        self.instructor = None\n",
    "        self.course_material = None\n",
    "\n",
    "    def set_instructor(self, instructor):\n",
    "        self.instructor = instructor\n",
    "\n",
    "    def add_student(self, student):\n",
    "        self.students.append(student)\n",
    "\n",
    "    def add_course_material(self, course_material):\n",
    "        self.course_material = course_material\n",
    "\n",
    "    def display_info(self):\n",
    "        print(f\"Course: {self.title} ({self.code})\")\n",
    "        if self.instructor:\n",
    "            print(f\"Instructor: {self.instructor}\")\n",
    "        print(\"Students:\")\n",
    "        for student in self.students:\n",
    "            print(f\"  - {student}\")\n",
    "        if self.course_material:\n",
    "            print(f\"Course Material: {self.course_material}\")\n",
    "\n",
    "math101 = UniversityCourse(\"Math 101\", \"MATH101\")\n",
    "student1 = Student(1, \"Alice\")\n",
    "student2 = Student(2, \"Bob\")\n",
    "instructor = Instructor(101, \"Dr. Smith\")\n",
    "course_material = CourseMaterial(\"Math 101 Syllabus\", \"This is the syllabus for Math 101...\")\n",
    "\n",
    "instructor.assign_course(math101)\n",
    "student1.enroll(math101)\n",
    "student2.enroll(math101)\n",
    "math101.add_course_material(course_material)\n",
    "\n",
    "math101.display_info()\n"
   ]
  },
  {
   "cell_type": "markdown",
   "metadata": {},
   "source": [
    "### 13.  Discuss the challenges and drawbacks of composition, such as increased complexity and potential for tight coupling between objects."
   ]
  },
  {
   "cell_type": "markdown",
   "metadata": {},
   "source": [
    "While composition is a powerful and flexible way to build complex systems, it does come with certain challenges and drawbacks that developers need to be aware of:\n",
    "\n",
    "1. **Increased Complexity**: As the number of composed objects grows, the overall complexity of the system can increase significantly. Managing interactions and dependencies between multiple components can become challenging, leading to a more intricate codebase.\n",
    "\n",
    "2. **Potential for Tight Coupling**: Composition can lead to tight coupling between objects if not implemented carefully. Tight coupling means that one class depends heavily on the internal details of another class. If changes are made to the internal structure of one class, it can potentially impact other classes that depend on it. This can make the system less flexible and harder to maintain.\n",
    "\n",
    "3. **Difficulty in Understanding Relationships**: In a composition-heavy system, understanding the relationships between different objects and how they interact with each other can be complex. This lack of clarity can make it harder for developers, especially newcomers, to grasp the overall system design.\n",
    "\n",
    "4. **Overhead of Delegation**: Delegating responsibilities from one object to another can introduce additional overhead, especially in terms of method calls. If not optimized, this overhead can impact the system's performance, especially in situations where a large number of delegation calls are made.\n",
    "\n",
    "5. **Inconsistencies in Interfaces**: When multiple components are composed to form a larger object, ensuring consistent interfaces and behaviors across all components can be challenging. Inconsistencies can lead to unexpected behavior and make the system harder to maintain.\n",
    "\n",
    "6. **Difficulty in Testing**: Testing composed objects can be complex, especially if there are deep hierarchies of composition. Unit testing becomes challenging due to the need to isolate specific components for testing without involving the entire system.\n",
    "\n",
    "7. **Versioning and Evolution Challenges**: As the system evolves, changes to one component might require modifications in several other components. Managing versioning and ensuring backward compatibility can be difficult, especially in large and complex systems.\n",
    "\n",
    "To mitigate these challenges, it's essential to follow best practices such as defining clear interfaces, encapsulating implementation details, favoring loose coupling between components, and using design patterns like Dependency Injection to decouple components. Additionally, thorough testing and documentation are crucial to ensuring that the composed objects work as expected and are well-understood by developers working on the system."
   ]
  },
  {
   "cell_type": "markdown",
   "metadata": {},
   "source": [
    "### 14. Create a Python class hierarchy for a restaurant system, using composition to represent menus, dishes, and ingredients."
   ]
  },
  {
   "cell_type": "code",
   "execution_count": 67,
   "metadata": {},
   "outputs": [
    {
     "name": "stdout",
     "output_type": "stream",
     "text": [
      "Welcome to Tasty Eats Restaurant\n",
      "\n",
      "Lunch Menu Menu\n",
      "\n",
      "Pizza - $12.99\n",
      "Delicious pizza with tomato sauce and cheese\n",
      "Ingredients: 2 pcs of Tomato, 100 g of Cheese, 250 g of Dough\n",
      "\n",
      "Spaghetti - $9.99\n",
      "Classic spaghetti with tomato sauce\n",
      "Ingredients: 2 pcs of Tomato\n",
      "\n",
      "\n",
      "\n",
      "Dinner Menu Menu\n",
      "\n",
      "Pizza - $12.99\n",
      "Delicious pizza with tomato sauce and cheese\n",
      "Ingredients: 2 pcs of Tomato, 100 g of Cheese, 250 g of Dough\n",
      "\n",
      "Spaghetti - $9.99\n",
      "Classic spaghetti with tomato sauce\n",
      "Ingredients: 2 pcs of Tomato\n",
      "\n",
      "Burger - $10.99\n",
      "Juicy burger with a beef patty and cheese\n",
      "Ingredients: 100 g of Cheese\n",
      "\n",
      "\n",
      "\n",
      "\n"
     ]
    }
   ],
   "source": [
    "class Ingredient:\n",
    "    def __init__(self, name, quantity, unit):\n",
    "        self.name = name\n",
    "        self.quantity = quantity\n",
    "        self.unit = unit\n",
    "\n",
    "    def __str__(self):\n",
    "        return f\"{self.quantity} {self.unit} of {self.name}\"\n",
    "\n",
    "class Dish:\n",
    "    def __init__(self, name, description, price, ingredients):\n",
    "        self.name = name\n",
    "        self.description = description\n",
    "        self.price = price\n",
    "        self.ingredients = ingredients  \n",
    "\n",
    "    def __str__(self):\n",
    "        return f\"{self.name} - ${self.price}\\n{self.description}\\nIngredients: {', '.join(str(ingredient) for ingredient in self.ingredients)}\"\n",
    "\n",
    "class Menu:\n",
    "    def __init__(self, name, dishes):\n",
    "        self.name = name\n",
    "        self.dishes = dishes \n",
    "\n",
    "    def __str__(self):\n",
    "        menu_info = f\"{self.name} Menu\\n\\n\"\n",
    "        for dish in self.dishes:\n",
    "            menu_info += str(dish) + \"\\n\\n\"\n",
    "        return menu_info\n",
    "\n",
    "class Restaurant:\n",
    "    def __init__(self, name, menus):\n",
    "        self.name = name\n",
    "        self.menus = menus  \n",
    "\n",
    "    def __str__(self):\n",
    "        restaurant_info = f\"Welcome to {self.name} Restaurant\\n\\n\"\n",
    "        for menu in self.menus:\n",
    "            restaurant_info += str(menu) + \"\\n\\n\"\n",
    "        return restaurant_info\n",
    "\n",
    "\n",
    "tomato = Ingredient(\"Tomato\", 2, \"pcs\")\n",
    "cheese = Ingredient(\"Cheese\", 100, \"g\")\n",
    "dough = Ingredient(\"Dough\", 250, \"g\")\n",
    "\n",
    "pizza = Dish(\"Pizza\", \"Delicious pizza with tomato sauce and cheese\", 12.99, [tomato, cheese, dough])\n",
    "spaghetti = Dish(\"Spaghetti\", \"Classic spaghetti with tomato sauce\", 9.99, [tomato])\n",
    "burger = Dish(\"Burger\", \"Juicy burger with a beef patty and cheese\", 10.99, [cheese])\n",
    "\n",
    "\n",
    "lunch_menu = Menu(\"Lunch Menu\", [pizza, spaghetti])\n",
    "dinner_menu = Menu(\"Dinner Menu\", [pizza, spaghetti, burger])\n",
    "\n",
    "\n",
    "my_restaurant = Restaurant(\"Tasty Eats\", [lunch_menu, dinner_menu])\n",
    "\n",
    "print(my_restaurant)\n"
   ]
  },
  {
   "cell_type": "markdown",
   "metadata": {},
   "source": [
    "### 15.  Explain how composition enhances code maintainability and modularity in Python programs."
   ]
  },
  {
   "cell_type": "markdown",
   "metadata": {},
   "source": [
    "Composition enhances code maintainability and modularity in Python programs in several ways:\n",
    "\n",
    "1. **Modularity**: Composition allows you to break a program into smaller, self-contained components. Each component has a specific responsibility and a well-defined interface. This modular approach makes it easier to manage, understand, and modify different parts of the codebase independently. You can work on one module without needing to understand the entire system.\n",
    "\n",
    "2. **Reusability**: Composed components are typically designed to be reusable. You can use them in various parts of your program or even in different projects. This reusability reduces code duplication, which not only makes the codebase more maintainable but also saves development time.\n",
    "\n",
    "3. **Encapsulation**: Composition encourages encapsulation by hiding the internal details of a component and exposing only a clean interface. This means that you can change the internal implementation of a component without affecting the code that uses it. This encapsulation minimizes the risk of unintentional side effects when modifying or extending the code.\n",
    "\n",
    "4. **Clear Interfaces**: Each component in a composition-based system has a well-defined interface, making it clear what functionality it provides and how it should be used. This clear separation of concerns and interfaces helps developers understand how different parts of the codebase interact with each other.\n",
    "\n",
    "5. **Ease of Testing**: Testing becomes more straightforward when using composition. You can write unit tests for individual components, ensuring that they work correctly in isolation. This allows for more focused and effective testing, making it easier to identify and fix bugs.\n",
    "\n",
    "6. **Scalability**: Composition supports the growth and evolution of a program. When new requirements arise, you can add or replace components without altering the entire system. This flexibility is crucial for accommodating changes and enhancements over time.\n",
    "\n",
    "7. **Code Readability**: Composition improves code readability by promoting a clear structure. When looking at a piece of code, it's easier to understand what each component does and how they fit together. This clarity simplifies the process of maintaining, debugging, and extending the code.\n",
    "\n",
    "8. **Separation of Concerns**: Composition enforces the separation of concerns, where each component focuses on a specific task or responsibility. This separation makes it easier to reason about and maintain the code because changes in one component are less likely to affect others.\n",
    "\n",
    "9. **Collaborative Development**: When multiple developers work on a project, composition allows them to work on different components simultaneously without interfering with each other's work. This collaborative development is more manageable and less error-prone.\n",
    "\n"
   ]
  },
  {
   "cell_type": "markdown",
   "metadata": {},
   "source": [
    "### 16. Create a Python class for a computer game character, using composition to represent attributes like weapons, armor, and inventory."
   ]
  },
  {
   "cell_type": "code",
   "execution_count": 68,
   "metadata": {},
   "outputs": [
    {
     "name": "stdout",
     "output_type": "stream",
     "text": [
      "Hero (Health: 100)\n",
      "Equipped Weapon: Sword (Damage: 20)\n",
      "Equipped Armor: Shield (Defense: 10)\n",
      "Inventory:\n",
      " - <__main__.Inventory object at 0x000001D593154090>\n",
      "\n",
      "Hero takes 15 damage.\n",
      "Hero (Health: 95)\n",
      "Equipped Weapon: Sword (Damage: 20)\n",
      "Equipped Armor: Shield (Defense: 10)\n",
      "Inventory:\n",
      " - <__main__.Inventory object at 0x000001D593154090>\n",
      "\n"
     ]
    }
   ],
   "source": [
    "class Weapon:\n",
    "    def __init__(self, name, damage):\n",
    "        self.name = name\n",
    "        self.damage = damage\n",
    "\n",
    "    def __str__(self):\n",
    "        return f\"Weapon: {self.name} (Damage: {self.damage})\"\n",
    "\n",
    "class Armor:\n",
    "    def __init__(self, name, defense):\n",
    "        self.name = name\n",
    "        self.defense = defense\n",
    "\n",
    "    def __str__(self):\n",
    "        return f\"Armor: {self.name} (Defense: {self.defense})\"\n",
    "\n",
    "class Inventory:\n",
    "    def __init__(self):\n",
    "        self.items = []\n",
    "\n",
    "    def add_item(self, item):\n",
    "        self.items.append(item)\n",
    "\n",
    "    def remove_item(self, item):\n",
    "        if item in self.items:\n",
    "            self.items.remove(item)\n",
    "\n",
    "    def display_inventory(self):\n",
    "        if not self.items:\n",
    "            return \"Inventory is empty.\"\n",
    "        inventory_info = \"Inventory:\\n\"\n",
    "        for item in self.items:\n",
    "            inventory_info += f\" - {item}\\n\"\n",
    "        return inventory_info\n",
    "\n",
    "class Character:\n",
    "    def __init__(self, name, health):\n",
    "        self.name = name\n",
    "        self.health = health\n",
    "        self.weapon = None \n",
    "        self.armor = None   \n",
    "        self.inventory = Inventory()  \n",
    "\n",
    "    def equip_weapon(self, weapon):\n",
    "        self.weapon = weapon\n",
    "\n",
    "    def equip_armor(self, armor):\n",
    "        self.armor = armor\n",
    "\n",
    "    def take_damage(self, damage):\n",
    "        if self.armor:\n",
    "            damage -= self.armor.defense\n",
    "        if damage > 0:\n",
    "            self.health -= damage\n",
    "\n",
    "    def __str__(self):\n",
    "        character_info = f\"{self.name} (Health: {self.health})\"\n",
    "        if self.weapon:\n",
    "            character_info += f\"\\nEquipped {self.weapon}\"\n",
    "        if self.armor:\n",
    "            character_info += f\"\\nEquipped {self.armor}\"\n",
    "        character_info += f\"\\n{self.inventory.display_inventory()}\"\n",
    "        return character_info\n",
    "\n",
    "hero = Character(\"Hero\", 100)\n",
    "sword = Weapon(\"Sword\", 20)\n",
    "shield = Armor(\"Shield\", 10)\n",
    "potion = Inventory()\n",
    "\n",
    "# Equip the character\n",
    "hero.equip_weapon(sword)\n",
    "hero.equip_armor(shield)\n",
    "potion.add_item(\"Health Potion\")\n",
    "potion.add_item(\"Mana Potion\")\n",
    "hero.inventory.add_item(potion)\n",
    "\n",
    "print(hero)\n",
    "\n",
    "hero.take_damage(15)\n",
    "print(f\"{hero.name} takes 15 damage.\")\n",
    "print(hero)\n"
   ]
  },
  {
   "cell_type": "markdown",
   "metadata": {},
   "source": [
    "### 17.  Describe the concept of \"aggregation\" in composition and how it differs from simple composition."
   ]
  },
  {
   "cell_type": "markdown",
   "metadata": {},
   "source": [
    "\"Aggregation\" is a concept related to composition in object-oriented programming, and it refers to a more loosely coupled form of object composition. Aggregation is a way to represent relationships between objects, where one object (the \"whole\" or \"container\") contains or owns other objects (the \"parts\" or \"components\") but doesn't necessarily have exclusive ownership over them. This is in contrast to simple composition, which often implies strong ownership and a more intimate relationship between the containing object and the contained objects.\n",
    "\n",
    "Here are the key aspects of aggregation and how it differs from simple composition:\n",
    "\n",
    "1. **Ownership**: In simple composition, the containing object typically owns the contained objects, and their lifecycles are closely tied. When the containing object is destroyed, the contained objects are usually destroyed as well. In aggregation, the containing object may reference the contained objects, but it does not necessarily own them. The contained objects may have independent lifecycles and may exist outside the scope of the containing object.\n",
    "\n",
    "2. **Multiplicity**: Aggregation often represents a \"whole-part\" relationship, where the whole can contain multiple parts. For example, a university can have multiple departments, but those departments can exist independently of the university. In simple composition, the containing object may have exclusive ownership of the contained objects and may not allow multiple instances of the same contained object.\n",
    "\n",
    "3. **Navigation**: In aggregation, you can navigate from the whole to its parts, and vice versa. This allows you to access and manipulate the contained objects. Simple composition also allows navigation, but the relationship is usually more tightly bound, making it less common to access the contained objects independently.\n",
    "\n",
    "4. **Dependency**: Aggregation implies a weaker form of dependency between the whole and its parts. In simple composition, changes to the containing object can directly affect the contained objects, and vice versa. In aggregation, changes to the containing object may not necessarily affect the contained objects, and they can exist independently.\n",
    "\n",
    "5. **Lifetime Management**: In simple composition, the containing object often manages the lifetime of the contained objects, and they are typically created and destroyed together. In aggregation, the lifetime management of the contained objects is more flexible. They can exist before or after the creation of the containing object.\n",
    "\n",
    "6. **Termination**: In simple composition, when the containing object is terminated or destroyed, the contained objects are often terminated or destroyed as well. In aggregation, the destruction of the containing object may not necessarily lead to the destruction of the contained objects.\n",
    "\n",
    "To illustrate the difference, consider a university (the whole) and its departments (the parts). If the relationship between the university and departments is one of aggregation, the departments can exist independently and can even be part of multiple universities simultaneously. In simple composition, the university would own the departments exclusively, and they might be created and destroyed together as a single unit.\n"
   ]
  },
  {
   "cell_type": "markdown",
   "metadata": {},
   "source": [
    "### 18.  Create a Python class for a house, using composition to represent rooms, furniture, and appliances."
   ]
  },
  {
   "cell_type": "code",
   "execution_count": 69,
   "metadata": {},
   "outputs": [
    {
     "name": "stdout",
     "output_type": "stream",
     "text": [
      "Cozy Cottage House\n",
      "\n",
      "Living Room (Area: 300 sq. ft)\n",
      "Furniture:\n",
      " - Furniture: Sofa\n",
      "\n",
      "\n",
      "Kitchen (Area: 150 sq. ft)\n",
      "Furniture:\n",
      " - Furniture: Dining Table\n",
      "Appliances:\n",
      " - Appliance: Refrigerator\n",
      " - Appliance: Oven\n",
      "\n",
      "\n",
      "Bedroom (Area: 200 sq. ft)\n",
      "Furniture:\n",
      " - Furniture: Bed\n",
      "\n",
      "\n",
      "\n"
     ]
    }
   ],
   "source": [
    "class Room:\n",
    "    def __init__(self, name, area):\n",
    "        self.name = name\n",
    "        self.area = area\n",
    "        self.furniture = []  \n",
    "        self.appliances = []  \n",
    "\n",
    "    def add_furniture(self, furniture):\n",
    "        self.furniture.append(furniture)\n",
    "\n",
    "    def add_appliance(self, appliance):\n",
    "        self.appliances.append(appliance)\n",
    "\n",
    "    def __str__(self):\n",
    "        room_info = f\"{self.name} (Area: {self.area} sq. ft)\\n\"\n",
    "        if self.furniture:\n",
    "            room_info += \"Furniture:\\n\"\n",
    "            for item in self.furniture:\n",
    "                room_info += f\" - {item}\\n\"\n",
    "        if self.appliances:\n",
    "            room_info += \"Appliances:\\n\"\n",
    "            for item in self.appliances:\n",
    "                room_info += f\" - {item}\\n\"\n",
    "        return room_info\n",
    "\n",
    "class Furniture:\n",
    "    def __init__(self, name):\n",
    "        self.name = name\n",
    "\n",
    "    def __str__(self):\n",
    "        return f\"Furniture: {self.name}\"\n",
    "\n",
    "class Appliance:\n",
    "    def __init__(self, name):\n",
    "        self.name = name\n",
    "\n",
    "    def __str__(self):\n",
    "        return f\"Appliance: {self.name}\"\n",
    "\n",
    "class House:\n",
    "    def __init__(self, name):\n",
    "        self.name = name\n",
    "        self.rooms = []  \n",
    "\n",
    "    def add_room(self, room):\n",
    "        self.rooms.append(room)\n",
    "\n",
    "    def __str__(self):\n",
    "        house_info = f\"{self.name} House\\n\\n\"\n",
    "        for room in self.rooms:\n",
    "            house_info += str(room) + \"\\n\\n\"\n",
    "        return house_info\n",
    "\n",
    "my_house = House(\"Cozy Cottage\")\n",
    "living_room = Room(\"Living Room\", 300)\n",
    "kitchen = Room(\"Kitchen\", 150)\n",
    "bedroom = Room(\"Bedroom\", 200)\n",
    "\n",
    "living_room.add_furniture(Furniture(\"Sofa\"))\n",
    "kitchen.add_furniture(Furniture(\"Dining Table\"))\n",
    "bedroom.add_furniture(Furniture(\"Bed\"))\n",
    "\n",
    "kitchen.add_appliance(Appliance(\"Refrigerator\"))\n",
    "kitchen.add_appliance(Appliance(\"Oven\"))\n",
    "\n",
    "my_house.add_room(living_room)\n",
    "my_house.add_room(kitchen)\n",
    "my_house.add_room(bedroom)\n",
    "\n",
    "print(my_house)\n"
   ]
  },
  {
   "cell_type": "markdown",
   "metadata": {},
   "source": [
    "### 19.  How can you achieve flexibility in composed objects by allowing them to be replaced or modified dynamically at runtime?"
   ]
  },
  {
   "cell_type": "markdown",
   "metadata": {},
   "source": [
    "Achieving flexibility in composed objects by allowing them to be replaced or modified dynamically at runtime can be done through several techniques and design patterns. These techniques enable you to change the behavior and components of an object without altering its structure. Here are some methods to achieve such flexibility:\n",
    "\n",
    "1. **Interface-Based Design**: Define clear interfaces for your composed objects. When replacing or modifying components, ensure that the new components adhere to the same interface. This allows you to switch components dynamically without affecting the core functionality of the containing object.\n",
    "\n",
    "2. **Dependency Injection**: Use dependency injection to provide components to an object from external sources. You can inject different implementations of a component at runtime, enabling dynamic replacement. Dependency injection frameworks in Python, like Dagger, Guice, or Spring, can help manage these dependencies.\n",
    "\n",
    "3. **Factory Methods or Factories**: Implement factory methods or factories to create and replace components. A factory can return different implementations of a component based on runtime conditions or configuration. This approach allows you to switch components dynamically without modifying the containing object's code.\n",
    "\n",
    "4. **Decorator Pattern**: The decorator pattern allows you to add or modify behavior of an object dynamically at runtime. You can wrap an object with decorators that implement the same interface, adding or altering functionality as needed. This is particularly useful for adding features to an object without modifying its core implementation.\n",
    "\n",
    "5. **Strategy Pattern**: The strategy pattern allows you to define a family of interchangeable algorithms or behaviors. At runtime, you can select and assign a specific strategy to an object, altering its behavior. This is useful for objects that perform different tasks based on conditions.\n",
    "\n",
    "6. **Service Locator**: Implement a service locator pattern to manage and locate components or services. The service locator can provide access to different implementations of components based on runtime configurations or conditions.\n",
    "\n",
    "7. **Dynamic Scripting**: In some cases, you can use dynamic scripting or scripting languages (e.g., Python's dynamic nature) to modify and replace components dynamically. However, this approach may require careful design and control to maintain consistency and safety.\n",
    "\n",
    "8. **Plugin System**: Create a plugin system that allows external modules or plugins to extend or replace components in your system. This approach is commonly used in software with extensible architectures.\n",
    "\n",
    "9. **Configuration Files**: Store component configurations in external files (e.g., JSON or XML), allowing you to change and replace components without modifying the source code. The program can read the configuration file at runtime to determine which components to use.\n",
    "\n",
    "10. **Inversion of Control Containers**: Utilize inversion of control (IoC) containers, which manage component lifecycles and dependencies. IoC containers can dynamically instantiate and replace components based on configuration and runtime conditions.\n",
    "\n",
    "11. **Runtime Parameterization**: Allow components to be parameterized with strategies or configurations at runtime. This enables flexibility by altering the behavior of components based on parameters or conditions.\n"
   ]
  },
  {
   "cell_type": "markdown",
   "metadata": {},
   "source": [
    "### 20.  Create a Python class for a social media application, using composition to represent users, posts, and comments."
   ]
  },
  {
   "cell_type": "code",
   "execution_count": 70,
   "metadata": {},
   "outputs": [
    {
     "name": "stdout",
     "output_type": "stream",
     "text": [
      "Social Media Application\n",
      "\n",
      "User: Alice\n",
      " - Post by Alice:\n",
      "Hello, world!\n",
      "   - Comment by Bob on Alice's post:\n",
      "Welcome, Bob!\n",
      "\n",
      "User: Bob\n",
      " - Post by Bob:\n",
      "Nice to meet you, Alice!\n",
      "   - Comment by Alice on Bob's post:\n",
      "Great to meet you too!\n",
      "\n",
      "\n"
     ]
    }
   ],
   "source": [
    "class User:\n",
    "    def __init__(self, username):\n",
    "        self.username = username\n",
    "        self.posts = []  \n",
    "        self.comments = [] \n",
    "\n",
    "    def create_post(self, content):\n",
    "        post = Post(self, content)\n",
    "        self.posts.append(post)\n",
    "        return post\n",
    "\n",
    "    def add_comment(self, post, content):\n",
    "        comment = Comment(self, post, content)\n",
    "        post.comments.append(comment)\n",
    "        self.comments.append(comment)\n",
    "        return comment\n",
    "\n",
    "    def __str__(self):\n",
    "        return f\"User: {self.username}\"\n",
    "\n",
    "class Post:\n",
    "    def __init__(self, author, content):\n",
    "        self.author = author\n",
    "        self.content = content\n",
    "        self.comments = []  \n",
    "\n",
    "    def __str__(self):\n",
    "        return f\"Post by {self.author.username}:\\n{self.content}\"\n",
    "\n",
    "class Comment:\n",
    "    def __init__(self, author, post, content):\n",
    "        self.author = author\n",
    "        self.post = post\n",
    "        self.content = content\n",
    "\n",
    "    def __str__(self):\n",
    "        return f\"Comment by {self.author.username} on {self.post.author.username}'s post:\\n{self.content}\"\n",
    "\n",
    "class SocialMediaApp:\n",
    "    def __init__(self):\n",
    "        self.users = []  \n",
    "\n",
    "    def create_user(self, username):\n",
    "        user = User(username)\n",
    "        self.users.append(user)\n",
    "        return user\n",
    "\n",
    "    def __str__(self):\n",
    "        app_info = \"Social Media Application\\n\\n\"\n",
    "        for user in self.users:\n",
    "            app_info += str(user) + \"\\n\"\n",
    "            for post in user.posts:\n",
    "                app_info += f\" - {post}\\n\"\n",
    "                for comment in post.comments:\n",
    "                    app_info += f\"   - {comment}\\n\"\n",
    "            app_info += \"\\n\"\n",
    "        return app_info\n",
    "\n",
    "\n",
    "my_app = SocialMediaApp()\n",
    "alice = my_app.create_user(\"Alice\")\n",
    "bob = my_app.create_user(\"Bob\")\n",
    "\n",
    "alice_post1 = alice.create_post(\"Hello, world!\")\n",
    "bob_post1 = bob.create_post(\"Nice to meet you, Alice!\")\n",
    "alice_comment1 = bob.add_comment(alice_post1, \"Welcome, Bob!\")\n",
    "alice_comment2 = alice.add_comment(bob_post1, \"Great to meet you too!\")\n",
    "\n",
    "print(my_app)\n"
   ]
  }
 ],
 "metadata": {
  "kernelspec": {
   "display_name": "Python 3",
   "language": "python",
   "name": "python3"
  },
  "language_info": {
   "codemirror_mode": {
    "name": "ipython",
    "version": 3
   },
   "file_extension": ".py",
   "mimetype": "text/x-python",
   "name": "python",
   "nbconvert_exporter": "python",
   "pygments_lexer": "ipython3",
   "version": "3.11.4"
  }
 },
 "nbformat": 4,
 "nbformat_minor": 2
}
