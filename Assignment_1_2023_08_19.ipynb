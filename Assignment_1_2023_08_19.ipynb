{
  "nbformat": 4,
  "nbformat_minor": 0,
  "metadata": {
    "colab": {
      "provenance": [],
      "authorship_tag": "ABX9TyP+00nZ4zuUvDgTg3NKUpfZ",
      "include_colab_link": true
    },
    "kernelspec": {
      "name": "python3",
      "display_name": "Python 3"
    },
    "language_info": {
      "name": "python"
    }
  },
  "cells": [
    {
      "cell_type": "markdown",
      "metadata": {
        "id": "view-in-github",
        "colab_type": "text"
      },
      "source": [
        "<a href=\"https://colab.research.google.com/github/Arun28S12/data_science_Assignments/blob/main/Assignment_1_2023_08_19.ipynb\" target=\"_parent\"><img src=\"https://colab.research.google.com/assets/colab-badge.svg\" alt=\"Open In Colab\"/></a>"
      ]
    },
    {
      "cell_type": "markdown",
      "source": [
        "**Basic variable based questions **\n",
        "\n",
        "1. Declare two variables, `x` and `y`, and assign them integer values. Swap the values of these variables without using any temporary variable.\n"
      ],
      "metadata": {
        "id": "oWQqpCrndR4G"
      }
    },
    {
      "cell_type": "code",
      "source": [
        "x=10\n",
        "y=5\n",
        "y,x=x,y\n"
      ],
      "metadata": {
        "id": "1oZ9vdV8db4C"
      },
      "execution_count": null,
      "outputs": []
    },
    {
      "cell_type": "markdown",
      "source": [
        "2. Create a program that calculates the area of a rectangle. Take the length and width as inputs from the user and store them in variables. Calculate and display the area.\n"
      ],
      "metadata": {
        "id": "rqgC9QordUX2"
      }
    },
    {
      "cell_type": "code",
      "source": [
        "length=float(input(\"Enter the length\"))\n",
        "width=float(input(\"Enter the width\"))\n",
        "area=length*width\n",
        "print(\"The area of rectangle is: \",area)"
      ],
      "metadata": {
        "id": "4B0OcAx8dvHW"
      },
      "execution_count": null,
      "outputs": []
    },
    {
      "cell_type": "markdown",
      "source": [
        "3. Write a Python program that converts temperatures from Celsius to Fahrenheit. Take the temperature in Celsius as input, store it in a variable, convert it to Fahrenheit, and display the result.\n"
      ],
      "metadata": {
        "id": "sXV0bxRIeWKo"
      }
    },
    {
      "cell_type": "code",
      "source": [
        "Celsius_temp=float(input(\"Enter the Temperature in Celsius\"))\n",
        "\n",
        "Fahrenheit_temp=(Celsius_temp*9/5)+32\n",
        "print(\"The Temperature in Fahrenheit is: \",Fahrenheit_temp)"
      ],
      "metadata": {
        "id": "f2aW1o8Ud4rK"
      },
      "execution_count": null,
      "outputs": []
    },
    {
      "cell_type": "markdown",
      "source": [
        "**String based questions**\n",
        "1. Write a Python program that takes a string as input and prints the length of the string."
      ],
      "metadata": {
        "id": "jXjF5gIegp-F"
      }
    },
    {
      "cell_type": "code",
      "source": [
        "input_str=input(\"Enter the string\")\n",
        "print(f\"The length of {input_str} is: \",len(input_str))"
      ],
      "metadata": {
        "id": "iMdn_-KQg7_x"
      },
      "execution_count": null,
      "outputs": []
    },
    {
      "cell_type": "markdown",
      "source": [
        "2. Create a program that takes a sentence from the user and counts the number of vowels (a, e, i, o, u) in the string."
      ],
      "metadata": {
        "id": "Fmt9IaoGhhEo"
      }
    },
    {
      "cell_type": "markdown",
      "source": [],
      "metadata": {
        "id": "0NCo8KzcikS5"
      }
    },
    {
      "cell_type": "markdown",
      "source": [],
      "metadata": {
        "id": "lnyEksaZhpym"
      }
    },
    {
      "cell_type": "code",
      "source": [
        "sentence=input(\"Enter the sentence: \")\n",
        "sentence=sentence.lower()\n",
        "vowel_count=0\n",
        "for char in sentence:\n",
        "  if char in \"aeiou\":\n",
        "    vowel_count +=1\n",
        "print(\"Number of vowels in the sentence: \",vowel_count)"
      ],
      "metadata": {
        "id": "Qpz5w7fTh1XJ"
      },
      "execution_count": null,
      "outputs": []
    },
    {
      "cell_type": "markdown",
      "source": [
        "3. Given a string, reverse the order of characters using string slicing and print the reversed string."
      ],
      "metadata": {
        "id": "Af4Isko6inSF"
      }
    },
    {
      "cell_type": "code",
      "source": [
        "input_str=input(\"Enter the string : \")\n",
        "reversed_str=input_str[::-1]\n",
        "print(\"The reversed String is: \",reversed_str)"
      ],
      "metadata": {
        "id": "HJqMqrV_iwdN"
      },
      "execution_count": null,
      "outputs": []
    },
    {
      "cell_type": "markdown",
      "source": [
        "4. Write a program that takes a string as input and checks if it is a palindrome (reads the same forwards and backwards)."
      ],
      "metadata": {
        "id": "zqkXXMkGpQl4"
      }
    },
    {
      "cell_type": "code",
      "source": [
        "palindrome_str=input(\"Enter the string: \")\n",
        "if palindrome_str==palindrome_str[::-1]:\n",
        "  print(\"The given string is palindrome\")\n",
        "else:\n",
        "  print(\"The given string is not a palindrome\")"
      ],
      "metadata": {
        "id": "YvnJnr5FuPbK"
      },
      "execution_count": null,
      "outputs": []
    },
    {
      "cell_type": "markdown",
      "source": [
        "5. Create a program that takes a string as input and removes all the spaces from it. Print the modified string without spaces.\n"
      ],
      "metadata": {
        "id": "XDLTnDKo2Kfw"
      }
    },
    {
      "cell_type": "code",
      "source": [
        "given_str=input(\"Enter the given : \")\n",
        "modified_string=given_str.replace(\" \",\"\")\n",
        "print(modified_string)"
      ],
      "metadata": {
        "id": "cN6RFaEr2S0I"
      },
      "execution_count": null,
      "outputs": []
    }
  ]
}