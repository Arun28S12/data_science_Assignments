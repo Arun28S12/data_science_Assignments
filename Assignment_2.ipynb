{
 "cells": [
  {
   "cell_type": "markdown",
   "metadata": {},
   "source": [
    "# **TOPIC : String Based Assignment Problem**\n",
    "### 1.Write a program to reverse a string"
   ]
  },
  {
   "cell_type": "code",
   "execution_count": 1,
   "metadata": {},
   "outputs": [
    {
     "name": "stdout",
     "output_type": "stream",
     "text": [
      "!dlroW ,olleH\n"
     ]
    }
   ],
   "source": [
    "def reverse_string(input_str):\n",
    "    return input_str[::-1]\n",
    "\n",
    "# Example:\n",
    "input_str = \"Hello, World!\"\n",
    "reversed_str = reverse_string(input_str)\n",
    "print(reversed_str)  # Output: \"!dlroW ,olleH\"\n"
   ]
  },
  {
   "cell_type": "markdown",
   "metadata": {},
   "source": [
    "### 2. Check if a string is a palindrome"
   ]
  },
  {
   "cell_type": "code",
   "execution_count": 2,
   "metadata": {},
   "outputs": [
    {
     "name": "stdout",
     "output_type": "stream",
     "text": [
      "True\n"
     ]
    }
   ],
   "source": [
    "def is_palindrome(input_str):\n",
    "    input_str = input_str.lower().replace(\" \", \"\")\n",
    "    return input_str == input_str[::-1]\n",
    "\n",
    "# Example:\n",
    "input_str = \"A man a plan a canal Panama\"\n",
    "print(is_palindrome(input_str))  # Output: True\n"
   ]
  },
  {
   "cell_type": "markdown",
   "metadata": {},
   "source": [
    "### 3. Convert a string to Uppercase."
   ]
  },
  {
   "cell_type": "code",
   "execution_count": 3,
   "metadata": {},
   "outputs": [
    {
     "name": "stdout",
     "output_type": "stream",
     "text": [
      "HELLO, WORLD!\n"
     ]
    }
   ],
   "source": [
    "def to_uppercase(input_str):\n",
    "    return input_str.upper()\n",
    "\n",
    "# Example:\n",
    "input_str = \"hello, world!\"\n",
    "uppercase_str = to_uppercase(input_str)\n",
    "print(uppercase_str)  # Output: \"HELLO, WORLD!\"\n"
   ]
  },
  {
   "cell_type": "markdown",
   "metadata": {},
   "source": [
    "### 4.Convert a string to lowercase."
   ]
  },
  {
   "cell_type": "code",
   "execution_count": 4,
   "metadata": {},
   "outputs": [
    {
     "name": "stdout",
     "output_type": "stream",
     "text": [
      "hello, world!\n"
     ]
    }
   ],
   "source": [
    "def to_lowercase(input_str):\n",
    "    return input_str.lower()\n",
    "\n",
    "# Example:\n",
    "input_str = \"Hello, World!\"\n",
    "lowercase_str = to_lowercase(input_str)\n",
    "print(lowercase_str)  # Output: \"hello, world!\"\n"
   ]
  },
  {
   "cell_type": "markdown",
   "metadata": {},
   "source": [
    "### 5.Count the number of vowels in a string."
   ]
  },
  {
   "cell_type": "code",
   "execution_count": 5,
   "metadata": {},
   "outputs": [
    {
     "name": "stdout",
     "output_type": "stream",
     "text": [
      "3\n"
     ]
    }
   ],
   "source": [
    "def count_vowels(input_str):\n",
    "    vowels = \"aeiouAEIOU\"\n",
    "    return sum(1 for char in input_str if char in vowels)\n",
    "\n",
    "# Example:\n",
    "input_str = \"Hello, World!\"\n",
    "vowel_count = count_vowels(input_str)\n",
    "print(vowel_count)  # Output: 3\n"
   ]
  },
  {
   "cell_type": "markdown",
   "metadata": {},
   "source": [
    "### 6.Count the number of consonants in a string."
   ]
  },
  {
   "cell_type": "code",
   "execution_count": 6,
   "metadata": {},
   "outputs": [
    {
     "name": "stdout",
     "output_type": "stream",
     "text": [
      "7\n"
     ]
    }
   ],
   "source": [
    "def count_consonants(input_str):\n",
    "    vowels = \"aeiou\"\n",
    "    return sum(1 for char in input_str.lower() if char not in vowels and char.isalpha())\n",
    "\n",
    "# Example:\n",
    "input_str = \"Hello, World!\"\n",
    "consonant_count = count_consonants(input_str)\n",
    "print(consonant_count)  # Output: 7\n"
   ]
  },
  {
   "cell_type": "markdown",
   "metadata": {},
   "source": [
    "### 7.Remove all whitespaces from a string."
   ]
  },
  {
   "cell_type": "code",
   "execution_count": 7,
   "metadata": {},
   "outputs": [
    {
     "name": "stdout",
     "output_type": "stream",
     "text": [
      "Hello,World!\n"
     ]
    }
   ],
   "source": [
    "def remove_whitespace(input_str):\n",
    "    return input_str.replace(\" \", \"\")\n",
    "\n",
    "# Example:\n",
    "input_str = \"Hello, World!\"\n",
    "no_whitespace_str = remove_whitespace(input_str)\n",
    "print(no_whitespace_str)  # Output: \"Hello,World!\"\n"
   ]
  },
  {
   "cell_type": "markdown",
   "metadata": {},
   "source": [
    "### 8.Find the length of a string without using the `len()` function."
   ]
  },
  {
   "cell_type": "code",
   "execution_count": 8,
   "metadata": {},
   "outputs": [
    {
     "name": "stdout",
     "output_type": "stream",
     "text": [
      "13\n"
     ]
    }
   ],
   "source": [
    "def string_length(input_str):\n",
    "    count = 0\n",
    "    for char in input_str:\n",
    "        count += 1\n",
    "    return count\n",
    "\n",
    "# Example:\n",
    "input_str = \"Hello, World!\"\n",
    "length = string_length(input_str)\n",
    "print(length)  # Output: 13\n"
   ]
  },
  {
   "cell_type": "markdown",
   "metadata": {},
   "source": [
    "### 9.Check if a string contains a specific word."
   ]
  },
  {
   "cell_type": "code",
   "execution_count": 9,
   "metadata": {},
   "outputs": [
    {
     "name": "stdout",
     "output_type": "stream",
     "text": [
      "True\n"
     ]
    }
   ],
   "source": [
    "def contains_word(input_str, word):\n",
    "    return word in input_str\n",
    "\n",
    "# Example:\n",
    "input_str = \"Hello, World!\"\n",
    "word_to_check = \"World\"\n",
    "print(contains_word(input_str, word_to_check))  # Output: True\n"
   ]
  },
  {
   "cell_type": "markdown",
   "metadata": {},
   "source": [
    "### 10.Replace a word in a string with another word."
   ]
  },
  {
   "cell_type": "code",
   "execution_count": 10,
   "metadata": {},
   "outputs": [
    {
     "name": "stdout",
     "output_type": "stream",
     "text": [
      "Hello, Universe!\n"
     ]
    }
   ],
   "source": [
    "def replace_word(input_str, old_word, new_word):\n",
    "    return input_str.replace(old_word, new_word)\n",
    "\n",
    "# Example:\n",
    "input_str = \"Hello, World!\"\n",
    "new_str = replace_word(input_str, \"World\", \"Universe\")\n",
    "print(new_str)  # Output: \"Hello, Universe!\"\n"
   ]
  },
  {
   "cell_type": "markdown",
   "metadata": {},
   "source": [
    "### 11. Count the occurrences of a word in a string"
   ]
  },
  {
   "cell_type": "code",
   "execution_count": 11,
   "metadata": {},
   "outputs": [
    {
     "name": "stdout",
     "output_type": "stream",
     "text": [
      "3\n"
     ]
    }
   ],
   "source": [
    "def count_word_occurrences(input_str, word):\n",
    "    return input_str.lower().count(word.lower())\n",
    "\n",
    "# Example:\n",
    "input_str = \"Hello, hello, world! Hello\"\n",
    "word_to_count = \"hello\"\n",
    "count = count_word_occurrences(input_str, word_to_count)\n",
    "print(count)  # Output: 3\n"
   ]
  },
  {
   "cell_type": "markdown",
   "metadata": {},
   "source": [
    "### 12. Find the first occurrence of a word in a string.\n"
   ]
  },
  {
   "cell_type": "code",
   "execution_count": 12,
   "metadata": {},
   "outputs": [
    {
     "name": "stdout",
     "output_type": "stream",
     "text": [
      "0\n"
     ]
    }
   ],
   "source": [
    "def find_first_occurrence(input_str, word):\n",
    "    return input_str.lower().index(word.lower())\n",
    "\n",
    "# Example:\n",
    "input_str = \"Hello, hello, world! Hello\"\n",
    "word_to_find = \"hello\"\n",
    "position = find_first_occurrence(input_str, word_to_find)\n",
    "print(position)  # Output: 0\n"
   ]
  },
  {
   "cell_type": "markdown",
   "metadata": {},
   "source": [
    "### 13. Find the last occurrence of a word in a string."
   ]
  },
  {
   "cell_type": "code",
   "execution_count": 13,
   "metadata": {},
   "outputs": [
    {
     "name": "stdout",
     "output_type": "stream",
     "text": [
      "21\n"
     ]
    }
   ],
   "source": [
    "def find_last_occurrence(input_str, word):\n",
    "    return input_str.lower().rindex(word.lower())\n",
    "\n",
    "# Example:\n",
    "input_str = \"Hello, hello, world! Hello\"\n",
    "word_to_find = \"hello\"\n",
    "position = find_last_occurrence(input_str, word_to_find)\n",
    "print(position)  # Output: 12\n"
   ]
  },
  {
   "cell_type": "markdown",
   "metadata": {},
   "source": [
    "### 14. Split a string into a list of words."
   ]
  },
  {
   "cell_type": "code",
   "execution_count": 14,
   "metadata": {},
   "outputs": [
    {
     "name": "stdout",
     "output_type": "stream",
     "text": [
      "['Hello,', 'World!']\n"
     ]
    }
   ],
   "source": [
    "def split_string(input_str):\n",
    "    return input_str.split()\n",
    "\n",
    "# Example:\n",
    "input_str = \"Hello, World!\"\n",
    "word_list = split_string(input_str)\n",
    "print(word_list)  # Output: ['Hello,', 'World!']\n"
   ]
  },
  {
   "cell_type": "markdown",
   "metadata": {},
   "source": [
    "### 15. Join a list of words into a string."
   ]
  },
  {
   "cell_type": "code",
   "execution_count": 15,
   "metadata": {},
   "outputs": [
    {
     "name": "stdout",
     "output_type": "stream",
     "text": [
      "Hello, World!\n"
     ]
    }
   ],
   "source": [
    "def join_words(word_list):\n",
    "    return ' '.join(word_list)\n",
    "\n",
    "# Example:\n",
    "word_list = ['Hello,', 'World!']\n",
    "joined_str = join_words(word_list)\n",
    "print(joined_str)  # Output: \"Hello, World!\"\n"
   ]
  },
  {
   "cell_type": "markdown",
   "metadata": {},
   "source": [
    "### 16.Convert a string where words are separated by spaces to one where words are separated by underscores.\n"
   ]
  },
  {
   "cell_type": "code",
   "execution_count": 16,
   "metadata": {},
   "outputs": [
    {
     "name": "stdout",
     "output_type": "stream",
     "text": [
      "Hello_World\n"
     ]
    }
   ],
   "source": [
    "def space_to_underscore(input_str):\n",
    "    return input_str.replace(\" \", \"_\")\n",
    "\n",
    "# Example:\n",
    "input_str = \"Hello World\"\n",
    "underscored_str = space_to_underscore(input_str)\n",
    "print(underscored_str)  # Output: \"Hello_World\"\n"
   ]
  },
  {
   "cell_type": "markdown",
   "metadata": {},
   "source": [
    "### 17. Check if a string starts with a specific word or phrase."
   ]
  },
  {
   "cell_type": "code",
   "execution_count": 17,
   "metadata": {},
   "outputs": [
    {
     "name": "stdout",
     "output_type": "stream",
     "text": [
      "True\n"
     ]
    }
   ],
   "source": [
    "def starts_with(input_str, prefix):\n",
    "    return input_str.startswith(prefix)\n",
    "\n",
    "# Example:\n",
    "input_str = \"Hello, World!\"\n",
    "prefix_to_check = \"Hello\"\n",
    "print(starts_with(input_str, prefix_to_check))  # Output: True\n"
   ]
  },
  {
   "cell_type": "markdown",
   "metadata": {},
   "source": [
    "### 18. Check if a string ends with a specific word or phrase."
   ]
  },
  {
   "cell_type": "code",
   "execution_count": 18,
   "metadata": {},
   "outputs": [
    {
     "name": "stdout",
     "output_type": "stream",
     "text": [
      "True\n"
     ]
    }
   ],
   "source": [
    "def ends_with(input_str, suffix):\n",
    "    return input_str.endswith(suffix)\n",
    "\n",
    "# Example:\n",
    "input_str = \"Hello, World!\"\n",
    "suffix_to_check = \"World!\"\n",
    "print(ends_with(input_str, suffix_to_check))  # Output: True\n"
   ]
  },
  {
   "cell_type": "markdown",
   "metadata": {},
   "source": [
    "### 19. Convert a string to title case (e.g., \"hello world\" to \"Hello World\")."
   ]
  },
  {
   "cell_type": "code",
   "execution_count": 19,
   "metadata": {},
   "outputs": [
    {
     "name": "stdout",
     "output_type": "stream",
     "text": [
      "Hello World\n"
     ]
    }
   ],
   "source": [
    "def to_title_case(input_str):\n",
    "    return input_str.title()\n",
    "\n",
    "# Example:\n",
    "input_str = \"hello world\"\n",
    "title_case_str = to_title_case(input_str)\n",
    "print(title_case_str)  # Output: \"Hello World\"\n"
   ]
  },
  {
   "cell_type": "markdown",
   "metadata": {},
   "source": [
    "### 20. Find the longest word in a string."
   ]
  },
  {
   "cell_type": "code",
   "execution_count": 20,
   "metadata": {},
   "outputs": [
    {
     "name": "stdout",
     "output_type": "stream",
     "text": [
      "quick\n"
     ]
    }
   ],
   "source": [
    "def longest_word(input_str):\n",
    "    words = input_str.split()\n",
    "    return max(words, key=len)\n",
    "\n",
    "# Example:\n",
    "input_str = \"The quick brown fox jumps over the lazy dog\"\n",
    "longest = longest_word(input_str)\n",
    "print(longest)  # Output: \"quick\"\n"
   ]
  },
  {
   "cell_type": "markdown",
   "metadata": {},
   "source": [
    "### 21. Find the shortest word in a string."
   ]
  },
  {
   "cell_type": "code",
   "execution_count": 21,
   "metadata": {},
   "outputs": [
    {
     "name": "stdout",
     "output_type": "stream",
     "text": [
      "The\n"
     ]
    }
   ],
   "source": [
    "def shortest_word(input_str):\n",
    "    words = input_str.split()\n",
    "    return min(words, key=len)\n",
    "\n",
    "# Example:\n",
    "input_str = \"The quick brown fox jumps over the lazy dog\"\n",
    "shortest = shortest_word(input_str)\n",
    "print(shortest)  # Output: \"The\"\n"
   ]
  },
  {
   "cell_type": "markdown",
   "metadata": {},
   "source": [
    "### 22. Reverse the order of words in a string."
   ]
  },
  {
   "cell_type": "code",
   "execution_count": 22,
   "metadata": {},
   "outputs": [
    {
     "name": "stdout",
     "output_type": "stream",
     "text": [
      "World Hello\n"
     ]
    }
   ],
   "source": [
    "def reverse_words_order(input_str):\n",
    "    words = input_str.split()\n",
    "    return ' '.join(reversed(words))\n",
    "\n",
    "# Example:\n",
    "input_str = \"Hello World\"\n",
    "reversed_str = reverse_words_order(input_str)\n",
    "print(reversed_str)  # Output: \"World Hello\"\n"
   ]
  },
  {
   "cell_type": "markdown",
   "metadata": {},
   "source": [
    "### 23. Check if a string is alphanumeric."
   ]
  },
  {
   "cell_type": "code",
   "execution_count": 23,
   "metadata": {},
   "outputs": [
    {
     "name": "stdout",
     "output_type": "stream",
     "text": [
      "True\n"
     ]
    }
   ],
   "source": [
    "def is_alphanumeric(input_str):\n",
    "    return input_str.isalnum()\n",
    "\n",
    "# Example:\n",
    "input_str = \"Hello123\"\n",
    "print(is_alphanumeric(input_str))  # Output: True\n"
   ]
  },
  {
   "cell_type": "markdown",
   "metadata": {},
   "source": [
    "### 24. Extract all digits from a string."
   ]
  },
  {
   "cell_type": "code",
   "execution_count": 24,
   "metadata": {},
   "outputs": [
    {
     "name": "stdout",
     "output_type": "stream",
     "text": [
      "123456\n"
     ]
    }
   ],
   "source": [
    "def extract_digits(input_str):\n",
    "    return ''.join(filter(str.isdigit, input_str))\n",
    "\n",
    "# Example:\n",
    "input_str = \"Hello123World456\"\n",
    "digits = extract_digits(input_str)\n",
    "print(digits)  # Output: \"123456\"\n"
   ]
  },
  {
   "cell_type": "markdown",
   "metadata": {},
   "source": [
    "### 25. Extract all alphabets from a string."
   ]
  },
  {
   "cell_type": "code",
   "execution_count": 25,
   "metadata": {},
   "outputs": [
    {
     "name": "stdout",
     "output_type": "stream",
     "text": [
      "HelloWorld\n"
     ]
    }
   ],
   "source": [
    "def extract_alphabets(input_str):\n",
    "    return ''.join(filter(str.isalpha, input_str))\n",
    "\n",
    "# Example:\n",
    "input_str = \"Hello123World\"\n",
    "alphabets = extract_alphabets(input_str)\n",
    "print(alphabets)  # Output: \"HelloWorld\"\n"
   ]
  },
  {
   "cell_type": "markdown",
   "metadata": {},
   "source": [
    "### 26. Count the number of uppercase letters in a string."
   ]
  },
  {
   "cell_type": "code",
   "execution_count": 26,
   "metadata": {},
   "outputs": [
    {
     "name": "stdout",
     "output_type": "stream",
     "text": [
      "2\n"
     ]
    }
   ],
   "source": [
    "def count_uppercase_letters(input_str):\n",
    "    return sum(1 for char in input_str if char.isupper())\n",
    "\n",
    "# Example:\n",
    "input_str = \"Hello, World!\"\n",
    "uppercase_count = count_uppercase_letters(input_str)\n",
    "print(uppercase_count)  # Output: 2\n"
   ]
  },
  {
   "cell_type": "markdown",
   "metadata": {},
   "source": [
    "### 27. Count the number of lowercase letters in a string."
   ]
  },
  {
   "cell_type": "code",
   "execution_count": 27,
   "metadata": {},
   "outputs": [
    {
     "name": "stdout",
     "output_type": "stream",
     "text": [
      "8\n"
     ]
    }
   ],
   "source": [
    "def count_lowercase_letters(input_str):\n",
    "    return sum(1 for char in input_str if char.islower())\n",
    "\n",
    "# Example:\n",
    "input_str = \"Hello, World!\"\n",
    "lowercase_count = count_lowercase_letters(input_str)\n",
    "print(lowercase_count)  # Output: 8\n"
   ]
  },
  {
   "cell_type": "markdown",
   "metadata": {},
   "source": [
    "### 28. Swap the case of each character in a string."
   ]
  },
  {
   "cell_type": "code",
   "execution_count": 28,
   "metadata": {},
   "outputs": [
    {
     "name": "stdout",
     "output_type": "stream",
     "text": [
      "hELLO, wORLD!\n"
     ]
    }
   ],
   "source": [
    "def swap_case(input_str):\n",
    "    return input_str.swapcase()\n",
    "\n",
    "# Example:\n",
    "input_str = \"Hello, World!\"\n",
    "swapped_str = swap_case(input_str)\n",
    "print(swapped_str)  # Output: \"hELLO, wORLD!\"\n"
   ]
  },
  {
   "cell_type": "markdown",
   "metadata": {},
   "source": [
    "### 29. Remove a specific word from a string."
   ]
  },
  {
   "cell_type": "code",
   "execution_count": 29,
   "metadata": {},
   "outputs": [
    {
     "name": "stdout",
     "output_type": "stream",
     "text": [
      "Hello, World!\n"
     ]
    }
   ],
   "source": [
    "def remove_word(input_str, word_to_remove):\n",
    "    return ' '.join(word for word in input_str.split() if word != word_to_remove)\n",
    "\n",
    "# Example:\n",
    "input_str = \"Hello, World! Hello\"\n",
    "word_to_remove = \"Hello\"\n",
    "new_str = remove_word(input_str, word_to_remove)\n",
    "print(new_str)  # Output: \"World!\"\n"
   ]
  },
  {
   "cell_type": "markdown",
   "metadata": {},
   "source": [
    "### 30. Check if a string is a valid email address."
   ]
  },
  {
   "cell_type": "code",
   "execution_count": 30,
   "metadata": {},
   "outputs": [
    {
     "name": "stdout",
     "output_type": "stream",
     "text": [
      "True\n"
     ]
    }
   ],
   "source": [
    "import re\n",
    "\n",
    "def is_valid_email(email):\n",
    "    pattern = r'^[\\w\\.-]+@[\\w\\.-]+\\.\\w+$'\n",
    "    return bool(re.match(pattern, email))\n",
    "\n",
    "# Example:\n",
    "email = \"example@email.com\"\n",
    "print(is_valid_email(email))  # Output: True\n"
   ]
  },
  {
   "cell_type": "markdown",
   "metadata": {},
   "source": [
    "### 31. Extract the username from an email address string."
   ]
  },
  {
   "cell_type": "code",
   "execution_count": 31,
   "metadata": {},
   "outputs": [
    {
     "name": "stdout",
     "output_type": "stream",
     "text": [
      "arun.rajput\n"
     ]
    }
   ],
   "source": [
    "def extract_username(email):\n",
    "    return email.split('@')[0]\n",
    "\n",
    "# Example:\n",
    "email = \"arun.rajput@example.com\"\n",
    "username = extract_username(email)\n",
    "print(username)  # Output: \"john.doe\"\n"
   ]
  },
  {
   "cell_type": "markdown",
   "metadata": {},
   "source": [
    "### 32. Extract the domain name from an email address string."
   ]
  },
  {
   "cell_type": "code",
   "execution_count": 32,
   "metadata": {},
   "outputs": [
    {
     "name": "stdout",
     "output_type": "stream",
     "text": [
      "example.com\n"
     ]
    }
   ],
   "source": [
    "def extract_domain(email):\n",
    "    return email.split('@')[1]\n",
    "\n",
    "# Example:\n",
    "email = \"arun.rajput@example.com\"\n",
    "domain = extract_domain(email)\n",
    "print(domain)  # Output: \"example.com\"\n"
   ]
  },
  {
   "cell_type": "markdown",
   "metadata": {},
   "source": [
    "### 33. Replace multiple spaces in a string with a single space."
   ]
  },
  {
   "cell_type": "code",
   "execution_count": 33,
   "metadata": {},
   "outputs": [
    {
     "name": "stdout",
     "output_type": "stream",
     "text": [
      "Hello World\n"
     ]
    }
   ],
   "source": [
    "def replace_multiple_spaces(input_str):\n",
    "    return ' '.join(input_str.split())\n",
    "\n",
    "# Example:\n",
    "input_str = \"Hello    World\"\n",
    "cleaned_str = replace_multiple_spaces(input_str)\n",
    "print(cleaned_str)  # Output: \"Hello World\"\n"
   ]
  },
  {
   "cell_type": "markdown",
   "metadata": {},
   "source": [
    "### 34. Check if a string is a valid URL."
   ]
  },
  {
   "cell_type": "code",
   "execution_count": 34,
   "metadata": {},
   "outputs": [
    {
     "name": "stdout",
     "output_type": "stream",
     "text": [
      "True\n"
     ]
    }
   ],
   "source": [
    "import re\n",
    "\n",
    "def is_valid_url(url):\n",
    "    pattern = r'^(http|https)://[\\w\\.-]+\\.\\w+$'\n",
    "    return bool(re.match(pattern, url))\n",
    "\n",
    "# Example:\n",
    "url = \"https://pwskills.com\"\n",
    "print(is_valid_url(url))  # Output: True\n"
   ]
  },
  {
   "cell_type": "markdown",
   "metadata": {},
   "source": [
    "### 35. Extract the protocol (http or https) from a URL string."
   ]
  },
  {
   "cell_type": "code",
   "execution_count": 35,
   "metadata": {},
   "outputs": [
    {
     "name": "stdout",
     "output_type": "stream",
     "text": [
      "https\n"
     ]
    }
   ],
   "source": [
    "def extract_protocol(url):\n",
    "    return url.split('://')[0]\n",
    "\n",
    "# Example:\n",
    "url = \"https://pwskills.com\"\n",
    "protocol = extract_protocol(url)\n",
    "print(protocol)  # Output: \"https\"\n"
   ]
  },
  {
   "cell_type": "markdown",
   "metadata": {},
   "source": [
    "### 36. Find the frequency of each character in a string."
   ]
  },
  {
   "cell_type": "code",
   "execution_count": 36,
   "metadata": {},
   "outputs": [
    {
     "name": "stdout",
     "output_type": "stream",
     "text": [
      "Counter({'l': 3, 'o': 2, 'h': 1, 'e': 1, ',': 1, ' ': 1, 'w': 1, 'r': 1, 'd': 1, '!': 1})\n"
     ]
    }
   ],
   "source": [
    "from collections import Counter\n",
    "\n",
    "def character_frequency(input_str):\n",
    "    return Counter(input_str)\n",
    "\n",
    "# Example:\n",
    "input_str = \"hello, world!\"\n",
    "frequency = character_frequency(input_str)\n",
    "print(frequency)  # Output: {'h': 1, 'e': 1, 'l': 3, 'o': 2, ',': 1, ' ': 1, 'w': 1, 'r': 1, 'd': 1, '!': 1}\n"
   ]
  },
  {
   "cell_type": "markdown",
   "metadata": {},
   "source": [
    "### 37. Remove all punctuation from a string."
   ]
  },
  {
   "cell_type": "code",
   "execution_count": 37,
   "metadata": {},
   "outputs": [
    {
     "name": "stdout",
     "output_type": "stream",
     "text": [
      "Hello World\n"
     ]
    }
   ],
   "source": [
    "import string\n",
    "\n",
    "def remove_punctuation(input_str):\n",
    "    return ''.join(char for char in input_str if char not in string.punctuation)\n",
    "\n",
    "# Example:\n",
    "input_str = \"Hello, World!\"\n",
    "cleaned_str = remove_punctuation(input_str)\n",
    "print(cleaned_str)  # Output: \"Hello World\"\n"
   ]
  },
  {
   "cell_type": "markdown",
   "metadata": {},
   "source": [
    "### 38. Check if a string contains only digits."
   ]
  },
  {
   "cell_type": "code",
   "execution_count": 38,
   "metadata": {},
   "outputs": [
    {
     "name": "stdout",
     "output_type": "stream",
     "text": [
      "True\n",
      "False\n"
     ]
    }
   ],
   "source": [
    "def contains_only_digits(input_str):\n",
    "    return input_str.isdigit()\n",
    "\n",
    "# Examples:\n",
    "input_str1 = \"12345\"\n",
    "input_str2 = \"12345abc\"\n",
    "print(contains_only_digits(input_str1))  # Output: True\n",
    "print(contains_only_digits(input_str2))  # Output: False\n"
   ]
  },
  {
   "cell_type": "markdown",
   "metadata": {},
   "source": [
    "### 39. Check if a string contains only alphabets."
   ]
  },
  {
   "cell_type": "code",
   "execution_count": 39,
   "metadata": {},
   "outputs": [
    {
     "name": "stdout",
     "output_type": "stream",
     "text": [
      "True\n",
      "False\n"
     ]
    }
   ],
   "source": [
    "def contains_only_alphabets(input_str):\n",
    "    return input_str.isalpha()\n",
    "\n",
    "# Examples:\n",
    "input_str1 = \"abcdef\"\n",
    "input_str2 = \"abcdef123\"\n",
    "print(contains_only_alphabets(input_str1))  # Output: True\n",
    "print(contains_only_alphabets(input_str2))  # Output: False\n"
   ]
  },
  {
   "cell_type": "markdown",
   "metadata": {},
   "source": [
    "### 40. Convert a string to a list of characters."
   ]
  },
  {
   "cell_type": "code",
   "execution_count": 40,
   "metadata": {},
   "outputs": [
    {
     "name": "stdout",
     "output_type": "stream",
     "text": [
      "['H', 'e', 'l', 'l', 'o', ',', ' ', 'W', 'o', 'r', 'l', 'd', '!']\n"
     ]
    }
   ],
   "source": [
    "def string_to_characters(input_str):\n",
    "    return list(input_str)\n",
    "\n",
    "# Example:\n",
    "input_str = \"Hello, World!\"\n",
    "char_list = string_to_characters(input_str)\n",
    "print(char_list)  # Output: ['H', 'e', 'l', 'l', 'o', ',', ' ', 'W', 'o', 'r', 'l', 'd', '!']\n"
   ]
  },
  {
   "cell_type": "markdown",
   "metadata": {},
   "source": [
    "### 41. Check if two strings are anagrams."
   ]
  },
  {
   "cell_type": "code",
   "execution_count": 41,
   "metadata": {},
   "outputs": [
    {
     "name": "stdout",
     "output_type": "stream",
     "text": [
      "True\n",
      "False\n"
     ]
    }
   ],
   "source": [
    "def are_anagrams(str1, str2):\n",
    "    return sorted(str1) == sorted(str2)\n",
    "\n",
    "# Examples:\n",
    "string1 = \"listen\"\n",
    "string2 = \"silent\"\n",
    "print(are_anagrams(string1, string2))  # Output: True\n",
    "\n",
    "string3 = \"hello\"\n",
    "string4 = \"world\"\n",
    "print(are_anagrams(string3, string4))  # Output: False\n"
   ]
  },
  {
   "cell_type": "markdown",
   "metadata": {},
   "source": [
    "### 42. Encode a string using a Caesar cipher."
   ]
  },
  {
   "cell_type": "code",
   "execution_count": 42,
   "metadata": {},
   "outputs": [
    {
     "name": "stdout",
     "output_type": "stream",
     "text": [
      "Khoor, Zruog!\n"
     ]
    }
   ],
   "source": [
    "def caesar_cipher_encode(input_str, shift):\n",
    "    encoded_str = \"\"\n",
    "    for char in input_str:\n",
    "        if char.isalpha():\n",
    "            shift_amount = 65 if char.isupper() else 97\n",
    "            encoded_char = chr((ord(char) - shift_amount + shift) % 26 + shift_amount)\n",
    "        else:\n",
    "            encoded_char = char\n",
    "        encoded_str += encoded_char\n",
    "    return encoded_str\n",
    "\n",
    "# Example:\n",
    "input_str = \"Hello, World!\"\n",
    "shift = 3\n",
    "encoded_str = caesar_cipher_encode(input_str, shift)\n",
    "print(encoded_str)  # Output: \"Khoor, Zruog!\"\n"
   ]
  },
  {
   "cell_type": "markdown",
   "metadata": {},
   "source": [
    "### 43. Decode a Caesar cipher encoded string."
   ]
  },
  {
   "cell_type": "code",
   "execution_count": 43,
   "metadata": {},
   "outputs": [
    {
     "name": "stdout",
     "output_type": "stream",
     "text": [
      "Hello, World!\n"
     ]
    }
   ],
   "source": [
    "def caesar_cipher_decode(encoded_str, shift):\n",
    "    decoded_str = \"\"\n",
    "    for char in encoded_str:\n",
    "        if char.isalpha():\n",
    "            shift_amount = 65 if char.isupper() else 97\n",
    "            decoded_char = chr((ord(char) - shift_amount - shift) % 26 + shift_amount)\n",
    "        else:\n",
    "            decoded_char = char\n",
    "        decoded_str += decoded_char\n",
    "    return decoded_str\n",
    "\n",
    "# Example:\n",
    "encoded_str = \"Khoor, Zruog!\"\n",
    "shift = 3\n",
    "decoded_str = caesar_cipher_decode(encoded_str, shift)\n",
    "print(decoded_str)  # Output: \"Hello, World!\"\n"
   ]
  },
  {
   "cell_type": "markdown",
   "metadata": {},
   "source": [
    "### 44. Find the most frequent word in a string."
   ]
  },
  {
   "cell_type": "code",
   "execution_count": 44,
   "metadata": {},
   "outputs": [
    {
     "name": "stdout",
     "output_type": "stream",
     "text": [
      "This\n"
     ]
    }
   ],
   "source": [
    "from collections import Counter\n",
    "\n",
    "def most_frequent_word(input_str):\n",
    "    words = input_str.split()\n",
    "    word_counts = Counter(words)\n",
    "    most_common_word = word_counts.most_common(1)\n",
    "    return most_common_word[0][0]\n",
    "\n",
    "# Example:\n",
    "input_str = \"This is a sample sentence. Is it the most common one?\"\n",
    "most_frequent = most_frequent_word(input_str)\n",
    "print(most_frequent)  # Output: \"Is\"\n"
   ]
  },
  {
   "cell_type": "markdown",
   "metadata": {},
   "source": [
    "### 45. Find all unique words in a string."
   ]
  },
  {
   "cell_type": "code",
   "execution_count": 45,
   "metadata": {},
   "outputs": [
    {
     "name": "stdout",
     "output_type": "stream",
     "text": [
      "['a', 'sample', 'This', 'sentence.', 'is']\n"
     ]
    }
   ],
   "source": [
    "def unique_words(input_str):\n",
    "    words = input_str.split()\n",
    "    return list(set(words))\n",
    "\n",
    "# Example:\n",
    "input_str = \"This is a sample sentence. This is a sample sentence.\"\n",
    "unique = unique_words(input_str)\n",
    "print(unique)  # Output: ['sample', 'This', 'sentence.', 'is', 'a', 'sentence.']\n"
   ]
  },
  {
   "cell_type": "markdown",
   "metadata": {},
   "source": [
    "### 46. Count the number of syllables in a string."
   ]
  },
  {
   "cell_type": "code",
   "execution_count": 46,
   "metadata": {},
   "outputs": [
    {
     "name": "stdout",
     "output_type": "stream",
     "text": [
      "7\n"
     ]
    }
   ],
   "source": [
    "def count_syllables(input_str):\n",
    "    vowels = \"AEIOUaeiou\"\n",
    "    count = 0\n",
    "    for word in input_str.split():\n",
    "        for char in word:\n",
    "            if char in vowels:\n",
    "                count += 1\n",
    "    return count\n",
    "\n",
    "# Example:\n",
    "input_str = \"Hello, World! This is a test.\"\n",
    "syllable_count = count_syllables(input_str)\n",
    "print(syllable_count)  # Output: 10\n"
   ]
  },
  {
   "cell_type": "markdown",
   "metadata": {},
   "source": [
    "### 47. Check if a string contains any special characters.\n"
   ]
  },
  {
   "cell_type": "code",
   "execution_count": 47,
   "metadata": {},
   "outputs": [
    {
     "name": "stdout",
     "output_type": "stream",
     "text": [
      "True\n"
     ]
    }
   ],
   "source": [
    "import string\n",
    "\n",
    "def contains_special_characters(input_str):\n",
    "    return any(char for char in input_str if char in string.punctuation)\n",
    "\n",
    "# Example:\n",
    "input_str = \"Hello, World!\"\n",
    "print(contains_special_characters(input_str))  # Output: True\n"
   ]
  },
  {
   "cell_type": "markdown",
   "metadata": {},
   "source": [
    "### 48. Remove the nth word from a string.\n"
   ]
  },
  {
   "cell_type": "code",
   "execution_count": 48,
   "metadata": {},
   "outputs": [
    {
     "name": "stdout",
     "output_type": "stream",
     "text": [
      "This is sample sentence.\n"
     ]
    }
   ],
   "source": [
    "def remove_nth_word(input_str, n):\n",
    "    words = input_str.split()\n",
    "    if 1 <= n <= len(words):\n",
    "        del words[n - 1]\n",
    "        return ' '.join(words)\n",
    "    else:\n",
    "        return input_str\n",
    "\n",
    "# Example:\n",
    "input_str = \"This is a sample sentence.\"\n",
    "n = 3\n",
    "new_str = remove_nth_word(input_str, n)\n",
    "print(new_str)  # Output: \"This is sample sentence.\"\n"
   ]
  },
  {
   "cell_type": "markdown",
   "metadata": {},
   "source": [
    "### 49. Insert a word at the nth position in a string.\n"
   ]
  },
  {
   "cell_type": "code",
   "execution_count": 49,
   "metadata": {},
   "outputs": [
    {
     "name": "stdout",
     "output_type": "stream",
     "text": [
      "This is new a sample sentence.\n"
     ]
    }
   ],
   "source": [
    "def insert_word(input_str, word, n):\n",
    "    words = input_str.split()\n",
    "    if 1 <= n <= len(words) + 1:\n",
    "        words.insert(n - 1, word)\n",
    "        return ' '.join(words)\n",
    "    else:\n",
    "        return input_str\n",
    "\n",
    "# Example:\n",
    "input_str = \"This is a sample sentence.\"\n",
    "word_to_insert = \"new\"\n",
    "n = 3\n",
    "new_str = insert_word(input_str, word_to_insert, n)\n",
    "print(new_str)  # Output: \"This is new a sample sentence.\"\n"
   ]
  },
  {
   "cell_type": "markdown",
   "metadata": {},
   "source": [
    "### 50. Convert a CSV string to a list of lists.\n",
    "\n"
   ]
  },
  {
   "cell_type": "code",
   "execution_count": 50,
   "metadata": {},
   "outputs": [
    {
     "name": "stdout",
     "output_type": "stream",
     "text": [
      "['1', 'John', 'Doe']\n",
      "['2', 'Jane', 'Smith']\n",
      "['3', 'Bob', 'Johnson']\n"
     ]
    }
   ],
   "source": [
    "import csv\n",
    "from io import StringIO\n",
    "\n",
    "def csv_to_list(csv_str):\n",
    "    csv_list = []\n",
    "    csv_reader = csv.reader(StringIO(csv_str))\n",
    "    for row in csv_reader:\n",
    "        csv_list.append(row)\n",
    "    return csv_list\n",
    "\n",
    "# Example:\n",
    "csv_str = \"1,John,Doe\\n2,Jane,Smith\\n3,Bob,Johnson\"\n",
    "csv_list = csv_to_list(csv_str)\n",
    "for single_list in csv_list:\n",
    "    print(single_list)  \n",
    "# Output:\n",
    "# ['1', 'John', 'Doe']\n",
    "# ['2', 'Jane', 'Smith'] \n",
    "# ['3', 'Bob', 'Johnson']\n"
   ]
  },
  {
   "cell_type": "markdown",
   "metadata": {},
   "source": [
    "# **List Based Practice Problem :**"
   ]
  },
  {
   "cell_type": "markdown",
   "metadata": {},
   "source": [
    "### 1. Create a list with integers from 1 to 10.\n"
   ]
  },
  {
   "cell_type": "code",
   "execution_count": 51,
   "metadata": {},
   "outputs": [
    {
     "name": "stdout",
     "output_type": "stream",
     "text": [
      "[1, 2, 3, 4, 5, 6, 7, 8, 9, 10]\n"
     ]
    }
   ],
   "source": [
    "# Method 1: Using list comprehension\n",
    "integer_list = [i for i in range(1, 11)]\n",
    "\n",
    "# Method 2: Using the range() function\n",
    "# integer_list = list(range(1, 11))\n",
    "\n",
    "print(integer_list)  # Output: [1, 2, 3, 4, 5, 6, 7, 8, 9, 10]\n"
   ]
  },
  {
   "cell_type": "markdown",
   "metadata": {},
   "source": [
    "### 2. Find the length of a list without using the `len()` function.\n"
   ]
  },
  {
   "cell_type": "code",
   "execution_count": 52,
   "metadata": {},
   "outputs": [
    {
     "name": "stdout",
     "output_type": "stream",
     "text": [
      "10\n"
     ]
    }
   ],
   "source": [
    "# Method 1:\n",
    "def list_length(input_list):\n",
    "    count = 0\n",
    "    for _ in input_list:\n",
    "        count += 1\n",
    "    return count\n",
    "# Method 2 :\n",
    "def list_length_comprehension(input_list):\n",
    "    return sum([1 for i in input_list])\n",
    "\n",
    "# Example:\n",
    "integer_list = [1, 2, 3, 4, 5, 6, 7, 8, 9, 10]\n",
    "length = list_length(integer_list)\n",
    "print(length)  # Output: 10\n"
   ]
  },
  {
   "cell_type": "markdown",
   "metadata": {},
   "source": [
    "### 3. Append an element to the end of a list.\n"
   ]
  },
  {
   "cell_type": "code",
   "execution_count": 53,
   "metadata": {},
   "outputs": [
    {
     "name": "stdout",
     "output_type": "stream",
     "text": [
      "[1, 2, 3, 4, 5, 6]\n"
     ]
    }
   ],
   "source": [
    "def append_to_list(input_list, element_to_append):\n",
    "    input_list.append(element_to_append)\n",
    "\n",
    "# Example:\n",
    "integer_list = [1, 2, 3, 4, 5]\n",
    "append_to_list(integer_list, 6)\n",
    "print(integer_list)  # Output: [1, 2, 3, 4, 5, 6]\n"
   ]
  },
  {
   "cell_type": "markdown",
   "metadata": {},
   "source": [
    "### 4. Insert an element at a specific index in a list.\n"
   ]
  },
  {
   "cell_type": "code",
   "execution_count": 54,
   "metadata": {},
   "outputs": [
    {
     "name": "stdout",
     "output_type": "stream",
     "text": [
      "[1, 2, 6, 3, 4, 5]\n"
     ]
    }
   ],
   "source": [
    "def insert_into_list(input_list, element_to_insert, index):\n",
    "    input_list.insert(index, element_to_insert)\n",
    "\n",
    "# Example:\n",
    "integer_list = [1, 2, 3, 4, 5]\n",
    "insert_into_list(integer_list, 6, 2)\n",
    "print(integer_list)  # Output: [1, 2, 6, 3, 4, 5]\n"
   ]
  },
  {
   "cell_type": "markdown",
   "metadata": {},
   "source": [
    "### 5. Remove an element from a list by its value.\n"
   ]
  },
  {
   "cell_type": "code",
   "execution_count": 55,
   "metadata": {},
   "outputs": [
    {
     "name": "stdout",
     "output_type": "stream",
     "text": [
      "[1, 2, 4, 5, 3]\n"
     ]
    }
   ],
   "source": [
    "def remove_by_value(input_list, value_to_remove):\n",
    "    input_list.remove(value_to_remove)\n",
    "\n",
    "# Example:\n",
    "integer_list = [1, 2, 3, 4, 5, 3]\n",
    "remove_by_value(integer_list, 3)\n",
    "print(integer_list)  # Output: [1, 2, 4, 5, 3]\n"
   ]
  },
  {
   "cell_type": "markdown",
   "metadata": {},
   "source": [
    "### 6. Remove an element from a list by its index.\n"
   ]
  },
  {
   "cell_type": "code",
   "execution_count": 56,
   "metadata": {},
   "outputs": [
    {
     "name": "stdout",
     "output_type": "stream",
     "text": [
      "[1, 2, 4, 5]\n"
     ]
    }
   ],
   "source": [
    "def remove_by_index(input_list, index_to_remove):\n",
    "    del input_list[index_to_remove]\n",
    "\n",
    "# Example:\n",
    "integer_list = [1, 2, 3, 4, 5]\n",
    "remove_by_index(integer_list, 2)\n",
    "print(integer_list)  # Output: [1, 2, 4, 5]\n"
   ]
  },
  {
   "cell_type": "markdown",
   "metadata": {},
   "source": [
    "### 7. Check if an element exists in a list.\n"
   ]
  },
  {
   "cell_type": "code",
   "execution_count": 57,
   "metadata": {},
   "outputs": [
    {
     "name": "stdout",
     "output_type": "stream",
     "text": [
      "True\n"
     ]
    }
   ],
   "source": [
    "def element_exists(input_list, element_to_check):\n",
    "    return element_to_check in input_list\n",
    "\n",
    "# Example:\n",
    "integer_list = [1, 2, 3, 4, 5]\n",
    "exists = element_exists(integer_list, 3)\n",
    "print(exists)  # Output: True\n"
   ]
  },
  {
   "cell_type": "markdown",
   "metadata": {},
   "source": [
    "### 8. Find the index of the first occurrence of an element in a list.\n"
   ]
  },
  {
   "cell_type": "code",
   "execution_count": 58,
   "metadata": {},
   "outputs": [
    {
     "name": "stdout",
     "output_type": "stream",
     "text": [
      "2\n"
     ]
    }
   ],
   "source": [
    "def find_first_index(input_list, element_to_find):\n",
    "    return input_list.index(element_to_find)\n",
    "\n",
    "# Example:\n",
    "integer_list = [1, 2, 3, 4, 5, 3]\n",
    "index = find_first_index(integer_list, 3)\n",
    "print(index)  # Output: 2\n"
   ]
  },
  {
   "cell_type": "markdown",
   "metadata": {},
   "source": [
    "### 9. Count the occurrences of an element in a list.\n"
   ]
  },
  {
   "cell_type": "code",
   "execution_count": 59,
   "metadata": {},
   "outputs": [
    {
     "name": "stdout",
     "output_type": "stream",
     "text": [
      "2\n"
     ]
    }
   ],
   "source": [
    "def count_occurrences(input_list, element_to_count):\n",
    "    return input_list.count(element_to_count)\n",
    "\n",
    "# Example:\n",
    "integer_list = [1, 2, 3, 4, 5, 3]\n",
    "count = count_occurrences(integer_list, 3)\n",
    "print(count)  # Output: 2\n"
   ]
  },
  {
   "cell_type": "markdown",
   "metadata": {},
   "source": [
    "### 10. Reverse the order of elements in a list.\n"
   ]
  },
  {
   "cell_type": "code",
   "execution_count": 60,
   "metadata": {},
   "outputs": [
    {
     "name": "stdout",
     "output_type": "stream",
     "text": [
      "[5, 4, 3, 2, 1]\n"
     ]
    }
   ],
   "source": [
    "def reverse_list(input_list):\n",
    "    return input_list[::-1]\n",
    "\n",
    "# Example:\n",
    "integer_list = [1, 2, 3, 4, 5]\n",
    "reversed_list = reverse_list(integer_list)\n",
    "print(reversed_list)  # Output: [5, 4, 3, 2, 1]\n"
   ]
  },
  {
   "cell_type": "markdown",
   "metadata": {},
   "source": [
    "### 11. Sort a list in ascending order.\n"
   ]
  },
  {
   "cell_type": "code",
   "execution_count": 61,
   "metadata": {},
   "outputs": [
    {
     "name": "stdout",
     "output_type": "stream",
     "text": [
      "[1, 2, 5, 8, 9]\n"
     ]
    }
   ],
   "source": [
    "def sort_ascending(input_list):\n",
    "    return sorted(input_list)\n",
    "\n",
    "# Example:\n",
    "integer_list = [5, 2, 8, 1, 9]\n",
    "sorted_list = sort_ascending(integer_list)\n",
    "print(sorted_list)  # Output: [1, 2, 5, 8, 9]\n"
   ]
  },
  {
   "cell_type": "markdown",
   "metadata": {},
   "source": [
    "### 12. Sort a list in descending order.\n"
   ]
  },
  {
   "cell_type": "code",
   "execution_count": 62,
   "metadata": {},
   "outputs": [
    {
     "name": "stdout",
     "output_type": "stream",
     "text": [
      "[9, 8, 5, 2, 1]\n"
     ]
    }
   ],
   "source": [
    "def sort_descending(input_list):\n",
    "    return sorted(input_list, reverse=True)\n",
    "\n",
    "# Example:\n",
    "integer_list = [5, 2, 8, 1, 9]\n",
    "sorted_list = sort_descending(integer_list)\n",
    "print(sorted_list)  # Output: [9, 8, 5, 2, 1]\n"
   ]
  },
  {
   "cell_type": "markdown",
   "metadata": {},
   "source": [
    "### 13. Create a list of even numbers from 1 to 20.\n"
   ]
  },
  {
   "cell_type": "code",
   "execution_count": 63,
   "metadata": {},
   "outputs": [
    {
     "name": "stdout",
     "output_type": "stream",
     "text": [
      "[2, 4, 6, 8, 10, 12, 14, 16, 18, 20]\n"
     ]
    }
   ],
   "source": [
    "even_numbers = [num for num in range(2, 21, 2)]\n",
    "\n",
    "# Example:\n",
    "print(even_numbers)  # Output: [2, 4, 6, 8, 10, 12, 14, 16, 18, 20]\n"
   ]
  },
  {
   "cell_type": "markdown",
   "metadata": {},
   "source": [
    "### 14. Create a list of odd numbers from 1 to 20.\n"
   ]
  },
  {
   "cell_type": "code",
   "execution_count": 64,
   "metadata": {},
   "outputs": [
    {
     "name": "stdout",
     "output_type": "stream",
     "text": [
      "[1, 3, 5, 7, 9, 11, 13, 15, 17, 19]\n"
     ]
    }
   ],
   "source": [
    "odd_numbers = [num for num in range(1, 21, 2)]\n",
    "\n",
    "# Example:\n",
    "print(odd_numbers)  # Output: [1, 3, 5, 7, 9, 11, 13, 15, 17, 19]\n"
   ]
  },
  {
   "cell_type": "markdown",
   "metadata": {},
   "source": [
    "### 15. Find the sum of all elements in a list.\n"
   ]
  },
  {
   "cell_type": "code",
   "execution_count": 65,
   "metadata": {},
   "outputs": [
    {
     "name": "stdout",
     "output_type": "stream",
     "text": [
      "15\n"
     ]
    }
   ],
   "source": [
    "def find_sum(input_list):\n",
    "    return sum(input_list)\n",
    "\n",
    "# Example:\n",
    "integer_list = [1, 2, 3, 4, 5]\n",
    "total = find_sum(integer_list)\n",
    "print(total)  # Output: 15\n"
   ]
  },
  {
   "cell_type": "markdown",
   "metadata": {},
   "source": [
    "### 16. Find the maximum value in a list.\n"
   ]
  },
  {
   "cell_type": "code",
   "execution_count": 66,
   "metadata": {},
   "outputs": [
    {
     "name": "stdout",
     "output_type": "stream",
     "text": [
      "9\n"
     ]
    }
   ],
   "source": [
    "def find_max(input_list):\n",
    "    return max(input_list)\n",
    "\n",
    "# Example:\n",
    "integer_list = [5, 2, 8, 1, 9]\n",
    "max_value = find_max(integer_list)\n",
    "print(max_value)  # Output: 9\n"
   ]
  },
  {
   "cell_type": "markdown",
   "metadata": {},
   "source": [
    "### 17. Find the minimum value in a list.\n"
   ]
  },
  {
   "cell_type": "code",
   "execution_count": 67,
   "metadata": {},
   "outputs": [
    {
     "name": "stdout",
     "output_type": "stream",
     "text": [
      "1\n"
     ]
    }
   ],
   "source": [
    "def find_min(input_list):\n",
    "    return min(input_list)\n",
    "\n",
    "# Example:\n",
    "integer_list = [5, 2, 8, 1, 9]\n",
    "min_value = find_min(integer_list)\n",
    "print(min_value)  # Output: 1\n"
   ]
  },
  {
   "cell_type": "markdown",
   "metadata": {},
   "source": [
    "### 18. Create a list of squares of numbers from 1 to 10.\n"
   ]
  },
  {
   "cell_type": "code",
   "execution_count": 68,
   "metadata": {},
   "outputs": [
    {
     "name": "stdout",
     "output_type": "stream",
     "text": [
      "[1, 4, 9, 16, 25, 36, 49, 64, 81, 100]\n"
     ]
    }
   ],
   "source": [
    "squared_numbers = [num ** 2 for num in range(1, 11)]\n",
    "\n",
    "# Example:\n",
    "print(squared_numbers)  # Output: [1, 4, 9, 16, 25, 36, 49, 64, 81, 100]\n"
   ]
  },
  {
   "cell_type": "markdown",
   "metadata": {},
   "source": [
    "### 19. Create a list of random numbers.\n"
   ]
  },
  {
   "cell_type": "code",
   "execution_count": 69,
   "metadata": {},
   "outputs": [
    {
     "name": "stdout",
     "output_type": "stream",
     "text": [
      "[30, 80, 37, 97, 99, 67, 38, 16, 72, 76]\n"
     ]
    }
   ],
   "source": [
    "import random\n",
    "\n",
    "random_numbers = [random.randint(1, 100) for _ in range(10)]\n",
    "\n",
    "# Example:\n",
    "print(random_numbers)  # Output: [42, 17, 88, 76, 3, 54, 92, 33, 70, 11]\n"
   ]
  },
  {
   "cell_type": "markdown",
   "metadata": {},
   "source": [
    "### 20. Remove duplicates from a list.\n"
   ]
  },
  {
   "cell_type": "code",
   "execution_count": 71,
   "metadata": {},
   "outputs": [
    {
     "name": "stdout",
     "output_type": "stream",
     "text": [
      "[1, 2, 3, 4, 5]\n"
     ]
    }
   ],
   "source": [
    "def remove_duplicates(input_list):\n",
    "    new_set = set(input_list)\n",
    "    new_list=list(new_set)\n",
    "    return new_list\n",
    "\n",
    "# Example:\n",
    "integer_list = [1, 2, 2, 3, 4, 4, 5, 5]\n",
    "unique_list = remove_duplicates(integer_list)\n",
    "print(unique_list)  # Output: [1, 2, 3, 4, 5]"
   ]
  },
  {
   "cell_type": "markdown",
   "metadata": {},
   "source": [
    "### 21. Find the common elements between two lists.\n"
   ]
  },
  {
   "cell_type": "code",
   "execution_count": 72,
   "metadata": {},
   "outputs": [
    {
     "name": "stdout",
     "output_type": "stream",
     "text": [
      "[3, 4, 5]\n"
     ]
    }
   ],
   "source": [
    "def find_common_elements(list1, list2):\n",
    "    return list(set(list1).intersection(list2))\n",
    "\n",
    "# Example:\n",
    "list1 = [1, 2, 3, 4, 5]\n",
    "list2 = [3, 4, 5, 6, 7]\n",
    "common_elements = find_common_elements(list1, list2)\n",
    "print(common_elements)  # Output: [3, 4, 5]\n"
   ]
  },
  {
   "cell_type": "markdown",
   "metadata": {},
   "source": [
    "### 22. Find the difference between two lists.\n"
   ]
  },
  {
   "cell_type": "code",
   "execution_count": 73,
   "metadata": {},
   "outputs": [
    {
     "name": "stdout",
     "output_type": "stream",
     "text": [
      "[1, 2]\n"
     ]
    }
   ],
   "source": [
    "def find_list_difference(list1, list2):\n",
    "    return list(set(list1).difference(list2))\n",
    "\n",
    "# Example:\n",
    "list1 = [1, 2, 3, 4, 5]\n",
    "list2 = [3, 4, 5, 6, 7]\n",
    "difference = find_list_difference(list1, list2)\n",
    "print(difference)  # Output: [1, 2]\n"
   ]
  },
  {
   "cell_type": "markdown",
   "metadata": {},
   "source": [
    "### 23. Merge two lists.\n"
   ]
  },
  {
   "cell_type": "code",
   "execution_count": 74,
   "metadata": {},
   "outputs": [
    {
     "name": "stdout",
     "output_type": "stream",
     "text": [
      "[1, 2, 3, 4, 5, 6]\n"
     ]
    }
   ],
   "source": [
    "def merge_lists(list1, list2):\n",
    "    return list1 + list2\n",
    "\n",
    "# Example:\n",
    "list1 = [1, 2, 3]\n",
    "list2 = [4, 5, 6]\n",
    "merged_list = merge_lists(list1, list2)\n",
    "print(merged_list)  # Output: [1, 2, 3, 4, 5, 6]\n"
   ]
  },
  {
   "cell_type": "markdown",
   "metadata": {},
   "source": [
    "### 24. Multiply all elements in a list by 2.\n"
   ]
  },
  {
   "cell_type": "code",
   "execution_count": 2,
   "metadata": {},
   "outputs": [
    {
     "name": "stdout",
     "output_type": "stream",
     "text": [
      "[2, 4, 6, 8, 10]\n",
      "[2, 4, 6, 8, 10]\n"
     ]
    }
   ],
   "source": [
    "# Method 1:\n",
    "def multiply_elements_by_2(input_list):\n",
    "    return [x * 2 for x in input_list]\n",
    "\n",
    "# Method 2 :\n",
    "def multiply_by_2_map(input_list):\n",
    "    return list(map(lambda x: x*2,input_list))\n",
    "\n",
    "# Example:\n",
    "integer_list = [1, 2, 3, 4, 5]\n",
    "multiplied_list = multiply_elements_by_2(integer_list)\n",
    "multiplied_list_map = multiply_by_2_map(integer_list)\n",
    "print(multiplied_list)  # Output: [2, 4, 6, 8, 10]\n",
    "print(multiplied_list_map)  # Output: [2, 4, 6, 8, 10]\n"
   ]
  },
  {
   "cell_type": "markdown",
   "metadata": {},
   "source": [
    "### 25. Filter out all even numbers from a list.\n"
   ]
  },
  {
   "cell_type": "code",
   "execution_count": 4,
   "metadata": {},
   "outputs": [
    {
     "name": "stdout",
     "output_type": "stream",
     "text": [
      "[1, 3, 5]\n"
     ]
    }
   ],
   "source": [
    "# Method 1:\n",
    "def filter_even_numbers(input_list):\n",
    "    return [x for x in input_list if x % 2 != 0]\n",
    "\n",
    "# Method 2 :\n",
    "def filter_even_numbers_map(input_list):\n",
    "    filtered_list=list(map(lambda x: x if x%2==0 else None,input_list))\n",
    "    filtered_list = list(filter(None, filtered_list))  # Remove None values\n",
    "    return filtered_list\n",
    "# Example:\n",
    "integer_list = [1, 2, 3, 4, 5, 6]\n",
    "filtered_list = filter_even_numbers(integer_list)\n",
    "print(filtered_list)  # Output: [1, 3, 5]\n",
    "\n",
    "\n"
   ]
  },
  {
   "cell_type": "markdown",
   "metadata": {},
   "source": [
    "### 26. Convert a list of strings to a list of integers.\n"
   ]
  },
  {
   "cell_type": "code",
   "execution_count": 5,
   "metadata": {},
   "outputs": [
    {
     "name": "stdout",
     "output_type": "stream",
     "text": [
      "[1, 2, 3, 4, 5]\n"
     ]
    }
   ],
   "source": [
    "def convert_strings_to_integers(string_list):\n",
    "    return [int(item) for item in string_list]\n",
    "\n",
    "# Example:\n",
    "string_list = [\"1\", \"2\", \"3\", \"4\", \"5\"]\n",
    "integer_list = convert_strings_to_integers(string_list)\n",
    "print(integer_list)  # Output: [1, 2, 3, 4, 5]\n"
   ]
  },
  {
   "cell_type": "markdown",
   "metadata": {},
   "source": [
    "### 27. Convert a list of integers to a list of strings.\n"
   ]
  },
  {
   "cell_type": "code",
   "execution_count": 6,
   "metadata": {},
   "outputs": [
    {
     "name": "stdout",
     "output_type": "stream",
     "text": [
      "['1', '2', '3', '4', '5']\n"
     ]
    }
   ],
   "source": [
    "def convert_integers_to_strings(integer_list):\n",
    "    return [str(item) for item in integer_list]\n",
    "\n",
    "# Example:\n",
    "integer_list = [1, 2, 3, 4, 5]\n",
    "string_list = convert_integers_to_strings(integer_list)\n",
    "print(string_list)  # Output: [\"1\", \"2\", \"3\", \"4\", \"5\"]\n"
   ]
  },
  {
   "cell_type": "markdown",
   "metadata": {},
   "source": [
    "### 28. Flatten a nested list.\n"
   ]
  },
  {
   "cell_type": "code",
   "execution_count": 7,
   "metadata": {},
   "outputs": [
    {
     "name": "stdout",
     "output_type": "stream",
     "text": [
      "[1, 2, 3, 4, 5, 6]\n"
     ]
    }
   ],
   "source": [
    "def flatten_nested_list(nested_list):\n",
    "    return [item for sublist in nested_list for item in sublist]\n",
    "\n",
    "# Example:\n",
    "nested_list = [[1, 2], [3, 4], [5, 6]]\n",
    "flattened_list = flatten_nested_list(nested_list)\n",
    "print(flattened_list)  # Output: [1, 2, 3, 4, 5, 6]\n"
   ]
  },
  {
   "cell_type": "markdown",
   "metadata": {},
   "source": [
    "### 29. Create a list of the first 10 Fibonacci numbers.\n"
   ]
  },
  {
   "cell_type": "code",
   "execution_count": 8,
   "metadata": {},
   "outputs": [
    {
     "name": "stdout",
     "output_type": "stream",
     "text": [
      "[0, 1, 1, 2, 3, 5, 8, 13, 21, 34]\n"
     ]
    }
   ],
   "source": [
    "def generate_fibonacci_numbers(n):\n",
    "    fibonacci_list = [0, 1]\n",
    "    while len(fibonacci_list) < n:\n",
    "        next_number = fibonacci_list[-1] + fibonacci_list[-2]\n",
    "        fibonacci_list.append(next_number)\n",
    "    return fibonacci_list\n",
    "\n",
    "# Example:\n",
    "fibonacci_sequence = generate_fibonacci_numbers(10)\n",
    "print(fibonacci_sequence)  # Output: [0, 1, 1, 2, 3, 5, 8, 13, 21, 34]\n"
   ]
  },
  {
   "cell_type": "markdown",
   "metadata": {},
   "source": [
    "### 30. Check if a list is sorted.\n"
   ]
  },
  {
   "cell_type": "code",
   "execution_count": 9,
   "metadata": {},
   "outputs": [
    {
     "name": "stdout",
     "output_type": "stream",
     "text": [
      "True\n",
      "False\n"
     ]
    }
   ],
   "source": [
    "def is_list_sorted(input_list):\n",
    "    return all(input_list[i] <= input_list[i + 1] for i in range(len(input_list) - 1))\n",
    "\n",
    "# Example:\n",
    "ascending_list = [1, 2, 3, 4, 5]\n",
    "descending_list = [5, 4, 3, 2, 1]\n",
    "print(is_list_sorted(ascending_list))  # Output: True\n",
    "print(is_list_sorted(descending_list))  # Output: False\n"
   ]
  },
  {
   "cell_type": "markdown",
   "metadata": {},
   "source": [
    "### 31. Rotate a list to the left by `n` positions.\n"
   ]
  },
  {
   "cell_type": "code",
   "execution_count": 13,
   "metadata": {},
   "outputs": [
    {
     "name": "stdout",
     "output_type": "stream",
     "text": [
      "[3, 4, 5, 1, 2]\n"
     ]
    }
   ],
   "source": [
    "def rotate_list_left(input_list, n):\n",
    "    n = n % len(input_list)  # Ensure n is within the range of the list size\n",
    "    return input_list[n:] + input_list[:n]\n",
    "\n",
    "# Example:\n",
    "original_list = [1, 2, 3, 4, 5]\n",
    "rotated_list = rotate_list_left(original_list, 2)\n",
    "print(rotated_list)  # Output: [3, 4, 5, 1, 2]\n"
   ]
  },
  {
   "cell_type": "markdown",
   "metadata": {},
   "source": [
    "### 32. Rotate a list to the right by `n` positions.\n"
   ]
  },
  {
   "cell_type": "code",
   "execution_count": 14,
   "metadata": {},
   "outputs": [
    {
     "name": "stdout",
     "output_type": "stream",
     "text": [
      "[4, 5, 1, 2, 3]\n"
     ]
    }
   ],
   "source": [
    "def rotate_list_right(input_list, n):\n",
    "    n = n % len(input_list)  # Ensure n is within the range of the list size\n",
    "    return input_list[-n:] + input_list[:-n]\n",
    "\n",
    "# Example:\n",
    "original_list = [1, 2, 3, 4, 5]\n",
    "rotated_list = rotate_list_right(original_list, 2)\n",
    "print(rotated_list)  # Output: [4, 5, 1, 2, 3]\n"
   ]
  },
  {
   "cell_type": "markdown",
   "metadata": {},
   "source": [
    "### 33. Create a list of prime numbers up to 50.\n"
   ]
  },
  {
   "cell_type": "code",
   "execution_count": 16,
   "metadata": {},
   "outputs": [
    {
     "name": "stdout",
     "output_type": "stream",
     "text": [
      "[2, 3, 5, 7, 11, 13, 17, 19, 23, 29, 31, 37, 41, 43, 47]\n"
     ]
    }
   ],
   "source": [
    "def is_prime(number):\n",
    "    if number <= 1:\n",
    "        return False\n",
    "    if number <= 3:\n",
    "        return True\n",
    "    if number % 2 == 0 or number % 3 == 0:\n",
    "        return False\n",
    "    i = 5\n",
    "    while i * i <= number:\n",
    "        if number % i == 0 or number % (i + 2) == 0:\n",
    "            return False\n",
    "        i += 6\n",
    "    return True\n",
    "\n",
    "def generate_prime_numbers(limit):\n",
    "    prime_list = [2, 3, 5]\n",
    "    for num in range(6, limit + 1):\n",
    "        if is_prime(num):\n",
    "            prime_list.append(num)\n",
    "    return prime_list\n",
    "\n",
    "# Example:\n",
    "prime_numbers = generate_prime_numbers(50)\n",
    "print(prime_numbers)  # Output: [2, 3, 5, 7, 11, 13, 17, 19, 23, 29, 31, 37, 41, 43, 47]\n"
   ]
  },
  {
   "cell_type": "markdown",
   "metadata": {},
   "source": [
    "### 34. Split a list into chunks of size `n`.\n"
   ]
  },
  {
   "cell_type": "code",
   "execution_count": 17,
   "metadata": {},
   "outputs": [
    {
     "name": "stdout",
     "output_type": "stream",
     "text": [
      "[[1, 2, 3], [4, 5, 6], [7, 8, 9]]\n"
     ]
    }
   ],
   "source": [
    "def split_list_into_chunks(input_list, chunk_size):\n",
    "    return [input_list[i:i + chunk_size] for i in range(0, len(input_list), chunk_size)]\n",
    "\n",
    "# Example:\n",
    "original_list = [1, 2, 3, 4, 5, 6, 7, 8, 9]\n",
    "chunked_list = split_list_into_chunks(original_list, 3)\n",
    "print(chunked_list)  # Output: [[1, 2, 3], [4, 5, 6], [7, 8, 9]]\n"
   ]
  },
  {
   "cell_type": "markdown",
   "metadata": {},
   "source": [
    "### 35. Find the second largest number in a list.\n"
   ]
  },
  {
   "cell_type": "code",
   "execution_count": 18,
   "metadata": {},
   "outputs": [
    {
     "name": "stdout",
     "output_type": "stream",
     "text": [
      "8\n"
     ]
    }
   ],
   "source": [
    "def find_second_largest(input_list):\n",
    "    unique_sorted_list = sorted(set(input_list), reverse=True)\n",
    "    if len(unique_sorted_list) >= 2:\n",
    "        return unique_sorted_list[1]\n",
    "    else:\n",
    "        return None\n",
    "\n",
    "# Example:\n",
    "integer_list = [5, 2, 8, 1, 9, 8]\n",
    "second_largest = find_second_largest(integer_list)\n",
    "print(second_largest)  # Output: 8\n"
   ]
  },
  {
   "cell_type": "markdown",
   "metadata": {},
   "source": [
    "### 36. Replace every element in a list with its square.\n"
   ]
  },
  {
   "cell_type": "code",
   "execution_count": 19,
   "metadata": {},
   "outputs": [
    {
     "name": "stdout",
     "output_type": "stream",
     "text": [
      "[1, 4, 9, 16, 25]\n"
     ]
    }
   ],
   "source": [
    "def square_elements(input_list):\n",
    "    return [x ** 2 for x in input_list]\n",
    "\n",
    "# Example:\n",
    "integer_list = [1, 2, 3, 4, 5]\n",
    "squared_list = square_elements(integer_list)\n",
    "print(squared_list)  # Output: [1, 4, 9, 16, 25]\n"
   ]
  },
  {
   "cell_type": "markdown",
   "metadata": {},
   "source": [
    "### 37. Convert a list to a dictionary where list elements become keys and their indices become values.\n"
   ]
  },
  {
   "cell_type": "code",
   "execution_count": 20,
   "metadata": {},
   "outputs": [
    {
     "name": "stdout",
     "output_type": "stream",
     "text": [
      "{'apple': 0, 'banana': 1, 'cherry': 2}\n"
     ]
    }
   ],
   "source": [
    "def list_to_dict(input_list):\n",
    "    return {value: index for index, value in enumerate(input_list)}\n",
    "\n",
    "# Example:\n",
    "original_list = [\"apple\", \"banana\", \"cherry\"]\n",
    "dict_result = list_to_dict(original_list)\n",
    "print(dict_result)  # Output: {'apple': 0, 'banana': 1, 'cherry': 2}\n"
   ]
  },
  {
   "cell_type": "markdown",
   "metadata": {},
   "source": [
    "### 38. Shuffle the elements of a list randomly.\n"
   ]
  },
  {
   "cell_type": "code",
   "execution_count": 24,
   "metadata": {},
   "outputs": [
    {
     "name": "stdout",
     "output_type": "stream",
     "text": [
      "[5, 2, 1, 4, 3]\n"
     ]
    }
   ],
   "source": [
    "import random\n",
    "\n",
    "def shuffle_list(input_list):\n",
    "    random.shuffle(input_list)\n",
    "\n",
    "# Example:\n",
    "integer_list = [1, 2, 3, 4, 5]\n",
    "shuffle_list(integer_list)\n",
    "print(integer_list)  # Output: Randomly shuffled list\n"
   ]
  },
  {
   "cell_type": "markdown",
   "metadata": {},
   "source": [
    "### 39. Create a list of the first 10 factorial numbers.\n"
   ]
  },
  {
   "cell_type": "code",
   "execution_count": 25,
   "metadata": {},
   "outputs": [
    {
     "name": "stdout",
     "output_type": "stream",
     "text": [
      "[1, 2, 6, 24, 120, 720, 5040, 40320, 362880, 3628800]\n"
     ]
    }
   ],
   "source": [
    "import math\n",
    "\n",
    "def generate_factorial_numbers(n):\n",
    "    factorial_list = [math.factorial(i) for i in range(1, n + 1)]\n",
    "    return factorial_list\n",
    "\n",
    "# Example:\n",
    "factorial_numbers = generate_factorial_numbers(10)\n",
    "print(factorial_numbers)  # Output: [1, 2, 6, 24, 120, 720, 5040, 40320, 362880, 3628800]\n"
   ]
  },
  {
   "cell_type": "markdown",
   "metadata": {},
   "source": [
    "### 40. Check if two lists have at least one element in common.\n"
   ]
  },
  {
   "cell_type": "code",
   "execution_count": 26,
   "metadata": {},
   "outputs": [
    {
     "name": "stdout",
     "output_type": "stream",
     "text": [
      "True\n"
     ]
    }
   ],
   "source": [
    "def have_common_elements(list1, list2):\n",
    "    return any(item in list1 for item in list2)\n",
    "\n",
    "# Example:\n",
    "list1 = [1, 2, 3, 4, 5]\n",
    "list2 = [4, 5, 6, 7, 8]\n",
    "result = have_common_elements(list1, list2)\n",
    "print(result)  # Output: True\n"
   ]
  },
  {
   "cell_type": "markdown",
   "metadata": {},
   "source": [
    "### 41. Remove all elements from a list.\n"
   ]
  },
  {
   "cell_type": "code",
   "execution_count": 27,
   "metadata": {},
   "outputs": [
    {
     "name": "stdout",
     "output_type": "stream",
     "text": [
      "[]\n"
     ]
    }
   ],
   "source": [
    "def remove_all_elements(input_list):\n",
    "    input_list.clear()\n",
    "\n",
    "# Example:\n",
    "integer_list = [1, 2, 3, 4, 5]\n",
    "remove_all_elements(integer_list)\n",
    "print(integer_list)  # Output: []\n"
   ]
  },
  {
   "cell_type": "markdown",
   "metadata": {},
   "source": [
    "### 42. Replace negative numbers in a list with 0.\n"
   ]
  },
  {
   "cell_type": "code",
   "execution_count": 28,
   "metadata": {},
   "outputs": [
    {
     "name": "stdout",
     "output_type": "stream",
     "text": [
      "[1, 0, 3, 0, 5]\n"
     ]
    }
   ],
   "source": [
    "def replace_negatives_with_zero(input_list):\n",
    "    return [0 if x < 0 else x for x in input_list]\n",
    "\n",
    "# Example:\n",
    "integer_list = [1, -2, 3, -4, 5]\n",
    "modified_list = replace_negatives_with_zero(integer_list)\n",
    "print(modified_list)  # Output: [1, 0, 3, 0, 5]\n"
   ]
  },
  {
   "cell_type": "markdown",
   "metadata": {},
   "source": [
    "### 43. Convert a string into a list of words.\n"
   ]
  },
  {
   "cell_type": "code",
   "execution_count": 29,
   "metadata": {},
   "outputs": [
    {
     "name": "stdout",
     "output_type": "stream",
     "text": [
      "['Hello,', 'world!', 'This', 'is', 'a', 'sample', 'sentence.']\n"
     ]
    }
   ],
   "source": [
    "def string_to_list_of_words(input_string):\n",
    "    return input_string.split()\n",
    "\n",
    "# Example:\n",
    "input_string = \"Hello, world! This is a sample sentence.\"\n",
    "word_list = string_to_list_of_words(input_string)\n",
    "print(word_list)  # Output: ['Hello,', 'world!', 'This', 'is', 'a', 'sample', 'sentence.']\n"
   ]
  },
  {
   "cell_type": "markdown",
   "metadata": {},
   "source": [
    "### 44. Convert a list of words into a string.\n"
   ]
  },
  {
   "cell_type": "code",
   "execution_count": 30,
   "metadata": {},
   "outputs": [
    {
     "name": "stdout",
     "output_type": "stream",
     "text": [
      "Hello, world! This is a sample sentence.\n"
     ]
    }
   ],
   "source": [
    "def list_of_words_to_string(word_list):\n",
    "    return ' '.join(word_list)\n",
    "\n",
    "# Example:\n",
    "word_list = ['Hello,', 'world!', 'This', 'is', 'a', 'sample', 'sentence.']\n",
    "output_string = list_of_words_to_string(word_list)\n",
    "print(output_string)  # Output: 'Hello, world! This is a sample sentence.'\n"
   ]
  },
  {
   "cell_type": "markdown",
   "metadata": {},
   "source": [
    "### 45. Create a list of the first `n` powers of 2.\n"
   ]
  },
  {
   "cell_type": "code",
   "execution_count": 31,
   "metadata": {},
   "outputs": [
    {
     "name": "stdout",
     "output_type": "stream",
     "text": [
      "[1, 2, 4, 8, 16]\n"
     ]
    }
   ],
   "source": [
    "def generate_powers_of_2(n):\n",
    "    return [2 ** i for i in range(n)]\n",
    "\n",
    "# Example:\n",
    "power_of_2_list = generate_powers_of_2(5)\n",
    "print(power_of_2_list)  # Output: [1, 2, 4, 8, 16]\n"
   ]
  },
  {
   "cell_type": "markdown",
   "metadata": {},
   "source": [
    "### 46. Find the longest string in a list of strings.\n"
   ]
  },
  {
   "cell_type": "code",
   "execution_count": 32,
   "metadata": {},
   "outputs": [
    {
     "name": "stdout",
     "output_type": "stream",
     "text": [
      "banana\n"
     ]
    }
   ],
   "source": [
    "def find_longest_string(string_list):\n",
    "    return max(string_list, key=len)\n",
    "\n",
    "# Example:\n",
    "string_list = ['apple', 'banana', 'cherry', 'date']\n",
    "longest_string = find_longest_string(string_list)\n",
    "print(longest_string)  # Output: 'banana'\n"
   ]
  },
  {
   "cell_type": "markdown",
   "metadata": {},
   "source": [
    "### 47. Find the shortest string in a list of strings.\n"
   ]
  },
  {
   "cell_type": "code",
   "execution_count": 33,
   "metadata": {},
   "outputs": [
    {
     "name": "stdout",
     "output_type": "stream",
     "text": [
      "date\n"
     ]
    }
   ],
   "source": [
    "def find_shortest_string(string_list):\n",
    "    return min(string_list, key=len)\n",
    "\n",
    "# Example:\n",
    "string_list = ['apple', 'banana', 'cherry', 'date']\n",
    "shortest_string = find_shortest_string(string_list)\n",
    "print(shortest_string)  # Output: 'date'\n"
   ]
  },
  {
   "cell_type": "markdown",
   "metadata": {},
   "source": [
    "### 48. Create a list of the first `n` triangular numbers.\n"
   ]
  },
  {
   "cell_type": "code",
   "execution_count": 34,
   "metadata": {},
   "outputs": [
    {
     "name": "stdout",
     "output_type": "stream",
     "text": [
      "[1, 3, 6, 10, 15]\n"
     ]
    }
   ],
   "source": [
    "def generate_triangular_numbers(n):\n",
    "    triangular_list = [(i * (i + 1)) // 2 for i in range(1, n + 1)]\n",
    "    return triangular_list\n",
    "\n",
    "# Example:\n",
    "triangular_numbers = generate_triangular_numbers(5)\n",
    "print(triangular_numbers)  # Output: [1, 3, 6, 10, 15]\n"
   ]
  },
  {
   "cell_type": "markdown",
   "metadata": {},
   "source": [
    "### 49. Check if a list contains another list as a subsequence.\n"
   ]
  },
  {
   "cell_type": "code",
   "execution_count": 37,
   "metadata": {},
   "outputs": [
    {
     "name": "stdout",
     "output_type": "stream",
     "text": [
      "True\n"
     ]
    }
   ],
   "source": [
    "def is_subsequence(subsequence, main_list):\n",
    "    i = j = 0\n",
    "    while i < len(subsequence) and j < len(main_list):\n",
    "        if subsequence[i] == main_list[j]:\n",
    "            i += 1\n",
    "        j += 1\n",
    "    return i == len(subsequence)\n",
    "\n",
    "# Example:\n",
    "main_list = [1, 2, 3, 4, 5, 6, 7, 8, 9]\n",
    "subsequence = [2, 4, 6]\n",
    "result = is_subsequence(subsequence, main_list)\n",
    "print(result)  # Output: True\n"
   ]
  },
  {
   "cell_type": "markdown",
   "metadata": {},
   "source": [
    "### 50. Swap two elements in a list by their indices.\n"
   ]
  },
  {
   "cell_type": "code",
   "execution_count": 41,
   "metadata": {},
   "outputs": [
    {
     "name": "stdout",
     "output_type": "stream",
     "text": [
      "[1, 4, 3, 2, 5]\n"
     ]
    }
   ],
   "source": [
    "def swap_elements_by_indices(input_list, index1, index2):\n",
    "    if 0 <= index1 < len(input_list) and 0 <= index2 < len(input_list):\n",
    "        input_list[index1], input_list[index2] = input_list[index2], input_list[index1]\n",
    "\n",
    "# Example:\n",
    "integer_list = [1, 2, 3, 4, 5]\n",
    "swap_elements_by_indices(integer_list, 1, 3)\n",
    "print(integer_list)  # Output: [1, 4, 3, 2, 5]\n"
   ]
  },
  {
   "cell_type": "markdown",
   "metadata": {},
   "source": [
    "### **Tuple Based Practice Problem :**"
   ]
  },
  {
   "cell_type": "markdown",
   "metadata": {},
   "source": [
    "### 1. Create a tuple with integers from 1 to 5.\n"
   ]
  },
  {
   "cell_type": "code",
   "execution_count": 43,
   "metadata": {},
   "outputs": [
    {
     "name": "stdout",
     "output_type": "stream",
     "text": [
      "(1, 2, 3, 4, 5)\n"
     ]
    }
   ],
   "source": [
    "# Creating a tuple with integers from 1 to 5\n",
    "integer_tuple = (1, 2, 3, 4, 5)\n",
    "print(integer_tuple)\n"
   ]
  },
  {
   "cell_type": "markdown",
   "metadata": {},
   "source": [
    "### 2. Access the third element of a tuple.\n"
   ]
  },
  {
   "cell_type": "code",
   "execution_count": 45,
   "metadata": {},
   "outputs": [
    {
     "name": "stdout",
     "output_type": "stream",
     "text": [
      "3\n"
     ]
    }
   ],
   "source": [
    "# Accessing the third element (index 2) of the tuple\n",
    "third_element = integer_tuple[2]\n",
    "print(third_element)\n"
   ]
  },
  {
   "cell_type": "markdown",
   "metadata": {},
   "source": [
    "### 3. Find the length of a tuple without using the `len()` function.\n"
   ]
  },
  {
   "cell_type": "code",
   "execution_count": 48,
   "metadata": {},
   "outputs": [
    {
     "name": "stdout",
     "output_type": "stream",
     "text": [
      "5\n"
     ]
    }
   ],
   "source": [
    "# Finding the length of the tuple without using the `len()` function\n",
    "def tuple_length(input_tuple):\n",
    "    count = 0\n",
    "    for _ in input_tuple:\n",
    "        count += 1\n",
    "    return count\n",
    "\n",
    "# Example:\n",
    "length = tuple_length(integer_tuple)\n",
    "print(length) #Output : 5\n"
   ]
  },
  {
   "cell_type": "markdown",
   "metadata": {},
   "source": [
    "### 4. Count the occurrences of an element in a tuple.\n"
   ]
  },
  {
   "cell_type": "code",
   "execution_count": 50,
   "metadata": {},
   "outputs": [
    {
     "name": "stdout",
     "output_type": "stream",
     "text": [
      "1\n"
     ]
    }
   ],
   "source": [
    "# Counting the occurrences of an element in the tuple\n",
    "def count_occurrences(input_tuple, element):\n",
    "    count = 0\n",
    "    for item in input_tuple:\n",
    "        if item == element:\n",
    "            count += 1\n",
    "    return count\n",
    "\n",
    "# Example:\n",
    "element_count = count_occurrences(integer_tuple, 3)\n",
    "print(element_count)\n"
   ]
  },
  {
   "cell_type": "markdown",
   "metadata": {},
   "source": [
    "### 5. Find the index of the first occurrence of an element in a tuple.\n"
   ]
  },
  {
   "cell_type": "code",
   "execution_count": 51,
   "metadata": {},
   "outputs": [],
   "source": [
    "# Finding the index of the first occurrence of an element in the tuple\n",
    "def find_index_of_element(input_tuple, element):\n",
    "    if element in input_tuple:\n",
    "        index = input_tuple.index(element)\n",
    "    else:\n",
    "        index = -1\n",
    "    return index\n",
    "\n",
    "# Example:\n",
    "element_index = find_index_of_element(integer_tuple, 3)\n",
    "# Output: 2 (since 3 is at index 2)\n"
   ]
  },
  {
   "cell_type": "markdown",
   "metadata": {},
   "source": [
    "### 6. Check if an element exists in a tuple.\n"
   ]
  },
  {
   "cell_type": "code",
   "execution_count": 52,
   "metadata": {},
   "outputs": [],
   "source": [
    "# Checking if an element exists in the tuple\n",
    "def element_exists_in_tuple(input_tuple, element):\n",
    "    return element in input_tuple\n",
    "\n",
    "# Example:\n",
    "element_exists = element_exists_in_tuple(integer_tuple, 6)\n",
    "# Output: False (since 6 does not exist in the tuple)\n"
   ]
  },
  {
   "cell_type": "markdown",
   "metadata": {},
   "source": [
    "### 7. Convert a tuple to a list.\n"
   ]
  },
  {
   "cell_type": "code",
   "execution_count": 53,
   "metadata": {},
   "outputs": [],
   "source": [
    "# Converting a tuple to a list\n",
    "tuple_to_list = list(integer_tuple)\n",
    "# Output: [1, 2, 3, 4, 5]\n"
   ]
  },
  {
   "cell_type": "markdown",
   "metadata": {},
   "source": [
    "### 8. Convert a list to a tuple.\n"
   ]
  },
  {
   "cell_type": "code",
   "execution_count": 54,
   "metadata": {},
   "outputs": [],
   "source": [
    "# Converting a list to a tuple\n",
    "list_to_tuple = tuple([6, 7, 8, 9, 10])\n",
    "# Output: (6, 7, 8, 9, 10)\n"
   ]
  },
  {
   "cell_type": "markdown",
   "metadata": {},
   "source": [
    "### 9. Unpack the elements of a tuple into variables.\n"
   ]
  },
  {
   "cell_type": "code",
   "execution_count": 55,
   "metadata": {},
   "outputs": [],
   "source": [
    "# Unpacking the elements of a tuple into variables\n",
    "a, b, c, d, e = integer_tuple\n",
    "# Values of variables: a=1, b=2, c=3, d=4, e=5\n"
   ]
  },
  {
   "cell_type": "markdown",
   "metadata": {},
   "source": [
    "### 10. Create a tuple of even numbers from 1 to 10.\n"
   ]
  },
  {
   "cell_type": "code",
   "execution_count": 56,
   "metadata": {},
   "outputs": [],
   "source": [
    "# Creating a tuple of even numbers from 1 to 10\n",
    "even_tuple = tuple(range(2, 11, 2))\n",
    "# Output: (2, 4, 6, 8, 10)\n"
   ]
  },
  {
   "cell_type": "markdown",
   "metadata": {},
   "source": [
    "### 11. Create a tuple of odd numbers from 1 to 10.\n"
   ]
  },
  {
   "cell_type": "code",
   "execution_count": null,
   "metadata": {},
   "outputs": [],
   "source": [
    "# Creating a tuple of odd numbers from 1 to 10\n",
    "odd_tuple = tuple(range(1, 11, 2))\n",
    "# Output: (1, 3, 5, 7, 9)\n"
   ]
  },
  {
   "cell_type": "markdown",
   "metadata": {},
   "source": [
    "### 12. Concatenate two tuples.\n"
   ]
  },
  {
   "cell_type": "code",
   "execution_count": 57,
   "metadata": {},
   "outputs": [],
   "source": [
    "# Concatenating two tuples\n",
    "tuple1 = (1, 2, 3)\n",
    "tuple2 = (4, 5, 6)\n",
    "concatenated_tuple = tuple1 + tuple2\n",
    "# Output: (1, 2, 3, 4, 5, 6)\n"
   ]
  },
  {
   "cell_type": "markdown",
   "metadata": {},
   "source": [
    "### 13. Repeat a tuple three times.\n"
   ]
  },
  {
   "cell_type": "code",
   "execution_count": 58,
   "metadata": {},
   "outputs": [],
   "source": [
    "# Repeating a tuple three times\n",
    "original_tuple = (1, 2, 3)\n",
    "repeated_tuple = original_tuple * 3\n",
    "# Output: (1, 2, 3, 1, 2, 3, 1, 2, 3)\n"
   ]
  },
  {
   "cell_type": "markdown",
   "metadata": {},
   "source": [
    "### 14. Check if a tuple is empty.\n"
   ]
  },
  {
   "cell_type": "code",
   "execution_count": 59,
   "metadata": {},
   "outputs": [],
   "source": [
    "# Checking if a tuple is empty\n",
    "def is_empty_tuple(input_tuple):\n",
    "    return len(input_tuple) == 0\n",
    "\n",
    "# Example:\n",
    "empty_tuple = ()\n",
    "is_empty = is_empty_tuple(empty_tuple)\n",
    "# Output: True (since the tuple is empty)\n"
   ]
  },
  {
   "cell_type": "markdown",
   "metadata": {},
   "source": [
    "### 15. Create a nested tuple.\n"
   ]
  },
  {
   "cell_type": "code",
   "execution_count": 61,
   "metadata": {},
   "outputs": [],
   "source": [
    "# Creating a nested tuple\n",
    "nested_tuple = ((1, 2), (3, 4), (5, 6))\n",
    "# Output: ((1, 2), (3, 4), (5, 6))\n"
   ]
  },
  {
   "cell_type": "markdown",
   "metadata": {},
   "source": [
    "### 16. Access the first element of a nested tuple.\n"
   ]
  },
  {
   "cell_type": "code",
   "execution_count": 62,
   "metadata": {},
   "outputs": [],
   "source": [
    "# Accessing the first element of a nested tuple\n",
    "first_element = nested_tuple[0]\n",
    "# Output: (1, 2)\n"
   ]
  },
  {
   "cell_type": "markdown",
   "metadata": {},
   "source": [
    "### 17. Create a tuple with a single element.\n"
   ]
  },
  {
   "cell_type": "code",
   "execution_count": 65,
   "metadata": {},
   "outputs": [
    {
     "name": "stdout",
     "output_type": "stream",
     "text": [
      "(42,)\n"
     ]
    }
   ],
   "source": [
    "# Creating a tuple with a single element\n",
    "single_element_tuple = 42,\n",
    "print(single_element_tuple)\n",
    "# Output: (42,)\n"
   ]
  },
  {
   "cell_type": "markdown",
   "metadata": {},
   "source": [
    "### 18. Compare two tuples.\n"
   ]
  },
  {
   "cell_type": "code",
   "execution_count": 67,
   "metadata": {},
   "outputs": [],
   "source": [
    "# Comparing two tuples\n",
    "tuple1 = (1, 2, 3)\n",
    "tuple2 = (1, 2, 4)\n",
    "comparison_result = tuple1 == tuple2\n",
    "# Output: False (since the tuples are not equal)\n"
   ]
  },
  {
   "cell_type": "markdown",
   "metadata": {},
   "source": [
    "### 19. Delete a tuple.\n"
   ]
  },
  {
   "cell_type": "code",
   "execution_count": 68,
   "metadata": {},
   "outputs": [],
   "source": [
    "# Deleting a tuple\n",
    "del_tuple = (1, 2, 3)\n",
    "del del_tuple\n",
    "# The tuple is deleted and no longer accessible\n"
   ]
  },
  {
   "cell_type": "markdown",
   "metadata": {},
   "source": [
    "### 20. Slice a tuple.\n"
   ]
  },
  {
   "cell_type": "code",
   "execution_count": 70,
   "metadata": {},
   "outputs": [],
   "source": [
    "# Slicing a tuple\n",
    "sliced_tuple = integer_tuple[1:4]\n",
    "# Output: (2, 3, 4)\n"
   ]
  },
  {
   "cell_type": "markdown",
   "metadata": {},
   "source": [
    "### 21. Find the maximum value in a tuple.\n"
   ]
  },
  {
   "cell_type": "code",
   "execution_count": 71,
   "metadata": {},
   "outputs": [],
   "source": [
    "def find_max_value(input_tuple):\n",
    "    return max(input_tuple)\n",
    "\n",
    "# Example:\n",
    "integer_tuple = (3, 1, 5, 2, 4)\n",
    "max_value = find_max_value(integer_tuple)\n",
    "# Output: 5\n"
   ]
  },
  {
   "cell_type": "markdown",
   "metadata": {},
   "source": [
    "### 22. Find the minimum value in a tuple.\n"
   ]
  },
  {
   "cell_type": "code",
   "execution_count": 72,
   "metadata": {},
   "outputs": [],
   "source": [
    "def find_min_value(input_tuple):\n",
    "    return min(input_tuple)\n",
    "\n",
    "# Example:\n",
    "integer_tuple = (3, 1, 5, 2, 4)\n",
    "min_value = find_min_value(integer_tuple)\n",
    "# Output: 1\n"
   ]
  },
  {
   "cell_type": "markdown",
   "metadata": {},
   "source": [
    "### 23. Convert a string to a tuple of characters.\n"
   ]
  },
  {
   "cell_type": "code",
   "execution_count": 73,
   "metadata": {},
   "outputs": [],
   "source": [
    "# Function to convert a string to a tuple of characters\n",
    "def string_to_tuple(input_string):\n",
    "    return tuple(input_string)\n",
    "\n",
    "# Example:\n",
    "text = \"hello\"\n",
    "char_tuple = string_to_tuple(text)\n",
    "# Output: ('h', 'e', 'l', 'l', 'o')\n"
   ]
  },
  {
   "cell_type": "markdown",
   "metadata": {},
   "source": [
    "### 24. Convert a tuple of characters to a string.\n"
   ]
  },
  {
   "cell_type": "code",
   "execution_count": 74,
   "metadata": {},
   "outputs": [],
   "source": [
    "# Function to convert a tuple of characters to a string\n",
    "def tuple_to_string(char_tuple):\n",
    "    return ''.join(char_tuple)\n",
    "\n",
    "# Example:\n",
    "char_tuple = ('h', 'e', 'l', 'l', 'o')\n",
    "text = tuple_to_string(char_tuple)\n",
    "# Output: 'hello'\n"
   ]
  },
  {
   "cell_type": "markdown",
   "metadata": {},
   "source": [
    "### 25. Create a tuple from multiple data types.\n"
   ]
  },
  {
   "cell_type": "code",
   "execution_count": 75,
   "metadata": {},
   "outputs": [],
   "source": [
    "# Function to create a tuple from multiple data types\n",
    "def create_mixed_tuple():\n",
    "    mixed_tuple = (1, 'hello', 3.14, True)\n",
    "    return mixed_tuple\n",
    "\n",
    "# Example:\n",
    "mixed_data_tuple = create_mixed_tuple()\n",
    "# Output: (1, 'hello', 3.14, True)\n"
   ]
  },
  {
   "cell_type": "markdown",
   "metadata": {},
   "source": [
    "### 26. Check if two tuples are identical.\n"
   ]
  },
  {
   "cell_type": "code",
   "execution_count": 77,
   "metadata": {},
   "outputs": [],
   "source": [
    "def are_tuples_identical(tuple1, tuple2):\n",
    "    return tuple1 == tuple2\n",
    "\n",
    "# Example:\n",
    "tuple1 = (1, 2, 3)\n",
    "tuple2 = (1, 2, 3)\n",
    "are_identical = are_tuples_identical(tuple1, tuple2)\n",
    "# Output: True\n"
   ]
  },
  {
   "cell_type": "markdown",
   "metadata": {},
   "source": [
    "### 27. Sort the elements of a tuple.\n"
   ]
  },
  {
   "cell_type": "code",
   "execution_count": 78,
   "metadata": {},
   "outputs": [],
   "source": [
    "def sort_tuple(input_tuple):\n",
    "    return tuple(sorted(input_tuple))\n",
    "\n",
    "# Example:\n",
    "unsorted_tuple = (3, 1, 5, 2, 4)\n",
    "sorted_tuple = sort_tuple(unsorted_tuple)\n",
    "# Output: (1, 2, 3, 4, 5)\n"
   ]
  },
  {
   "cell_type": "markdown",
   "metadata": {},
   "source": [
    "### 28. Convert a tuple of integers to a tuple of strings.\n"
   ]
  },
  {
   "cell_type": "code",
   "execution_count": 81,
   "metadata": {},
   "outputs": [],
   "source": [
    "def convert_integers_to_strings(int_tuple):\n",
    "    return tuple(map(str, int_tuple))\n",
    "\n",
    "# Example:\n",
    "int_tuple = (1, 2, 3, 4, 5)\n",
    "str_tuple = convert_integers_to_strings(int_tuple)\n",
    "# Output: ('1', '2', '3', '4', '5')\n"
   ]
  },
  {
   "cell_type": "markdown",
   "metadata": {},
   "source": [
    "### 29. Convert a tuple of strings to a tuple of integers.\n"
   ]
  },
  {
   "cell_type": "code",
   "execution_count": 83,
   "metadata": {},
   "outputs": [],
   "source": [
    "def convert_strings_to_integers(str_tuple):\n",
    "    return tuple(map(int, str_tuple))\n",
    "\n",
    "# Example:\n",
    "str_tuple = ('1', '2', '3', '4', '5')\n",
    "int_tuple = convert_strings_to_integers(str_tuple)\n",
    "# Output: (1, 2, 3, 4, 5)\n"
   ]
  },
  {
   "cell_type": "markdown",
   "metadata": {},
   "source": [
    "### 30. Merge two tuples.\n"
   ]
  },
  {
   "cell_type": "code",
   "execution_count": 85,
   "metadata": {},
   "outputs": [],
   "source": [
    "def merge_tuples(tuple1, tuple2):\n",
    "    return tuple1 + tuple2\n",
    "\n",
    "# Example:\n",
    "tuple1 = (1, 2, 3)\n",
    "tuple2 = (4, 5, 6)\n",
    "merged_tuple = merge_tuples(tuple1, tuple2)\n",
    "# Output: (1, 2, 3, 4, 5, 6)\n"
   ]
  },
  {
   "cell_type": "markdown",
   "metadata": {},
   "source": [
    "### 31. Flatten a nested tuple.\n"
   ]
  },
  {
   "cell_type": "code",
   "execution_count": 86,
   "metadata": {},
   "outputs": [],
   "source": [
    "def flatten_nested_tuple(nested_tuple):\n",
    "    flattened_list = [item for sublist in nested_tuple for item in sublist]\n",
    "    return tuple(flattened_list)\n",
    "\n",
    "# Example:\n",
    "nested_tuple = ((1, 2), (3, 4), (5, 6))\n",
    "flattened_tuple = flatten_nested_tuple(nested_tuple)\n",
    "# Output: (1, 2, 3, 4, 5, 6)\n"
   ]
  },
  {
   "cell_type": "markdown",
   "metadata": {},
   "source": [
    "### 32. Create a tuple of the first 5 prime numbers.\n"
   ]
  },
  {
   "cell_type": "code",
   "execution_count": 87,
   "metadata": {},
   "outputs": [],
   "source": [
    "def generate_prime_numbers(n):\n",
    "    def is_prime(num):\n",
    "        if num <= 1:\n",
    "            return False\n",
    "        for i in range(2, int(num ** 0.5) + 1):\n",
    "            if num % i == 0:\n",
    "                return False\n",
    "        return True\n",
    "\n",
    "    prime_numbers = []\n",
    "    num = 2\n",
    "    while len(prime_numbers) < n:\n",
    "        if is_prime(num):\n",
    "            prime_numbers.append(num)\n",
    "        num += 1\n",
    "    return tuple(prime_numbers)\n",
    "\n",
    "# Example:\n",
    "prime_tuple = generate_prime_numbers(5)\n",
    "# Output: (2, 3, 5, 7, 11)\n"
   ]
  },
  {
   "cell_type": "markdown",
   "metadata": {},
   "source": [
    "### 33. Check if a tuple is a palindrome.\n"
   ]
  },
  {
   "cell_type": "code",
   "execution_count": 88,
   "metadata": {},
   "outputs": [],
   "source": [
    "def is_tuple_palindrome(input_tuple):\n",
    "    return input_tuple == input_tuple[::-1]\n",
    "\n",
    "# Example:\n",
    "palindrome_tuple = (1, 2, 3, 2, 1)\n",
    "is_palindrome = is_tuple_palindrome(palindrome_tuple)\n",
    "# Output: True"
   ]
  },
  {
   "cell_type": "markdown",
   "metadata": {},
   "source": [
    "### 34. Create a tuple of squares of numbers from 1 to 5.\n"
   ]
  },
  {
   "cell_type": "code",
   "execution_count": 90,
   "metadata": {},
   "outputs": [],
   "source": [
    "def generate_square_tuple(n):\n",
    "    square_tuple = tuple(x ** 2 for x in range(1, n + 1))\n",
    "    return square_tuple\n",
    "\n",
    "# Example:\n",
    "square_tuple = generate_square_tuple(5)\n",
    "# Output: (1, 4, 9, 16, 25)"
   ]
  },
  {
   "cell_type": "markdown",
   "metadata": {},
   "source": [
    "### 35. Filter out all even numbers from a tuple.\n"
   ]
  },
  {
   "cell_type": "code",
   "execution_count": 91,
   "metadata": {},
   "outputs": [],
   "source": [
    "def filter_even_numbers(input_tuple):\n",
    "    return tuple(x for x in input_tuple if x % 2 != 0)\n",
    "\n",
    "# Example:\n",
    "integer_tuple = (1, 2, 3, 4, 5)\n",
    "filtered_tuple = filter_even_numbers(integer_tuple)\n",
    "# Output: (1, 3, 5)\n"
   ]
  },
  {
   "cell_type": "markdown",
   "metadata": {},
   "source": [
    "### 36. Multiply all elements in a tuple by 2.\n"
   ]
  },
  {
   "cell_type": "code",
   "execution_count": 93,
   "metadata": {},
   "outputs": [],
   "source": [
    "def multiply_elements_by_2(input_tuple):\n",
    "    return tuple(x * 2 for x in input_tuple)\n",
    "\n",
    "# Example:\n",
    "integer_tuple = (1, 2, 3, 4, 5)\n",
    "doubled_tuple = multiply_elements_by_2(integer_tuple)\n",
    "# Output: (2, 4, 6, 8, 10)\n"
   ]
  },
  {
   "cell_type": "markdown",
   "metadata": {},
   "source": [
    "### 37. Create a tuple of random numbers.\n"
   ]
  },
  {
   "cell_type": "code",
   "execution_count": 94,
   "metadata": {},
   "outputs": [],
   "source": [
    "import random\n",
    "\n",
    "def create_random_tuple(length, start_range, end_range):\n",
    "    random_tuple = tuple(random.randint(start_range, end_range) for _ in range(length))\n",
    "    return random_tuple\n",
    "\n",
    "# Example:\n",
    "random_numbers_tuple = create_random_tuple(5, 1, 100)\n",
    "# Output: (42, 15, 67, 89, 25)  (random numbers within the specified range)\n"
   ]
  },
  {
   "cell_type": "markdown",
   "metadata": {},
   "source": [
    "### 38. Check if a tuple is sorted.\n"
   ]
  },
  {
   "cell_type": "code",
   "execution_count": 95,
   "metadata": {},
   "outputs": [],
   "source": [
    "def is_tuple_sorted(input_tuple):\n",
    "    return input_tuple == tuple(sorted(input_tuple))\n",
    "\n",
    "# Example:\n",
    "sorted_tuple = (1, 2, 3, 4, 5)\n",
    "is_sorted = is_tuple_sorted(sorted_tuple)\n",
    "# Output: True\n"
   ]
  },
  {
   "cell_type": "markdown",
   "metadata": {},
   "source": [
    "### 39. Rotate a tuple to the left by `n` positions.\n"
   ]
  },
  {
   "cell_type": "code",
   "execution_count": 96,
   "metadata": {},
   "outputs": [],
   "source": [
    "def rotate_left_tuple(input_tuple, n):\n",
    "    n %= len(input_tuple)\n",
    "    return input_tuple[n:] + input_tuple[:n]\n",
    "\n",
    "# Example:\n",
    "original_tuple = (1, 2, 3, 4, 5)\n",
    "rotated_left = rotate_left_tuple(original_tuple, 2)\n",
    "# Output: (3, 4, 5, 1, 2)\n"
   ]
  },
  {
   "cell_type": "markdown",
   "metadata": {},
   "source": [
    "### 40. Rotate a tuple to the right by `n` positions.\n"
   ]
  },
  {
   "cell_type": "code",
   "execution_count": 97,
   "metadata": {},
   "outputs": [],
   "source": [
    "def rotate_right_tuple(input_tuple, n):\n",
    "    n %= len(input_tuple)\n",
    "    return input_tuple[-n:] + input_tuple[:-n]\n",
    "\n",
    "# Example:\n",
    "original_tuple = (1, 2, 3, 4, 5)\n",
    "rotated_right = rotate_right_tuple(original_tuple, 2)\n",
    "# Output: (4, 5, 1, 2, 3)\n"
   ]
  },
  {
   "cell_type": "markdown",
   "metadata": {},
   "source": [
    "### 41. Create a tuple of the first 5 Fibonacci numbers.\n"
   ]
  },
  {
   "cell_type": "code",
   "execution_count": 98,
   "metadata": {},
   "outputs": [],
   "source": [
    "def generate_fibonacci_tuple(n):\n",
    "    fibonacci_tuple = ()\n",
    "    a, b = 0, 1\n",
    "    for _ in range(n):\n",
    "        fibonacci_tuple += (a,)\n",
    "        a, b = b, a + b\n",
    "    return fibonacci_tuple\n",
    "\n",
    "# Example:\n",
    "fibonacci_numbers_tuple = generate_fibonacci_tuple(5)\n",
    "# Output: (0, 1, 1, 2, 3)\n"
   ]
  },
  {
   "cell_type": "markdown",
   "metadata": {},
   "source": [
    "### 42. Create a tuple from user input.\n"
   ]
  },
  {
   "cell_type": "code",
   "execution_count": 99,
   "metadata": {},
   "outputs": [],
   "source": [
    "def create_tuple_from_user_input():\n",
    "    user_input = input(\"Enter elements separated by spaces: \")\n",
    "    user_list = user_input.split()\n",
    "    user_tuple = tuple(user_list)\n",
    "    return user_tuple\n",
    "\n",
    "# Example:\n",
    "user_tuple = create_tuple_from_user_input()\n",
    "# User enters: \"1 2 3\"\n",
    "# Output: (1, 2, 3)\n"
   ]
  },
  {
   "cell_type": "markdown",
   "metadata": {},
   "source": [
    "### 43. Swap two elements in a tuple.\n"
   ]
  },
  {
   "cell_type": "code",
   "execution_count": 100,
   "metadata": {},
   "outputs": [],
   "source": [
    "def swap_elements_in_tuple(input_tuple, index1, index2):\n",
    "    list_version = list(input_tuple)\n",
    "    list_version[index1], list_version[index2] = list_version[index2], list_version[index1]\n",
    "    return tuple(list_version)\n",
    "\n",
    "# Example:\n",
    "original_tuple = (1, 2, 3, 4, 5)\n",
    "swapped_tuple = swap_elements_in_tuple(original_tuple, 1, 3)\n",
    "# Output: (1, 4, 3, 2, 5)\n"
   ]
  },
  {
   "cell_type": "markdown",
   "metadata": {},
   "source": [
    "### 44. Reverse the elements of a tuple.\n"
   ]
  },
  {
   "cell_type": "code",
   "execution_count": 101,
   "metadata": {},
   "outputs": [],
   "source": [
    "def reverse_tuple(input_tuple):\n",
    "    return input_tuple[::-1]\n",
    "\n",
    "# Example:\n",
    "original_tuple = (1, 2, 3, 4, 5)\n",
    "reversed_tuple = reverse_tuple(original_tuple)\n",
    "# Output: (5, 4, 3, 2, 1)\n"
   ]
  },
  {
   "cell_type": "markdown",
   "metadata": {},
   "source": [
    "### 45. Create a tuple of the first `n` powers of 2.\n"
   ]
  },
  {
   "cell_type": "code",
   "execution_count": 102,
   "metadata": {},
   "outputs": [],
   "source": [
    "def generate_powers_of_2_tuple(n):\n",
    "    powers_of_2 = tuple(2 ** i for i in range(n))\n",
    "    return powers_of_2\n",
    "\n",
    "# Example:\n",
    "powers_of_2_tuple = generate_powers_of_2_tuple(5)\n",
    "# Output: (1, 2, 4, 8, 16)\n"
   ]
  },
  {
   "cell_type": "markdown",
   "metadata": {},
   "source": [
    "### 46. Find the longest string in a tuple of strings.\n"
   ]
  },
  {
   "cell_type": "code",
   "execution_count": 103,
   "metadata": {},
   "outputs": [],
   "source": [
    "def find_longest_string(input_tuple):\n",
    "    longest_string = max(input_tuple, key=len)\n",
    "    return longest_string\n",
    "\n",
    "# Example:\n",
    "string_tuple = (\"apple\", \"banana\", \"cherry\", \"date\")\n",
    "longest = find_longest_string(string_tuple)\n",
    "# Output: \"banana\"\n"
   ]
  },
  {
   "cell_type": "markdown",
   "metadata": {},
   "source": [
    "### 47. Find the shortest string in a tuple of strings.\n"
   ]
  },
  {
   "cell_type": "code",
   "execution_count": 104,
   "metadata": {},
   "outputs": [],
   "source": [
    "def find_shortest_string(input_tuple):\n",
    "    shortest_string = min(input_tuple, key=len)\n",
    "    return shortest_string\n",
    "\n",
    "# Example:\n",
    "string_tuple = (\"apple\", \"banana\", \"cherry\", \"date\")\n",
    "shortest = find_shortest_string(string_tuple)\n",
    "# Output: \"date\"\n"
   ]
  },
  {
   "cell_type": "markdown",
   "metadata": {},
   "source": [
    "### 48. Create a tuple of the first `n` triangular numbers.\n"
   ]
  },
  {
   "cell_type": "code",
   "execution_count": 105,
   "metadata": {},
   "outputs": [],
   "source": [
    "def generate_triangular_numbers_tuple(n):\n",
    "    triangular_numbers = tuple((i * (i + 1)) // 2 for i in range(1, n + 1))\n",
    "    return triangular_numbers\n",
    "\n",
    "# Example:\n",
    "triangular_numbers_tuple = generate_triangular_numbers_tuple(5)\n",
    "# Output: (1, 3, 6, 10, 15)\n"
   ]
  },
  {
   "cell_type": "markdown",
   "metadata": {},
   "source": [
    "### 49. Check if a tuple contains another tuple as a subsequence.\n"
   ]
  },
  {
   "cell_type": "code",
   "execution_count": 106,
   "metadata": {},
   "outputs": [],
   "source": [
    "def is_subsequence(subseq, sequence):\n",
    "    n = len(subseq)\n",
    "    m = len(sequence)\n",
    "\n",
    "    i, j = 0, 0\n",
    "    while i < n and j < m:\n",
    "        if subseq[i] == sequence[j]:\n",
    "            i += 1\n",
    "        j += 1\n",
    "\n",
    "    return i == n\n",
    "\n",
    "# Example:\n",
    "tuple1 = (1, 2, 3, 4, 5)\n",
    "tuple2 = (2, 3, 4)\n",
    "is_subseq = is_subsequence(tuple2, tuple1)\n",
    "# Output: True\n"
   ]
  },
  {
   "cell_type": "markdown",
   "metadata": {},
   "source": [
    "### 50. Create a tuple of alternating 1s and 0s of length `n`.\n"
   ]
  },
  {
   "cell_type": "code",
   "execution_count": 107,
   "metadata": {},
   "outputs": [],
   "source": [
    "def create_alternating_tuple(n):\n",
    "    alternating_tuple = tuple(1 if i % 2 == 0 else 0 for i in range(n))\n",
    "    return alternating_tuple\n",
    "\n",
    "# Example:\n",
    "alt_tuple = create_alternating_tuple(7)\n",
    "# Output: (1, 0, 1, 0, 1, 0, 1)\n"
   ]
  },
  {
   "cell_type": "markdown",
   "metadata": {},
   "source": [
    "# **Set Based Practice Problem :**"
   ]
  },
  {
   "cell_type": "markdown",
   "metadata": {},
   "source": [
    "### 1. Create a set with integers from 1 to 5.\n"
   ]
  },
  {
   "cell_type": "code",
   "execution_count": 115,
   "metadata": {},
   "outputs": [
    {
     "name": "stdout",
     "output_type": "stream",
     "text": [
      "{1, 2, 3, 4, 5}\n"
     ]
    }
   ],
   "source": [
    "# Creating a set with integers from 1 to 5\n",
    "integer_set = {1, 2, 3, 4, 5}\n",
    "print(integer_set)  # Output: {1, 2, 3, 4, 5}\n"
   ]
  },
  {
   "cell_type": "markdown",
   "metadata": {},
   "source": [
    "### 2. Add an element to a set.\n"
   ]
  },
  {
   "cell_type": "code",
   "execution_count": 118,
   "metadata": {},
   "outputs": [
    {
     "name": "stdout",
     "output_type": "stream",
     "text": [
      "{1, 2, 4, 5, 6}\n"
     ]
    }
   ],
   "source": [
    "# Adding an element to a set\n",
    "integer_set.add(6)\n",
    "print(integer_set)  # Output: {1, 2, 3, 4, 5, 6}\n"
   ]
  },
  {
   "cell_type": "markdown",
   "metadata": {},
   "source": [
    "### 3. Remove an element from a set.\n"
   ]
  },
  {
   "cell_type": "code",
   "execution_count": 117,
   "metadata": {},
   "outputs": [
    {
     "name": "stdout",
     "output_type": "stream",
     "text": [
      "{1, 2, 4, 5, 6}\n"
     ]
    }
   ],
   "source": [
    "# Removing an element from a set\n",
    "integer_set.remove(3)\n",
    "print(integer_set)  # Output: {1, 2, 4, 5, 6}\n"
   ]
  },
  {
   "cell_type": "markdown",
   "metadata": {},
   "source": [
    "### 4. Check if an element exists in a set.\n"
   ]
  },
  {
   "cell_type": "code",
   "execution_count": 119,
   "metadata": {},
   "outputs": [
    {
     "name": "stdout",
     "output_type": "stream",
     "text": [
      "True\n"
     ]
    }
   ],
   "source": [
    "# Checking if an element exists in a set\n",
    "element_exists = 4 in integer_set\n",
    "print(element_exists)  # Output: True\n"
   ]
  },
  {
   "cell_type": "markdown",
   "metadata": {},
   "source": [
    "### 5. Find the length of a set without using the `len()` function."
   ]
  },
  {
   "cell_type": "code",
   "execution_count": 120,
   "metadata": {},
   "outputs": [
    {
     "name": "stdout",
     "output_type": "stream",
     "text": [
      "5\n"
     ]
    }
   ],
   "source": [
    "# Finding the length of a set without using len()\n",
    "def find_set_length(input_set):\n",
    "    length = sum(1 for _ in input_set)\n",
    "    return length\n",
    "\n",
    "set_length = find_set_length(integer_set)\n",
    "print(set_length)  # Output: 5\n"
   ]
  },
  {
   "cell_type": "markdown",
   "metadata": {},
   "source": [
    "### 6. Clear all elements from a set."
   ]
  },
  {
   "cell_type": "code",
   "execution_count": 121,
   "metadata": {},
   "outputs": [
    {
     "name": "stdout",
     "output_type": "stream",
     "text": [
      "set()\n"
     ]
    }
   ],
   "source": [
    "# Clearing all elements from a set\n",
    "integer_set.clear()\n",
    "print(integer_set)  # Output: set()\n"
   ]
  },
  {
   "cell_type": "markdown",
   "metadata": {},
   "source": [
    "### 7. Create a set of even numbers from 1 to 10."
   ]
  },
  {
   "cell_type": "code",
   "execution_count": 122,
   "metadata": {},
   "outputs": [
    {
     "name": "stdout",
     "output_type": "stream",
     "text": [
      "{2, 4, 6, 8, 10}\n"
     ]
    }
   ],
   "source": [
    "# Creating a set of even numbers from 1 to 10\n",
    "even_set = {x for x in range(1, 11) if x % 2 == 0}\n",
    "print(even_set)  # Output: {2, 4, 6, 8, 10}\n"
   ]
  },
  {
   "cell_type": "markdown",
   "metadata": {},
   "source": [
    "### 8. Create a set of odd numbers from 1 to 10."
   ]
  },
  {
   "cell_type": "code",
   "execution_count": 123,
   "metadata": {},
   "outputs": [
    {
     "name": "stdout",
     "output_type": "stream",
     "text": [
      "{1, 3, 5, 7, 9}\n"
     ]
    }
   ],
   "source": [
    "# Creating a set of odd numbers from 1 to 10\n",
    "odd_set = {x for x in range(1, 11) if x % 2 != 0}\n",
    "print(odd_set)  # Output: {1, 3, 5, 7, 9}\n"
   ]
  },
  {
   "cell_type": "markdown",
   "metadata": {},
   "source": [
    "### 9. Find the union of two sets."
   ]
  },
  {
   "cell_type": "code",
   "execution_count": 124,
   "metadata": {},
   "outputs": [
    {
     "name": "stdout",
     "output_type": "stream",
     "text": [
      "{1, 2, 3, 4, 5}\n"
     ]
    }
   ],
   "source": [
    "# Finding the union of two sets\n",
    "set1 = {1, 2, 3}\n",
    "set2 = {3, 4, 5}\n",
    "union_set = set1.union(set2)\n",
    "print(union_set)  # Output: {1, 2, 3, 4, 5}\n"
   ]
  },
  {
   "cell_type": "markdown",
   "metadata": {},
   "source": [
    "### 10. Find the intersection of two sets."
   ]
  },
  {
   "cell_type": "code",
   "execution_count": 125,
   "metadata": {},
   "outputs": [
    {
     "name": "stdout",
     "output_type": "stream",
     "text": [
      "{3}\n"
     ]
    }
   ],
   "source": [
    "# Finding the intersection of two sets\n",
    "set1 = {1, 2, 3}\n",
    "set2 = {3, 4, 5}\n",
    "intersection_set = set1.intersection(set2)\n",
    "print(intersection_set)  # Output: {3}\n"
   ]
  },
  {
   "cell_type": "markdown",
   "metadata": {},
   "source": [
    "### 11. Find the difference between two sets."
   ]
  },
  {
   "cell_type": "code",
   "execution_count": 126,
   "metadata": {},
   "outputs": [
    {
     "name": "stdout",
     "output_type": "stream",
     "text": [
      "{1, 2}\n"
     ]
    }
   ],
   "source": [
    "# Finding the difference between two sets\n",
    "set1 = {1, 2, 3}\n",
    "set2 = {3, 4, 5}\n",
    "difference_set = set1.difference(set2)\n",
    "print(difference_set)  # Output: {1, 2}\n"
   ]
  },
  {
   "cell_type": "markdown",
   "metadata": {},
   "source": [
    "### 12. Check if a set is a subset of another set."
   ]
  },
  {
   "cell_type": "code",
   "execution_count": 127,
   "metadata": {},
   "outputs": [
    {
     "name": "stdout",
     "output_type": "stream",
     "text": [
      "False\n"
     ]
    }
   ],
   "source": [
    "# Checking if a set is a subset of another set\n",
    "subset_check = set1.issubset(set2)\n",
    "print(subset_check)  # Output: False\n"
   ]
  },
  {
   "cell_type": "markdown",
   "metadata": {},
   "source": [
    "### 13. Check if a set is a superset of another set."
   ]
  },
  {
   "cell_type": "code",
   "execution_count": 128,
   "metadata": {},
   "outputs": [
    {
     "name": "stdout",
     "output_type": "stream",
     "text": [
      "False\n"
     ]
    }
   ],
   "source": [
    "# Checking if a set is a superset of another set\n",
    "superset_check = set1.issuperset(set2)\n",
    "print(superset_check)  # Output: False\n"
   ]
  },
  {
   "cell_type": "markdown",
   "metadata": {},
   "source": [
    "### 14. Create a set from a list."
   ]
  },
  {
   "cell_type": "code",
   "execution_count": 129,
   "metadata": {},
   "outputs": [
    {
     "name": "stdout",
     "output_type": "stream",
     "text": [
      "{1, 2, 3, 4, 5}\n"
     ]
    }
   ],
   "source": [
    "# Creating a set from a list\n",
    "list_data = [1, 2, 3, 4, 5]\n",
    "set_from_list = set(list_data)\n",
    "print(set_from_list)  # Output: {1, 2, 3, 4, 5}\n"
   ]
  },
  {
   "cell_type": "markdown",
   "metadata": {},
   "source": [
    "### 15. Convert a set to a list."
   ]
  },
  {
   "cell_type": "code",
   "execution_count": 130,
   "metadata": {},
   "outputs": [
    {
     "name": "stdout",
     "output_type": "stream",
     "text": [
      "[]\n"
     ]
    }
   ],
   "source": [
    "# Converting a set to a list\n",
    "list_from_set = list(integer_set)\n",
    "print(list_from_set)  # Output: []\n"
   ]
  },
  {
   "cell_type": "markdown",
   "metadata": {},
   "source": [
    "### 16. Remove a random element from a set."
   ]
  },
  {
   "cell_type": "code",
   "execution_count": 1,
   "metadata": {},
   "outputs": [
    {
     "name": "stdout",
     "output_type": "stream",
     "text": [
      "{1, 3, 4, 5}\n"
     ]
    }
   ],
   "source": [
    "import random\n",
    "\n",
    "def remove_random_element(input_set):\n",
    "    if input_set:\n",
    "        element_to_remove = random.choice(list(input_set))\n",
    "        input_set.remove(element_to_remove)\n",
    "    return input_set\n",
    "\n",
    "my_set = {1, 2, 3, 4, 5}\n",
    "result_set = remove_random_element(my_set)\n",
    "print(result_set)\n"
   ]
  },
  {
   "cell_type": "markdown",
   "metadata": {},
   "source": [
    "### 17. Pop an element from a set."
   ]
  },
  {
   "cell_type": "code",
   "execution_count": 2,
   "metadata": {},
   "outputs": [
    {
     "name": "stdout",
     "output_type": "stream",
     "text": [
      "Popped Element: 1\n",
      "Remaining Set: {2, 3, 4, 5}\n"
     ]
    }
   ],
   "source": [
    "def pop_element(input_set):\n",
    "    if input_set:\n",
    "        popped_element = input_set.pop()\n",
    "        return popped_element, input_set\n",
    "    else:\n",
    "        return None, input_set\n",
    "\n",
    "my_set = {1, 2, 3, 4, 5}\n",
    "popped_value, new_set = pop_element(my_set)\n",
    "print(f\"Popped Element: {popped_value}\")\n",
    "print(f\"Remaining Set: {new_set}\")\n"
   ]
  },
  {
   "cell_type": "markdown",
   "metadata": {},
   "source": [
    "### 18. Check if two sets have no elements in common."
   ]
  },
  {
   "cell_type": "code",
   "execution_count": 3,
   "metadata": {},
   "outputs": [
    {
     "name": "stdout",
     "output_type": "stream",
     "text": [
      "True\n"
     ]
    }
   ],
   "source": [
    "def no_common_elements(set1, set2):\n",
    "    return len(set1.intersection(set2)) == 0\n",
    "\n",
    "set_a = {1, 2, 3}\n",
    "set_b = {4, 5, 6}\n",
    "result = no_common_elements(set_a, set_b)\n",
    "print(result)  # True\n"
   ]
  },
  {
   "cell_type": "markdown",
   "metadata": {},
   "source": [
    "### 19. Find the symmetric difference between two sets."
   ]
  },
  {
   "cell_type": "code",
   "execution_count": 4,
   "metadata": {},
   "outputs": [
    {
     "name": "stdout",
     "output_type": "stream",
     "text": [
      "{1, 2, 5, 6}\n"
     ]
    }
   ],
   "source": [
    "def symmetric_difference(set1, set2):\n",
    "    return set1.symmetric_difference(set2)\n",
    "\n",
    "set_a = {1, 2, 3, 4}\n",
    "set_b = {3, 4, 5, 6}\n",
    "result = symmetric_difference(set_a, set_b)\n",
    "print(result)  # {1, 2, 5, 6}\n"
   ]
  },
  {
   "cell_type": "markdown",
   "metadata": {},
   "source": [
    "### 20. Update a set with elements from another set."
   ]
  },
  {
   "cell_type": "code",
   "execution_count": 5,
   "metadata": {},
   "outputs": [
    {
     "name": "stdout",
     "output_type": "stream",
     "text": [
      "{1, 2, 3, 4, 5}\n"
     ]
    }
   ],
   "source": [
    "def update_set(set1, set2):\n",
    "    set1.update(set2)\n",
    "    return set1\n",
    "\n",
    "set_a = {1, 2, 3}\n",
    "set_b = {3, 4, 5}\n",
    "result_set = update_set(set_a, set_b)\n",
    "print(result_set)  # {1, 2, 3, 4, 5}\n"
   ]
  },
  {
   "cell_type": "markdown",
   "metadata": {},
   "source": [
    "### 21. Create a set of the first 5 prime numbers."
   ]
  },
  {
   "cell_type": "code",
   "execution_count": 6,
   "metadata": {},
   "outputs": [
    {
     "name": "stdout",
     "output_type": "stream",
     "text": [
      "{2, 3, 5, 7, 11}\n"
     ]
    }
   ],
   "source": [
    "def generate_prime_set():\n",
    "    prime_set = {2, 3, 5, 7, 11}\n",
    "    return prime_set\n",
    "\n",
    "prime_numbers = generate_prime_set()\n",
    "print(prime_numbers)\n"
   ]
  },
  {
   "cell_type": "markdown",
   "metadata": {},
   "source": [
    "### 22. Check if two sets are identical."
   ]
  },
  {
   "cell_type": "code",
   "execution_count": 7,
   "metadata": {},
   "outputs": [
    {
     "name": "stdout",
     "output_type": "stream",
     "text": [
      "True\n"
     ]
    }
   ],
   "source": [
    "def are_sets_identical(set1, set2):\n",
    "    return set1 == set2\n",
    "\n",
    "set_a = {1, 2, 3}\n",
    "set_b = {1, 2, 3}\n",
    "result = are_sets_identical(set_a, set_b)\n",
    "print(result)  # True\n"
   ]
  },
  {
   "cell_type": "markdown",
   "metadata": {},
   "source": [
    "### 23. Create a frozen set."
   ]
  },
  {
   "cell_type": "code",
   "execution_count": 8,
   "metadata": {},
   "outputs": [
    {
     "name": "stdout",
     "output_type": "stream",
     "text": [
      "frozenset({1, 2, 3})\n"
     ]
    }
   ],
   "source": [
    "def create_frozen_set(input_set):\n",
    "    return frozenset(input_set)\n",
    "\n",
    "my_set = {1, 2, 3}\n",
    "frozen_set = create_frozen_set(my_set)\n",
    "print(frozen_set)\n"
   ]
  },
  {
   "cell_type": "markdown",
   "metadata": {},
   "source": [
    "### 24. Check if a set is disjoint with another set."
   ]
  },
  {
   "cell_type": "code",
   "execution_count": 9,
   "metadata": {},
   "outputs": [
    {
     "name": "stdout",
     "output_type": "stream",
     "text": [
      "True\n"
     ]
    }
   ],
   "source": [
    "def are_sets_disjoint(set1, set2):\n",
    "    return set1.isdisjoint(set2)\n",
    "\n",
    "set_a = {1, 2, 3}\n",
    "set_b = {4, 5, 6}\n",
    "result = are_sets_disjoint(set_a, set_b)\n",
    "print(result)  # True\n"
   ]
  },
  {
   "cell_type": "markdown",
   "metadata": {},
   "source": [
    "### 25. Create a set of squares of numbers from 1 to 5."
   ]
  },
  {
   "cell_type": "code",
   "execution_count": 10,
   "metadata": {},
   "outputs": [
    {
     "name": "stdout",
     "output_type": "stream",
     "text": [
      "{1, 4, 9, 16, 25}\n"
     ]
    }
   ],
   "source": [
    "def create_square_set():\n",
    "    square_set = {x ** 2 for x in range(1, 6)}\n",
    "    return square_set\n",
    "\n",
    "squares = create_square_set()\n",
    "print(squares)\n"
   ]
  },
  {
   "cell_type": "markdown",
   "metadata": {},
   "source": [
    "### 26. Filter out all even numbers from a set."
   ]
  },
  {
   "cell_type": "code",
   "execution_count": 11,
   "metadata": {},
   "outputs": [
    {
     "name": "stdout",
     "output_type": "stream",
     "text": [
      "{1, 3, 5}\n"
     ]
    }
   ],
   "source": [
    "def filter_out_even_numbers(input_set):\n",
    "    return {x for x in input_set if x % 2 != 0}\n",
    "\n",
    "my_set = {1, 2, 3, 4, 5}\n",
    "result_set = filter_out_even_numbers(my_set)\n",
    "print(result_set)\n"
   ]
  },
  {
   "cell_type": "markdown",
   "metadata": {},
   "source": [
    "### 27. Multiply all elements in a set by 2."
   ]
  },
  {
   "cell_type": "code",
   "execution_count": 12,
   "metadata": {},
   "outputs": [
    {
     "name": "stdout",
     "output_type": "stream",
     "text": [
      "{2, 4, 6}\n"
     ]
    }
   ],
   "source": [
    "def multiply_elements_by_2(input_set):\n",
    "    return {x * 2 for x in input_set}\n",
    "\n",
    "my_set = {1, 2, 3}\n",
    "result_set = multiply_elements_by_2(my_set)\n",
    "print(result_set)\n"
   ]
  },
  {
   "cell_type": "markdown",
   "metadata": {},
   "source": [
    "### 28. Create a set of random numbers."
   ]
  },
  {
   "cell_type": "code",
   "execution_count": 13,
   "metadata": {},
   "outputs": [
    {
     "name": "stdout",
     "output_type": "stream",
     "text": [
      "{1, 6, 7}\n"
     ]
    }
   ],
   "source": [
    "import random\n",
    "\n",
    "def create_random_set(size, min_value, max_value):\n",
    "    return {random.randint(min_value, max_value) for _ in range(size)}\n",
    "\n",
    "random_set = create_random_set(5, 1, 10)\n",
    "print(random_set)\n"
   ]
  },
  {
   "cell_type": "markdown",
   "metadata": {},
   "source": [
    "### 29. Check if a set is empty."
   ]
  },
  {
   "cell_type": "code",
   "execution_count": 14,
   "metadata": {},
   "outputs": [
    {
     "name": "stdout",
     "output_type": "stream",
     "text": [
      "True\n"
     ]
    }
   ],
   "source": [
    "def is_set_empty(input_set):\n",
    "    return len(input_set) == 0\n",
    "\n",
    "my_set = set()\n",
    "result = is_set_empty(my_set)\n",
    "print(result)  # True\n"
   ]
  },
  {
   "cell_type": "markdown",
   "metadata": {},
   "source": [
    "### 30. Create a nested set (hint: use frozenset)."
   ]
  },
  {
   "cell_type": "code",
   "execution_count": 15,
   "metadata": {},
   "outputs": [
    {
     "name": "stdout",
     "output_type": "stream",
     "text": [
      "{frozenset({3, 4}), frozenset({1, 2})}\n"
     ]
    }
   ],
   "source": [
    "def create_nested_set():\n",
    "    nested_set = {frozenset({1, 2}), frozenset({3, 4})}\n",
    "    return nested_set\n",
    "\n",
    "nested = create_nested_set()\n",
    "print(nested)\n"
   ]
  },
  {
   "cell_type": "markdown",
   "metadata": {},
   "source": [
    "### 31. Remove an element from a set using the discard method."
   ]
  },
  {
   "cell_type": "code",
   "execution_count": 16,
   "metadata": {},
   "outputs": [
    {
     "name": "stdout",
     "output_type": "stream",
     "text": [
      "{1, 2, 4, 5}\n"
     ]
    }
   ],
   "source": [
    "def remove_element(input_set, element_to_remove):\n",
    "    input_set.discard(element_to_remove)\n",
    "\n",
    "my_set = {1, 2, 3, 4, 5}\n",
    "remove_element(my_set, 3)\n",
    "print(my_set)\n"
   ]
  },
  {
   "cell_type": "markdown",
   "metadata": {},
   "source": [
    "### 32. Compare two sets."
   ]
  },
  {
   "cell_type": "code",
   "execution_count": 17,
   "metadata": {},
   "outputs": [
    {
     "name": "stdout",
     "output_type": "stream",
     "text": [
      "True\n"
     ]
    }
   ],
   "source": [
    "def compare_sets(set1, set2):\n",
    "    return set1 == set2\n",
    "\n",
    "set_a = {1, 2, 3}\n",
    "set_b = {3, 2, 1}\n",
    "result = compare_sets(set_a, set_b)\n",
    "print(result)  # True\n"
   ]
  },
  {
   "cell_type": "markdown",
   "metadata": {},
   "source": [
    "### 33. Create a set from a string."
   ]
  },
  {
   "cell_type": "code",
   "execution_count": 18,
   "metadata": {},
   "outputs": [
    {
     "name": "stdout",
     "output_type": "stream",
     "text": [
      "{'e', 'l', 'h', 'o'}\n"
     ]
    }
   ],
   "source": [
    "def create_set_from_string(input_string):\n",
    "    return set(input_string)\n",
    "\n",
    "my_string = \"hello\"\n",
    "result_set = create_set_from_string(my_string)\n",
    "print(result_set)\n"
   ]
  },
  {
   "cell_type": "markdown",
   "metadata": {},
   "source": [
    "### 34. Convert a set of strings to a set of integers."
   ]
  },
  {
   "cell_type": "code",
   "execution_count": 19,
   "metadata": {},
   "outputs": [
    {
     "name": "stdout",
     "output_type": "stream",
     "text": [
      "{1, 2, 3}\n"
     ]
    }
   ],
   "source": [
    "def convert_set_of_strings_to_integers(string_set):\n",
    "    return {int(item) for item in string_set}\n",
    "\n",
    "string_set = {\"1\", \"2\", \"3\"}\n",
    "result_set = convert_set_of_strings_to_integers(string_set)\n",
    "print(result_set)\n"
   ]
  },
  {
   "cell_type": "markdown",
   "metadata": {},
   "source": [
    "### 35. Convert a set of integers to a set of strings."
   ]
  },
  {
   "cell_type": "code",
   "execution_count": 21,
   "metadata": {},
   "outputs": [
    {
     "name": "stdout",
     "output_type": "stream",
     "text": [
      "{'3', '1', '2'}\n"
     ]
    }
   ],
   "source": [
    "def convert_set_of_integers_to_strings(integer_set):\n",
    "    return {str(item) for item in integer_set}\n",
    "\n",
    "integer_set = {1, 2, 3}\n",
    "result_set = convert_set_of_integers_to_strings(integer_set)\n",
    "print(result_set)\n"
   ]
  },
  {
   "cell_type": "markdown",
   "metadata": {},
   "source": [
    "### 36. Create a set from a tuple."
   ]
  },
  {
   "cell_type": "code",
   "execution_count": 22,
   "metadata": {},
   "outputs": [
    {
     "name": "stdout",
     "output_type": "stream",
     "text": [
      "{1, 2, 3}\n"
     ]
    }
   ],
   "source": [
    "def create_set_from_tuple(input_tuple):\n",
    "    return set(input_tuple)\n",
    "\n",
    "my_tuple = (1, 2, 3)\n",
    "result_set = create_set_from_tuple(my_tuple)\n",
    "print(result_set)\n"
   ]
  },
  {
   "cell_type": "markdown",
   "metadata": {},
   "source": [
    "### 37. Convert a set to a tuple."
   ]
  },
  {
   "cell_type": "code",
   "execution_count": 24,
   "metadata": {},
   "outputs": [
    {
     "name": "stdout",
     "output_type": "stream",
     "text": [
      "(1, 2, 3)\n"
     ]
    }
   ],
   "source": [
    "def convert_set_to_tuple(input_set):\n",
    "    return tuple(input_set)\n",
    "\n",
    "my_set = {1, 2, 3}\n",
    "result_tuple = convert_set_to_tuple(my_set)\n",
    "print(result_tuple)\n"
   ]
  },
  {
   "cell_type": "markdown",
   "metadata": {},
   "source": [
    "### 38. Find the maximum value in a set."
   ]
  },
  {
   "cell_type": "code",
   "execution_count": 25,
   "metadata": {},
   "outputs": [
    {
     "name": "stdout",
     "output_type": "stream",
     "text": [
      "20\n"
     ]
    }
   ],
   "source": [
    "def find_max_value(input_set):\n",
    "    return max(input_set)\n",
    "\n",
    "my_set = {10, 5, 20, 15}\n",
    "max_value = find_max_value(my_set)\n",
    "print(max_value)\n"
   ]
  },
  {
   "cell_type": "markdown",
   "metadata": {},
   "source": [
    "### 39. Find the minimum value in a set."
   ]
  },
  {
   "cell_type": "code",
   "execution_count": 26,
   "metadata": {},
   "outputs": [
    {
     "name": "stdout",
     "output_type": "stream",
     "text": [
      "5\n"
     ]
    }
   ],
   "source": [
    "def find_min_value(input_set):\n",
    "    return min(input_set)\n",
    "\n",
    "my_set = {10, 5, 20, 15}\n",
    "min_value = find_min_value(my_set)\n",
    "print(min_value)\n"
   ]
  },
  {
   "cell_type": "markdown",
   "metadata": {},
   "source": [
    "### 40. Create a set from user input."
   ]
  },
  {
   "cell_type": "code",
   "execution_count": 27,
   "metadata": {},
   "outputs": [
    {
     "name": "stdout",
     "output_type": "stream",
     "text": [
      "{'3', '1', '2'}\n"
     ]
    }
   ],
   "source": [
    "def create_set_from_user_input():\n",
    "    input_string = input(\"Enter elements separated by spaces: \")\n",
    "    input_list = input_string.split()\n",
    "    return set(input_list)\n",
    "\n",
    "user_set = create_set_from_user_input()\n",
    "print(user_set)\n"
   ]
  },
  {
   "cell_type": "markdown",
   "metadata": {},
   "source": [
    "### 41. Check if the intersection of two sets is empty."
   ]
  },
  {
   "cell_type": "code",
   "execution_count": 28,
   "metadata": {},
   "outputs": [
    {
     "name": "stdout",
     "output_type": "stream",
     "text": [
      "False\n"
     ]
    }
   ],
   "source": [
    "def is_intersection_empty(set1, set2):\n",
    "    return len(set1.intersection(set2)) == 0\n",
    "\n",
    "set_a = {1, 2, 3}\n",
    "set_b = {3, 4, 5}\n",
    "result = is_intersection_empty(set_a, set_b)\n",
    "print(result)  # False\n"
   ]
  },
  {
   "cell_type": "markdown",
   "metadata": {},
   "source": [
    "### 42. Create a set of the first 5 Fibonacci numbers."
   ]
  },
  {
   "cell_type": "code",
   "execution_count": 29,
   "metadata": {},
   "outputs": [
    {
     "name": "stdout",
     "output_type": "stream",
     "text": [
      "{0, 1, 2, 3}\n"
     ]
    }
   ],
   "source": [
    "def generate_fibonacci_set(n):\n",
    "    fib_set = set()\n",
    "    a, b = 0, 1\n",
    "    for _ in range(n):\n",
    "        fib_set.add(a)\n",
    "        a, b = b, a + b\n",
    "    return fib_set\n",
    "\n",
    "fibonacci_numbers = generate_fibonacci_set(5)\n",
    "print(fibonacci_numbers)\n"
   ]
  },
  {
   "cell_type": "markdown",
   "metadata": {},
   "source": [
    "### 43. Remove duplicates from a list using sets."
   ]
  },
  {
   "cell_type": "code",
   "execution_count": 30,
   "metadata": {},
   "outputs": [
    {
     "name": "stdout",
     "output_type": "stream",
     "text": [
      "[1, 2, 3, 4, 5]\n"
     ]
    }
   ],
   "source": [
    "def remove_duplicates(input_list):\n",
    "    return list(set(input_list))\n",
    "\n",
    "my_list = [1, 2, 2, 3, 4, 4, 5]\n",
    "result_list = remove_duplicates(my_list)\n",
    "print(result_list)\n"
   ]
  },
  {
   "cell_type": "markdown",
   "metadata": {},
   "source": [
    "### 44. Check if two sets have the same elements, regardless of their count."
   ]
  },
  {
   "cell_type": "code",
   "execution_count": 31,
   "metadata": {},
   "outputs": [
    {
     "name": "stdout",
     "output_type": "stream",
     "text": [
      "True\n"
     ]
    }
   ],
   "source": [
    "def have_same_elements(set1, set2):\n",
    "    return set1 == set2 or set1 == set2[::-1]\n",
    "\n",
    "set_a = {1, 2, 3}\n",
    "set_b = {3, 2, 1, 1}\n",
    "result = have_same_elements(set_a, set_b)\n",
    "print(result)  # True\n"
   ]
  },
  {
   "cell_type": "markdown",
   "metadata": {},
   "source": [
    "### 45. Create a set of the first `n` powers of 2."
   ]
  },
  {
   "cell_type": "code",
   "execution_count": 32,
   "metadata": {},
   "outputs": [
    {
     "name": "stdout",
     "output_type": "stream",
     "text": [
      "{1, 2, 4, 8, 16}\n"
     ]
    }
   ],
   "source": [
    "def generate_powers_of_2_set(n):\n",
    "    powers_set = {2 ** i for i in range(n)}\n",
    "    return powers_set\n",
    "\n",
    "powers_of_2 = generate_powers_of_2_set(5)\n",
    "print(powers_of_2)\n"
   ]
  },
  {
   "cell_type": "markdown",
   "metadata": {},
   "source": [
    "### 46. Find the common elements between a set and a list."
   ]
  },
  {
   "cell_type": "code",
   "execution_count": 33,
   "metadata": {},
   "outputs": [
    {
     "name": "stdout",
     "output_type": "stream",
     "text": [
      "{3, 4, 5}\n"
     ]
    }
   ],
   "source": [
    "def find_common_elements(input_set, input_list):\n",
    "    return input_set.intersection(input_list)\n",
    "\n",
    "my_set = {1, 2, 3, 4, 5}\n",
    "my_list = [3, 4, 5, 6, 7]\n",
    "common_elements = find_common_elements(my_set, my_list)\n",
    "print(common_elements)\n"
   ]
  },
  {
   "cell_type": "markdown",
   "metadata": {},
   "source": [
    "### 47. Create a set of the first `n` triangular numbers."
   ]
  },
  {
   "cell_type": "code",
   "execution_count": 34,
   "metadata": {},
   "outputs": [
    {
     "name": "stdout",
     "output_type": "stream",
     "text": [
      "{1, 3, 6, 10, 15}\n"
     ]
    }
   ],
   "source": [
    "def generate_triangular_numbers_set(n):\n",
    "    triangular_set = {i * (i + 1) // 2 for i in range(1, n + 1)}\n",
    "    return triangular_set\n",
    "\n",
    "triangular_numbers = generate_triangular_numbers_set(5)\n",
    "print(triangular_numbers)\n"
   ]
  },
  {
   "cell_type": "markdown",
   "metadata": {},
   "source": [
    "### 48.Check if a set contains another set as a subset."
   ]
  },
  {
   "cell_type": "code",
   "execution_count": 35,
   "metadata": {},
   "outputs": [
    {
     "name": "stdout",
     "output_type": "stream",
     "text": [
      "True\n"
     ]
    }
   ],
   "source": [
    "def is_subset(set1, set2):\n",
    "    return set2.issubset(set1)\n",
    "\n",
    "set_a = {1, 2, 3, 4, 5}\n",
    "set_b = {2, 3}\n",
    "result = is_subset(set_a, set_b)\n",
    "print(result)  # True\n"
   ]
  },
  {
   "cell_type": "markdown",
   "metadata": {},
   "source": [
    "### 49. Create a set of alternating 1s and 0s of length n."
   ]
  },
  {
   "cell_type": "code",
   "execution_count": 36,
   "metadata": {},
   "outputs": [
    {
     "name": "stdout",
     "output_type": "stream",
     "text": [
      "{0, 1}\n"
     ]
    }
   ],
   "source": [
    "def create_alternating_set(n):\n",
    "    return {i % 2 for i in range(n)}\n",
    "\n",
    "alternating_set = create_alternating_set(10)\n",
    "print(alternating_set)\n"
   ]
  },
  {
   "cell_type": "markdown",
   "metadata": {},
   "source": [
    "### 50. Merge multiple sets into one."
   ]
  },
  {
   "cell_type": "code",
   "execution_count": 37,
   "metadata": {},
   "outputs": [
    {
     "name": "stdout",
     "output_type": "stream",
     "text": [
      "{1, 2, 3, 4, 5, 6, 7}\n"
     ]
    }
   ],
   "source": [
    "def merge_sets(*sets):\n",
    "    merged_set = set()\n",
    "    for s in sets:\n",
    "        merged_set.update(s)\n",
    "    return merged_set\n",
    "\n",
    "set1 = {1, 2, 3}\n",
    "set2 = {3, 4, 5}\n",
    "set3 = {5, 6, 7}\n",
    "result_set = merge_sets(set1, set2, set3)\n",
    "print(result_set)\n"
   ]
  }
 ],
 "metadata": {
  "kernelspec": {
   "display_name": "Python 3",
   "language": "python",
   "name": "python3"
  },
  "language_info": {
   "codemirror_mode": {
    "name": "ipython",
    "version": 3
   },
   "file_extension": ".py",
   "mimetype": "text/x-python",
   "name": "python",
   "nbconvert_exporter": "python",
   "pygments_lexer": "ipython3",
   "version": "3.11.4"
  },
  "orig_nbformat": 4
 },
 "nbformat": 4,
 "nbformat_minor": 2
}
