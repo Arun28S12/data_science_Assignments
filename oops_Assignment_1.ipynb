{
 "cells": [
  {
   "cell_type": "markdown",
   "metadata": {},
   "source": [
    "### Problem 1: Bank Account Create a class representing a bank account with attributes like account number, account holder name, and balance. Implement methods to deposit and withdraw money from the account.\n"
   ]
  },
  {
   "cell_type": "code",
   "execution_count": 1,
   "metadata": {},
   "outputs": [],
   "source": [
    "class BankAccount:\n",
    "    def __init__(self, account_number, account_holder, balance):\n",
    "        self.account_number = account_number\n",
    "        self.account_holder = account_holder\n",
    "        self.balance = balance\n",
    "\n",
    "    def deposit(self, amount):\n",
    "        self.balance += amount\n",
    "\n",
    "    def withdraw(self, amount):\n",
    "        if amount <= self.balance:\n",
    "            self.balance -= amount\n",
    "        else:\n",
    "            print(\"Insufficient funds\")\n",
    "\n",
    "# Example usage:\n",
    "account = BankAccount(\"12345\", \"Arun Singh\", 1000)\n",
    "account.deposit(500)\n",
    "account.withdraw(200)\n"
   ]
  },
  {
   "cell_type": "markdown",
   "metadata": {},
   "source": [
    "### Problem 2: Employee Management Create a class representing an employee with attributes like employee ID, name, and salary. Implement methods to calculate the yearly bonus and display employee details."
   ]
  },
  {
   "cell_type": "code",
   "execution_count": 4,
   "metadata": {},
   "outputs": [
    {
     "name": "stdout",
     "output_type": "stream",
     "text": [
      "Employee ID: 1\n",
      "Name: Arun\n",
      "Salary: 50000.00 INR.\n",
      "Yearly Bonus: 5000.00 INR.\n"
     ]
    }
   ],
   "source": [
    "class Employee:\n",
    "    def __init__(self, employee_id, name, salary):\n",
    "        self.employee_id = employee_id\n",
    "        self.name = name\n",
    "        self.salary = salary\n",
    "\n",
    "    def calculate_bonus(self, bonus_percentage):\n",
    "        return (bonus_percentage / 100) * self.salary\n",
    "\n",
    "    def display_details(self):\n",
    "        print(f\"Employee ID: {self.employee_id}\")\n",
    "        print(f\"Name: {self.name}\")\n",
    "        print(f\"Salary: {self.salary:.2f} INR.\")\n",
    "\n",
    "# Example usage:\n",
    "employee = Employee(1, \"Arun\", 50000)\n",
    "bonus = employee.calculate_bonus(10)\n",
    "employee.display_details()\n",
    "print(f\"Yearly Bonus: {bonus:.2f} INR.\")\n"
   ]
  },
  {
   "cell_type": "markdown",
   "metadata": {},
   "source": [
    "### Problem 3: Vehicle Rental Create a class representing a vehicle rental system. Implement methods to rent a vehicle, return a vehicle, and display available vehicles."
   ]
  },
  {
   "cell_type": "code",
   "execution_count": 6,
   "metadata": {},
   "outputs": [
    {
     "name": "stdout",
     "output_type": "stream",
     "text": [
      "2022 Toyota Camry, Availabe\n",
      "2023 Honda Civic, Availabe\n",
      "2021 Ford F-150, Availabe\n",
      "Rented: 2022 | Toyota | Camry\n",
      "Rented: 2023 | Honda | Civic\n",
      "2021 Ford F-150, Availabe\n",
      "Returned: 2023 | Honda | Civic\n",
      "2023 Honda Civic, Availabe\n",
      "2021 Ford F-150, Availabe\n"
     ]
    }
   ],
   "source": [
    "class Vehicle:\n",
    "    def __init__(self,make,model,year,available=True):\n",
    "\n",
    "        self.make=make\n",
    "        self.model=model\n",
    "        self.year=year\n",
    "        self.available=available\n",
    "    def rent(self):\n",
    "        if self.available:\n",
    "            self.available=False\n",
    "            return f\"Rented: {self.year} | {self.make} | {self.model}\"\n",
    "        else:\n",
    "            return \"Vehicle is not available for rent.\"\n",
    "    def return_vehicle(self):\n",
    "        if not self.available:\n",
    "            self.available=True\n",
    "            return f\"Returned: {self.year} | {self.make} | {self.model}\"\n",
    "        else:\n",
    "            return \"Vehicle is already returned.\"\n",
    "    def __str__(self) -> str:\n",
    "        availability=\"Availabe\" if self.available else \"Not Available\"\n",
    "        return f\"{self.year} {self.make} {self.model}, {availability}\"\n",
    "class VehicleRentalSystem:\n",
    "    def __init__(self):\n",
    "        self.vehicles=[]\n",
    "    def add_vehicle(self,vehicle):\n",
    "        self.vehicles.append(vehicle)\n",
    "    def display_available_vehicles(self):\n",
    "        available_vehicles=[str(vehicle) for vehicle in self.vehicles if vehicle.available]\n",
    "        if available_vehicles:\n",
    "            return \"\\n\".join(available_vehicles)\n",
    "        else:\n",
    "            return \"No vehicles available.\"\n",
    "# Example usage:\n",
    "vehicle1 = Vehicle(\"Toyota\", \"Camry\", 2022)\n",
    "vehicle2 = Vehicle(\"Honda\", \"Civic\", 2023)\n",
    "vehicle3 = Vehicle(\"Ford\", \"F-150\", 2021)\n",
    "\n",
    "rental_system = VehicleRentalSystem()\n",
    "rental_system.add_vehicle(vehicle1)\n",
    "rental_system.add_vehicle(vehicle2)\n",
    "rental_system.add_vehicle(vehicle3)\n",
    "\n",
    "print(rental_system.display_available_vehicles())\n",
    "print(vehicle1.rent())\n",
    "print(vehicle2.rent())\n",
    "print(rental_system.display_available_vehicles())\n",
    "print(vehicle2.return_vehicle())\n",
    "print(rental_system.display_available_vehicles())\n"
   ]
  },
  {
   "cell_type": "markdown",
   "metadata": {},
   "source": [
    "### Problem 4: Library Catalog Create classes representing a library and a book. Implement methods to add books to the library, borrow books, and display available books."
   ]
  },
  {
   "cell_type": "code",
   "execution_count": 1,
   "metadata": {},
   "outputs": [
    {
     "name": "stdout",
     "output_type": "stream",
     "text": [
      "Book The Great Gatsby By F. Scott Fitzgerald added to library.\n",
      "Book To Kill a Mockingbird By Harper Lee added to library.\n",
      "Book 1984 By George Orwell added to library.\n",
      "Available books in the Library:\n",
      "The Great Gatsby By F. Scott Fitzgerald\n",
      "To Kill a Mockingbird By Harper Lee\n",
      "1984 By George Orwell\n",
      "Borrowed book:The Great Gatsby By F. Scott Fitzgerald\n",
      "Borrowed book:1984 By George Orwell\n",
      "Book 'The Catcher in the Rye' is not available for borrowing\n",
      "Available books in the Library:\n",
      "The Great Gatsby By F. Scott Fitzgerald\n",
      "To Kill a Mockingbird By Harper Lee\n",
      "1984 By George Orwell\n"
     ]
    }
   ],
   "source": [
    "class Book:\n",
    "    def __init__(self,title,author,ISBN):\n",
    "        self.title=title\n",
    "        self.author=author\n",
    "        self.ISNB=ISBN\n",
    "        self.available=True\n",
    "    def __str__(self) -> str:\n",
    "        return f\"{self.title} By {self.author}\"\n",
    "class Library:\n",
    "    def __init__(self) -> None:\n",
    "        self.books=[]\n",
    "    def add_book(self,title,author,ISBN):\n",
    "        book=Book(title,author,ISBN)\n",
    "        self.books.append(book)\n",
    "        print(f\"Book {title} By {author} added to library.\")\n",
    "    def borrow_book(self,title):\n",
    "        for book in self.books:\n",
    "            if book.title==title and book.available:\n",
    "                book.available=False\n",
    "                print(f\"Borrowed book:{book}\")\n",
    "                return \n",
    "        print(f\"Book '{title}' is not available for borrowing\")\n",
    "    def display_available_books(self):\n",
    "        available_books=[book for book in self.books if book.available]\n",
    "        if available_books:\n",
    "            print(\"Available books in the Library:\")\n",
    "            for book in self.books:\n",
    "                print(book)\n",
    "        else:\n",
    "            print(\"No books available in the library at the Moment\")\n",
    "if __name__==\"__main__\":\n",
    "    library = Library()\n",
    "\n",
    "    library.add_book(\"The Great Gatsby\", \"F. Scott Fitzgerald\", \"978-0743273565\")\n",
    "    library.add_book(\"To Kill a Mockingbird\", \"Harper Lee\", \"978-0061120084\")\n",
    "    library.add_book(\"1984\", \"George Orwell\", \"978-0451524935\")\n",
    "\n",
    "    library.display_available_books()\n",
    "\n",
    "    library.borrow_book(\"The Great Gatsby\")\n",
    "    library.borrow_book(\"1984\")\n",
    "    library.borrow_book(\"The Catcher in the Rye\")\n",
    "\n",
    "    library.display_available_books()\n"
   ]
  },
  {
   "cell_type": "markdown",
   "metadata": {},
   "source": [
    "### Problem 5: Product Inventory Create classes representing a product and an inventory system. Implement methods to add products to the inventory, update product quantity, and display available products."
   ]
  },
  {
   "cell_type": "code",
   "execution_count": 2,
   "metadata": {},
   "outputs": [
    {
     "name": "stdout",
     "output_type": "stream",
     "text": [
      "Added product to inventory: Laptop (ID: 1) - Price: $800 - Quantity: 10\n",
      "Added product to inventory: Smartphone (ID: 2) - Price: $400 - Quantity: 20\n",
      "Added product to inventory: Tablet (ID: 3) - Price: $300 - Quantity: 15\n",
      "Available products in the inventory:\n",
      "Laptop (ID: 1) - Price: $800 - Quantity: 10\n",
      "Smartphone (ID: 2) - Price: $400 - Quantity: 20\n",
      "Tablet (ID: 3) - Price: $300 - Quantity: 15\n",
      "Updated quantity for product (ID: 2): Smartphone (ID: 2) - Price: $400 - Quantity: 18\n",
      "Product (ID: 4) not found in the inventory.\n",
      "Available products in the inventory:\n",
      "Laptop (ID: 1) - Price: $800 - Quantity: 10\n",
      "Smartphone (ID: 2) - Price: $400 - Quantity: 18\n",
      "Tablet (ID: 3) - Price: $300 - Quantity: 15\n"
     ]
    }
   ],
   "source": [
    "class Product:\n",
    "    def __init__(self, product_id, name, price, quantity):\n",
    "        self.product_id = product_id\n",
    "        self.name = name\n",
    "        self.price = price\n",
    "        self.quantity = quantity\n",
    "\n",
    "    def __str__(self):\n",
    "        return f\"{self.name} (ID: {self.product_id}) - Price: ${self.price} - Quantity: {self.quantity}\"\n",
    "\n",
    "class Inventory:\n",
    "    def __init__(self):\n",
    "        self.products = []\n",
    "\n",
    "    def add_product(self, product_id, name, price, quantity):\n",
    "        product = Product(product_id, name, price, quantity)\n",
    "        self.products.append(product)\n",
    "        print(f\"Added product to inventory: {product}\")\n",
    "\n",
    "    def update_product_quantity(self, product_id, new_quantity):\n",
    "        for product in self.products:\n",
    "            if product.product_id == product_id:\n",
    "                product.quantity = new_quantity\n",
    "                print(f\"Updated quantity for product (ID: {product_id}): {product}\")\n",
    "                return\n",
    "        print(f\"Product (ID: {product_id}) not found in the inventory.\")\n",
    "\n",
    "    def display_available_products(self):\n",
    "        available_products = [product for product in self.products if product.quantity > 0]\n",
    "        if available_products:\n",
    "            print(\"Available products in the inventory:\")\n",
    "            for product in available_products:\n",
    "                print(product)\n",
    "        else:\n",
    "            print(\"No products available in the inventory at the moment.\")\n",
    "\n",
    "if __name__ == \"__main__\":\n",
    "    inventory = Inventory()\n",
    "\n",
    "    inventory.add_product(1, \"Laptop\", 800, 10)\n",
    "    inventory.add_product(2, \"Smartphone\", 400, 20)\n",
    "    inventory.add_product(3, \"Tablet\", 300, 15)\n",
    "\n",
    "    inventory.display_available_products()\n",
    "\n",
    "    inventory.update_product_quantity(2, 18)\n",
    "    inventory.update_product_quantity(4, 5)\n",
    "\n",
    "    inventory.display_available_products()\n"
   ]
  },
  {
   "cell_type": "markdown",
   "metadata": {},
   "source": [
    "### Problem 6: Shape Calculation Create a class representing a shape with attributes like length, width, and height. Implement methods to calculate the area and perimeter of the shape."
   ]
  },
  {
   "cell_type": "code",
   "execution_count": 3,
   "metadata": {},
   "outputs": [
    {
     "name": "stdout",
     "output_type": "stream",
     "text": [
      "Rectangle: Area = 15, Perimeter = 16\n",
      "Square: Area = 16, Perimeter = 16\n",
      "Triangle: Area = 12.0, Perimeter = 15\n"
     ]
    }
   ],
   "source": [
    "class Shape:\n",
    "    def __init__(self, length, width=None, height=None):\n",
    "        self.length = length\n",
    "        self.width = width\n",
    "        self.height = height\n",
    "\n",
    "    def calculate_area(self):\n",
    "        pass  # Method to calculate area, to be implemented in subclasses\n",
    "\n",
    "    def calculate_perimeter(self):\n",
    "        pass  # Method to calculate perimeter, to be implemented in subclasses\n",
    "\n",
    "class Rectangle(Shape):\n",
    "    def calculate_area(self):\n",
    "        if self.width is not None:\n",
    "            return self.length * self.width\n",
    "        return None\n",
    "\n",
    "    def calculate_perimeter(self):\n",
    "        if self.width is not None:\n",
    "            return 2 * (self.length + self.width)\n",
    "        return None\n",
    "\n",
    "class Square(Rectangle):\n",
    "    def __init__(self, side_length):\n",
    "        super().__init__(side_length, side_length)\n",
    "\n",
    "class Triangle(Shape):\n",
    "    def calculate_area(self):\n",
    "        if self.width is not None and self.height is not None:\n",
    "            return 0.5 * self.length * self.width\n",
    "        return None\n",
    "\n",
    "    def calculate_perimeter(self):\n",
    "        if self.width is not None and self.height is not None:\n",
    "            return self.length + self.width + self.height\n",
    "        return None\n",
    "\n",
    "if __name__ == \"__main__\":\n",
    "    rectangle = Rectangle(5, 3)\n",
    "    square = Square(4)\n",
    "    triangle = Triangle(6, 4, 5)\n",
    "\n",
    "    print(f\"Rectangle: Area = {rectangle.calculate_area()}, Perimeter = {rectangle.calculate_perimeter()}\")\n",
    "    print(f\"Square: Area = {square.calculate_area()}, Perimeter = {square.calculate_perimeter()}\")\n",
    "    print(f\"Triangle: Area = {triangle.calculate_area()}, Perimeter = {triangle.calculate_perimeter()}\")\n"
   ]
  },
  {
   "cell_type": "markdown",
   "metadata": {},
   "source": [
    "### Problem 7: Student Management Create a class representing a student with attributes like student ID, name, and grades. Implement methods to calculate the average grade and display student details."
   ]
  },
  {
   "cell_type": "code",
   "execution_count": 4,
   "metadata": {},
   "outputs": [
    {
     "name": "stdout",
     "output_type": "stream",
     "text": [
      "Student ID: 1\n",
      "Name: John Doe\n",
      "Grades: [85, 90, 78]\n",
      "Average Grade: 84.33333333333333\n",
      "\n",
      "Student ID: 2\n",
      "Name: Jane Smith\n",
      "Grades: [92, 88, 95]\n",
      "Average Grade: 91.66666666666667\n"
     ]
    }
   ],
   "source": [
    "class Student:\n",
    "    def __init__(self, student_id, name):\n",
    "        self.student_id = student_id\n",
    "        self.name = name\n",
    "        self.grades = []\n",
    "\n",
    "    def add_grade(self, grade):\n",
    "        self.grades.append(grade)\n",
    "\n",
    "    def calculate_average_grade(self):\n",
    "        if len(self.grades) > 0:\n",
    "            return sum(self.grades) / len(self.grades)\n",
    "        else:\n",
    "            return 0\n",
    "\n",
    "    def display_details(self):\n",
    "        print(f\"Student ID: {self.student_id}\")\n",
    "        print(f\"Name: {self.name}\")\n",
    "        print(\"Grades:\", self.grades)\n",
    "        print(f\"Average Grade: {self.calculate_average_grade()}\")\n",
    "\n",
    "if __name__ == \"__main__\":\n",
    "    student1 = Student(1, \"John Doe\")\n",
    "    student1.add_grade(85)\n",
    "    student1.add_grade(90)\n",
    "    student1.add_grade(78)\n",
    "\n",
    "    student2 = Student(2, \"Jane Smith\")\n",
    "    student2.add_grade(92)\n",
    "    student2.add_grade(88)\n",
    "    student2.add_grade(95)\n",
    "\n",
    "    student1.display_details()\n",
    "    print()\n",
    "    student2.display_details()\n"
   ]
  },
  {
   "cell_type": "markdown",
   "metadata": {},
   "source": [
    "### Problem 8: Email Management Create a class representing an email with attributes like sender, recipient, and subject. Implement methods to send an email and display email details."
   ]
  },
  {
   "cell_type": "code",
   "execution_count": 5,
   "metadata": {},
   "outputs": [
    {
     "name": "stdout",
     "output_type": "stream",
     "text": [
      "Email sent to: recipient@example.com\n",
      "Subject: Hello, World!\n",
      "Message:\n",
      "This is a test email. Hello from the Email Management system.\n",
      "\n",
      "Sender: youremail@example.com\n",
      "Recipient: recipient@example.com\n",
      "Subject: Hello, World!\n",
      "Message:\n",
      "This is a test email. Hello from the Email Management system.\n"
     ]
    }
   ],
   "source": [
    "class Email:\n",
    "    def __init__(self, sender, recipient, subject, message):\n",
    "        self.sender = sender\n",
    "        self.recipient = recipient\n",
    "        self.subject = subject\n",
    "        self.message = message\n",
    "\n",
    "    def send_email(self):\n",
    "        print(\"Email sent to:\", self.recipient)\n",
    "        print(\"Subject:\", self.subject)\n",
    "        print(\"Message:\")\n",
    "        print(self.message)\n",
    "\n",
    "    def display_details(self):\n",
    "        print(\"Sender:\", self.sender)\n",
    "        print(\"Recipient:\", self.recipient)\n",
    "        print(\"Subject:\", self.subject)\n",
    "        print(\"Message:\")\n",
    "        print(self.message)\n",
    "\n",
    "if __name__ == \"__main__\":\n",
    "    sender = \"youremail@example.com\"\n",
    "    recipient = \"recipient@example.com\"\n",
    "    subject = \"Hello, World!\"\n",
    "    message = \"This is a test email. Hello from the Email Management system.\"\n",
    "\n",
    "    email = Email(sender, recipient, subject, message)\n",
    "\n",
    "    email.send_email()\n",
    "    print()\n",
    "    email.display_details()\n"
   ]
  },
  {
   "cell_type": "markdown",
   "metadata": {},
   "source": [
    "### Problem 9: Social Media Profile Create a class representing a social media profile with attributes like username and posts. Implement methods to add posts, display posts, and search for posts by keyword."
   ]
  },
  {
   "cell_type": "code",
   "execution_count": 6,
   "metadata": {},
   "outputs": [
    {
     "name": "stdout",
     "output_type": "stream",
     "text": [
      "Posts by john_doe:\n",
      "Enjoying a beautiful day at the park.\n",
      "Trying out a new recipe for dinner.\n",
      "Excited for the weekend getaway!\n",
      "\n",
      "Posts containing 'weekend' by john_doe:\n",
      "Excited for the weekend getaway!\n"
     ]
    }
   ],
   "source": [
    "class SocialMediaProfile:\n",
    "    def __init__(self, username):\n",
    "        self.username = username\n",
    "        self.posts = []\n",
    "\n",
    "    def add_post(self, content):\n",
    "        self.posts.append(content)\n",
    "\n",
    "    def display_posts(self):\n",
    "        print(f\"Posts by {self.username}:\")\n",
    "        for post in self.posts:\n",
    "            print(post)\n",
    "\n",
    "    def search_posts(self, keyword):\n",
    "        matching_posts = [post for post in self.posts if keyword in post]\n",
    "        if matching_posts:\n",
    "            print(f\"Posts containing '{keyword}' by {self.username}:\")\n",
    "            for post in matching_posts:\n",
    "                print(post)\n",
    "        else:\n",
    "            print(f\"No posts containing '{keyword}' by {self.username} found.\")\n",
    "\n",
    "if __name__ == \"__main__\":\n",
    "    profile = SocialMediaProfile(\"john_doe\")\n",
    "\n",
    "    profile.add_post(\"Enjoying a beautiful day at the park.\")\n",
    "    profile.add_post(\"Trying out a new recipe for dinner.\")\n",
    "    profile.add_post(\"Excited for the weekend getaway!\")\n",
    "\n",
    "    profile.display_posts()\n",
    "    print()\n",
    "\n",
    "    keyword = \"weekend\"\n",
    "    profile.search_posts(keyword)\n"
   ]
  },
  {
   "cell_type": "markdown",
   "metadata": {},
   "source": [
    "### Problem 10: ToDo List Create a class representing a ToDo list with attributes like tasks and due dates. Implement methods to add tasks, mark tasks as completed, and display pending tasks."
   ]
  },
  {
   "cell_type": "code",
   "execution_count": 7,
   "metadata": {},
   "outputs": [
    {
     "name": "stdout",
     "output_type": "stream",
     "text": [
      "Pending Tasks:\n",
      "Task: Finish the project, Due Date: 2023-10-31\n",
      "Task: Buy groceries, Due Date: 2023-11-02\n",
      "Task: Call the client, Due Date: 2023-11-05\n",
      "\n",
      "Pending Tasks:\n",
      "Task: Finish the project, Due Date: 2023-10-31\n",
      "Task: Call the client, Due Date: 2023-11-05\n"
     ]
    }
   ],
   "source": [
    "class ToDoList:\n",
    "    def __init__(self):\n",
    "        self.tasks = []\n",
    "\n",
    "    def add_task(self, task, due_date):\n",
    "        self.tasks.append({\"task\": task, \"due_date\": due_date, \"completed\": False})\n",
    "\n",
    "    def mark_task_as_completed(self, task):\n",
    "        for todo in self.tasks:\n",
    "            if todo[\"task\"] == task:\n",
    "                todo[\"completed\"] = True\n",
    "                return\n",
    "\n",
    "    def display_pending_tasks(self):\n",
    "        pending_tasks = [todo for todo in self.tasks if not todo[\"completed\"]]\n",
    "        if pending_tasks:\n",
    "            print(\"Pending Tasks:\")\n",
    "            for task in pending_tasks:\n",
    "                print(f\"Task: {task['task']}, Due Date: {task['due_date']}\")\n",
    "        else:\n",
    "            print(\"No pending tasks.\")\n",
    "\n",
    "if __name__ == \"__main__\":\n",
    "    todo_list = ToDoList()\n",
    "\n",
    "    todo_list.add_task(\"Finish the project\", \"2023-10-31\")\n",
    "    todo_list.add_task(\"Buy groceries\", \"2023-11-02\")\n",
    "    todo_list.add_task(\"Call the client\", \"2023-11-05\")\n",
    "\n",
    "    todo_list.display_pending_tasks()\n",
    "    print()\n",
    "\n",
    "    todo_list.mark_task_as_completed(\"Buy groceries\")\n",
    "\n",
    "    todo_list.display_pending_tasks()\n"
   ]
  }
 ],
 "metadata": {
  "kernelspec": {
   "display_name": "Python 3",
   "language": "python",
   "name": "python3"
  },
  "language_info": {
   "codemirror_mode": {
    "name": "ipython",
    "version": 3
   },
   "file_extension": ".py",
   "mimetype": "text/x-python",
   "name": "python",
   "nbconvert_exporter": "python",
   "pygments_lexer": "ipython3",
   "version": "3.11.4"
  }
 },
 "nbformat": 4,
 "nbformat_minor": 2
}
