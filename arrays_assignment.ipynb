{
 "cells": [
  {
   "cell_type": "markdown",
   "metadata": {},
   "source": [
    "### 1. Given an array, check if it contains any duplicates or not.\n",
    "- arr = [1, 2, 4, 2, 5, 9]\n",
    "- Output = True"
   ]
  },
  {
   "cell_type": "code",
   "execution_count": 1,
   "metadata": {},
   "outputs": [
    {
     "name": "stdout",
     "output_type": "stream",
     "text": [
      "Output = True\n"
     ]
    }
   ],
   "source": [
    "def contains_duplicates(arr):\n",
    "    if len(arr) != len(set(arr)):\n",
    "        return True  # There are duplicates\n",
    "    else:\n",
    "        return False  # There are no duplicates\n",
    "\n",
    "# Example usage:\n",
    "arr = [1, 2, 4, 2, 5, 9]\n",
    "output = contains_duplicates(arr)\n",
    "print(\"Output =\", output)  # Output = True as there are duplicates\n"
   ]
  },
  {
   "cell_type": "markdown",
   "metadata": {},
   "source": [
    "### 2. Given an array and an integer k, rotate the array to the right by k steps.\n",
    "- arr = [1, 2, 3, 4, 5, 6, 7] k = 3\n",
    "- Output = [5, 6, 7, 1, 2, 3, 4]"
   ]
  },
  {
   "cell_type": "code",
   "execution_count": 2,
   "metadata": {},
   "outputs": [
    {
     "name": "stdout",
     "output_type": "stream",
     "text": [
      "Output = [5, 6, 7, 1, 2, 3, 4]\n"
     ]
    }
   ],
   "source": [
    "def rotate_array(arr, k):\n",
    "    n = len(arr)\n",
    "    k = k % n  # Ensure k is within the range of array length to avoid unnecessary rotations\n",
    "\n",
    "    # Rotate the array using list slicing\n",
    "    arr[:] = arr[n - k:] + arr[:n - k]\n",
    "\n",
    "# Example usage:\n",
    "arr = [1, 2, 3, 4, 5, 6, 7]\n",
    "k = 3\n",
    "rotate_array(arr, k)\n",
    "print(\"Output =\", arr)  # Output = [5, 6, 7, 1, 2, 3, 4]\n"
   ]
  },
  {
   "cell_type": "markdown",
   "metadata": {},
   "source": [
    "### 3. Reverse the given array in-place, means without using any extra data structure.\n",
    "- arr = [2, 4, 5, 7, 9, 12]\n",
    "- Output = [12, 9, 7, 5, 4, 2]"
   ]
  },
  {
   "cell_type": "code",
   "execution_count": 3,
   "metadata": {},
   "outputs": [
    {
     "name": "stdout",
     "output_type": "stream",
     "text": [
      "Output = [12, 9, 7, 5, 4, 2]\n"
     ]
    }
   ],
   "source": [
    "def reverse_array_in_place(arr):\n",
    "    left = 0\n",
    "    right = len(arr) - 1\n",
    "\n",
    "    while left < right:\n",
    "        # Swap elements at left and right indices\n",
    "        arr[left], arr[right] = arr[right], arr[left]\n",
    "        left += 1\n",
    "        right -= 1\n",
    "\n",
    "# Example usage:\n",
    "arr = [2, 4, 5, 7, 9, 12]\n",
    "reverse_array_in_place(arr)\n",
    "print(\"Output =\", arr)  # Output = [12, 9, 7, 5, 4, 2]\n"
   ]
  },
  {
   "cell_type": "markdown",
   "metadata": {},
   "source": [
    "### 4. Given an array of integers, find the maximum element in an array\n",
    "- arr = [10, 5, 20, 8, 15]\n",
    "- Output = 20"
   ]
  },
  {
   "cell_type": "code",
   "execution_count": 4,
   "metadata": {},
   "outputs": [
    {
     "name": "stdout",
     "output_type": "stream",
     "text": [
      "Output = 20\n"
     ]
    }
   ],
   "source": [
    "def find_max_element(arr):\n",
    "    if not arr:  # Check if the array is empty\n",
    "        return None\n",
    "\n",
    "    max_element = arr[0]  # Initialize max_element with the first element\n",
    "\n",
    "    for num in arr[1:]:  # Start iterating from the second element\n",
    "        if num > max_element:\n",
    "            max_element = num  # Update max_element if a larger element is found\n",
    "\n",
    "    return max_element\n",
    "\n",
    "# Example usage:\n",
    "arr = [10, 5, 20, 8, 15]\n",
    "output = find_max_element(arr)\n",
    "print(\"Output =\", output)  # Output = 20\n"
   ]
  },
  {
   "cell_type": "markdown",
   "metadata": {},
   "source": [
    "###  5. Given a sorted array, remove the duplicate element without using any extra data structure.\n",
    "- arr = [1, 1, 2, 2, 2, 3, 3, 4, 4, 4, 5, 5]\n",
    "- Output = [1, 2, 3, 4, 5]"
   ]
  },
  {
   "cell_type": "code",
   "execution_count": 5,
   "metadata": {},
   "outputs": [
    {
     "name": "stdout",
     "output_type": "stream",
     "text": [
      "Output = [1, 2, 3, 4, 5]\n"
     ]
    }
   ],
   "source": [
    "def remove_duplicates(arr):\n",
    "    if not arr:  # Check if the array is empty\n",
    "        return []\n",
    "\n",
    "    index = 0  # Initialize the index for non-duplicate elements\n",
    "\n",
    "    for i in range(len(arr)):\n",
    "        if arr[index] != arr[i]:\n",
    "            index += 1\n",
    "            arr[index] = arr[i]\n",
    "\n",
    "    return arr[:index + 1]  # Return the array up to the non-duplicate elements\n",
    "\n",
    "# Example usage:\n",
    "arr = [1, 1, 2, 2, 2, 3, 3, 4, 4, 4, 5, 5]\n",
    "output = remove_duplicates(arr)\n",
    "print(\"Output =\", output)  # Output = [1, 2, 3, 4, 5]\n"
   ]
  }
 ],
 "metadata": {
  "kernelspec": {
   "display_name": "Python 3",
   "language": "python",
   "name": "python3"
  },
  "language_info": {
   "codemirror_mode": {
    "name": "ipython",
    "version": 3
   },
   "file_extension": ".py",
   "mimetype": "text/x-python",
   "name": "python",
   "nbconvert_exporter": "python",
   "pygments_lexer": "ipython3",
   "version": "3.11.4"
  }
 },
 "nbformat": 4,
 "nbformat_minor": 2
}
